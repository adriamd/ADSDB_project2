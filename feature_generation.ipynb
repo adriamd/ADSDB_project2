{
 "cells": [
  {
   "cell_type": "code",
   "execution_count": 4,
   "metadata": {},
   "outputs": [],
   "source": [
    "import duckdb\n",
    "import pandas as pd\n",
    "import numpy as np\n",
    "from sandbox_generator import createSandbox"
   ]
  },
  {
   "cell_type": "code",
   "execution_count": 5,
   "metadata": {},
   "outputs": [],
   "source": [
    "import duckdb\n",
    "import json\n",
    "import os\n",
    "import pandas as pd\n",
    "import matplotlib.pyplot as plt\n",
    "import seaborn as sns\n",
    "import numpy as np\n",
    "import math"
   ]
  },
  {
   "cell_type": "code",
   "execution_count": 258,
   "metadata": {},
   "outputs": [
    {
     "data": {
      "text/plain": [
       "'sandbox'"
      ]
     },
     "execution_count": 258,
     "metadata": {},
     "output_type": "execute_result"
    }
   ],
   "source": [
    "createSandbox()"
   ]
  },
  {
   "cell_type": "code",
   "execution_count": 259,
   "metadata": {},
   "outputs": [
    {
     "data": {
      "text/plain": [
       "[('houses',), ('sandbox',)]"
      ]
     },
     "execution_count": 259,
     "metadata": {},
     "output_type": "execute_result"
    }
   ],
   "source": [
    "con = duckdb.connect('data/exploitation.db')\n",
    "con.execute(\"show tables\").fetchall()"
   ]
  },
  {
   "cell_type": "code",
   "execution_count": 260,
   "metadata": {},
   "outputs": [],
   "source": [
    "df = con.execute(\"select * from sandbox\").df()"
   ]
  },
  {
   "cell_type": "code",
   "execution_count": 261,
   "metadata": {},
   "outputs": [],
   "source": [
    "def numeric_description(df):\n",
    "    df_numeric_description = df.describe().transpose()\n",
    "    df_numeric_description[\"missings\"] = len(df) - df_numeric_description[\"count\"]\n",
    "    #df.shape #len df\n",
    "    df_numeric_description[\"missing ratio (%)\"] = round(df_numeric_description[\"missings\"]*100/len(df), 2)\n",
    "    return df_numeric_description.drop(['count'], axis=1)\n"
   ]
  },
  {
   "cell_type": "code",
   "execution_count": 262,
   "metadata": {},
   "outputs": [],
   "source": [
    "def description_categorical(df):\n",
    "    n = len(df)\n",
    "    name_columns = list(df.columns)\n",
    "    types_columns = [str(x) for x in list(df.dtypes)]\n",
    "    columns = [(name_columns[i],types_columns[i]) for i in range(len(name_columns))]\n",
    "    \n",
    "    cat_dict = dict({\"\": [],\"#Levels\":[],\"Max Freq (Abs,%)\":[],\"Min Freq (Abs,%)\":[],\"#Unknows\":[],\"Unknows (%)\":[]})\n",
    "\n",
    "    for i,t in columns:\n",
    "\n",
    "        if t != \"object\":\n",
    "            continue\n",
    "\n",
    "        freq = dict(df[i].apply(lambda x: str(x)).value_counts())\n",
    "        freq_list = [(y,x) for x,y in freq.items()]\n",
    "\n",
    "        max_freq = max(freq_list)[1] + \" (\" + str(max(freq_list)[0]) \n",
    "        max_freq += (\", \" + str(round(max(freq_list)[0]*100/n,2)) + \")\")\n",
    "\n",
    "        min_freq = min(freq_list)[1] + \" (\" + str(min(freq_list)[0]) \n",
    "        min_freq += (\", \" + str(round(min(freq_list)[0]*100/n,2)) + \")\")\n",
    "\n",
    "        cat_dict[\"\"].append(i)\n",
    "        cat_dict[\"#Levels\"].append(len(freq_list))\n",
    "        cat_dict[\"Max Freq (Abs,%)\"].append(max_freq)\n",
    "        cat_dict[\"Min Freq (Abs,%)\"].append(min_freq)\n",
    "        \n",
    "        if \"unknow\" in freq:\n",
    "            cat_dict[\"#Unknows\"].append(freq[\"unknow\"])\n",
    "            cat_dict[\"Unknows (%)\"].append(round(freq[\"unknow\"]*100 /n,2))\n",
    "\n",
    "        else:\n",
    "            cat_dict[\"#Unknows\"].append(0)\n",
    "            cat_dict[\"Unknows (%)\"].append(0)\n",
    "\n",
    "    return pd.DataFrame(cat_dict)\n"
   ]
  },
  {
   "cell_type": "code",
   "execution_count": 263,
   "metadata": {},
   "outputs": [],
   "source": [
    "def barplot(df,top=10,freq=False):\n",
    "    n = len(df)\n",
    "    name_columns = list(df.columns)\n",
    "    types_columns = [str(x) for x in list(df.dtypes)]\n",
    "    columns = [(name_columns[i],types_columns[i]) for i in range(len(name_columns))]\n",
    "    \n",
    "\n",
    "    for i,t in columns:\n",
    "\n",
    "        if t != \"object\":\n",
    "            continue\n",
    "\n",
    "        if freq:\n",
    "            df[i].value_counts().head(top).apply(lambda x : x/n).plot( kind='bar')\n",
    "        else:\n",
    "            df[i].value_counts().head(top).plot( kind='bar')\n",
    "        plt.title(i)\n",
    "        plt.show()"
   ]
  },
  {
   "cell_type": "code",
   "execution_count": 264,
   "metadata": {},
   "outputs": [],
   "source": [
    "def hist(df, bins=50):\n",
    "    name_columns = list(df.columns)\n",
    "    types_columns = [str(x) for x in list(df.dtypes)]\n",
    "    columnss = [(name_columns[i],types_columns[i]) for i in range(len(name_columns))]\n",
    "    \n",
    "    for i,t in columnss:\n",
    "\n",
    "        if t != \"float64\" and t != \"int32\":\n",
    "            continue\n",
    "\n",
    "        df[i].hist(bins=min(bins,len(df[i].unique())))\n",
    "        plt.title(i)\n",
    "        plt.show()\n",
    "\n",
    "# input: dataframe\n",
    "# output: box plot of the numerical features from the dataframe\n",
    "def boxplot(df):\n",
    "    name_columns = list(df.columns)\n",
    "    types_columns = [str(x) for x in list(df.dtypes)]\n",
    "    columnss = [(name_columns[i],types_columns[i]) for i in range(len(name_columns))]\n",
    "    \n",
    "    for i,t in columnss:\n",
    "\n",
    "        if t != \"float64\" and t != \"int32\":\n",
    "            continue\n",
    "\n",
    "        df.loc[:, [i]].boxplot();\n",
    "        plt.title(i)\n",
    "        plt.show()"
   ]
  },
  {
   "cell_type": "code",
   "execution_count": 265,
   "metadata": {},
   "outputs": [],
   "source": [
    "def log_transformation(df,cols=[]):\n",
    "    name_columns = list(df.columns)\n",
    "    types_columns = [str(x) for x in list(df.dtypes)]\n",
    "    columnss = [(name_columns[i],types_columns[i]) for i in range(len(name_columns))]\n",
    "    \n",
    "    cols = set(cols)\n",
    "    for i,t in columnss:\n",
    "\n",
    "        if (t != \"float64\" and t != \"int32\") or i not in cols:\n",
    "            continue\n",
    "            \n",
    "        print(i)\n",
    "        df[i] = df[i].map(lambda x: np.log(x+1))"
   ]
  },
  {
   "cell_type": "code",
   "execution_count": 266,
   "metadata": {},
   "outputs": [],
   "source": [
    "def outliers_cutpoints(df,col = \"price\",alpha=0.01):\n",
    "  var = np.sort(df[col].to_numpy())\n",
    "  var = var[~np.isnan(var)]\n",
    "  n = var.size\n",
    "  k = round(n*alpha/2)\n",
    "  bot = k\n",
    "  top = n-1-k\n",
    "\n",
    "  return (var[bot],var[top])"
   ]
  },
  {
   "cell_type": "code",
   "execution_count": 267,
   "metadata": {},
   "outputs": [],
   "source": [
    "def clean_outliers(df,cols=[]):\n",
    "    name_columns = list(df.columns)\n",
    "    types_columns = [str(x) for x in list(df.dtypes)]\n",
    "    columnss = [(name_columns[i],types_columns[i]) for i in range(len(name_columns))]\n",
    "    \n",
    "    cols = set(cols)\n",
    "    for i,t in columnss:\n",
    "\n",
    "        if (t != \"float64\" and t != \"int32\") or i not in cols:\n",
    "            continue\n",
    "            \n",
    "        print(i)\n",
    "        (bot, top) = outliers_cutpoints(df,col = i,alpha=0.01)\n",
    "        df[i] = df[i].map(lambda x: x if x >= bot and x<= top else np.nan)"
   ]
  },
  {
   "cell_type": "code",
   "execution_count": 268,
   "metadata": {},
   "outputs": [
    {
     "data": {
      "text/html": [
       "<div>\n",
       "<style scoped>\n",
       "    .dataframe tbody tr th:only-of-type {\n",
       "        vertical-align: middle;\n",
       "    }\n",
       "\n",
       "    .dataframe tbody tr th {\n",
       "        vertical-align: top;\n",
       "    }\n",
       "\n",
       "    .dataframe thead th {\n",
       "        text-align: right;\n",
       "    }\n",
       "</style>\n",
       "<table border=\"1\" class=\"dataframe\">\n",
       "  <thead>\n",
       "    <tr style=\"text-align: right;\">\n",
       "      <th></th>\n",
       "      <th>mean</th>\n",
       "      <th>std</th>\n",
       "      <th>min</th>\n",
       "      <th>25%</th>\n",
       "      <th>50%</th>\n",
       "      <th>75%</th>\n",
       "      <th>max</th>\n",
       "      <th>missings</th>\n",
       "      <th>missing ratio (%)</th>\n",
       "    </tr>\n",
       "  </thead>\n",
       "  <tbody>\n",
       "    <tr>\n",
       "      <th>id</th>\n",
       "      <td>7.040977e+09</td>\n",
       "      <td>8.804238e+06</td>\n",
       "      <td>7.003808e+09</td>\n",
       "      <td>7.035971e+09</td>\n",
       "      <td>7.043316e+09</td>\n",
       "      <td>7.048427e+09</td>\n",
       "      <td>7.051292e+09</td>\n",
       "      <td>0.0</td>\n",
       "      <td>0.00</td>\n",
       "    </tr>\n",
       "    <tr>\n",
       "      <th>price</th>\n",
       "      <td>8.906761e+03</td>\n",
       "      <td>4.485181e+06</td>\n",
       "      <td>1.000000e+00</td>\n",
       "      <td>8.100000e+02</td>\n",
       "      <td>1.040000e+03</td>\n",
       "      <td>1.395000e+03</td>\n",
       "      <td>2.768307e+09</td>\n",
       "      <td>1867.0</td>\n",
       "      <td>0.49</td>\n",
       "    </tr>\n",
       "    <tr>\n",
       "      <th>sqfeet</th>\n",
       "      <td>1.059535e+03</td>\n",
       "      <td>1.922083e+04</td>\n",
       "      <td>1.000000e+00</td>\n",
       "      <td>7.500000e+02</td>\n",
       "      <td>9.490000e+02</td>\n",
       "      <td>1.150000e+03</td>\n",
       "      <td>8.388607e+06</td>\n",
       "      <td>736.0</td>\n",
       "      <td>0.19</td>\n",
       "    </tr>\n",
       "    <tr>\n",
       "      <th>beds</th>\n",
       "      <td>1.904105e+00</td>\n",
       "      <td>3.503271e+00</td>\n",
       "      <td>0.000000e+00</td>\n",
       "      <td>1.000000e+00</td>\n",
       "      <td>2.000000e+00</td>\n",
       "      <td>2.000000e+00</td>\n",
       "      <td>1.100000e+03</td>\n",
       "      <td>0.0</td>\n",
       "      <td>0.00</td>\n",
       "    </tr>\n",
       "    <tr>\n",
       "      <th>baths</th>\n",
       "      <td>1.480047e+00</td>\n",
       "      <td>6.175018e-01</td>\n",
       "      <td>0.000000e+00</td>\n",
       "      <td>1.000000e+00</td>\n",
       "      <td>1.000000e+00</td>\n",
       "      <td>2.000000e+00</td>\n",
       "      <td>7.500000e+01</td>\n",
       "      <td>0.0</td>\n",
       "      <td>0.00</td>\n",
       "    </tr>\n",
       "    <tr>\n",
       "      <th>lat</th>\n",
       "      <td>3.723394e+01</td>\n",
       "      <td>5.546181e+00</td>\n",
       "      <td>-4.353330e+01</td>\n",
       "      <td>3.345570e+01</td>\n",
       "      <td>3.764790e+01</td>\n",
       "      <td>4.113910e+01</td>\n",
       "      <td>1.020360e+02</td>\n",
       "      <td>0.0</td>\n",
       "      <td>0.00</td>\n",
       "    </tr>\n",
       "    <tr>\n",
       "      <th>long</th>\n",
       "      <td>-9.270041e+01</td>\n",
       "      <td>1.653239e+01</td>\n",
       "      <td>-1.638940e+02</td>\n",
       "      <td>-1.007750e+02</td>\n",
       "      <td>-8.773820e+01</td>\n",
       "      <td>-8.117960e+01</td>\n",
       "      <td>1.726330e+02</td>\n",
       "      <td>0.0</td>\n",
       "      <td>0.00</td>\n",
       "    </tr>\n",
       "    <tr>\n",
       "      <th>num_hospitals</th>\n",
       "      <td>1.603495e+03</td>\n",
       "      <td>2.760014e+03</td>\n",
       "      <td>0.000000e+00</td>\n",
       "      <td>1.040000e+02</td>\n",
       "      <td>6.100000e+02</td>\n",
       "      <td>1.820000e+03</td>\n",
       "      <td>2.633200e+04</td>\n",
       "      <td>0.0</td>\n",
       "      <td>0.00</td>\n",
       "    </tr>\n",
       "    <tr>\n",
       "      <th>num_beds</th>\n",
       "      <td>2.711212e+05</td>\n",
       "      <td>5.236006e+05</td>\n",
       "      <td>9.000000e+00</td>\n",
       "      <td>1.565700e+04</td>\n",
       "      <td>9.218800e+04</td>\n",
       "      <td>2.955120e+05</td>\n",
       "      <td>7.407010e+06</td>\n",
       "      <td>525.0</td>\n",
       "      <td>0.14</td>\n",
       "    </tr>\n",
       "    <tr>\n",
       "      <th>hospital_type_general</th>\n",
       "      <td>9.559108e+02</td>\n",
       "      <td>1.649668e+03</td>\n",
       "      <td>0.000000e+00</td>\n",
       "      <td>6.200000e+01</td>\n",
       "      <td>3.600000e+02</td>\n",
       "      <td>1.080000e+03</td>\n",
       "      <td>1.634400e+04</td>\n",
       "      <td>0.0</td>\n",
       "      <td>0.00</td>\n",
       "    </tr>\n",
       "    <tr>\n",
       "      <th>hospital_type_critical</th>\n",
       "      <td>5.317153e+01</td>\n",
       "      <td>1.847733e+02</td>\n",
       "      <td>0.000000e+00</td>\n",
       "      <td>0.000000e+00</td>\n",
       "      <td>0.000000e+00</td>\n",
       "      <td>6.000000e+00</td>\n",
       "      <td>2.150000e+03</td>\n",
       "      <td>0.0</td>\n",
       "      <td>0.00</td>\n",
       "    </tr>\n",
       "    <tr>\n",
       "      <th>hospital_type_psychiatric</th>\n",
       "      <td>2.076086e+02</td>\n",
       "      <td>4.321126e+02</td>\n",
       "      <td>0.000000e+00</td>\n",
       "      <td>3.000000e+00</td>\n",
       "      <td>5.000000e+01</td>\n",
       "      <td>2.070000e+02</td>\n",
       "      <td>4.452000e+03</td>\n",
       "      <td>0.0</td>\n",
       "      <td>0.00</td>\n",
       "    </tr>\n",
       "    <tr>\n",
       "      <th>hospital_type_longterm</th>\n",
       "      <td>1.356836e+02</td>\n",
       "      <td>3.303654e+02</td>\n",
       "      <td>0.000000e+00</td>\n",
       "      <td>0.000000e+00</td>\n",
       "      <td>1.900000e+01</td>\n",
       "      <td>1.260000e+02</td>\n",
       "      <td>4.046000e+03</td>\n",
       "      <td>0.0</td>\n",
       "      <td>0.00</td>\n",
       "    </tr>\n",
       "    <tr>\n",
       "      <th>hospital_type_children</th>\n",
       "      <td>3.758801e+01</td>\n",
       "      <td>1.161291e+02</td>\n",
       "      <td>0.000000e+00</td>\n",
       "      <td>0.000000e+00</td>\n",
       "      <td>0.000000e+00</td>\n",
       "      <td>1.700000e+01</td>\n",
       "      <td>1.424000e+03</td>\n",
       "      <td>0.0</td>\n",
       "      <td>0.00</td>\n",
       "    </tr>\n",
       "    <tr>\n",
       "      <th>government_hospital</th>\n",
       "      <td>2.455003e+02</td>\n",
       "      <td>4.706280e+02</td>\n",
       "      <td>0.000000e+00</td>\n",
       "      <td>6.000000e+00</td>\n",
       "      <td>7.200000e+01</td>\n",
       "      <td>2.680000e+02</td>\n",
       "      <td>6.129000e+03</td>\n",
       "      <td>0.0</td>\n",
       "      <td>0.00</td>\n",
       "    </tr>\n",
       "    <tr>\n",
       "      <th>nonprofit_hospital</th>\n",
       "      <td>7.283700e+02</td>\n",
       "      <td>1.463860e+03</td>\n",
       "      <td>0.000000e+00</td>\n",
       "      <td>3.800000e+01</td>\n",
       "      <td>2.240000e+02</td>\n",
       "      <td>7.440000e+02</td>\n",
       "      <td>1.409800e+04</td>\n",
       "      <td>0.0</td>\n",
       "      <td>0.00</td>\n",
       "    </tr>\n",
       "    <tr>\n",
       "      <th>private_hospital</th>\n",
       "      <td>5.526951e+02</td>\n",
       "      <td>1.140851e+03</td>\n",
       "      <td>0.000000e+00</td>\n",
       "      <td>1.300000e+01</td>\n",
       "      <td>1.380000e+02</td>\n",
       "      <td>5.600000e+02</td>\n",
       "      <td>1.547000e+04</td>\n",
       "      <td>0.0</td>\n",
       "      <td>0.00</td>\n",
       "    </tr>\n",
       "    <tr>\n",
       "      <th>num_schools</th>\n",
       "      <td>2.336133e+04</td>\n",
       "      <td>4.455203e+04</td>\n",
       "      <td>0.000000e+00</td>\n",
       "      <td>1.556000e+03</td>\n",
       "      <td>8.568000e+03</td>\n",
       "      <td>2.550000e+04</td>\n",
       "      <td>5.366280e+05</td>\n",
       "      <td>0.0</td>\n",
       "      <td>0.00</td>\n",
       "    </tr>\n",
       "    <tr>\n",
       "      <th>num_students</th>\n",
       "      <td>1.410213e+07</td>\n",
       "      <td>2.801827e+07</td>\n",
       "      <td>1.500000e+01</td>\n",
       "      <td>8.417000e+05</td>\n",
       "      <td>4.862169e+06</td>\n",
       "      <td>1.494000e+07</td>\n",
       "      <td>3.269856e+08</td>\n",
       "      <td>289.0</td>\n",
       "      <td>0.08</td>\n",
       "    </tr>\n",
       "    <tr>\n",
       "      <th>preschool</th>\n",
       "      <td>1.288645e+04</td>\n",
       "      <td>2.540568e+04</td>\n",
       "      <td>0.000000e+00</td>\n",
       "      <td>8.430000e+02</td>\n",
       "      <td>4.620000e+03</td>\n",
       "      <td>1.386000e+04</td>\n",
       "      <td>3.005480e+05</td>\n",
       "      <td>0.0</td>\n",
       "      <td>0.00</td>\n",
       "    </tr>\n",
       "    <tr>\n",
       "      <th>elementary_school</th>\n",
       "      <td>3.895019e+03</td>\n",
       "      <td>7.476627e+03</td>\n",
       "      <td>0.000000e+00</td>\n",
       "      <td>2.420000e+02</td>\n",
       "      <td>1.377000e+03</td>\n",
       "      <td>4.246000e+03</td>\n",
       "      <td>8.830300e+04</td>\n",
       "      <td>0.0</td>\n",
       "      <td>0.00</td>\n",
       "    </tr>\n",
       "    <tr>\n",
       "      <th>middle_school</th>\n",
       "      <td>4.192924e+03</td>\n",
       "      <td>7.917244e+03</td>\n",
       "      <td>0.000000e+00</td>\n",
       "      <td>2.860000e+02</td>\n",
       "      <td>1.545000e+03</td>\n",
       "      <td>4.560000e+03</td>\n",
       "      <td>1.071440e+05</td>\n",
       "      <td>0.0</td>\n",
       "      <td>0.00</td>\n",
       "    </tr>\n",
       "    <tr>\n",
       "      <th>high_school</th>\n",
       "      <td>1.521559e+03</td>\n",
       "      <td>3.037188e+03</td>\n",
       "      <td>0.000000e+00</td>\n",
       "      <td>7.000000e+01</td>\n",
       "      <td>4.370000e+02</td>\n",
       "      <td>1.540000e+03</td>\n",
       "      <td>3.246100e+04</td>\n",
       "      <td>0.0</td>\n",
       "      <td>0.00</td>\n",
       "    </tr>\n",
       "  </tbody>\n",
       "</table>\n",
       "</div>"
      ],
      "text/plain": [
       "                                   mean           std           min  \\\n",
       "id                         7.040977e+09  8.804238e+06  7.003808e+09   \n",
       "price                      8.906761e+03  4.485181e+06  1.000000e+00   \n",
       "sqfeet                     1.059535e+03  1.922083e+04  1.000000e+00   \n",
       "beds                       1.904105e+00  3.503271e+00  0.000000e+00   \n",
       "baths                      1.480047e+00  6.175018e-01  0.000000e+00   \n",
       "lat                        3.723394e+01  5.546181e+00 -4.353330e+01   \n",
       "long                      -9.270041e+01  1.653239e+01 -1.638940e+02   \n",
       "num_hospitals              1.603495e+03  2.760014e+03  0.000000e+00   \n",
       "num_beds                   2.711212e+05  5.236006e+05  9.000000e+00   \n",
       "hospital_type_general      9.559108e+02  1.649668e+03  0.000000e+00   \n",
       "hospital_type_critical     5.317153e+01  1.847733e+02  0.000000e+00   \n",
       "hospital_type_psychiatric  2.076086e+02  4.321126e+02  0.000000e+00   \n",
       "hospital_type_longterm     1.356836e+02  3.303654e+02  0.000000e+00   \n",
       "hospital_type_children     3.758801e+01  1.161291e+02  0.000000e+00   \n",
       "government_hospital        2.455003e+02  4.706280e+02  0.000000e+00   \n",
       "nonprofit_hospital         7.283700e+02  1.463860e+03  0.000000e+00   \n",
       "private_hospital           5.526951e+02  1.140851e+03  0.000000e+00   \n",
       "num_schools                2.336133e+04  4.455203e+04  0.000000e+00   \n",
       "num_students               1.410213e+07  2.801827e+07  1.500000e+01   \n",
       "preschool                  1.288645e+04  2.540568e+04  0.000000e+00   \n",
       "elementary_school          3.895019e+03  7.476627e+03  0.000000e+00   \n",
       "middle_school              4.192924e+03  7.917244e+03  0.000000e+00   \n",
       "high_school                1.521559e+03  3.037188e+03  0.000000e+00   \n",
       "\n",
       "                                    25%           50%           75%  \\\n",
       "id                         7.035971e+09  7.043316e+09  7.048427e+09   \n",
       "price                      8.100000e+02  1.040000e+03  1.395000e+03   \n",
       "sqfeet                     7.500000e+02  9.490000e+02  1.150000e+03   \n",
       "beds                       1.000000e+00  2.000000e+00  2.000000e+00   \n",
       "baths                      1.000000e+00  1.000000e+00  2.000000e+00   \n",
       "lat                        3.345570e+01  3.764790e+01  4.113910e+01   \n",
       "long                      -1.007750e+02 -8.773820e+01 -8.117960e+01   \n",
       "num_hospitals              1.040000e+02  6.100000e+02  1.820000e+03   \n",
       "num_beds                   1.565700e+04  9.218800e+04  2.955120e+05   \n",
       "hospital_type_general      6.200000e+01  3.600000e+02  1.080000e+03   \n",
       "hospital_type_critical     0.000000e+00  0.000000e+00  6.000000e+00   \n",
       "hospital_type_psychiatric  3.000000e+00  5.000000e+01  2.070000e+02   \n",
       "hospital_type_longterm     0.000000e+00  1.900000e+01  1.260000e+02   \n",
       "hospital_type_children     0.000000e+00  0.000000e+00  1.700000e+01   \n",
       "government_hospital        6.000000e+00  7.200000e+01  2.680000e+02   \n",
       "nonprofit_hospital         3.800000e+01  2.240000e+02  7.440000e+02   \n",
       "private_hospital           1.300000e+01  1.380000e+02  5.600000e+02   \n",
       "num_schools                1.556000e+03  8.568000e+03  2.550000e+04   \n",
       "num_students               8.417000e+05  4.862169e+06  1.494000e+07   \n",
       "preschool                  8.430000e+02  4.620000e+03  1.386000e+04   \n",
       "elementary_school          2.420000e+02  1.377000e+03  4.246000e+03   \n",
       "middle_school              2.860000e+02  1.545000e+03  4.560000e+03   \n",
       "high_school                7.000000e+01  4.370000e+02  1.540000e+03   \n",
       "\n",
       "                                    max  missings  missing ratio (%)  \n",
       "id                         7.051292e+09       0.0               0.00  \n",
       "price                      2.768307e+09    1867.0               0.49  \n",
       "sqfeet                     8.388607e+06     736.0               0.19  \n",
       "beds                       1.100000e+03       0.0               0.00  \n",
       "baths                      7.500000e+01       0.0               0.00  \n",
       "lat                        1.020360e+02       0.0               0.00  \n",
       "long                       1.726330e+02       0.0               0.00  \n",
       "num_hospitals              2.633200e+04       0.0               0.00  \n",
       "num_beds                   7.407010e+06     525.0               0.14  \n",
       "hospital_type_general      1.634400e+04       0.0               0.00  \n",
       "hospital_type_critical     2.150000e+03       0.0               0.00  \n",
       "hospital_type_psychiatric  4.452000e+03       0.0               0.00  \n",
       "hospital_type_longterm     4.046000e+03       0.0               0.00  \n",
       "hospital_type_children     1.424000e+03       0.0               0.00  \n",
       "government_hospital        6.129000e+03       0.0               0.00  \n",
       "nonprofit_hospital         1.409800e+04       0.0               0.00  \n",
       "private_hospital           1.547000e+04       0.0               0.00  \n",
       "num_schools                5.366280e+05       0.0               0.00  \n",
       "num_students               3.269856e+08     289.0               0.08  \n",
       "preschool                  3.005480e+05       0.0               0.00  \n",
       "elementary_school          8.830300e+04       0.0               0.00  \n",
       "middle_school              1.071440e+05       0.0               0.00  \n",
       "high_school                3.246100e+04       0.0               0.00  "
      ]
     },
     "execution_count": 268,
     "metadata": {},
     "output_type": "execute_result"
    }
   ],
   "source": [
    "numeric_description(df)"
   ]
  },
  {
   "cell_type": "code",
   "execution_count": 269,
   "metadata": {},
   "outputs": [
    {
     "data": {
      "text/html": [
       "<div>\n",
       "<style scoped>\n",
       "    .dataframe tbody tr th:only-of-type {\n",
       "        vertical-align: middle;\n",
       "    }\n",
       "\n",
       "    .dataframe tbody tr th {\n",
       "        vertical-align: top;\n",
       "    }\n",
       "\n",
       "    .dataframe thead th {\n",
       "        text-align: right;\n",
       "    }\n",
       "</style>\n",
       "<table border=\"1\" class=\"dataframe\">\n",
       "  <thead>\n",
       "    <tr style=\"text-align: right;\">\n",
       "      <th></th>\n",
       "      <th></th>\n",
       "      <th>#Levels</th>\n",
       "      <th>Max Freq (Abs,%)</th>\n",
       "      <th>Min Freq (Abs,%)</th>\n",
       "      <th>#Unknows</th>\n",
       "      <th>Unknows (%)</th>\n",
       "    </tr>\n",
       "  </thead>\n",
       "  <tbody>\n",
       "    <tr>\n",
       "      <th>0</th>\n",
       "      <td>url</td>\n",
       "      <td>382909</td>\n",
       "      <td>https://zanesville.craigslist.org/apa/d/zanesv...</td>\n",
       "      <td>https://abilene.craigslist.org/apa/d/2-br/7028...</td>\n",
       "      <td>0</td>\n",
       "      <td>0.00</td>\n",
       "    </tr>\n",
       "    <tr>\n",
       "      <th>1</th>\n",
       "      <td>region</td>\n",
       "      <td>404</td>\n",
       "      <td>jacksonville (4242, 1.11)</td>\n",
       "      <td>kansas city (3, 0.0)</td>\n",
       "      <td>0</td>\n",
       "      <td>0.00</td>\n",
       "    </tr>\n",
       "    <tr>\n",
       "      <th>2</th>\n",
       "      <td>region_url</td>\n",
       "      <td>413</td>\n",
       "      <td>https://fredericksburg.craigslist.org (2744, 0...</td>\n",
       "      <td>https://bigbend.craigslist.org (9, 0.0)</td>\n",
       "      <td>0</td>\n",
       "      <td>0.00</td>\n",
       "    </tr>\n",
       "    <tr>\n",
       "      <th>3</th>\n",
       "      <td>type</td>\n",
       "      <td>12</td>\n",
       "      <td>apartment (316613, 82.69)</td>\n",
       "      <td>assisted living (2, 0.0)</td>\n",
       "      <td>0</td>\n",
       "      <td>0.00</td>\n",
       "    </tr>\n",
       "    <tr>\n",
       "      <th>4</th>\n",
       "      <td>cats_allowed</td>\n",
       "      <td>2</td>\n",
       "      <td>Yes (278476, 72.73)</td>\n",
       "      <td>No (104433, 27.27)</td>\n",
       "      <td>0</td>\n",
       "      <td>0.00</td>\n",
       "    </tr>\n",
       "    <tr>\n",
       "      <th>5</th>\n",
       "      <td>dogs_allowed</td>\n",
       "      <td>2</td>\n",
       "      <td>Yes (271138, 70.81)</td>\n",
       "      <td>No (111771, 29.19)</td>\n",
       "      <td>0</td>\n",
       "      <td>0.00</td>\n",
       "    </tr>\n",
       "    <tr>\n",
       "      <th>6</th>\n",
       "      <td>smoking_allowed</td>\n",
       "      <td>2</td>\n",
       "      <td>Yes (280279, 73.2)</td>\n",
       "      <td>No (102630, 26.8)</td>\n",
       "      <td>0</td>\n",
       "      <td>0.00</td>\n",
       "    </tr>\n",
       "    <tr>\n",
       "      <th>7</th>\n",
       "      <td>wheelchair_access</td>\n",
       "      <td>2</td>\n",
       "      <td>No (351426, 91.78)</td>\n",
       "      <td>Yes (31483, 8.22)</td>\n",
       "      <td>0</td>\n",
       "      <td>0.00</td>\n",
       "    </tr>\n",
       "    <tr>\n",
       "      <th>8</th>\n",
       "      <td>electric_vehicle_charge</td>\n",
       "      <td>2</td>\n",
       "      <td>No (377982, 98.71)</td>\n",
       "      <td>Yes (4927, 1.29)</td>\n",
       "      <td>0</td>\n",
       "      <td>0.00</td>\n",
       "    </tr>\n",
       "    <tr>\n",
       "      <th>9</th>\n",
       "      <td>comes_furnished</td>\n",
       "      <td>2</td>\n",
       "      <td>No (364654, 95.23)</td>\n",
       "      <td>Yes (18255, 4.77)</td>\n",
       "      <td>0</td>\n",
       "      <td>0.00</td>\n",
       "    </tr>\n",
       "    <tr>\n",
       "      <th>10</th>\n",
       "      <td>laundry_options</td>\n",
       "      <td>6</td>\n",
       "      <td>w/d in unit (130790, 34.16)</td>\n",
       "      <td>no laundry on site (3601, 0.94)</td>\n",
       "      <td>78688</td>\n",
       "      <td>20.55</td>\n",
       "    </tr>\n",
       "    <tr>\n",
       "      <th>11</th>\n",
       "      <td>parking_options</td>\n",
       "      <td>8</td>\n",
       "      <td>unknow (139741, 36.49)</td>\n",
       "      <td>valet parking (146, 0.04)</td>\n",
       "      <td>139741</td>\n",
       "      <td>36.49</td>\n",
       "    </tr>\n",
       "    <tr>\n",
       "      <th>12</th>\n",
       "      <td>image_url</td>\n",
       "      <td>180095</td>\n",
       "      <td>https://images.craigslist.org/00R0R_ciYsssEFRe...</td>\n",
       "      <td>https://images.craigslist.org/00000_10q4ZutX93...</td>\n",
       "      <td>0</td>\n",
       "      <td>0.00</td>\n",
       "    </tr>\n",
       "    <tr>\n",
       "      <th>13</th>\n",
       "      <td>description</td>\n",
       "      <td>279359</td>\n",
       "      <td>***Special Move in Today!! $199 With Deposit**...</td>\n",
       "      <td>!    Crest Gateway 1025 West 6th Street, Charl...</td>\n",
       "      <td>4</td>\n",
       "      <td>0.00</td>\n",
       "    </tr>\n",
       "    <tr>\n",
       "      <th>14</th>\n",
       "      <td>state</td>\n",
       "      <td>51</td>\n",
       "      <td>ca (32987, 8.61)</td>\n",
       "      <td>wy (187, 0.05)</td>\n",
       "      <td>0</td>\n",
       "      <td>0.00</td>\n",
       "    </tr>\n",
       "  </tbody>\n",
       "</table>\n",
       "</div>"
      ],
      "text/plain": [
       "                             #Levels  \\\n",
       "0                       url   382909   \n",
       "1                    region      404   \n",
       "2                region_url      413   \n",
       "3                      type       12   \n",
       "4              cats_allowed        2   \n",
       "5              dogs_allowed        2   \n",
       "6           smoking_allowed        2   \n",
       "7         wheelchair_access        2   \n",
       "8   electric_vehicle_charge        2   \n",
       "9           comes_furnished        2   \n",
       "10          laundry_options        6   \n",
       "11          parking_options        8   \n",
       "12                image_url   180095   \n",
       "13              description   279359   \n",
       "14                    state       51   \n",
       "\n",
       "                                     Max Freq (Abs,%)  \\\n",
       "0   https://zanesville.craigslist.org/apa/d/zanesv...   \n",
       "1                           jacksonville (4242, 1.11)   \n",
       "2   https://fredericksburg.craigslist.org (2744, 0...   \n",
       "3                           apartment (316613, 82.69)   \n",
       "4                                 Yes (278476, 72.73)   \n",
       "5                                 Yes (271138, 70.81)   \n",
       "6                                  Yes (280279, 73.2)   \n",
       "7                                  No (351426, 91.78)   \n",
       "8                                  No (377982, 98.71)   \n",
       "9                                  No (364654, 95.23)   \n",
       "10                        w/d in unit (130790, 34.16)   \n",
       "11                             unknow (139741, 36.49)   \n",
       "12  https://images.craigslist.org/00R0R_ciYsssEFRe...   \n",
       "13  ***Special Move in Today!! $199 With Deposit**...   \n",
       "14                                   ca (32987, 8.61)   \n",
       "\n",
       "                                     Min Freq (Abs,%)  #Unknows  Unknows (%)  \n",
       "0   https://abilene.craigslist.org/apa/d/2-br/7028...         0         0.00  \n",
       "1                                kansas city (3, 0.0)         0         0.00  \n",
       "2             https://bigbend.craigslist.org (9, 0.0)         0         0.00  \n",
       "3                            assisted living (2, 0.0)         0         0.00  \n",
       "4                                  No (104433, 27.27)         0         0.00  \n",
       "5                                  No (111771, 29.19)         0         0.00  \n",
       "6                                   No (102630, 26.8)         0         0.00  \n",
       "7                                   Yes (31483, 8.22)         0         0.00  \n",
       "8                                    Yes (4927, 1.29)         0         0.00  \n",
       "9                                   Yes (18255, 4.77)         0         0.00  \n",
       "10                    no laundry on site (3601, 0.94)     78688        20.55  \n",
       "11                          valet parking (146, 0.04)    139741        36.49  \n",
       "12  https://images.craigslist.org/00000_10q4ZutX93...         0         0.00  \n",
       "13  !    Crest Gateway 1025 West 6th Street, Charl...         4         0.00  \n",
       "14                                     wy (187, 0.05)         0         0.00  "
      ]
     },
     "execution_count": 269,
     "metadata": {},
     "output_type": "execute_result"
    }
   ],
   "source": [
    "description_categorical(df)"
   ]
  },
  {
   "cell_type": "code",
   "execution_count": 270,
   "metadata": {},
   "outputs": [],
   "source": [
    "df = df.drop([\"id\", \"url\", \"region_url\", \"image_url\", \"description\"], axis=1)"
   ]
  },
  {
   "cell_type": "code",
   "execution_count": 271,
   "metadata": {},
   "outputs": [
    {
     "data": {
      "image/png": "[encoded data removed]",
      "text/plain": [
       "<Figure size 432x288 with 1 Axes>"
      ]
     },
     "metadata": {
      "needs_background": "light"
     },
     "output_type": "display_data"
    },
    {
     "data": {
      "image/png": "[encoded data removed]",
      "text/plain": [
       "<Figure size 432x288 with 1 Axes>"
      ]
     },
     "metadata": {
      "needs_background": "light"
     },
     "output_type": "display_data"
    },
    {
     "data": {
      "image/png": "[encoded data removed]",
      "text/plain": [
       "<Figure size 432x288 with 1 Axes>"
      ]
     },
     "metadata": {
      "needs_background": "light"
     },
     "output_type": "display_data"
    },
    {
     "data": {
      "image/png": "[encoded data removed]",
      "text/plain": [
       "<Figure size 432x288 with 1 Axes>"
      ]
     },
     "metadata": {
      "needs_background": "light"
     },
     "output_type": "display_data"
    },
    {
     "data": {
      "image/png": "[encoded data removed]",
      "text/plain": [
       "<Figure size 432x288 with 1 Axes>"
      ]
     },
     "metadata": {
      "needs_background": "light"
     },
     "output_type": "display_data"
    },
    {
     "data": {
      "image/png": "[encoded data removed]",
      "text/plain": [
       "<Figure size 432x288 with 1 Axes>"
      ]
     },
     "metadata": {
      "needs_background": "light"
     },
     "output_type": "display_data"
    },
    {
     "data": {
      "image/png": "[encoded data removed]",
      "text/plain": [
       "<Figure size 432x288 with 1 Axes>"
      ]
     },
     "metadata": {
      "needs_background": "light"
     },
     "output_type": "display_data"
    },
    {
     "data": {
      "image/png": "[encoded data removed]",
      "text/plain": [
       "<Figure size 432x288 with 1 Axes>"
      ]
     },
     "metadata": {
      "needs_background": "light"
     },
     "output_type": "display_data"
    },
    {
     "data": {
      "image/png": "[encoded data removed]",
      "text/plain": [
       "<Figure size 432x288 with 1 Axes>"
      ]
     },
     "metadata": {
      "needs_background": "light"
     },
     "output_type": "display_data"
    },
    {
     "data": {
      "image/png": "[encoded data removed]",
      "text/plain": [
       "<Figure size 432x288 with 1 Axes>"
      ]
     },
     "metadata": {
      "needs_background": "light"
     },
     "output_type": "display_data"
    },
    {
     "data": {
      "image/png": "[encoded data removed]",
      "text/plain": [
       "<Figure size 432x288 with 1 Axes>"
      ]
     },
     "metadata": {
      "needs_background": "light"
     },
     "output_type": "display_data"
    },
    {
     "data": {
      "image/png": "[encoded data removed]",
      "text/plain": [
       "<Figure size 432x288 with 1 Axes>"
      ]
     },
     "metadata": {
      "needs_background": "light"
     },
     "output_type": "display_data"
    },
    {
     "data": {
      "image/png": "[encoded data removed]",
      "text/plain": [
       "<Figure size 432x288 with 1 Axes>"
      ]
     },
     "metadata": {
      "needs_background": "light"
     },
     "output_type": "display_data"
    },
    {
     "data": {
      "image/png": "[encoded data removed]",
      "text/plain": [
       "<Figure size 432x288 with 1 Axes>"
      ]
     },
     "metadata": {
      "needs_background": "light"
     },
     "output_type": "display_data"
    },
    {
     "data": {
      "image/png": "[encoded data removed]",
      "text/plain": [
       "<Figure size 432x288 with 1 Axes>"
      ]
     },
     "metadata": {
      "needs_background": "light"
     },
     "output_type": "display_data"
    },
    {
     "data": {
      "image/png": "[encoded data removed]",
      "text/plain": [
       "<Figure size 432x288 with 1 Axes>"
      ]
     },
     "metadata": {
      "needs_background": "light"
     },
     "output_type": "display_data"
    },
    {
     "data": {
      "image/png": "[encoded data removed]",
      "text/plain": [
       "<Figure size 432x288 with 1 Axes>"
      ]
     },
     "metadata": {
      "needs_background": "light"
     },
     "output_type": "display_data"
    },
    {
     "data": {
      "image/png": "[encoded data removed]",
      "text/plain": [
       "<Figure size 432x288 with 1 Axes>"
      ]
     },
     "metadata": {
      "needs_background": "light"
     },
     "output_type": "display_data"
    },
    {
     "data": {
      "image/png": "[encoded data removed]",
      "text/plain": [
       "<Figure size 432x288 with 1 Axes>"
      ]
     },
     "metadata": {
      "needs_background": "light"
     },
     "output_type": "display_data"
    },
    {
     "data": {
      "image/png": "[encoded data removed]",
      "text/plain": [
       "<Figure size 432x288 with 1 Axes>"
      ]
     },
     "metadata": {
      "needs_background": "light"
     },
     "output_type": "display_data"
    }
   ],
   "source": [
    "hist(df)"
   ]
  },
  {
   "cell_type": "code",
   "execution_count": 272,
   "metadata": {},
   "outputs": [
    {
     "name": "stdout",
     "output_type": "stream",
     "text": [
      "['region', 'type', 'cats_allowed', 'dogs_allowed', 'smoking_allowed', 'wheelchair_access', 'electric_vehicle_charge', 'comes_furnished', 'laundry_options', 'parking_options', 'state']\n",
      "\n",
      "['price', 'sqfeet', 'beds', 'baths', 'lat', 'long', 'num_hospitals', 'num_beds', 'hospital_type_general', 'hospital_type_critical', 'hospital_type_psychiatric', 'hospital_type_longterm', 'hospital_type_children', 'government_hospital', 'nonprofit_hospital', 'private_hospital', 'num_schools', 'num_students', 'preschool', 'elementary_school', 'middle_school', 'high_school']\n"
     ]
    }
   ],
   "source": [
    "name_columns = list(df.columns)\n",
    "types_columns = [str(x) for x in list(df.dtypes)]\n",
    "i = 1\n",
    "columns = [(name_columns[i],types_columns[i]) for i in range(len(name_columns))]\n",
    "\n",
    "num_var = []\n",
    "cat_var = []\n",
    "\n",
    "for i,t in columns:\n",
    "    if t == \"object\":\n",
    "      cat_var.append(i)\n",
    "    else:\n",
    "      num_var.append(i)\n",
    "\n",
    "print(cat_var)\n",
    "print()\n",
    "print(num_var)"
   ]
  },
  {
   "attachments": {},
   "cell_type": "markdown",
   "metadata": {},
   "source": [
    "## Log transformations and clean outliers"
   ]
  },
  {
   "cell_type": "code",
   "execution_count": 273,
   "metadata": {},
   "outputs": [
    {
     "name": "stdout",
     "output_type": "stream",
     "text": [
      "price\n",
      "sqfeet\n",
      "num_beds\n",
      "hospital_type_general\n",
      "hospital_type_critical\n",
      "hospital_type_psychiatric\n",
      "hospital_type_longterm\n",
      "hospital_type_children\n",
      "government_hospital\n",
      "nonprofit_hospital\n",
      "private_hospital\n",
      "num_students\n",
      "preschool\n",
      "elementary_school\n",
      "middle_school\n",
      "high_school\n"
     ]
    }
   ],
   "source": [
    "num_cols = set(num_var) - set([\"beds\",\"baths\",\"lat\",\"long\"])\n",
    "log_transformation(df,cols=num_cols)\n"
   ]
  },
  {
   "cell_type": "code",
   "execution_count": 274,
   "metadata": {},
   "outputs": [
    {
     "name": "stdout",
     "output_type": "stream",
     "text": [
      "price\n",
      "sqfeet\n",
      "beds\n",
      "baths\n",
      "num_beds\n",
      "hospital_type_general\n",
      "hospital_type_critical\n",
      "hospital_type_psychiatric\n",
      "hospital_type_longterm\n",
      "hospital_type_children\n",
      "government_hospital\n",
      "nonprofit_hospital\n",
      "private_hospital\n",
      "num_students\n",
      "preschool\n",
      "elementary_school\n",
      "middle_school\n",
      "high_school\n"
     ]
    }
   ],
   "source": [
    "num_cols = set(num_var) - set([\"lat\",\"long\"])\n",
    "clean_outliers(df,cols=num_cols)"
   ]
  },
  {
   "cell_type": "code",
   "execution_count": 275,
   "metadata": {},
   "outputs": [
    {
     "data": {
      "text/html": [
       "<div>\n",
       "<style scoped>\n",
       "    .dataframe tbody tr th:only-of-type {\n",
       "        vertical-align: middle;\n",
       "    }\n",
       "\n",
       "    .dataframe tbody tr th {\n",
       "        vertical-align: top;\n",
       "    }\n",
       "\n",
       "    .dataframe thead th {\n",
       "        text-align: right;\n",
       "    }\n",
       "</style>\n",
       "<table border=\"1\" class=\"dataframe\">\n",
       "  <thead>\n",
       "    <tr style=\"text-align: right;\">\n",
       "      <th></th>\n",
       "      <th>mean</th>\n",
       "      <th>std</th>\n",
       "      <th>min</th>\n",
       "      <th>25%</th>\n",
       "      <th>50%</th>\n",
       "      <th>75%</th>\n",
       "      <th>max</th>\n",
       "      <th>missings</th>\n",
       "      <th>missing ratio (%)</th>\n",
       "    </tr>\n",
       "  </thead>\n",
       "  <tbody>\n",
       "    <tr>\n",
       "      <th>price</th>\n",
       "      <td>6.982588</td>\n",
       "      <td>0.402094</td>\n",
       "      <td>5.669881</td>\n",
       "      <td>6.704414</td>\n",
       "      <td>6.947937</td>\n",
       "      <td>7.241366</td>\n",
       "      <td>8.296796</td>\n",
       "      <td>5653.0</td>\n",
       "      <td>1.48</td>\n",
       "    </tr>\n",
       "    <tr>\n",
       "      <th>sqfeet</th>\n",
       "      <td>6.837999</td>\n",
       "      <td>0.333230</td>\n",
       "      <td>5.620401</td>\n",
       "      <td>6.621406</td>\n",
       "      <td>6.856462</td>\n",
       "      <td>7.044033</td>\n",
       "      <td>7.937732</td>\n",
       "      <td>4520.0</td>\n",
       "      <td>1.18</td>\n",
       "    </tr>\n",
       "    <tr>\n",
       "      <th>beds</th>\n",
       "      <td>1.889453</td>\n",
       "      <td>0.868944</td>\n",
       "      <td>0.000000</td>\n",
       "      <td>1.000000</td>\n",
       "      <td>2.000000</td>\n",
       "      <td>2.000000</td>\n",
       "      <td>5.000000</td>\n",
       "      <td>322.0</td>\n",
       "      <td>0.08</td>\n",
       "    </tr>\n",
       "    <tr>\n",
       "      <th>baths</th>\n",
       "      <td>1.475473</td>\n",
       "      <td>0.578576</td>\n",
       "      <td>0.000000</td>\n",
       "      <td>1.000000</td>\n",
       "      <td>1.000000</td>\n",
       "      <td>2.000000</td>\n",
       "      <td>4.000000</td>\n",
       "      <td>452.0</td>\n",
       "      <td>0.12</td>\n",
       "    </tr>\n",
       "    <tr>\n",
       "      <th>lat</th>\n",
       "      <td>37.233942</td>\n",
       "      <td>5.546181</td>\n",
       "      <td>-43.533300</td>\n",
       "      <td>33.455700</td>\n",
       "      <td>37.647900</td>\n",
       "      <td>41.139100</td>\n",
       "      <td>102.036000</td>\n",
       "      <td>0.0</td>\n",
       "      <td>0.00</td>\n",
       "    </tr>\n",
       "    <tr>\n",
       "      <th>long</th>\n",
       "      <td>-92.700412</td>\n",
       "      <td>16.532394</td>\n",
       "      <td>-163.894000</td>\n",
       "      <td>-100.775000</td>\n",
       "      <td>-87.738200</td>\n",
       "      <td>-81.179600</td>\n",
       "      <td>172.633000</td>\n",
       "      <td>0.0</td>\n",
       "      <td>0.00</td>\n",
       "    </tr>\n",
       "    <tr>\n",
       "      <th>num_hospitals</th>\n",
       "      <td>1603.495345</td>\n",
       "      <td>2760.014135</td>\n",
       "      <td>0.000000</td>\n",
       "      <td>104.000000</td>\n",
       "      <td>610.000000</td>\n",
       "      <td>1820.000000</td>\n",
       "      <td>26332.000000</td>\n",
       "      <td>0.0</td>\n",
       "      <td>0.00</td>\n",
       "    </tr>\n",
       "    <tr>\n",
       "      <th>num_beds</th>\n",
       "      <td>11.048577</td>\n",
       "      <td>2.043049</td>\n",
       "      <td>5.010635</td>\n",
       "      <td>9.684523</td>\n",
       "      <td>11.432225</td>\n",
       "      <td>12.580326</td>\n",
       "      <td>15.060759</td>\n",
       "      <td>4192.0</td>\n",
       "      <td>1.09</td>\n",
       "    </tr>\n",
       "    <tr>\n",
       "      <th>hospital_type_general</th>\n",
       "      <td>5.530275</td>\n",
       "      <td>1.930143</td>\n",
       "      <td>0.693147</td>\n",
       "      <td>4.158883</td>\n",
       "      <td>5.888878</td>\n",
       "      <td>6.979145</td>\n",
       "      <td>9.248503</td>\n",
       "      <td>2804.0</td>\n",
       "      <td>0.73</td>\n",
       "    </tr>\n",
       "    <tr>\n",
       "      <th>hospital_type_critical</th>\n",
       "      <td>1.180142</td>\n",
       "      <td>2.008555</td>\n",
       "      <td>0.000000</td>\n",
       "      <td>0.000000</td>\n",
       "      <td>0.000000</td>\n",
       "      <td>1.791759</td>\n",
       "      <td>7.180070</td>\n",
       "      <td>1684.0</td>\n",
       "      <td>0.44</td>\n",
       "    </tr>\n",
       "    <tr>\n",
       "      <th>hospital_type_psychiatric</th>\n",
       "      <td>3.465264</td>\n",
       "      <td>2.304188</td>\n",
       "      <td>0.000000</td>\n",
       "      <td>1.386294</td>\n",
       "      <td>3.912023</td>\n",
       "      <td>5.303305</td>\n",
       "      <td>7.988543</td>\n",
       "      <td>1572.0</td>\n",
       "      <td>0.41</td>\n",
       "    </tr>\n",
       "    <tr>\n",
       "      <th>hospital_type_longterm</th>\n",
       "      <td>2.808221</td>\n",
       "      <td>2.338877</td>\n",
       "      <td>0.000000</td>\n",
       "      <td>0.000000</td>\n",
       "      <td>2.995732</td>\n",
       "      <td>4.836282</td>\n",
       "      <td>7.872836</td>\n",
       "      <td>970.0</td>\n",
       "      <td>0.25</td>\n",
       "    </tr>\n",
       "    <tr>\n",
       "      <th>hospital_type_children</th>\n",
       "      <td>1.325092</td>\n",
       "      <td>1.930626</td>\n",
       "      <td>0.000000</td>\n",
       "      <td>0.000000</td>\n",
       "      <td>0.000000</td>\n",
       "      <td>2.833213</td>\n",
       "      <td>6.572283</td>\n",
       "      <td>1787.0</td>\n",
       "      <td>0.47</td>\n",
       "    </tr>\n",
       "    <tr>\n",
       "      <th>government_hospital</th>\n",
       "      <td>3.828023</td>\n",
       "      <td>2.206424</td>\n",
       "      <td>0.000000</td>\n",
       "      <td>1.945910</td>\n",
       "      <td>4.276666</td>\n",
       "      <td>5.579730</td>\n",
       "      <td>7.995980</td>\n",
       "      <td>1436.0</td>\n",
       "      <td>0.38</td>\n",
       "    </tr>\n",
       "    <tr>\n",
       "      <th>nonprofit_hospital</th>\n",
       "      <td>5.061487</td>\n",
       "      <td>2.065563</td>\n",
       "      <td>0.000000</td>\n",
       "      <td>3.663562</td>\n",
       "      <td>5.398163</td>\n",
       "      <td>6.597146</td>\n",
       "      <td>9.285912</td>\n",
       "      <td>1694.0</td>\n",
       "      <td>0.44</td>\n",
       "    </tr>\n",
       "    <tr>\n",
       "      <th>private_hospital</th>\n",
       "      <td>4.406492</td>\n",
       "      <td>2.444500</td>\n",
       "      <td>0.000000</td>\n",
       "      <td>2.639057</td>\n",
       "      <td>4.912655</td>\n",
       "      <td>6.304449</td>\n",
       "      <td>8.919587</td>\n",
       "      <td>1707.0</td>\n",
       "      <td>0.45</td>\n",
       "    </tr>\n",
       "    <tr>\n",
       "      <th>num_schools</th>\n",
       "      <td>23361.328389</td>\n",
       "      <td>44552.030154</td>\n",
       "      <td>0.000000</td>\n",
       "      <td>1556.000000</td>\n",
       "      <td>8568.000000</td>\n",
       "      <td>25500.000000</td>\n",
       "      <td>536628.000000</td>\n",
       "      <td>0.0</td>\n",
       "      <td>0.00</td>\n",
       "    </tr>\n",
       "    <tr>\n",
       "      <th>num_students</th>\n",
       "      <td>15.015502</td>\n",
       "      <td>2.011198</td>\n",
       "      <td>9.347054</td>\n",
       "      <td>13.669244</td>\n",
       "      <td>15.397947</td>\n",
       "      <td>16.510419</td>\n",
       "      <td>19.130062</td>\n",
       "      <td>3839.0</td>\n",
       "      <td>1.00</td>\n",
       "    </tr>\n",
       "    <tr>\n",
       "      <th>preschool</th>\n",
       "      <td>8.069102</td>\n",
       "      <td>1.957488</td>\n",
       "      <td>2.833213</td>\n",
       "      <td>6.767343</td>\n",
       "      <td>8.439448</td>\n",
       "      <td>9.525662</td>\n",
       "      <td>12.088139</td>\n",
       "      <td>3508.0</td>\n",
       "      <td>0.92</td>\n",
       "    </tr>\n",
       "    <tr>\n",
       "      <th>elementary_school</th>\n",
       "      <td>6.871574</td>\n",
       "      <td>1.960614</td>\n",
       "      <td>1.609438</td>\n",
       "      <td>5.517453</td>\n",
       "      <td>7.230563</td>\n",
       "      <td>8.339740</td>\n",
       "      <td>10.789917</td>\n",
       "      <td>3341.0</td>\n",
       "      <td>0.87</td>\n",
       "    </tr>\n",
       "    <tr>\n",
       "      <th>middle_school</th>\n",
       "      <td>6.984235</td>\n",
       "      <td>1.922483</td>\n",
       "      <td>2.079442</td>\n",
       "      <td>5.680173</td>\n",
       "      <td>7.344719</td>\n",
       "      <td>8.415160</td>\n",
       "      <td>10.906525</td>\n",
       "      <td>3614.0</td>\n",
       "      <td>0.94</td>\n",
       "    </tr>\n",
       "    <tr>\n",
       "      <th>high_school</th>\n",
       "      <td>5.698279</td>\n",
       "      <td>2.185427</td>\n",
       "      <td>0.000000</td>\n",
       "      <td>4.262680</td>\n",
       "      <td>6.075346</td>\n",
       "      <td>7.325808</td>\n",
       "      <td>9.801510</td>\n",
       "      <td>1784.0</td>\n",
       "      <td>0.47</td>\n",
       "    </tr>\n",
       "  </tbody>\n",
       "</table>\n",
       "</div>"
      ],
      "text/plain": [
       "                                   mean           std         min  \\\n",
       "price                          6.982588      0.402094    5.669881   \n",
       "sqfeet                         6.837999      0.333230    5.620401   \n",
       "beds                           1.889453      0.868944    0.000000   \n",
       "baths                          1.475473      0.578576    0.000000   \n",
       "lat                           37.233942      5.546181  -43.533300   \n",
       "long                         -92.700412     16.532394 -163.894000   \n",
       "num_hospitals               1603.495345   2760.014135    0.000000   \n",
       "num_beds                      11.048577      2.043049    5.010635   \n",
       "hospital_type_general          5.530275      1.930143    0.693147   \n",
       "hospital_type_critical         1.180142      2.008555    0.000000   \n",
       "hospital_type_psychiatric      3.465264      2.304188    0.000000   \n",
       "hospital_type_longterm         2.808221      2.338877    0.000000   \n",
       "hospital_type_children         1.325092      1.930626    0.000000   \n",
       "government_hospital            3.828023      2.206424    0.000000   \n",
       "nonprofit_hospital             5.061487      2.065563    0.000000   \n",
       "private_hospital               4.406492      2.444500    0.000000   \n",
       "num_schools                23361.328389  44552.030154    0.000000   \n",
       "num_students                  15.015502      2.011198    9.347054   \n",
       "preschool                      8.069102      1.957488    2.833213   \n",
       "elementary_school              6.871574      1.960614    1.609438   \n",
       "middle_school                  6.984235      1.922483    2.079442   \n",
       "high_school                    5.698279      2.185427    0.000000   \n",
       "\n",
       "                                   25%          50%           75%  \\\n",
       "price                         6.704414     6.947937      7.241366   \n",
       "sqfeet                        6.621406     6.856462      7.044033   \n",
       "beds                          1.000000     2.000000      2.000000   \n",
       "baths                         1.000000     1.000000      2.000000   \n",
       "lat                          33.455700    37.647900     41.139100   \n",
       "long                       -100.775000   -87.738200    -81.179600   \n",
       "num_hospitals               104.000000   610.000000   1820.000000   \n",
       "num_beds                      9.684523    11.432225     12.580326   \n",
       "hospital_type_general         4.158883     5.888878      6.979145   \n",
       "hospital_type_critical        0.000000     0.000000      1.791759   \n",
       "hospital_type_psychiatric     1.386294     3.912023      5.303305   \n",
       "hospital_type_longterm        0.000000     2.995732      4.836282   \n",
       "hospital_type_children        0.000000     0.000000      2.833213   \n",
       "government_hospital           1.945910     4.276666      5.579730   \n",
       "nonprofit_hospital            3.663562     5.398163      6.597146   \n",
       "private_hospital              2.639057     4.912655      6.304449   \n",
       "num_schools                1556.000000  8568.000000  25500.000000   \n",
       "num_students                 13.669244    15.397947     16.510419   \n",
       "preschool                     6.767343     8.439448      9.525662   \n",
       "elementary_school             5.517453     7.230563      8.339740   \n",
       "middle_school                 5.680173     7.344719      8.415160   \n",
       "high_school                   4.262680     6.075346      7.325808   \n",
       "\n",
       "                                     max  missings  missing ratio (%)  \n",
       "price                           8.296796    5653.0               1.48  \n",
       "sqfeet                          7.937732    4520.0               1.18  \n",
       "beds                            5.000000     322.0               0.08  \n",
       "baths                           4.000000     452.0               0.12  \n",
       "lat                           102.036000       0.0               0.00  \n",
       "long                          172.633000       0.0               0.00  \n",
       "num_hospitals               26332.000000       0.0               0.00  \n",
       "num_beds                       15.060759    4192.0               1.09  \n",
       "hospital_type_general           9.248503    2804.0               0.73  \n",
       "hospital_type_critical          7.180070    1684.0               0.44  \n",
       "hospital_type_psychiatric       7.988543    1572.0               0.41  \n",
       "hospital_type_longterm          7.872836     970.0               0.25  \n",
       "hospital_type_children          6.572283    1787.0               0.47  \n",
       "government_hospital             7.995980    1436.0               0.38  \n",
       "nonprofit_hospital              9.285912    1694.0               0.44  \n",
       "private_hospital                8.919587    1707.0               0.45  \n",
       "num_schools                536628.000000       0.0               0.00  \n",
       "num_students                   19.130062    3839.0               1.00  \n",
       "preschool                      12.088139    3508.0               0.92  \n",
       "elementary_school              10.789917    3341.0               0.87  \n",
       "middle_school                  10.906525    3614.0               0.94  \n",
       "high_school                     9.801510    1784.0               0.47  "
      ]
     },
     "execution_count": 275,
     "metadata": {},
     "output_type": "execute_result"
    }
   ],
   "source": [
    "numeric_description(df)"
   ]
  },
  {
   "cell_type": "code",
   "execution_count": 276,
   "metadata": {},
   "outputs": [
    {
     "data": {
      "image/png": "[encoded data removed]",
      "text/plain": [
       "<Figure size 432x288 with 1 Axes>"
      ]
     },
     "metadata": {
      "needs_background": "light"
     },
     "output_type": "display_data"
    },
    {
     "data": {
      "image/png": "[encoded data removed]",
      "text/plain": [
       "<Figure size 432x288 with 1 Axes>"
      ]
     },
     "metadata": {
      "needs_background": "light"
     },
     "output_type": "display_data"
    },
    {
     "data": {
      "image/png": "[encoded data removed]",
      "text/plain": [
       "<Figure size 432x288 with 1 Axes>"
      ]
     },
     "metadata": {
      "needs_background": "light"
     },
     "output_type": "display_data"
    },
    {
     "data": {
      "image/png": "[encoded data removed]",
      "text/plain": [
       "<Figure size 432x288 with 1 Axes>"
      ]
     },
     "metadata": {
      "needs_background": "light"
     },
     "output_type": "display_data"
    },
    {
     "data": {
      "image/png": "[encoded data removed]",
      "text/plain": [
       "<Figure size 432x288 with 1 Axes>"
      ]
     },
     "metadata": {
      "needs_background": "light"
     },
     "output_type": "display_data"
    },
    {
     "data": {
      "image/png": "[encoded data removed]",
      "text/plain": [
       "<Figure size 432x288 with 1 Axes>"
      ]
     },
     "metadata": {
      "needs_background": "light"
     },
     "output_type": "display_data"
    },
    {
     "data": {
      "image/png": "[encoded data removed]",
      "text/plain": [
       "<Figure size 432x288 with 1 Axes>"
      ]
     },
     "metadata": {
      "needs_background": "light"
     },
     "output_type": "display_data"
    },
    {
     "data": {
      "image/png": "[encoded data removed]",
      "text/plain": [
       "<Figure size 432x288 with 1 Axes>"
      ]
     },
     "metadata": {
      "needs_background": "light"
     },
     "output_type": "display_data"
    },
    {
     "data": {
      "image/png": "[encoded data removed]",
      "text/plain": [
       "<Figure size 432x288 with 1 Axes>"
      ]
     },
     "metadata": {
      "needs_background": "light"
     },
     "output_type": "display_data"
    },
    {
     "data": {
      "image/png": "[encoded data removed]",
      "text/plain": [
       "<Figure size 432x288 with 1 Axes>"
      ]
     },
     "metadata": {
      "needs_background": "light"
     },
     "output_type": "display_data"
    },
    {
     "data": {
      "image/png": "[encoded data removed]",
      "text/plain": [
       "<Figure size 432x288 with 1 Axes>"
      ]
     },
     "metadata": {
      "needs_background": "light"
     },
     "output_type": "display_data"
    },
    {
     "data": {
      "image/png": "[encoded data removed]",
      "text/plain": [
       "<Figure size 432x288 with 1 Axes>"
      ]
     },
     "metadata": {
      "needs_background": "light"
     },
     "output_type": "display_data"
    },
    {
     "data": {
      "image/png": "[encoded data removed]",
      "text/plain": [
       "<Figure size 432x288 with 1 Axes>"
      ]
     },
     "metadata": {
      "needs_background": "light"
     },
     "output_type": "display_data"
    },
    {
     "data": {
      "image/png": "[encoded data removed]",
      "text/plain": [
       "<Figure size 432x288 with 1 Axes>"
      ]
     },
     "metadata": {
      "needs_background": "light"
     },
     "output_type": "display_data"
    },
    {
     "data": {
      "image/png": "[encoded data removed]",
      "text/plain": [
       "<Figure size 432x288 with 1 Axes>"
      ]
     },
     "metadata": {
      "needs_background": "light"
     },
     "output_type": "display_data"
    },
    {
     "data": {
      "image/png": "[encoded data removed]",
      "text/plain": [
       "<Figure size 432x288 with 1 Axes>"
      ]
     },
     "metadata": {
      "needs_background": "light"
     },
     "output_type": "display_data"
    },
    {
     "data": {
      "image/png": "[encoded data removed]",
      "text/plain": [
       "<Figure size 432x288 with 1 Axes>"
      ]
     },
     "metadata": {
      "needs_background": "light"
     },
     "output_type": "display_data"
    },
    {
     "data": {
      "image/png": "[encoded data removed]",
      "text/plain": [
       "<Figure size 432x288 with 1 Axes>"
      ]
     },
     "metadata": {
      "needs_background": "light"
     },
     "output_type": "display_data"
    },
    {
     "data": {
      "image/png": "[encoded data removed]",
      "text/plain": [
       "<Figure size 432x288 with 1 Axes>"
      ]
     },
     "metadata": {
      "needs_background": "light"
     },
     "output_type": "display_data"
    },
    {
     "data": {
      "image/png": "[encoded data removed]",
      "text/plain": [
       "<Figure size 432x288 with 1 Axes>"
      ]
     },
     "metadata": {
      "needs_background": "light"
     },
     "output_type": "display_data"
    }
   ],
   "source": [
    "hist(df)"
   ]
  },
  {
   "attachments": {},
   "cell_type": "markdown",
   "metadata": {},
   "source": [
    "## imputation"
   ]
  },
  {
   "cell_type": "code",
   "execution_count": 277,
   "metadata": {},
   "outputs": [
    {
     "name": "stdout",
     "output_type": "stream",
     "text": [
      "377256\n"
     ]
    },
    {
     "data": {
      "text/html": [
       "<div>\n",
       "<style scoped>\n",
       "    .dataframe tbody tr th:only-of-type {\n",
       "        vertical-align: middle;\n",
       "    }\n",
       "\n",
       "    .dataframe tbody tr th {\n",
       "        vertical-align: top;\n",
       "    }\n",
       "\n",
       "    .dataframe thead th {\n",
       "        text-align: right;\n",
       "    }\n",
       "</style>\n",
       "<table border=\"1\" class=\"dataframe\">\n",
       "  <thead>\n",
       "    <tr style=\"text-align: right;\">\n",
       "      <th></th>\n",
       "      <th>price</th>\n",
       "      <th>sqfeet</th>\n",
       "      <th>beds</th>\n",
       "      <th>baths</th>\n",
       "      <th>lat</th>\n",
       "      <th>long</th>\n",
       "      <th>num_hospitals</th>\n",
       "      <th>num_beds</th>\n",
       "      <th>hospital_type_general</th>\n",
       "      <th>hospital_type_critical</th>\n",
       "      <th>...</th>\n",
       "      <th>hospital_type_children</th>\n",
       "      <th>government_hospital</th>\n",
       "      <th>nonprofit_hospital</th>\n",
       "      <th>private_hospital</th>\n",
       "      <th>num_schools</th>\n",
       "      <th>num_students</th>\n",
       "      <th>preschool</th>\n",
       "      <th>elementary_school</th>\n",
       "      <th>middle_school</th>\n",
       "      <th>high_school</th>\n",
       "    </tr>\n",
       "  </thead>\n",
       "  <tbody>\n",
       "    <tr>\n",
       "      <th>count</th>\n",
       "      <td>377256.000000</td>\n",
       "      <td>373286.000000</td>\n",
       "      <td>377017.000000</td>\n",
       "      <td>376937.000000</td>\n",
       "      <td>377256.000000</td>\n",
       "      <td>377256.000000</td>\n",
       "      <td>377256.00000</td>\n",
       "      <td>373131.000000</td>\n",
       "      <td>374489.000000</td>\n",
       "      <td>375572.000000</td>\n",
       "      <td>...</td>\n",
       "      <td>375472.000000</td>\n",
       "      <td>375825.000000</td>\n",
       "      <td>375564.000000</td>\n",
       "      <td>375552.000000</td>\n",
       "      <td>377256.000000</td>\n",
       "      <td>373484.000000</td>\n",
       "      <td>373808.000000</td>\n",
       "      <td>373961.000000</td>\n",
       "      <td>373697.000000</td>\n",
       "      <td>375472.000000</td>\n",
       "    </tr>\n",
       "    <tr>\n",
       "      <th>mean</th>\n",
       "      <td>6.982588</td>\n",
       "      <td>6.837565</td>\n",
       "      <td>1.886711</td>\n",
       "      <td>1.473067</td>\n",
       "      <td>37.243055</td>\n",
       "      <td>-92.599925</td>\n",
       "      <td>1614.36673</td>\n",
       "      <td>11.056982</td>\n",
       "      <td>5.537770</td>\n",
       "      <td>1.186035</td>\n",
       "      <td>...</td>\n",
       "      <td>1.324013</td>\n",
       "      <td>3.832411</td>\n",
       "      <td>5.069239</td>\n",
       "      <td>4.414205</td>\n",
       "      <td>23525.073465</td>\n",
       "      <td>15.023136</td>\n",
       "      <td>8.076816</td>\n",
       "      <td>6.880027</td>\n",
       "      <td>6.991608</td>\n",
       "      <td>5.705763</td>\n",
       "    </tr>\n",
       "    <tr>\n",
       "      <th>std</th>\n",
       "      <td>0.402094</td>\n",
       "      <td>0.330027</td>\n",
       "      <td>0.864243</td>\n",
       "      <td>0.574866</td>\n",
       "      <td>5.549730</td>\n",
       "      <td>16.474182</td>\n",
       "      <td>2771.38127</td>\n",
       "      <td>2.043553</td>\n",
       "      <td>1.931180</td>\n",
       "      <td>2.012496</td>\n",
       "      <td>...</td>\n",
       "      <td>1.932394</td>\n",
       "      <td>2.209969</td>\n",
       "      <td>2.067994</td>\n",
       "      <td>2.444933</td>\n",
       "      <td>44770.629883</td>\n",
       "      <td>2.011799</td>\n",
       "      <td>1.958233</td>\n",
       "      <td>1.961523</td>\n",
       "      <td>1.923500</td>\n",
       "      <td>2.187757</td>\n",
       "    </tr>\n",
       "    <tr>\n",
       "      <th>min</th>\n",
       "      <td>5.669881</td>\n",
       "      <td>5.620401</td>\n",
       "      <td>0.000000</td>\n",
       "      <td>0.000000</td>\n",
       "      <td>-43.533300</td>\n",
       "      <td>-163.894000</td>\n",
       "      <td>0.00000</td>\n",
       "      <td>5.010635</td>\n",
       "      <td>0.693147</td>\n",
       "      <td>0.000000</td>\n",
       "      <td>...</td>\n",
       "      <td>0.000000</td>\n",
       "      <td>0.000000</td>\n",
       "      <td>0.000000</td>\n",
       "      <td>0.000000</td>\n",
       "      <td>0.000000</td>\n",
       "      <td>9.347054</td>\n",
       "      <td>2.833213</td>\n",
       "      <td>1.609438</td>\n",
       "      <td>2.079442</td>\n",
       "      <td>0.000000</td>\n",
       "    </tr>\n",
       "    <tr>\n",
       "      <th>25%</th>\n",
       "      <td>6.704414</td>\n",
       "      <td>6.621406</td>\n",
       "      <td>1.000000</td>\n",
       "      <td>1.000000</td>\n",
       "      <td>33.454700</td>\n",
       "      <td>-99.464850</td>\n",
       "      <td>105.00000</td>\n",
       "      <td>9.700575</td>\n",
       "      <td>4.174387</td>\n",
       "      <td>0.000000</td>\n",
       "      <td>...</td>\n",
       "      <td>0.000000</td>\n",
       "      <td>1.945910</td>\n",
       "      <td>3.663562</td>\n",
       "      <td>2.639057</td>\n",
       "      <td>1578.000000</td>\n",
       "      <td>13.681781</td>\n",
       "      <td>6.781058</td>\n",
       "      <td>5.533389</td>\n",
       "      <td>5.686975</td>\n",
       "      <td>4.262680</td>\n",
       "    </tr>\n",
       "    <tr>\n",
       "      <th>50%</th>\n",
       "      <td>6.947937</td>\n",
       "      <td>6.855409</td>\n",
       "      <td>2.000000</td>\n",
       "      <td>1.000000</td>\n",
       "      <td>37.665800</td>\n",
       "      <td>-87.677700</td>\n",
       "      <td>616.00000</td>\n",
       "      <td>11.440366</td>\n",
       "      <td>5.899897</td>\n",
       "      <td>0.000000</td>\n",
       "      <td>...</td>\n",
       "      <td>0.000000</td>\n",
       "      <td>4.290459</td>\n",
       "      <td>5.416100</td>\n",
       "      <td>4.934474</td>\n",
       "      <td>8640.000000</td>\n",
       "      <td>15.406097</td>\n",
       "      <td>8.451267</td>\n",
       "      <td>7.247081</td>\n",
       "      <td>7.353082</td>\n",
       "      <td>6.079933</td>\n",
       "    </tr>\n",
       "    <tr>\n",
       "      <th>75%</th>\n",
       "      <td>7.241366</td>\n",
       "      <td>7.043160</td>\n",
       "      <td>2.000000</td>\n",
       "      <td>2.000000</td>\n",
       "      <td>41.152300</td>\n",
       "      <td>-81.165400</td>\n",
       "      <td>1836.00000</td>\n",
       "      <td>12.594307</td>\n",
       "      <td>6.985642</td>\n",
       "      <td>1.945910</td>\n",
       "      <td>...</td>\n",
       "      <td>2.833213</td>\n",
       "      <td>5.590987</td>\n",
       "      <td>6.603944</td>\n",
       "      <td>6.311735</td>\n",
       "      <td>25805.000000</td>\n",
       "      <td>16.519553</td>\n",
       "      <td>9.534234</td>\n",
       "      <td>8.350902</td>\n",
       "      <td>8.423322</td>\n",
       "      <td>7.339538</td>\n",
       "    </tr>\n",
       "    <tr>\n",
       "      <th>max</th>\n",
       "      <td>8.296796</td>\n",
       "      <td>7.937732</td>\n",
       "      <td>5.000000</td>\n",
       "      <td>4.000000</td>\n",
       "      <td>102.036000</td>\n",
       "      <td>172.633000</td>\n",
       "      <td>26332.00000</td>\n",
       "      <td>15.060759</td>\n",
       "      <td>9.248503</td>\n",
       "      <td>7.180070</td>\n",
       "      <td>...</td>\n",
       "      <td>6.572283</td>\n",
       "      <td>7.995980</td>\n",
       "      <td>9.285912</td>\n",
       "      <td>8.919587</td>\n",
       "      <td>536628.000000</td>\n",
       "      <td>19.130062</td>\n",
       "      <td>12.088139</td>\n",
       "      <td>10.789917</td>\n",
       "      <td>10.906525</td>\n",
       "      <td>9.801510</td>\n",
       "    </tr>\n",
       "  </tbody>\n",
       "</table>\n",
       "<p>8 rows × 22 columns</p>\n",
       "</div>"
      ],
      "text/plain": [
       "               price         sqfeet           beds          baths  \\\n",
       "count  377256.000000  373286.000000  377017.000000  376937.000000   \n",
       "mean        6.982588       6.837565       1.886711       1.473067   \n",
       "std         0.402094       0.330027       0.864243       0.574866   \n",
       "min         5.669881       5.620401       0.000000       0.000000   \n",
       "25%         6.704414       6.621406       1.000000       1.000000   \n",
       "50%         6.947937       6.855409       2.000000       1.000000   \n",
       "75%         7.241366       7.043160       2.000000       2.000000   \n",
       "max         8.296796       7.937732       5.000000       4.000000   \n",
       "\n",
       "                 lat           long  num_hospitals       num_beds  \\\n",
       "count  377256.000000  377256.000000   377256.00000  373131.000000   \n",
       "mean       37.243055     -92.599925     1614.36673      11.056982   \n",
       "std         5.549730      16.474182     2771.38127       2.043553   \n",
       "min       -43.533300    -163.894000        0.00000       5.010635   \n",
       "25%        33.454700     -99.464850      105.00000       9.700575   \n",
       "50%        37.665800     -87.677700      616.00000      11.440366   \n",
       "75%        41.152300     -81.165400     1836.00000      12.594307   \n",
       "max       102.036000     172.633000    26332.00000      15.060759   \n",
       "\n",
       "       hospital_type_general  hospital_type_critical  ...  \\\n",
       "count          374489.000000           375572.000000  ...   \n",
       "mean                5.537770                1.186035  ...   \n",
       "std                 1.931180                2.012496  ...   \n",
       "min                 0.693147                0.000000  ...   \n",
       "25%                 4.174387                0.000000  ...   \n",
       "50%                 5.899897                0.000000  ...   \n",
       "75%                 6.985642                1.945910  ...   \n",
       "max                 9.248503                7.180070  ...   \n",
       "\n",
       "       hospital_type_children  government_hospital  nonprofit_hospital  \\\n",
       "count           375472.000000        375825.000000       375564.000000   \n",
       "mean                 1.324013             3.832411            5.069239   \n",
       "std                  1.932394             2.209969            2.067994   \n",
       "min                  0.000000             0.000000            0.000000   \n",
       "25%                  0.000000             1.945910            3.663562   \n",
       "50%                  0.000000             4.290459            5.416100   \n",
       "75%                  2.833213             5.590987            6.603944   \n",
       "max                  6.572283             7.995980            9.285912   \n",
       "\n",
       "       private_hospital    num_schools   num_students      preschool  \\\n",
       "count     375552.000000  377256.000000  373484.000000  373808.000000   \n",
       "mean           4.414205   23525.073465      15.023136       8.076816   \n",
       "std            2.444933   44770.629883       2.011799       1.958233   \n",
       "min            0.000000       0.000000       9.347054       2.833213   \n",
       "25%            2.639057    1578.000000      13.681781       6.781058   \n",
       "50%            4.934474    8640.000000      15.406097       8.451267   \n",
       "75%            6.311735   25805.000000      16.519553       9.534234   \n",
       "max            8.919587  536628.000000      19.130062      12.088139   \n",
       "\n",
       "       elementary_school  middle_school    high_school  \n",
       "count      373961.000000  373697.000000  375472.000000  \n",
       "mean            6.880027       6.991608       5.705763  \n",
       "std             1.961523       1.923500       2.187757  \n",
       "min             1.609438       2.079442       0.000000  \n",
       "25%             5.533389       5.686975       4.262680  \n",
       "50%             7.247081       7.353082       6.079933  \n",
       "75%             8.350902       8.423322       7.339538  \n",
       "max            10.789917      10.906525       9.801510  \n",
       "\n",
       "[8 rows x 22 columns]"
      ]
     },
     "execution_count": 277,
     "metadata": {},
     "output_type": "execute_result"
    }
   ],
   "source": [
    "df = df.dropna(subset=[\"price\"])\n",
    "print(df.shape[0])\n",
    "df.describe()"
   ]
  },
  {
   "cell_type": "code",
   "execution_count": 278,
   "metadata": {},
   "outputs": [
    {
     "name": "stdout",
     "output_type": "stream",
     "text": [
      "[IterativeImputer] Completing matrix with shape (377256, 22)\n",
      "[IterativeImputer] Ending imputation round 1/10, elapsed time 7.82\n",
      "[IterativeImputer] Change: 21.208330958515702, scaled tolerance: 536.628 \n",
      "[IterativeImputer] Early stopping criterion reached.\n"
     ]
    }
   ],
   "source": [
    "from sklearn.experimental import enable_iterative_imputer\n",
    "from sklearn.impute import IterativeImputer\n",
    "from sklearn.linear_model import LinearRegression\n",
    "\n",
    "df_num = df.select_dtypes(include=np.number)\n",
    "numeric_cols = df_num.columns\n",
    "\n",
    "lr = LinearRegression()\n",
    "imp = IterativeImputer(estimator=lr,missing_values=np.nan, max_iter=10, verbose=2, imputation_order='roman',random_state=0)\n",
    "df_num = imp.fit_transform(df_num)\n",
    "df_num = pd.DataFrame(df_num, columns=numeric_cols)\n"
   ]
  },
  {
   "cell_type": "code",
   "execution_count": 279,
   "metadata": {},
   "outputs": [
    {
     "name": "stdout",
     "output_type": "stream",
     "text": [
      "<class 'pandas.core.frame.DataFrame'>\n",
      "377256\n"
     ]
    },
    {
     "data": {
      "text/html": [
       "<div>\n",
       "<style scoped>\n",
       "    .dataframe tbody tr th:only-of-type {\n",
       "        vertical-align: middle;\n",
       "    }\n",
       "\n",
       "    .dataframe tbody tr th {\n",
       "        vertical-align: top;\n",
       "    }\n",
       "\n",
       "    .dataframe thead th {\n",
       "        text-align: right;\n",
       "    }\n",
       "</style>\n",
       "<table border=\"1\" class=\"dataframe\">\n",
       "  <thead>\n",
       "    <tr style=\"text-align: right;\">\n",
       "      <th></th>\n",
       "      <th>mean</th>\n",
       "      <th>std</th>\n",
       "      <th>min</th>\n",
       "      <th>25%</th>\n",
       "      <th>50%</th>\n",
       "      <th>75%</th>\n",
       "      <th>max</th>\n",
       "      <th>missings</th>\n",
       "      <th>missing ratio (%)</th>\n",
       "    </tr>\n",
       "  </thead>\n",
       "  <tbody>\n",
       "    <tr>\n",
       "      <th>price</th>\n",
       "      <td>6.982630</td>\n",
       "      <td>0.402055</td>\n",
       "      <td>5.669881</td>\n",
       "      <td>6.704414</td>\n",
       "      <td>6.947937</td>\n",
       "      <td>7.241366</td>\n",
       "      <td>8.296796</td>\n",
       "      <td>5552.0</td>\n",
       "      <td>1.47</td>\n",
       "    </tr>\n",
       "    <tr>\n",
       "      <th>sqfeet</th>\n",
       "      <td>6.839024</td>\n",
       "      <td>0.333168</td>\n",
       "      <td>5.620401</td>\n",
       "      <td>6.621406</td>\n",
       "      <td>6.855409</td>\n",
       "      <td>7.044033</td>\n",
       "      <td>8.269423</td>\n",
       "      <td>5552.0</td>\n",
       "      <td>1.47</td>\n",
       "    </tr>\n",
       "    <tr>\n",
       "      <th>beds</th>\n",
       "      <td>1.886913</td>\n",
       "      <td>0.864584</td>\n",
       "      <td>0.000000</td>\n",
       "      <td>1.000000</td>\n",
       "      <td>2.000000</td>\n",
       "      <td>2.000000</td>\n",
       "      <td>5.000000</td>\n",
       "      <td>5552.0</td>\n",
       "      <td>1.47</td>\n",
       "    </tr>\n",
       "    <tr>\n",
       "      <th>baths</th>\n",
       "      <td>1.473701</td>\n",
       "      <td>0.575037</td>\n",
       "      <td>0.000000</td>\n",
       "      <td>1.000000</td>\n",
       "      <td>1.000000</td>\n",
       "      <td>2.000000</td>\n",
       "      <td>4.000000</td>\n",
       "      <td>5552.0</td>\n",
       "      <td>1.47</td>\n",
       "    </tr>\n",
       "    <tr>\n",
       "      <th>lat</th>\n",
       "      <td>37.238571</td>\n",
       "      <td>5.549565</td>\n",
       "      <td>-43.533300</td>\n",
       "      <td>33.452600</td>\n",
       "      <td>37.664500</td>\n",
       "      <td>41.145700</td>\n",
       "      <td>102.036000</td>\n",
       "      <td>5552.0</td>\n",
       "      <td>1.47</td>\n",
       "    </tr>\n",
       "    <tr>\n",
       "      <th>long</th>\n",
       "      <td>-92.599530</td>\n",
       "      <td>16.474343</td>\n",
       "      <td>-163.894000</td>\n",
       "      <td>-99.478100</td>\n",
       "      <td>-87.675900</td>\n",
       "      <td>-81.164600</td>\n",
       "      <td>172.633000</td>\n",
       "      <td>5552.0</td>\n",
       "      <td>1.47</td>\n",
       "    </tr>\n",
       "    <tr>\n",
       "      <th>num_hospitals</th>\n",
       "      <td>1615.033150</td>\n",
       "      <td>2770.452266</td>\n",
       "      <td>0.000000</td>\n",
       "      <td>105.000000</td>\n",
       "      <td>616.000000</td>\n",
       "      <td>1836.000000</td>\n",
       "      <td>26332.000000</td>\n",
       "      <td>5552.0</td>\n",
       "      <td>1.47</td>\n",
       "    </tr>\n",
       "    <tr>\n",
       "      <th>num_beds</th>\n",
       "      <td>11.048634</td>\n",
       "      <td>2.056968</td>\n",
       "      <td>5.010635</td>\n",
       "      <td>9.680855</td>\n",
       "      <td>11.437782</td>\n",
       "      <td>12.594307</td>\n",
       "      <td>15.060759</td>\n",
       "      <td>5552.0</td>\n",
       "      <td>1.47</td>\n",
       "    </tr>\n",
       "    <tr>\n",
       "      <th>hospital_type_general</th>\n",
       "      <td>5.534925</td>\n",
       "      <td>1.935906</td>\n",
       "      <td>0.256193</td>\n",
       "      <td>4.158883</td>\n",
       "      <td>5.899897</td>\n",
       "      <td>6.985642</td>\n",
       "      <td>9.554229</td>\n",
       "      <td>5552.0</td>\n",
       "      <td>1.47</td>\n",
       "    </tr>\n",
       "    <tr>\n",
       "      <th>hospital_type_critical</th>\n",
       "      <td>1.181248</td>\n",
       "      <td>2.015763</td>\n",
       "      <td>-2.668672</td>\n",
       "      <td>0.000000</td>\n",
       "      <td>0.000000</td>\n",
       "      <td>1.945910</td>\n",
       "      <td>7.180070</td>\n",
       "      <td>5552.0</td>\n",
       "      <td>1.47</td>\n",
       "    </tr>\n",
       "    <tr>\n",
       "      <th>hospital_type_psychiatric</th>\n",
       "      <td>3.472996</td>\n",
       "      <td>2.305234</td>\n",
       "      <td>0.000000</td>\n",
       "      <td>1.386294</td>\n",
       "      <td>3.912023</td>\n",
       "      <td>5.318120</td>\n",
       "      <td>8.721859</td>\n",
       "      <td>5552.0</td>\n",
       "      <td>1.47</td>\n",
       "    </tr>\n",
       "    <tr>\n",
       "      <th>hospital_type_longterm</th>\n",
       "      <td>2.833849</td>\n",
       "      <td>2.352491</td>\n",
       "      <td>0.000000</td>\n",
       "      <td>0.000000</td>\n",
       "      <td>3.044522</td>\n",
       "      <td>4.859812</td>\n",
       "      <td>8.986059</td>\n",
       "      <td>5552.0</td>\n",
       "      <td>1.47</td>\n",
       "    </tr>\n",
       "    <tr>\n",
       "      <th>hospital_type_children</th>\n",
       "      <td>1.339196</td>\n",
       "      <td>1.941043</td>\n",
       "      <td>0.000000</td>\n",
       "      <td>0.000000</td>\n",
       "      <td>0.000000</td>\n",
       "      <td>2.890372</td>\n",
       "      <td>6.572283</td>\n",
       "      <td>5552.0</td>\n",
       "      <td>1.47</td>\n",
       "    </tr>\n",
       "    <tr>\n",
       "      <th>government_hospital</th>\n",
       "      <td>3.840135</td>\n",
       "      <td>2.209979</td>\n",
       "      <td>0.000000</td>\n",
       "      <td>1.945910</td>\n",
       "      <td>4.290459</td>\n",
       "      <td>5.594711</td>\n",
       "      <td>7.995980</td>\n",
       "      <td>5552.0</td>\n",
       "      <td>1.47</td>\n",
       "    </tr>\n",
       "    <tr>\n",
       "      <th>nonprofit_hospital</th>\n",
       "      <td>5.080430</td>\n",
       "      <td>2.071057</td>\n",
       "      <td>0.000000</td>\n",
       "      <td>3.688879</td>\n",
       "      <td>5.420535</td>\n",
       "      <td>6.618739</td>\n",
       "      <td>9.285912</td>\n",
       "      <td>5552.0</td>\n",
       "      <td>1.47</td>\n",
       "    </tr>\n",
       "    <tr>\n",
       "      <th>private_hospital</th>\n",
       "      <td>4.437580</td>\n",
       "      <td>2.460393</td>\n",
       "      <td>0.000000</td>\n",
       "      <td>2.639057</td>\n",
       "      <td>4.948760</td>\n",
       "      <td>6.338594</td>\n",
       "      <td>10.209530</td>\n",
       "      <td>5552.0</td>\n",
       "      <td>1.47</td>\n",
       "    </tr>\n",
       "    <tr>\n",
       "      <th>num_schools</th>\n",
       "      <td>23525.247197</td>\n",
       "      <td>44707.781214</td>\n",
       "      <td>0.000000</td>\n",
       "      <td>1578.000000</td>\n",
       "      <td>8640.000000</td>\n",
       "      <td>25839.000000</td>\n",
       "      <td>536628.000000</td>\n",
       "      <td>5552.0</td>\n",
       "      <td>1.47</td>\n",
       "    </tr>\n",
       "    <tr>\n",
       "      <th>num_students</th>\n",
       "      <td>15.017480</td>\n",
       "      <td>2.013130</td>\n",
       "      <td>9.255963</td>\n",
       "      <td>13.678711</td>\n",
       "      <td>15.404187</td>\n",
       "      <td>16.512840</td>\n",
       "      <td>19.130062</td>\n",
       "      <td>5552.0</td>\n",
       "      <td>1.47</td>\n",
       "    </tr>\n",
       "    <tr>\n",
       "      <th>preschool</th>\n",
       "      <td>8.077396</td>\n",
       "      <td>1.959696</td>\n",
       "      <td>2.745536</td>\n",
       "      <td>6.781058</td>\n",
       "      <td>8.451267</td>\n",
       "      <td>9.539644</td>\n",
       "      <td>12.210802</td>\n",
       "      <td>5552.0</td>\n",
       "      <td>1.47</td>\n",
       "    </tr>\n",
       "    <tr>\n",
       "      <th>elementary_school</th>\n",
       "      <td>6.878681</td>\n",
       "      <td>1.963307</td>\n",
       "      <td>1.602064</td>\n",
       "      <td>5.533389</td>\n",
       "      <td>7.247793</td>\n",
       "      <td>8.345930</td>\n",
       "      <td>10.789917</td>\n",
       "      <td>5552.0</td>\n",
       "      <td>1.47</td>\n",
       "    </tr>\n",
       "    <tr>\n",
       "      <th>middle_school</th>\n",
       "      <td>6.990703</td>\n",
       "      <td>1.934671</td>\n",
       "      <td>1.885647</td>\n",
       "      <td>5.686975</td>\n",
       "      <td>7.353082</td>\n",
       "      <td>8.425297</td>\n",
       "      <td>11.024861</td>\n",
       "      <td>5552.0</td>\n",
       "      <td>1.47</td>\n",
       "    </tr>\n",
       "    <tr>\n",
       "      <th>high_school</th>\n",
       "      <td>5.723506</td>\n",
       "      <td>2.197372</td>\n",
       "      <td>0.000000</td>\n",
       "      <td>4.290459</td>\n",
       "      <td>6.089045</td>\n",
       "      <td>7.347300</td>\n",
       "      <td>10.116054</td>\n",
       "      <td>5552.0</td>\n",
       "      <td>1.47</td>\n",
       "    </tr>\n",
       "  </tbody>\n",
       "</table>\n",
       "</div>"
      ],
      "text/plain": [
       "                                   mean           std         min  \\\n",
       "price                          6.982630      0.402055    5.669881   \n",
       "sqfeet                         6.839024      0.333168    5.620401   \n",
       "beds                           1.886913      0.864584    0.000000   \n",
       "baths                          1.473701      0.575037    0.000000   \n",
       "lat                           37.238571      5.549565  -43.533300   \n",
       "long                         -92.599530     16.474343 -163.894000   \n",
       "num_hospitals               1615.033150   2770.452266    0.000000   \n",
       "num_beds                      11.048634      2.056968    5.010635   \n",
       "hospital_type_general          5.534925      1.935906    0.256193   \n",
       "hospital_type_critical         1.181248      2.015763   -2.668672   \n",
       "hospital_type_psychiatric      3.472996      2.305234    0.000000   \n",
       "hospital_type_longterm         2.833849      2.352491    0.000000   \n",
       "hospital_type_children         1.339196      1.941043    0.000000   \n",
       "government_hospital            3.840135      2.209979    0.000000   \n",
       "nonprofit_hospital             5.080430      2.071057    0.000000   \n",
       "private_hospital               4.437580      2.460393    0.000000   \n",
       "num_schools                23525.247197  44707.781214    0.000000   \n",
       "num_students                  15.017480      2.013130    9.255963   \n",
       "preschool                      8.077396      1.959696    2.745536   \n",
       "elementary_school              6.878681      1.963307    1.602064   \n",
       "middle_school                  6.990703      1.934671    1.885647   \n",
       "high_school                    5.723506      2.197372    0.000000   \n",
       "\n",
       "                                   25%          50%           75%  \\\n",
       "price                         6.704414     6.947937      7.241366   \n",
       "sqfeet                        6.621406     6.855409      7.044033   \n",
       "beds                          1.000000     2.000000      2.000000   \n",
       "baths                         1.000000     1.000000      2.000000   \n",
       "lat                          33.452600    37.664500     41.145700   \n",
       "long                        -99.478100   -87.675900    -81.164600   \n",
       "num_hospitals               105.000000   616.000000   1836.000000   \n",
       "num_beds                      9.680855    11.437782     12.594307   \n",
       "hospital_type_general         4.158883     5.899897      6.985642   \n",
       "hospital_type_critical        0.000000     0.000000      1.945910   \n",
       "hospital_type_psychiatric     1.386294     3.912023      5.318120   \n",
       "hospital_type_longterm        0.000000     3.044522      4.859812   \n",
       "hospital_type_children        0.000000     0.000000      2.890372   \n",
       "government_hospital           1.945910     4.290459      5.594711   \n",
       "nonprofit_hospital            3.688879     5.420535      6.618739   \n",
       "private_hospital              2.639057     4.948760      6.338594   \n",
       "num_schools                1578.000000  8640.000000  25839.000000   \n",
       "num_students                 13.678711    15.404187     16.512840   \n",
       "preschool                     6.781058     8.451267      9.539644   \n",
       "elementary_school             5.533389     7.247793      8.345930   \n",
       "middle_school                 5.686975     7.353082      8.425297   \n",
       "high_school                   4.290459     6.089045      7.347300   \n",
       "\n",
       "                                     max  missings  missing ratio (%)  \n",
       "price                           8.296796    5552.0               1.47  \n",
       "sqfeet                          8.269423    5552.0               1.47  \n",
       "beds                            5.000000    5552.0               1.47  \n",
       "baths                           4.000000    5552.0               1.47  \n",
       "lat                           102.036000    5552.0               1.47  \n",
       "long                          172.633000    5552.0               1.47  \n",
       "num_hospitals               26332.000000    5552.0               1.47  \n",
       "num_beds                       15.060759    5552.0               1.47  \n",
       "hospital_type_general           9.554229    5552.0               1.47  \n",
       "hospital_type_critical          7.180070    5552.0               1.47  \n",
       "hospital_type_psychiatric       8.721859    5552.0               1.47  \n",
       "hospital_type_longterm          8.986059    5552.0               1.47  \n",
       "hospital_type_children          6.572283    5552.0               1.47  \n",
       "government_hospital             7.995980    5552.0               1.47  \n",
       "nonprofit_hospital              9.285912    5552.0               1.47  \n",
       "private_hospital               10.209530    5552.0               1.47  \n",
       "num_schools                536628.000000    5552.0               1.47  \n",
       "num_students                   19.130062    5552.0               1.47  \n",
       "preschool                      12.210802    5552.0               1.47  \n",
       "elementary_school              10.789917    5552.0               1.47  \n",
       "middle_school                  11.024861    5552.0               1.47  \n",
       "high_school                    10.116054    5552.0               1.47  "
      ]
     },
     "execution_count": 279,
     "metadata": {},
     "output_type": "execute_result"
    }
   ],
   "source": [
    "print(type(df_num))\n",
    "\n",
    "for i in numeric_cols:\n",
    "    df.loc[:,i] = df_num.loc[:,i]\n",
    "print(df.shape[0])\n",
    "numeric_description(df)"
   ]
  },
  {
   "attachments": {},
   "cell_type": "markdown",
   "metadata": {},
   "source": [
    "## Transformations"
   ]
  },
  {
   "cell_type": "code",
   "execution_count": 280,
   "metadata": {},
   "outputs": [
    {
     "data": {
      "text/plain": [
       "<AxesSubplot:>"
      ]
     },
     "execution_count": 280,
     "metadata": {},
     "output_type": "execute_result"
    },
    {
     "data": {
      "image/png": "[encoded data removed]",
      "text/plain": [
       "<Figure size 432x288 with 1 Axes>"
      ]
     },
     "metadata": {
      "needs_background": "light"
     },
     "output_type": "display_data"
    }
   ],
   "source": [
    "df[\"N_baths\"] = df[\"baths\"].apply(np.floor)\n",
    "df[\"N_baths\"].hist()"
   ]
  },
  {
   "cell_type": "code",
   "execution_count": 281,
   "metadata": {},
   "outputs": [],
   "source": [
    "#df[\"half_baths\"] = \"Yes\" if 0 < df[\"baths\"] - df[\"N_baths\"].item() else \"No\"\n",
    "df[\"half_baths\"] =  (df[\"baths\"] - df[\"N_baths\"]).apply(lambda x:\"Yes\" if 0 < x else \"No\") \n"
   ]
  },
  {
   "cell_type": "code",
   "execution_count": 288,
   "metadata": {},
   "outputs": [],
   "source": [
    "# half_baths,hospital_type_critical, hospital_type_longterm, hospital_type_children\n",
    "\n",
    "df[\"b_hospital_type_critical\"] = df[\"hospital_type_critical\"].apply(lambda x:\"Yes\" if 0 < x else \"No\")\n",
    "df[\"b_hospital_type_longterm\"] = df[\"hospital_type_longterm\"].apply(lambda x:\"Yes\" if 0 < x else \"No\")\n",
    "df[\"b_hospital_type_children\"] = df[\"hospital_type_children\"].apply(lambda x:\"Yes\" if 0 < x else \"No\")\n",
    "df[\"b_type\"] = df[\"type\"].apply(lambda x:\"Apartment\" if \"apartment\" == x else \"No-Apartment\")\n",
    "\n"
   ]
  },
  {
   "cell_type": "code",
   "execution_count": 283,
   "metadata": {},
   "outputs": [],
   "source": [
    "def equal_split(vector, k):\n",
    "    n = len(vector)\n",
    "    vec = sorted(list(vector))\n",
    "    cuts = []\n",
    "    for i in range(1,k):\n",
    "        j = round((n+1)*i/k)\n",
    "        cuts.append(vec[j])\n",
    "\n",
    "    return cuts\n"
   ]
  },
  {
   "cell_type": "code",
   "execution_count": 289,
   "metadata": {},
   "outputs": [
    {
     "data": {
      "image/png": "[encoded data removed]",
      "text/plain": [
       "<Figure size 432x288 with 1 Axes>"
      ]
     },
     "metadata": {
      "needs_background": "light"
     },
     "output_type": "display_data"
    },
    {
     "data": {
      "image/png": "[encoded data removed]",
      "text/plain": [
       "<Figure size 432x288 with 1 Axes>"
      ]
     },
     "metadata": {
      "needs_background": "light"
     },
     "output_type": "display_data"
    },
    {
     "data": {
      "image/png": "[encoded data removed]",
      "text/plain": [
       "<Figure size 432x288 with 1 Axes>"
      ]
     },
     "metadata": {
      "needs_background": "light"
     },
     "output_type": "display_data"
    },
    {
     "data": {
      "image/png": "[encoded data removed]",
      "text/plain": [
       "<Figure size 432x288 with 1 Axes>"
      ]
     },
     "metadata": {
      "needs_background": "light"
     },
     "output_type": "display_data"
    },
    {
     "data": {
      "image/png": "[encoded data removed]",
      "text/plain": [
       "<Figure size 432x288 with 1 Axes>"
      ]
     },
     "metadata": {
      "needs_background": "light"
     },
     "output_type": "display_data"
    },
    {
     "data": {
      "image/png": "[encoded data removed]",
      "text/plain": [
       "<Figure size 432x288 with 1 Axes>"
      ]
     },
     "metadata": {
      "needs_background": "light"
     },
     "output_type": "display_data"
    },
    {
     "data": {
      "image/png": "[encoded data removed]",
      "text/plain": [
       "<Figure size 432x288 with 1 Axes>"
      ]
     },
     "metadata": {
      "needs_background": "light"
     },
     "output_type": "display_data"
    },
    {
     "data": {
      "image/png": "[encoded data removed]",
      "text/plain": [
       "<Figure size 432x288 with 1 Axes>"
      ]
     },
     "metadata": {
      "needs_background": "light"
     },
     "output_type": "display_data"
    },
    {
     "data": {
      "image/png": "[encoded data removed]",
      "text/plain": [
       "<Figure size 432x288 with 1 Axes>"
      ]
     },
     "metadata": {
      "needs_background": "light"
     },
     "output_type": "display_data"
    },
    {
     "data": {
      "image/png": "[encoded data removed]",
      "text/plain": [
       "<Figure size 432x288 with 1 Axes>"
      ]
     },
     "metadata": {
      "needs_background": "light"
     },
     "output_type": "display_data"
    },
    {
     "data": {
      "image/png": "[encoded data removed]",
      "text/plain": [
       "<Figure size 432x288 with 1 Axes>"
      ]
     },
     "metadata": {
      "needs_background": "light"
     },
     "output_type": "display_data"
    },
    {
     "data": {
      "image/png": "[encoded data removed]",
      "text/plain": [
       "<Figure size 432x288 with 1 Axes>"
      ]
     },
     "metadata": {
      "needs_background": "light"
     },
     "output_type": "display_data"
    },
    {
     "data": {
      "image/png": "[encoded data removed]",
      "text/plain": [
       "<Figure size 432x288 with 1 Axes>"
      ]
     },
     "metadata": {
      "needs_background": "light"
     },
     "output_type": "display_data"
    },
    {
     "data": {
      "image/png": "[encoded data removed]",
      "text/plain": [
       "<Figure size 432x288 with 1 Axes>"
      ]
     },
     "metadata": {
      "needs_background": "light"
     },
     "output_type": "display_data"
    },
    {
     "data": {
      "image/png": "[encoded data removed]",
      "text/plain": [
       "<Figure size 432x288 with 1 Axes>"
      ]
     },
     "metadata": {
      "needs_background": "light"
     },
     "output_type": "display_data"
    },
    {
     "data": {
      "image/png": "[encoded data removed]",
      "text/plain": [
       "<Figure size 432x288 with 1 Axes>"
      ]
     },
     "metadata": {
      "needs_background": "light"
     },
     "output_type": "display_data"
    }
   ],
   "source": [
    "barplot(df)"
   ]
  },
  {
   "attachments": {},
   "cell_type": "markdown",
   "metadata": {},
   "source": [
    "## Test Script"
   ]
  },
  {
   "cell_type": "code",
   "execution_count": 2,
   "metadata": {},
   "outputs": [
    {
     "name": "stdout",
     "output_type": "stream",
     "text": [
      "price\n",
      "sqfeet\n",
      "num_beds\n",
      "hospital_type_general\n",
      "hospital_type_critical\n",
      "hospital_type_psychiatric\n",
      "hospital_type_longterm\n",
      "hospital_type_children\n",
      "government_hospital\n",
      "nonprofit_hospital\n",
      "private_hospital\n",
      "num_students\n",
      "preschool\n",
      "elementary_school\n",
      "middle_school\n",
      "high_school\n",
      "price\n",
      "sqfeet\n",
      "beds\n",
      "baths\n",
      "num_beds\n",
      "hospital_type_general\n",
      "hospital_type_critical\n",
      "hospital_type_psychiatric\n",
      "hospital_type_longterm\n",
      "hospital_type_children\n",
      "government_hospital\n",
      "nonprofit_hospital\n",
      "private_hospital\n",
      "num_students\n",
      "preschool\n",
      "elementary_school\n",
      "middle_school\n",
      "high_school\n",
      "[IterativeImputer] Completing matrix with shape (377256, 22)\n",
      "[IterativeImputer] Ending imputation round 1/10, elapsed time 7.41\n",
      "[IterativeImputer] Change: 21.208330958515702, scaled tolerance: 536.628 \n",
      "[IterativeImputer] Early stopping criterion reached.\n"
     ]
    }
   ],
   "source": [
    "from feature_generation import preprocessing\n",
    "preprocessing(data=\"sandbox\", target=\"price\",\n",
    "                    drop_features =[\"id\", \"url\", \"region_url\", \"image_url\", \"description\"],\n",
    "                    skip_log=[\"beds\",\"baths\",\"lat\",\"long\"],\n",
    "                    skip_outliers=[\"lat\",\"long\"])"
   ]
  },
  {
   "cell_type": "code",
   "execution_count": 6,
   "metadata": {},
   "outputs": [
    {
     "data": {
      "text/plain": [
       "[('houses',), ('sandbox',), ('sandbox_preprocessed',)]"
      ]
     },
     "execution_count": 6,
     "metadata": {},
     "output_type": "execute_result"
    }
   ],
   "source": [
    "con = duckdb.connect('data/exploitation.db')\n",
    "con.execute(\"show tables\").fetchall()"
   ]
  },
  {
   "cell_type": "code",
   "execution_count": 8,
   "metadata": {},
   "outputs": [],
   "source": [
    "df = con.execute(\"select * from sandbox_preprocessed\").df()"
   ]
  },
  {
   "cell_type": "code",
   "execution_count": 10,
   "metadata": {},
   "outputs": [
    {
     "data": {
      "text/html": [
       "<div>\n",
       "<style scoped>\n",
       "    .dataframe tbody tr th:only-of-type {\n",
       "        vertical-align: middle;\n",
       "    }\n",
       "\n",
       "    .dataframe tbody tr th {\n",
       "        vertical-align: top;\n",
       "    }\n",
       "\n",
       "    .dataframe thead th {\n",
       "        text-align: right;\n",
       "    }\n",
       "</style>\n",
       "<table border=\"1\" class=\"dataframe\">\n",
       "  <thead>\n",
       "    <tr style=\"text-align: right;\">\n",
       "      <th></th>\n",
       "      <th>0</th>\n",
       "      <th>1</th>\n",
       "      <th>2</th>\n",
       "      <th>3</th>\n",
       "      <th>4</th>\n",
       "    </tr>\n",
       "  </thead>\n",
       "  <tbody>\n",
       "    <tr>\n",
       "      <th>region</th>\n",
       "      <td>tucson</td>\n",
       "      <td>tucson</td>\n",
       "      <td>tucson</td>\n",
       "      <td>tucson</td>\n",
       "      <td>tucson</td>\n",
       "    </tr>\n",
       "    <tr>\n",
       "      <th>price</th>\n",
       "      <td>6.986566</td>\n",
       "      <td>6.852243</td>\n",
       "      <td>6.830874</td>\n",
       "      <td>6.437752</td>\n",
       "      <td>6.401917</td>\n",
       "    </tr>\n",
       "    <tr>\n",
       "      <th>type</th>\n",
       "      <td>apartment</td>\n",
       "      <td>apartment</td>\n",
       "      <td>apartment</td>\n",
       "      <td>apartment</td>\n",
       "      <td>apartment</td>\n",
       "    </tr>\n",
       "    <tr>\n",
       "      <th>sqfeet</th>\n",
       "      <td>6.165418</td>\n",
       "      <td>6.154858</td>\n",
       "      <td>7.590347</td>\n",
       "      <td>6.781058</td>\n",
       "      <td>6.311735</td>\n",
       "    </tr>\n",
       "    <tr>\n",
       "      <th>beds</th>\n",
       "      <td>1.0</td>\n",
       "      <td>1.0</td>\n",
       "      <td>3.0</td>\n",
       "      <td>3.0</td>\n",
       "      <td>1.0</td>\n",
       "    </tr>\n",
       "    <tr>\n",
       "      <th>baths</th>\n",
       "      <td>1.0</td>\n",
       "      <td>1.0</td>\n",
       "      <td>2.5</td>\n",
       "      <td>1.0</td>\n",
       "      <td>1.0</td>\n",
       "    </tr>\n",
       "    <tr>\n",
       "      <th>cats_allowed</th>\n",
       "      <td>Yes</td>\n",
       "      <td>Yes</td>\n",
       "      <td>Yes</td>\n",
       "      <td>Yes</td>\n",
       "      <td>Yes</td>\n",
       "    </tr>\n",
       "    <tr>\n",
       "      <th>dogs_allowed</th>\n",
       "      <td>Yes</td>\n",
       "      <td>Yes</td>\n",
       "      <td>Yes</td>\n",
       "      <td>Yes</td>\n",
       "      <td>Yes</td>\n",
       "    </tr>\n",
       "    <tr>\n",
       "      <th>smoking_allowed</th>\n",
       "      <td>Yes</td>\n",
       "      <td>Yes</td>\n",
       "      <td>Yes</td>\n",
       "      <td>Yes</td>\n",
       "      <td>No</td>\n",
       "    </tr>\n",
       "    <tr>\n",
       "      <th>wheelchair_access</th>\n",
       "      <td>No</td>\n",
       "      <td>No</td>\n",
       "      <td>No</td>\n",
       "      <td>No</td>\n",
       "      <td>No</td>\n",
       "    </tr>\n",
       "    <tr>\n",
       "      <th>electric_vehicle_charge</th>\n",
       "      <td>No</td>\n",
       "      <td>No</td>\n",
       "      <td>No</td>\n",
       "      <td>No</td>\n",
       "      <td>No</td>\n",
       "    </tr>\n",
       "    <tr>\n",
       "      <th>comes_furnished</th>\n",
       "      <td>No</td>\n",
       "      <td>No</td>\n",
       "      <td>No</td>\n",
       "      <td>No</td>\n",
       "      <td>No</td>\n",
       "    </tr>\n",
       "    <tr>\n",
       "      <th>laundry_options</th>\n",
       "      <td>laundry on site</td>\n",
       "      <td>laundry on site</td>\n",
       "      <td>laundry on site</td>\n",
       "      <td>w/d in unit</td>\n",
       "      <td>w/d in unit</td>\n",
       "    </tr>\n",
       "    <tr>\n",
       "      <th>parking_options</th>\n",
       "      <td>carport</td>\n",
       "      <td>carport</td>\n",
       "      <td>unknow</td>\n",
       "      <td>carport</td>\n",
       "      <td>carport</td>\n",
       "    </tr>\n",
       "    <tr>\n",
       "      <th>lat</th>\n",
       "      <td>38.0602</td>\n",
       "      <td>38.0602</td>\n",
       "      <td>36.3054</td>\n",
       "      <td>36.5549</td>\n",
       "      <td>36.6737</td>\n",
       "    </tr>\n",
       "    <tr>\n",
       "      <th>long</th>\n",
       "      <td>-78.4967</td>\n",
       "      <td>-78.4967</td>\n",
       "      <td>-79.2177</td>\n",
       "      <td>-79.4072</td>\n",
       "      <td>-79.8432</td>\n",
       "    </tr>\n",
       "    <tr>\n",
       "      <th>state</th>\n",
       "      <td>az</td>\n",
       "      <td>az</td>\n",
       "      <td>az</td>\n",
       "      <td>az</td>\n",
       "      <td>az</td>\n",
       "    </tr>\n",
       "    <tr>\n",
       "      <th>num_hospitals</th>\n",
       "      <td>850.0</td>\n",
       "      <td>850.0</td>\n",
       "      <td>14.0</td>\n",
       "      <td>154.0</td>\n",
       "      <td>21.0</td>\n",
       "    </tr>\n",
       "    <tr>\n",
       "      <th>num_beds</th>\n",
       "      <td>11.858435</td>\n",
       "      <td>11.858435</td>\n",
       "      <td>8.087333</td>\n",
       "      <td>9.970445</td>\n",
       "      <td>7.886833</td>\n",
       "    </tr>\n",
       "    <tr>\n",
       "      <th>hospital_type_general</th>\n",
       "      <td>6.054439</td>\n",
       "      <td>6.054439</td>\n",
       "      <td>2.564949</td>\n",
       "      <td>4.890349</td>\n",
       "      <td>2.772589</td>\n",
       "    </tr>\n",
       "    <tr>\n",
       "      <th>hospital_type_critical</th>\n",
       "      <td>0.0</td>\n",
       "      <td>0.0</td>\n",
       "      <td>0.0</td>\n",
       "      <td>0.0</td>\n",
       "      <td>1.386294</td>\n",
       "    </tr>\n",
       "    <tr>\n",
       "      <th>hospital_type_psychiatric</th>\n",
       "      <td>5.141664</td>\n",
       "      <td>5.141664</td>\n",
       "      <td>0.693147</td>\n",
       "      <td>3.135494</td>\n",
       "      <td>1.386294</td>\n",
       "    </tr>\n",
       "    <tr>\n",
       "      <th>hospital_type_longterm</th>\n",
       "      <td>4.454347</td>\n",
       "      <td>4.454347</td>\n",
       "      <td>0.0</td>\n",
       "      <td>0.0</td>\n",
       "      <td>0.0</td>\n",
       "    </tr>\n",
       "    <tr>\n",
       "      <th>hospital_type_children</th>\n",
       "      <td>4.454347</td>\n",
       "      <td>4.454347</td>\n",
       "      <td>0.0</td>\n",
       "      <td>0.0</td>\n",
       "      <td>0.0</td>\n",
       "    </tr>\n",
       "    <tr>\n",
       "      <th>government_hospital</th>\n",
       "      <td>5.545177</td>\n",
       "      <td>5.545177</td>\n",
       "      <td>1.386294</td>\n",
       "      <td>3.135494</td>\n",
       "      <td>1.386294</td>\n",
       "    </tr>\n",
       "    <tr>\n",
       "      <th>nonprofit_hospital</th>\n",
       "      <td>6.054439</td>\n",
       "      <td>6.054439</td>\n",
       "      <td>1.94591</td>\n",
       "      <td>4.488636</td>\n",
       "      <td>2.302585</td>\n",
       "    </tr>\n",
       "    <tr>\n",
       "      <th>private_hospital</th>\n",
       "      <td>5.141664</td>\n",
       "      <td>5.141664</td>\n",
       "      <td>1.791759</td>\n",
       "      <td>3.806662</td>\n",
       "      <td>2.302585</td>\n",
       "    </tr>\n",
       "    <tr>\n",
       "      <th>num_schools</th>\n",
       "      <td>11220.0</td>\n",
       "      <td>11220.0</td>\n",
       "      <td>241.0</td>\n",
       "      <td>2068.0</td>\n",
       "      <td>315.0</td>\n",
       "    </tr>\n",
       "    <tr>\n",
       "      <th>num_students</th>\n",
       "      <td>15.541288</td>\n",
       "      <td>15.541288</td>\n",
       "      <td>11.935706</td>\n",
       "      <td>13.820613</td>\n",
       "      <td>11.974796</td>\n",
       "    </tr>\n",
       "    <tr>\n",
       "      <th>preschool</th>\n",
       "      <td>8.676928</td>\n",
       "      <td>8.676928</td>\n",
       "      <td>4.94876</td>\n",
       "      <td>7.152269</td>\n",
       "      <td>5.231109</td>\n",
       "    </tr>\n",
       "    <tr>\n",
       "      <th>elementary_school</th>\n",
       "      <td>7.578657</td>\n",
       "      <td>7.578657</td>\n",
       "      <td>3.713572</td>\n",
       "      <td>5.733341</td>\n",
       "      <td>3.951244</td>\n",
       "    </tr>\n",
       "    <tr>\n",
       "      <th>middle_school</th>\n",
       "      <td>7.333676</td>\n",
       "      <td>7.333676</td>\n",
       "      <td>3.73767</td>\n",
       "      <td>5.659482</td>\n",
       "      <td>4.007333</td>\n",
       "    </tr>\n",
       "    <tr>\n",
       "      <th>high_school</th>\n",
       "      <td>6.054439</td>\n",
       "      <td>6.054439</td>\n",
       "      <td>2.70805</td>\n",
       "      <td>3.806662</td>\n",
       "      <td>1.94591</td>\n",
       "    </tr>\n",
       "  </tbody>\n",
       "</table>\n",
       "</div>"
      ],
      "text/plain": [
       "                                         0                1                2  \\\n",
       "region                              tucson           tucson           tucson   \n",
       "price                             6.986566         6.852243         6.830874   \n",
       "type                             apartment        apartment        apartment   \n",
       "sqfeet                            6.165418         6.154858         7.590347   \n",
       "beds                                   1.0              1.0              3.0   \n",
       "baths                                  1.0              1.0              2.5   \n",
       "cats_allowed                           Yes              Yes              Yes   \n",
       "dogs_allowed                           Yes              Yes              Yes   \n",
       "smoking_allowed                        Yes              Yes              Yes   \n",
       "wheelchair_access                       No               No               No   \n",
       "electric_vehicle_charge                 No               No               No   \n",
       "comes_furnished                         No               No               No   \n",
       "laundry_options            laundry on site  laundry on site  laundry on site   \n",
       "parking_options                    carport          carport           unknow   \n",
       "lat                                38.0602          38.0602          36.3054   \n",
       "long                              -78.4967         -78.4967         -79.2177   \n",
       "state                                   az               az               az   \n",
       "num_hospitals                        850.0            850.0             14.0   \n",
       "num_beds                         11.858435        11.858435         8.087333   \n",
       "hospital_type_general             6.054439         6.054439         2.564949   \n",
       "hospital_type_critical                 0.0              0.0              0.0   \n",
       "hospital_type_psychiatric         5.141664         5.141664         0.693147   \n",
       "hospital_type_longterm            4.454347         4.454347              0.0   \n",
       "hospital_type_children            4.454347         4.454347              0.0   \n",
       "government_hospital               5.545177         5.545177         1.386294   \n",
       "nonprofit_hospital                6.054439         6.054439          1.94591   \n",
       "private_hospital                  5.141664         5.141664         1.791759   \n",
       "num_schools                        11220.0          11220.0            241.0   \n",
       "num_students                     15.541288        15.541288        11.935706   \n",
       "preschool                         8.676928         8.676928          4.94876   \n",
       "elementary_school                 7.578657         7.578657         3.713572   \n",
       "middle_school                     7.333676         7.333676          3.73767   \n",
       "high_school                       6.054439         6.054439          2.70805   \n",
       "\n",
       "                                     3            4  \n",
       "region                          tucson       tucson  \n",
       "price                         6.437752     6.401917  \n",
       "type                         apartment    apartment  \n",
       "sqfeet                        6.781058     6.311735  \n",
       "beds                               3.0          1.0  \n",
       "baths                              1.0          1.0  \n",
       "cats_allowed                       Yes          Yes  \n",
       "dogs_allowed                       Yes          Yes  \n",
       "smoking_allowed                    Yes           No  \n",
       "wheelchair_access                   No           No  \n",
       "electric_vehicle_charge             No           No  \n",
       "comes_furnished                     No           No  \n",
       "laundry_options            w/d in unit  w/d in unit  \n",
       "parking_options                carport      carport  \n",
       "lat                            36.5549      36.6737  \n",
       "long                          -79.4072     -79.8432  \n",
       "state                               az           az  \n",
       "num_hospitals                    154.0         21.0  \n",
       "num_beds                      9.970445     7.886833  \n",
       "hospital_type_general         4.890349     2.772589  \n",
       "hospital_type_critical             0.0     1.386294  \n",
       "hospital_type_psychiatric     3.135494     1.386294  \n",
       "hospital_type_longterm             0.0          0.0  \n",
       "hospital_type_children             0.0          0.0  \n",
       "government_hospital           3.135494     1.386294  \n",
       "nonprofit_hospital            4.488636     2.302585  \n",
       "private_hospital              3.806662     2.302585  \n",
       "num_schools                     2068.0        315.0  \n",
       "num_students                 13.820613    11.974796  \n",
       "preschool                     7.152269     5.231109  \n",
       "elementary_school             5.733341     3.951244  \n",
       "middle_school                 5.659482     4.007333  \n",
       "high_school                   3.806662      1.94591  "
      ]
     },
     "execution_count": 10,
     "metadata": {},
     "output_type": "execute_result"
    }
   ],
   "source": [
    "df.head().transpose()"
   ]
  }
 ],
 "metadata": {
  "kernelspec": {
   "display_name": "ADSDB",
   "language": "python",
   "name": "python3"
  },
  "language_info": {
   "codemirror_mode": {
    "name": "ipython",
    "version": 3
   },
   "file_extension": ".py",
   "mimetype": "text/x-python",
   "name": "python",
   "nbconvert_exporter": "python",
   "pygments_lexer": "ipython3",
   "version": "3.10.4"
  },
  "orig_nbformat": 4,
  "vscode": {
   "interpreter": {
    "hash": "13fd38f2f33eca4e23b7322ee785598c5f7008e6f62f63fc1fbd3512333f5b15"
   }
  }
 },
 "nbformat": 4,
 "nbformat_minor": 2
}
