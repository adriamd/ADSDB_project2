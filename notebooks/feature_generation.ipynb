{
 "cells": [
  {
   "cell_type": "code",
<<<<<<< HEAD:notebooks/feature_generation.ipynb
   "execution_count": null,
   "metadata": {},
   "outputs": [],
   "source": [
    "import os\n",
    "if os.getcwd().replace(\"\\\\\", \"/\").split(\"/\")[-1] in [\"notebooks\", \"scripts\"]:\n",
    "    os.chdir(\"..\")"
   ]
  },
  {
   "cell_type": "code",
   "execution_count": 3,
=======
   "execution_count": 2,
>>>>>>> 75cf21891f8c98f6fbde9852bba51cbb1466458a:feature_generation.ipynb
   "metadata": {},
   "outputs": [],
   "source": [
    "import duckdb\n",
    "import pandas as pd\n",
    "import numpy as np\n",
    "from sandbox_generator import createSandbox"
   ]
  },
  {
   "cell_type": "code",
   "execution_count": 3,
   "metadata": {},
   "outputs": [],
   "source": [
    "import duckdb\n",
    "import json\n",
    "import os\n",
    "import pandas as pd\n",
    "import matplotlib.pyplot as plt\n",
    "import seaborn as sns\n",
    "import numpy as np\n",
    "import math"
   ]
  },
  {
   "cell_type": "code",
   "execution_count": 4,
   "metadata": {},
   "outputs": [
    {
     "data": {
      "text/plain": [
       "'sandbox'"
      ]
     },
     "execution_count": 4,
     "metadata": {},
     "output_type": "execute_result"
    }
   ],
   "source": [
    "createSandbox()"
   ]
  },
  {
   "cell_type": "code",
   "execution_count": 11,
   "metadata": {},
   "outputs": [
    {
     "data": {
      "text/plain": [
       "[('houses',),\n",
       " ('sandbox',),\n",
       " ('sandbox_T_apartment_S_ca',),\n",
       " ('sandbox_T_apartment_S_ca_preprocessed',),\n",
       " ('sandbox_T_apartment_S_ca_preprocessed_reduced',),\n",
       " ('sandbox_T_apartment_S_ca_reduced',),\n",
       " ('sandbox_preprocessed',)]"
      ]
     },
     "execution_count": 11,
     "metadata": {},
     "output_type": "execute_result"
    }
   ],
   "source": [
    "con = duckdb.connect('data/exploitation.db')\n",
    "con.execute(\"show tables\").fetchall()"
   ]
  },
  {
   "cell_type": "code",
   "execution_count": 6,
   "metadata": {},
   "outputs": [],
   "source": [
    "df = con.execute(\"select * from sandbox\").df()"
   ]
  },
  {
   "cell_type": "code",
   "execution_count": 7,
   "metadata": {},
   "outputs": [],
   "source": [
    "def numeric_description(df):\n",
    "    df_numeric_description = df.describe().transpose()\n",
    "    df_numeric_description[\"missings\"] = len(df) - df_numeric_description[\"count\"]\n",
    "    #df.shape #len df\n",
    "    df_numeric_description[\"missing ratio (%)\"] = round(df_numeric_description[\"missings\"]*100/len(df), 2)\n",
    "    return df_numeric_description.drop(['count'], axis=1)\n"
   ]
  },
  {
   "cell_type": "code",
   "execution_count": 8,
   "metadata": {},
   "outputs": [],
   "source": [
    "def description_categorical(df):\n",
    "    n = len(df)\n",
    "    name_columns = list(df.columns)\n",
    "    types_columns = [str(x) for x in list(df.dtypes)]\n",
    "    columns = [(name_columns[i],types_columns[i]) for i in range(len(name_columns))]\n",
    "    \n",
    "    cat_dict = dict({\"\": [],\"#Levels\":[],\"Max Freq (Abs,%)\":[],\"Min Freq (Abs,%)\":[],\"#Unknows\":[],\"Unknows (%)\":[]})\n",
    "\n",
    "    for i,t in columns:\n",
    "\n",
    "        if t != \"object\":\n",
    "            continue\n",
    "\n",
    "        freq = dict(df[i].apply(lambda x: str(x)).value_counts())\n",
    "        freq_list = [(y,x) for x,y in freq.items()]\n",
    "\n",
    "        max_freq = max(freq_list)[1] + \" (\" + str(max(freq_list)[0]) \n",
    "        max_freq += (\", \" + str(round(max(freq_list)[0]*100/n,2)) + \")\")\n",
    "\n",
    "        min_freq = min(freq_list)[1] + \" (\" + str(min(freq_list)[0]) \n",
    "        min_freq += (\", \" + str(round(min(freq_list)[0]*100/n,2)) + \")\")\n",
    "\n",
    "        cat_dict[\"\"].append(i)\n",
    "        cat_dict[\"#Levels\"].append(len(freq_list))\n",
    "        cat_dict[\"Max Freq (Abs,%)\"].append(max_freq)\n",
    "        cat_dict[\"Min Freq (Abs,%)\"].append(min_freq)\n",
    "        \n",
    "        if \"unknow\" in freq:\n",
    "            cat_dict[\"#Unknows\"].append(freq[\"unknow\"])\n",
    "            cat_dict[\"Unknows (%)\"].append(round(freq[\"unknow\"]*100 /n,2))\n",
    "\n",
    "        else:\n",
    "            cat_dict[\"#Unknows\"].append(0)\n",
    "            cat_dict[\"Unknows (%)\"].append(0)\n",
    "\n",
    "    return pd.DataFrame(cat_dict)\n"
   ]
  },
  {
   "cell_type": "code",
   "execution_count": 9,
   "metadata": {},
   "outputs": [],
   "source": [
    "def barplot(df,top=10,freq=False):\n",
    "    n = len(df)\n",
    "    name_columns = list(df.columns)\n",
    "    types_columns = [str(x) for x in list(df.dtypes)]\n",
    "    columns = [(name_columns[i],types_columns[i]) for i in range(len(name_columns))]\n",
    "    \n",
    "\n",
    "    for i,t in columns:\n",
    "\n",
    "        if t != \"object\":\n",
    "            continue\n",
    "\n",
    "        if freq:\n",
    "            df[i].value_counts().head(top).apply(lambda x : x/n).plot( kind='bar')\n",
    "        else:\n",
    "            df[i].value_counts().head(top).plot( kind='bar')\n",
    "        plt.title(i)\n",
    "        plt.show()"
   ]
  },
  {
   "cell_type": "code",
   "execution_count": 10,
   "metadata": {},
   "outputs": [],
   "source": [
    "def hist(df, bins=50):\n",
    "    name_columns = list(df.columns)\n",
    "    types_columns = [str(x) for x in list(df.dtypes)]\n",
    "    columnss = [(name_columns[i],types_columns[i]) for i in range(len(name_columns))]\n",
    "    \n",
    "    for i,t in columnss:\n",
    "\n",
    "        if t != \"float64\" and t != \"int32\":\n",
    "            continue\n",
    "\n",
    "        df[i].hist(bins=min(bins,len(df[i].unique())))\n",
    "        plt.title(i)\n",
    "        plt.show()\n",
    "\n",
    "# input: dataframe\n",
    "# output: box plot of the numerical features from the dataframe\n",
    "def boxplot(df):\n",
    "    name_columns = list(df.columns)\n",
    "    types_columns = [str(x) for x in list(df.dtypes)]\n",
    "    columnss = [(name_columns[i],types_columns[i]) for i in range(len(name_columns))]\n",
    "    \n",
    "    for i,t in columnss:\n",
    "\n",
    "        if t != \"float64\" and t != \"int32\":\n",
    "            continue\n",
    "\n",
    "        df.loc[:, [i]].boxplot();\n",
    "        plt.title(i)\n",
    "        plt.show()"
   ]
  },
  {
   "cell_type": "code",
   "execution_count": 11,
   "metadata": {},
   "outputs": [],
   "source": [
    "def log_transformation(df,cols=[]):\n",
    "    name_columns = list(df.columns)\n",
    "    types_columns = [str(x) for x in list(df.dtypes)]\n",
    "    columnss = [(name_columns[i],types_columns[i]) for i in range(len(name_columns))]\n",
    "    \n",
    "    cols = set(cols)\n",
    "    for i,t in columnss:\n",
    "\n",
    "        if (t != \"float64\" and t != \"int32\") or i not in cols:\n",
    "            continue\n",
    "            \n",
    "        print(i)\n",
    "        df[i] = df[i].map(lambda x: np.log(x+1))"
   ]
  },
  {
   "cell_type": "code",
   "execution_count": 12,
   "metadata": {},
   "outputs": [],
   "source": [
    "def outliers_cutpoints(df,col = \"price\",alpha=0.01):\n",
    "  var = np.sort(df[col].to_numpy())\n",
    "  var = var[~np.isnan(var)]\n",
    "  n = var.size\n",
    "  k = round(n*alpha/2)\n",
    "  bot = k\n",
    "  top = n-1-k\n",
    "\n",
    "  return (var[bot],var[top])"
   ]
  },
  {
   "cell_type": "code",
   "execution_count": 13,
   "metadata": {},
   "outputs": [],
   "source": [
    "def clean_outliers(df,cols=[]):\n",
    "    name_columns = list(df.columns)\n",
    "    types_columns = [str(x) for x in list(df.dtypes)]\n",
    "    columnss = [(name_columns[i],types_columns[i]) for i in range(len(name_columns))]\n",
    "    \n",
    "    cols = set(cols)\n",
    "    for i,t in columnss:\n",
    "\n",
    "        if (t != \"float64\" and t != \"int32\") or i not in cols:\n",
    "            continue\n",
    "            \n",
    "        print(i)\n",
    "        (bot, top) = outliers_cutpoints(df,col = i,alpha=0.01)\n",
    "        df[i] = df[i].map(lambda x: x if x >= bot and x<= top else np.nan)"
   ]
  },
  {
   "cell_type": "code",
   "execution_count": 14,
   "metadata": {},
   "outputs": [
    {
     "data": {
      "text/html": [
       "<div>\n",
       "<style scoped>\n",
       "    .dataframe tbody tr th:only-of-type {\n",
       "        vertical-align: middle;\n",
       "    }\n",
       "\n",
       "    .dataframe tbody tr th {\n",
       "        vertical-align: top;\n",
       "    }\n",
       "\n",
       "    .dataframe thead th {\n",
       "        text-align: right;\n",
       "    }\n",
       "</style>\n",
       "<table border=\"1\" class=\"dataframe\">\n",
       "  <thead>\n",
       "    <tr style=\"text-align: right;\">\n",
       "      <th></th>\n",
       "      <th>mean</th>\n",
       "      <th>std</th>\n",
       "      <th>min</th>\n",
       "      <th>25%</th>\n",
       "      <th>50%</th>\n",
       "      <th>75%</th>\n",
       "      <th>max</th>\n",
       "      <th>missings</th>\n",
       "      <th>missing ratio (%)</th>\n",
       "    </tr>\n",
       "  </thead>\n",
       "  <tbody>\n",
       "    <tr>\n",
       "      <th>id</th>\n",
       "      <td>7.040977e+09</td>\n",
       "      <td>8.804238e+06</td>\n",
       "      <td>7.003808e+09</td>\n",
       "      <td>7.035971e+09</td>\n",
       "      <td>7.043316e+09</td>\n",
       "      <td>7.048427e+09</td>\n",
       "      <td>7.051292e+09</td>\n",
       "      <td>0.0</td>\n",
       "      <td>0.00</td>\n",
       "    </tr>\n",
       "    <tr>\n",
       "      <th>price</th>\n",
       "      <td>8.906761e+03</td>\n",
       "      <td>4.485181e+06</td>\n",
       "      <td>1.000000e+00</td>\n",
       "      <td>8.100000e+02</td>\n",
       "      <td>1.040000e+03</td>\n",
       "      <td>1.395000e+03</td>\n",
       "      <td>2.768307e+09</td>\n",
       "      <td>1867.0</td>\n",
       "      <td>0.49</td>\n",
       "    </tr>\n",
       "    <tr>\n",
       "      <th>sqfeet</th>\n",
       "      <td>1.059535e+03</td>\n",
       "      <td>1.922083e+04</td>\n",
       "      <td>1.000000e+00</td>\n",
       "      <td>7.500000e+02</td>\n",
       "      <td>9.490000e+02</td>\n",
       "      <td>1.150000e+03</td>\n",
       "      <td>8.388607e+06</td>\n",
       "      <td>736.0</td>\n",
       "      <td>0.19</td>\n",
       "    </tr>\n",
       "    <tr>\n",
       "      <th>beds</th>\n",
       "      <td>1.904105e+00</td>\n",
       "      <td>3.503271e+00</td>\n",
       "      <td>0.000000e+00</td>\n",
       "      <td>1.000000e+00</td>\n",
       "      <td>2.000000e+00</td>\n",
       "      <td>2.000000e+00</td>\n",
       "      <td>1.100000e+03</td>\n",
       "      <td>0.0</td>\n",
       "      <td>0.00</td>\n",
       "    </tr>\n",
       "    <tr>\n",
       "      <th>baths</th>\n",
       "      <td>1.480047e+00</td>\n",
       "      <td>6.175018e-01</td>\n",
       "      <td>0.000000e+00</td>\n",
       "      <td>1.000000e+00</td>\n",
       "      <td>1.000000e+00</td>\n",
       "      <td>2.000000e+00</td>\n",
       "      <td>7.500000e+01</td>\n",
       "      <td>0.0</td>\n",
       "      <td>0.00</td>\n",
       "    </tr>\n",
       "    <tr>\n",
       "      <th>lat</th>\n",
       "      <td>3.723394e+01</td>\n",
       "      <td>5.546181e+00</td>\n",
       "      <td>-4.353330e+01</td>\n",
       "      <td>3.345570e+01</td>\n",
       "      <td>3.764790e+01</td>\n",
       "      <td>4.113910e+01</td>\n",
       "      <td>1.020360e+02</td>\n",
       "      <td>0.0</td>\n",
       "      <td>0.00</td>\n",
       "    </tr>\n",
       "    <tr>\n",
       "      <th>long</th>\n",
       "      <td>-9.270041e+01</td>\n",
       "      <td>1.653239e+01</td>\n",
       "      <td>-1.638940e+02</td>\n",
       "      <td>-1.007750e+02</td>\n",
       "      <td>-8.773820e+01</td>\n",
       "      <td>-8.117960e+01</td>\n",
       "      <td>1.726330e+02</td>\n",
       "      <td>0.0</td>\n",
       "      <td>0.00</td>\n",
       "    </tr>\n",
       "    <tr>\n",
       "      <th>num_hospitals</th>\n",
       "      <td>1.603495e+03</td>\n",
       "      <td>2.760014e+03</td>\n",
       "      <td>0.000000e+00</td>\n",
       "      <td>1.040000e+02</td>\n",
       "      <td>6.100000e+02</td>\n",
       "      <td>1.820000e+03</td>\n",
       "      <td>2.633200e+04</td>\n",
       "      <td>0.0</td>\n",
       "      <td>0.00</td>\n",
       "    </tr>\n",
       "    <tr>\n",
       "      <th>num_beds</th>\n",
       "      <td>2.711212e+05</td>\n",
       "      <td>5.236006e+05</td>\n",
       "      <td>9.000000e+00</td>\n",
       "      <td>1.565700e+04</td>\n",
       "      <td>9.218800e+04</td>\n",
       "      <td>2.955120e+05</td>\n",
       "      <td>7.407010e+06</td>\n",
       "      <td>525.0</td>\n",
       "      <td>0.14</td>\n",
       "    </tr>\n",
       "    <tr>\n",
       "      <th>hospital_type_general</th>\n",
       "      <td>9.559108e+02</td>\n",
       "      <td>1.649668e+03</td>\n",
       "      <td>0.000000e+00</td>\n",
       "      <td>6.200000e+01</td>\n",
       "      <td>3.600000e+02</td>\n",
       "      <td>1.080000e+03</td>\n",
       "      <td>1.634400e+04</td>\n",
       "      <td>0.0</td>\n",
       "      <td>0.00</td>\n",
       "    </tr>\n",
       "    <tr>\n",
       "      <th>hospital_type_critical</th>\n",
       "      <td>5.317153e+01</td>\n",
       "      <td>1.847733e+02</td>\n",
       "      <td>0.000000e+00</td>\n",
       "      <td>0.000000e+00</td>\n",
       "      <td>0.000000e+00</td>\n",
       "      <td>6.000000e+00</td>\n",
       "      <td>2.150000e+03</td>\n",
       "      <td>0.0</td>\n",
       "      <td>0.00</td>\n",
       "    </tr>\n",
       "    <tr>\n",
       "      <th>hospital_type_psychiatric</th>\n",
       "      <td>2.076086e+02</td>\n",
       "      <td>4.321126e+02</td>\n",
       "      <td>0.000000e+00</td>\n",
       "      <td>3.000000e+00</td>\n",
       "      <td>5.000000e+01</td>\n",
       "      <td>2.070000e+02</td>\n",
       "      <td>4.452000e+03</td>\n",
       "      <td>0.0</td>\n",
       "      <td>0.00</td>\n",
       "    </tr>\n",
       "    <tr>\n",
       "      <th>hospital_type_longterm</th>\n",
       "      <td>1.356836e+02</td>\n",
       "      <td>3.303654e+02</td>\n",
       "      <td>0.000000e+00</td>\n",
       "      <td>0.000000e+00</td>\n",
       "      <td>1.900000e+01</td>\n",
       "      <td>1.260000e+02</td>\n",
       "      <td>4.046000e+03</td>\n",
       "      <td>0.0</td>\n",
       "      <td>0.00</td>\n",
       "    </tr>\n",
       "    <tr>\n",
       "      <th>hospital_type_children</th>\n",
       "      <td>3.758801e+01</td>\n",
       "      <td>1.161291e+02</td>\n",
       "      <td>0.000000e+00</td>\n",
       "      <td>0.000000e+00</td>\n",
       "      <td>0.000000e+00</td>\n",
       "      <td>1.700000e+01</td>\n",
       "      <td>1.424000e+03</td>\n",
       "      <td>0.0</td>\n",
       "      <td>0.00</td>\n",
       "    </tr>\n",
       "    <tr>\n",
       "      <th>government_hospital</th>\n",
       "      <td>2.455003e+02</td>\n",
       "      <td>4.706280e+02</td>\n",
       "      <td>0.000000e+00</td>\n",
       "      <td>6.000000e+00</td>\n",
       "      <td>7.200000e+01</td>\n",
       "      <td>2.680000e+02</td>\n",
       "      <td>6.129000e+03</td>\n",
       "      <td>0.0</td>\n",
       "      <td>0.00</td>\n",
       "    </tr>\n",
       "    <tr>\n",
       "      <th>nonprofit_hospital</th>\n",
       "      <td>7.283700e+02</td>\n",
       "      <td>1.463860e+03</td>\n",
       "      <td>0.000000e+00</td>\n",
       "      <td>3.800000e+01</td>\n",
       "      <td>2.240000e+02</td>\n",
       "      <td>7.440000e+02</td>\n",
       "      <td>1.409800e+04</td>\n",
       "      <td>0.0</td>\n",
       "      <td>0.00</td>\n",
       "    </tr>\n",
       "    <tr>\n",
       "      <th>private_hospital</th>\n",
       "      <td>5.526951e+02</td>\n",
       "      <td>1.140851e+03</td>\n",
       "      <td>0.000000e+00</td>\n",
       "      <td>1.300000e+01</td>\n",
       "      <td>1.380000e+02</td>\n",
       "      <td>5.600000e+02</td>\n",
       "      <td>1.547000e+04</td>\n",
       "      <td>0.0</td>\n",
       "      <td>0.00</td>\n",
       "    </tr>\n",
       "    <tr>\n",
       "      <th>num_schools</th>\n",
       "      <td>2.336133e+04</td>\n",
       "      <td>4.455203e+04</td>\n",
       "      <td>0.000000e+00</td>\n",
       "      <td>1.556000e+03</td>\n",
       "      <td>8.568000e+03</td>\n",
       "      <td>2.550000e+04</td>\n",
       "      <td>5.366280e+05</td>\n",
       "      <td>0.0</td>\n",
       "      <td>0.00</td>\n",
       "    </tr>\n",
       "    <tr>\n",
       "      <th>num_students</th>\n",
       "      <td>1.410213e+07</td>\n",
       "      <td>2.801827e+07</td>\n",
       "      <td>1.500000e+01</td>\n",
       "      <td>8.417000e+05</td>\n",
       "      <td>4.862169e+06</td>\n",
       "      <td>1.494000e+07</td>\n",
       "      <td>3.269856e+08</td>\n",
       "      <td>289.0</td>\n",
       "      <td>0.08</td>\n",
       "    </tr>\n",
       "    <tr>\n",
       "      <th>preschool</th>\n",
       "      <td>1.288645e+04</td>\n",
       "      <td>2.540568e+04</td>\n",
       "      <td>0.000000e+00</td>\n",
       "      <td>8.430000e+02</td>\n",
       "      <td>4.620000e+03</td>\n",
       "      <td>1.386000e+04</td>\n",
       "      <td>3.005480e+05</td>\n",
       "      <td>0.0</td>\n",
       "      <td>0.00</td>\n",
       "    </tr>\n",
       "    <tr>\n",
       "      <th>elementary_school</th>\n",
       "      <td>3.895019e+03</td>\n",
       "      <td>7.476627e+03</td>\n",
       "      <td>0.000000e+00</td>\n",
       "      <td>2.420000e+02</td>\n",
       "      <td>1.377000e+03</td>\n",
       "      <td>4.246000e+03</td>\n",
       "      <td>8.830300e+04</td>\n",
       "      <td>0.0</td>\n",
       "      <td>0.00</td>\n",
       "    </tr>\n",
       "    <tr>\n",
       "      <th>middle_school</th>\n",
       "      <td>4.192924e+03</td>\n",
       "      <td>7.917244e+03</td>\n",
       "      <td>0.000000e+00</td>\n",
       "      <td>2.860000e+02</td>\n",
       "      <td>1.545000e+03</td>\n",
       "      <td>4.560000e+03</td>\n",
       "      <td>1.071440e+05</td>\n",
       "      <td>0.0</td>\n",
       "      <td>0.00</td>\n",
       "    </tr>\n",
       "    <tr>\n",
       "      <th>high_school</th>\n",
       "      <td>1.521559e+03</td>\n",
       "      <td>3.037188e+03</td>\n",
       "      <td>0.000000e+00</td>\n",
       "      <td>7.000000e+01</td>\n",
       "      <td>4.370000e+02</td>\n",
       "      <td>1.540000e+03</td>\n",
       "      <td>3.246100e+04</td>\n",
       "      <td>0.0</td>\n",
       "      <td>0.00</td>\n",
       "    </tr>\n",
       "  </tbody>\n",
       "</table>\n",
       "</div>"
      ],
      "text/plain": [
       "                                   mean           std           min  \\\n",
       "id                         7.040977e+09  8.804238e+06  7.003808e+09   \n",
       "price                      8.906761e+03  4.485181e+06  1.000000e+00   \n",
       "sqfeet                     1.059535e+03  1.922083e+04  1.000000e+00   \n",
       "beds                       1.904105e+00  3.503271e+00  0.000000e+00   \n",
       "baths                      1.480047e+00  6.175018e-01  0.000000e+00   \n",
       "lat                        3.723394e+01  5.546181e+00 -4.353330e+01   \n",
       "long                      -9.270041e+01  1.653239e+01 -1.638940e+02   \n",
       "num_hospitals              1.603495e+03  2.760014e+03  0.000000e+00   \n",
       "num_beds                   2.711212e+05  5.236006e+05  9.000000e+00   \n",
       "hospital_type_general      9.559108e+02  1.649668e+03  0.000000e+00   \n",
       "hospital_type_critical     5.317153e+01  1.847733e+02  0.000000e+00   \n",
       "hospital_type_psychiatric  2.076086e+02  4.321126e+02  0.000000e+00   \n",
       "hospital_type_longterm     1.356836e+02  3.303654e+02  0.000000e+00   \n",
       "hospital_type_children     3.758801e+01  1.161291e+02  0.000000e+00   \n",
       "government_hospital        2.455003e+02  4.706280e+02  0.000000e+00   \n",
       "nonprofit_hospital         7.283700e+02  1.463860e+03  0.000000e+00   \n",
       "private_hospital           5.526951e+02  1.140851e+03  0.000000e+00   \n",
       "num_schools                2.336133e+04  4.455203e+04  0.000000e+00   \n",
       "num_students               1.410213e+07  2.801827e+07  1.500000e+01   \n",
       "preschool                  1.288645e+04  2.540568e+04  0.000000e+00   \n",
       "elementary_school          3.895019e+03  7.476627e+03  0.000000e+00   \n",
       "middle_school              4.192924e+03  7.917244e+03  0.000000e+00   \n",
       "high_school                1.521559e+03  3.037188e+03  0.000000e+00   \n",
       "\n",
       "                                    25%           50%           75%  \\\n",
       "id                         7.035971e+09  7.043316e+09  7.048427e+09   \n",
       "price                      8.100000e+02  1.040000e+03  1.395000e+03   \n",
       "sqfeet                     7.500000e+02  9.490000e+02  1.150000e+03   \n",
       "beds                       1.000000e+00  2.000000e+00  2.000000e+00   \n",
       "baths                      1.000000e+00  1.000000e+00  2.000000e+00   \n",
       "lat                        3.345570e+01  3.764790e+01  4.113910e+01   \n",
       "long                      -1.007750e+02 -8.773820e+01 -8.117960e+01   \n",
       "num_hospitals              1.040000e+02  6.100000e+02  1.820000e+03   \n",
       "num_beds                   1.565700e+04  9.218800e+04  2.955120e+05   \n",
       "hospital_type_general      6.200000e+01  3.600000e+02  1.080000e+03   \n",
       "hospital_type_critical     0.000000e+00  0.000000e+00  6.000000e+00   \n",
       "hospital_type_psychiatric  3.000000e+00  5.000000e+01  2.070000e+02   \n",
       "hospital_type_longterm     0.000000e+00  1.900000e+01  1.260000e+02   \n",
       "hospital_type_children     0.000000e+00  0.000000e+00  1.700000e+01   \n",
       "government_hospital        6.000000e+00  7.200000e+01  2.680000e+02   \n",
       "nonprofit_hospital         3.800000e+01  2.240000e+02  7.440000e+02   \n",
       "private_hospital           1.300000e+01  1.380000e+02  5.600000e+02   \n",
       "num_schools                1.556000e+03  8.568000e+03  2.550000e+04   \n",
       "num_students               8.417000e+05  4.862169e+06  1.494000e+07   \n",
       "preschool                  8.430000e+02  4.620000e+03  1.386000e+04   \n",
       "elementary_school          2.420000e+02  1.377000e+03  4.246000e+03   \n",
       "middle_school              2.860000e+02  1.545000e+03  4.560000e+03   \n",
       "high_school                7.000000e+01  4.370000e+02  1.540000e+03   \n",
       "\n",
       "                                    max  missings  missing ratio (%)  \n",
       "id                         7.051292e+09       0.0               0.00  \n",
       "price                      2.768307e+09    1867.0               0.49  \n",
       "sqfeet                     8.388607e+06     736.0               0.19  \n",
       "beds                       1.100000e+03       0.0               0.00  \n",
       "baths                      7.500000e+01       0.0               0.00  \n",
       "lat                        1.020360e+02       0.0               0.00  \n",
       "long                       1.726330e+02       0.0               0.00  \n",
       "num_hospitals              2.633200e+04       0.0               0.00  \n",
       "num_beds                   7.407010e+06     525.0               0.14  \n",
       "hospital_type_general      1.634400e+04       0.0               0.00  \n",
       "hospital_type_critical     2.150000e+03       0.0               0.00  \n",
       "hospital_type_psychiatric  4.452000e+03       0.0               0.00  \n",
       "hospital_type_longterm     4.046000e+03       0.0               0.00  \n",
       "hospital_type_children     1.424000e+03       0.0               0.00  \n",
       "government_hospital        6.129000e+03       0.0               0.00  \n",
       "nonprofit_hospital         1.409800e+04       0.0               0.00  \n",
       "private_hospital           1.547000e+04       0.0               0.00  \n",
       "num_schools                5.366280e+05       0.0               0.00  \n",
       "num_students               3.269856e+08     289.0               0.08  \n",
       "preschool                  3.005480e+05       0.0               0.00  \n",
       "elementary_school          8.830300e+04       0.0               0.00  \n",
       "middle_school              1.071440e+05       0.0               0.00  \n",
       "high_school                3.246100e+04       0.0               0.00  "
      ]
     },
     "execution_count": 14,
     "metadata": {},
     "output_type": "execute_result"
    }
   ],
   "source": [
    "numeric_description(df)"
   ]
  },
  {
   "cell_type": "code",
   "execution_count": 15,
   "metadata": {},
   "outputs": [
    {
     "data": {
      "text/html": [
       "<div>\n",
       "<style scoped>\n",
       "    .dataframe tbody tr th:only-of-type {\n",
       "        vertical-align: middle;\n",
       "    }\n",
       "\n",
       "    .dataframe tbody tr th {\n",
       "        vertical-align: top;\n",
       "    }\n",
       "\n",
       "    .dataframe thead th {\n",
       "        text-align: right;\n",
       "    }\n",
       "</style>\n",
       "<table border=\"1\" class=\"dataframe\">\n",
       "  <thead>\n",
       "    <tr style=\"text-align: right;\">\n",
       "      <th></th>\n",
       "      <th></th>\n",
       "      <th>#Levels</th>\n",
       "      <th>Max Freq (Abs,%)</th>\n",
       "      <th>Min Freq (Abs,%)</th>\n",
       "      <th>#Unknows</th>\n",
       "      <th>Unknows (%)</th>\n",
       "    </tr>\n",
       "  </thead>\n",
       "  <tbody>\n",
       "    <tr>\n",
       "      <th>0</th>\n",
       "      <td>url</td>\n",
       "      <td>382909</td>\n",
       "      <td>https://zanesville.craigslist.org/apa/d/zanesv...</td>\n",
       "      <td>https://abilene.craigslist.org/apa/d/2-br/7028...</td>\n",
       "      <td>0</td>\n",
       "      <td>0.00</td>\n",
       "    </tr>\n",
       "    <tr>\n",
       "      <th>1</th>\n",
       "      <td>region</td>\n",
       "      <td>404</td>\n",
       "      <td>jacksonville (4242, 1.11)</td>\n",
       "      <td>kansas city (3, 0.0)</td>\n",
       "      <td>0</td>\n",
       "      <td>0.00</td>\n",
       "    </tr>\n",
       "    <tr>\n",
       "      <th>2</th>\n",
       "      <td>region_url</td>\n",
       "      <td>413</td>\n",
       "      <td>https://fredericksburg.craigslist.org (2744, 0...</td>\n",
       "      <td>https://bigbend.craigslist.org (9, 0.0)</td>\n",
       "      <td>0</td>\n",
       "      <td>0.00</td>\n",
       "    </tr>\n",
       "    <tr>\n",
       "      <th>3</th>\n",
       "      <td>type</td>\n",
       "      <td>12</td>\n",
       "      <td>apartment (316613, 82.69)</td>\n",
       "      <td>assisted living (2, 0.0)</td>\n",
       "      <td>0</td>\n",
       "      <td>0.00</td>\n",
       "    </tr>\n",
       "    <tr>\n",
       "      <th>4</th>\n",
       "      <td>cats_allowed</td>\n",
       "      <td>2</td>\n",
       "      <td>Yes (278476, 72.73)</td>\n",
       "      <td>No (104433, 27.27)</td>\n",
       "      <td>0</td>\n",
       "      <td>0.00</td>\n",
       "    </tr>\n",
       "    <tr>\n",
       "      <th>5</th>\n",
       "      <td>dogs_allowed</td>\n",
       "      <td>2</td>\n",
       "      <td>Yes (271138, 70.81)</td>\n",
       "      <td>No (111771, 29.19)</td>\n",
       "      <td>0</td>\n",
       "      <td>0.00</td>\n",
       "    </tr>\n",
       "    <tr>\n",
       "      <th>6</th>\n",
       "      <td>smoking_allowed</td>\n",
       "      <td>2</td>\n",
       "      <td>Yes (280279, 73.2)</td>\n",
       "      <td>No (102630, 26.8)</td>\n",
       "      <td>0</td>\n",
       "      <td>0.00</td>\n",
       "    </tr>\n",
       "    <tr>\n",
       "      <th>7</th>\n",
       "      <td>wheelchair_access</td>\n",
       "      <td>2</td>\n",
       "      <td>No (351426, 91.78)</td>\n",
       "      <td>Yes (31483, 8.22)</td>\n",
       "      <td>0</td>\n",
       "      <td>0.00</td>\n",
       "    </tr>\n",
       "    <tr>\n",
       "      <th>8</th>\n",
       "      <td>electric_vehicle_charge</td>\n",
       "      <td>2</td>\n",
       "      <td>No (377982, 98.71)</td>\n",
       "      <td>Yes (4927, 1.29)</td>\n",
       "      <td>0</td>\n",
       "      <td>0.00</td>\n",
       "    </tr>\n",
       "    <tr>\n",
       "      <th>9</th>\n",
       "      <td>comes_furnished</td>\n",
       "      <td>2</td>\n",
       "      <td>No (364654, 95.23)</td>\n",
       "      <td>Yes (18255, 4.77)</td>\n",
       "      <td>0</td>\n",
       "      <td>0.00</td>\n",
       "    </tr>\n",
       "    <tr>\n",
       "      <th>10</th>\n",
       "      <td>laundry_options</td>\n",
       "      <td>6</td>\n",
       "      <td>w/d in unit (130790, 34.16)</td>\n",
       "      <td>no laundry on site (3601, 0.94)</td>\n",
       "      <td>78688</td>\n",
       "      <td>20.55</td>\n",
       "    </tr>\n",
       "    <tr>\n",
       "      <th>11</th>\n",
       "      <td>parking_options</td>\n",
       "      <td>8</td>\n",
       "      <td>unknow (139741, 36.49)</td>\n",
       "      <td>valet parking (146, 0.04)</td>\n",
       "      <td>139741</td>\n",
       "      <td>36.49</td>\n",
       "    </tr>\n",
       "    <tr>\n",
       "      <th>12</th>\n",
       "      <td>image_url</td>\n",
       "      <td>180095</td>\n",
       "      <td>https://images.craigslist.org/00R0R_ciYsssEFRe...</td>\n",
       "      <td>https://images.craigslist.org/00000_10q4ZutX93...</td>\n",
       "      <td>0</td>\n",
       "      <td>0.00</td>\n",
       "    </tr>\n",
       "    <tr>\n",
       "      <th>13</th>\n",
       "      <td>description</td>\n",
       "      <td>279359</td>\n",
       "      <td>***Special Move in Today!! $199 With Deposit**...</td>\n",
       "      <td>!    Crest Gateway 1025 West 6th Street, Charl...</td>\n",
       "      <td>4</td>\n",
       "      <td>0.00</td>\n",
       "    </tr>\n",
       "    <tr>\n",
       "      <th>14</th>\n",
       "      <td>state</td>\n",
       "      <td>51</td>\n",
       "      <td>ca (32987, 8.61)</td>\n",
       "      <td>wy (187, 0.05)</td>\n",
       "      <td>0</td>\n",
       "      <td>0.00</td>\n",
       "    </tr>\n",
       "  </tbody>\n",
       "</table>\n",
       "</div>"
      ],
      "text/plain": [
       "                             #Levels  \\\n",
       "0                       url   382909   \n",
       "1                    region      404   \n",
       "2                region_url      413   \n",
       "3                      type       12   \n",
       "4              cats_allowed        2   \n",
       "5              dogs_allowed        2   \n",
       "6           smoking_allowed        2   \n",
       "7         wheelchair_access        2   \n",
       "8   electric_vehicle_charge        2   \n",
       "9           comes_furnished        2   \n",
       "10          laundry_options        6   \n",
       "11          parking_options        8   \n",
       "12                image_url   180095   \n",
       "13              description   279359   \n",
       "14                    state       51   \n",
       "\n",
       "                                     Max Freq (Abs,%)  \\\n",
       "0   https://zanesville.craigslist.org/apa/d/zanesv...   \n",
       "1                           jacksonville (4242, 1.11)   \n",
       "2   https://fredericksburg.craigslist.org (2744, 0...   \n",
       "3                           apartment (316613, 82.69)   \n",
       "4                                 Yes (278476, 72.73)   \n",
       "5                                 Yes (271138, 70.81)   \n",
       "6                                  Yes (280279, 73.2)   \n",
       "7                                  No (351426, 91.78)   \n",
       "8                                  No (377982, 98.71)   \n",
       "9                                  No (364654, 95.23)   \n",
       "10                        w/d in unit (130790, 34.16)   \n",
       "11                             unknow (139741, 36.49)   \n",
       "12  https://images.craigslist.org/00R0R_ciYsssEFRe...   \n",
       "13  ***Special Move in Today!! $199 With Deposit**...   \n",
       "14                                   ca (32987, 8.61)   \n",
       "\n",
       "                                     Min Freq (Abs,%)  #Unknows  Unknows (%)  \n",
       "0   https://abilene.craigslist.org/apa/d/2-br/7028...         0         0.00  \n",
       "1                                kansas city (3, 0.0)         0         0.00  \n",
       "2             https://bigbend.craigslist.org (9, 0.0)         0         0.00  \n",
       "3                            assisted living (2, 0.0)         0         0.00  \n",
       "4                                  No (104433, 27.27)         0         0.00  \n",
       "5                                  No (111771, 29.19)         0         0.00  \n",
       "6                                   No (102630, 26.8)         0         0.00  \n",
       "7                                   Yes (31483, 8.22)         0         0.00  \n",
       "8                                    Yes (4927, 1.29)         0         0.00  \n",
       "9                                   Yes (18255, 4.77)         0         0.00  \n",
       "10                    no laundry on site (3601, 0.94)     78688        20.55  \n",
       "11                          valet parking (146, 0.04)    139741        36.49  \n",
       "12  https://images.craigslist.org/00000_10q4ZutX93...         0         0.00  \n",
       "13  !    Crest Gateway 1025 West 6th Street, Charl...         4         0.00  \n",
       "14                                     wy (187, 0.05)         0         0.00  "
      ]
     },
     "execution_count": 15,
     "metadata": {},
     "output_type": "execute_result"
    }
   ],
   "source": [
    "description_categorical(df)"
   ]
  },
  {
   "cell_type": "code",
   "execution_count": 16,
   "metadata": {},
   "outputs": [],
   "source": [
    "df = df.drop([\"id\", \"url\", \"region_url\", \"image_url\", \"description\"], axis=1)"
   ]
  },
  {
   "cell_type": "code",
   "execution_count": 17,
   "metadata": {},
   "outputs": [
    {
     "data": {
      "image/png": "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",
      "text/plain": [
       "<Figure size 432x288 with 1 Axes>"
      ]
     },
     "metadata": {
      "needs_background": "light"
     },
     "output_type": "display_data"
    },
    {
     "data": {
      "image/png": "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",
      "text/plain": [
       "<Figure size 432x288 with 1 Axes>"
      ]
     },
     "metadata": {
      "needs_background": "light"
     },
     "output_type": "display_data"
    },
    {
     "data": {
      "image/png": "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",
      "text/plain": [
       "<Figure size 432x288 with 1 Axes>"
      ]
     },
     "metadata": {
      "needs_background": "light"
     },
     "output_type": "display_data"
    },
    {
     "data": {
      "image/png": "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",
      "text/plain": [
       "<Figure size 432x288 with 1 Axes>"
      ]
     },
     "metadata": {
      "needs_background": "light"
     },
     "output_type": "display_data"
    },
    {
     "data": {
      "image/png": "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",
      "text/plain": [
       "<Figure size 432x288 with 1 Axes>"
      ]
     },
     "metadata": {
      "needs_background": "light"
     },
     "output_type": "display_data"
    },
    {
     "data": {
      "image/png": "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",
      "text/plain": [
       "<Figure size 432x288 with 1 Axes>"
      ]
     },
     "metadata": {
      "needs_background": "light"
     },
     "output_type": "display_data"
    },
    {
     "data": {
      "image/png": "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",
      "text/plain": [
       "<Figure size 432x288 with 1 Axes>"
      ]
     },
     "metadata": {
      "needs_background": "light"
     },
     "output_type": "display_data"
    },
    {
     "data": {
      "image/png": "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",
      "text/plain": [
       "<Figure size 432x288 with 1 Axes>"
      ]
     },
     "metadata": {
      "needs_background": "light"
     },
     "output_type": "display_data"
    },
    {
     "data": {
      "image/png": "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",
      "text/plain": [
       "<Figure size 432x288 with 1 Axes>"
      ]
     },
     "metadata": {
      "needs_background": "light"
     },
     "output_type": "display_data"
    },
    {
     "data": {
      "image/png": "iVBORw0KGgoAAAANSUhEUgAAAYoAAAEICAYAAABBBrPDAAAAOXRFWHRTb2Z0d2FyZQBNYXRwbG90bGliIHZlcnNpb24zLjUuMiwgaHR0cHM6Ly9tYXRwbG90bGliLm9yZy8qNh9FAAAACXBIWXMAAAsTAAALEwEAmpwYAAAYJElEQVR4nO3de7TlZX3f8fdHQCAgykWnCBOHBEzCpTEyBbK0WSdiADUpZFWTsShoaaa12qWrtAZNE0gMLbqi1EvEYKCAQYHlJVAt1SnmhNqFXIwoNwljHGVkBHVQGROMg9/+sZ+j+5zZ5zmHc5nhnPN+rfVb57e/v9/z7Of3DGt/zu9yNqkqJEmazpN29QAkSU9sBoUkqcugkCR1GRSSpC6DQpLUZVBIkroMCs1bkk1JXrgT329bkp+ZY9tXJfnMQo9pqUtyXpK/6Gy/K8nYAr7fP09y70L1p8W1+64egPR4VdW+E+tJLgM2V9V/Wcj3SFLAEVW1cSH7Xaqq6qjZ7jubuauq/wv83EKMTYvPMwpJO1USf0FdYgwKLZTnJPliku8muTrJXgBJfifJxiRbk1yX5JmtniQXJnmotflikqPbtsuSvC/JhiSPJPnrJM+aeKMkleTwJOuB04E3tstR/7NtPyfJl1vbu5P85uM5kCQ3ttUvtH5/O8mdSX5jaJ89knwryXOSrGljWp/kgSRbkpw9tO+Thsb07STXJDlghjHM1OdxSW5L8r0kDyZ5R6t/Isl/mNLXF5Oc1taPavO6tbV789CuT05yRZu3u5KsHerjx5cX23vflOQ7bVzvSfLkztyNJdmc5HeTfAP4HxO1of5XJ/lokm+2OXrPLP6ptLNUlYvLvBZgE3AL8EzgAOAe4N8BLwC+BTwX2BN4N3Bja3My8DngaUCAXwAObtsuAx4BfqW1eyfwmaH3K+DwoX3/eMp4XtbG8iTgt4HvD/X9quG+Osf04/dor98IXD30+lTgjra+pu3/IWAf4Bjgm8AL2/Y3AJ8FDm3H82fAh2Z4/5n6vAl4ZVvfFzihrf8WcPNQP78IfBt4MvAUYAtwNrBXe3182+884FHgxcBuwH8DPjvl33jivY8FTmBw6XpN+/d+Q2fuxoDtwFvb8e/dapvb9t2ALwAXtmPdC3j+rv7v2mXov8ddPQCXpb+0D5FXDL1+G/A+4BLgbUP1fYEftg+XFwB/2z5wnjSlv8uAq6a0ewxY3V53g2LE+G4HTm3rr2JuQfFMBuG1X3v9YeCNbX3iQ/3np8zBJW39HuDEoW0Ht3nYvfP+M/V5I/CHwEFT2u0JbGVwjwDgT4D3tvWXA5+f5v3OA/7P0OsjgX+Y8m/8wmnavgH4WGfuxoB/BPaaUpsIil9mEILTzofLrl289KSF8o2h9b9n8OH+TOCrE8Wq2sbgt9tDqurTwHuAPwUeTHJxkv2G+rh/Srutrb8ZJTkjye3t0sh3gKOBg+Z0VD8ZwwPA/wP+ZZKnAS8Crpyy2/1D618dGu+zgI8NjeceBsG3ahZvPV2fZwHPBr6U5NYkv97G+QPgGuAVSZ7EIBw+0NqsBr7cea+p/4Z7jbqfkOTZST6e5BtJvgf8V2ae329W1aPTbFsNfLWqts/Qh3YRg0KL6QEGH5IAJNkHOBD4OkBVvauqjgWOYvCh95+H2q4earcvg0taD4x4j0lff9zuZbwfeB1wYFU9DbiTweWt+boceAWDS1s3VdXXp2xfPbT+00PjvR94UVU9bWjZa0T7UUb2WVX3VdXLgWcwuKTz4Ta/E+M8HTgR+PuqumloHD87mwOdwUXAlxictewHvJmZ57f3NdX3Az/tTe4nLoNCi+mDwKvbDd89GfzmeXNVbUryz5Icn2QPBvcQHmXwW/aEFyd5frtJ+pbW7v4d3gEeBIb/pmIfBh9K3wRI8moGZxSP19R+Af6Swf2W1wNXjGjz+0l+KslRwKuBq1v9fcD5Ezfkkzw9yamzHMfIPpO8IsnTq+pHwHfavo8BtGD4EfB2fnI2AfBx4J8keUOSPZM8JcnxsxzHsKcA3wO2Jfl54DVTto+au55bGNw7uSDJPkn2SvK8OYxLi8Sg0KKpqhuA3wc+wuCD4GeBdW3zfgx+83+YwSWVbzO4nj7hg8C5DC45HcvgN+RRLgGObJd1/rKq7mbwAXkTgw+sYxhcMnq8zgMub/3+Vjuef2jHchjw0RFt/hrYCNwA/ElVfarV3wlcB3wqySMMbmzP9gN6uj5PAe5Ksq31v27KpZ0rGBz7j/+IrqoeAX4N+A0Gl5nuA351luMY9p+Af8Xgns37+UkgTjiPKXPXU1WPtTEdDnwN2MzgIQQ9QaTK/3GRnliySH9EtxCS/AHw7Kp6xVBtDfAVYI+Fus4+3z6TnAGsr6rnL8R4tLJ5TVCapfa3D2cBr9zVY+lJ8lPAvwfeu6vHouXBS09akTL4rqFto5Zp9v8dBjddr6+qG0ftM4cxnD7NGO6aR58nM7g/8yCDy3fSvHnpSZLU5RmFJKlr2d2jOOigg2rNmjVzbv/973+fffbZZ+YdVwjnYzLnY0fOyWRLdT4+97nPfauqnj5q27ILijVr1nDbbbfNuf34+DhjY2MLN6AlzvmYzPnYkXMy2VKdjyRfnW6bl54kSV0GhSSpy6CQJHUZFJKkLoNCktRlUEiSugwKSVKXQSFJ6jIoJEldy+4vs+frjq9/l1ed84kd6psueMkuGI0k7XqeUUiSugwKSVKXQSFJ6jIoJEldBoUkqcugkCR1GRSSpC6DQpLUZVBIkroMCklSl0EhSeoyKCRJXQaFJKnLoJAkdRkUkqQug0KS1GVQSJK6DApJUteMQZFkdZK/SnJPkruSvL7VD0iyIcl97ef+Q23elGRjknuTnDxUPzbJHW3bu5Kk1fdMcnWr35xkzVCbM9t73JfkzAU9eknSjGZzRrEdOLuqfgE4AXhtkiOBc4AbquoI4Ib2mrZtHXAUcArw3iS7tb4uAtYDR7TllFY/C3i4qg4HLgTe2vo6ADgXOB44Djh3OJAkSYtvxqCoqi1V9Tdt/RHgHuAQ4FTg8rbb5cBpbf1U4Kqq+kFVfQXYCByX5GBgv6q6qaoKuGJKm4m+Pgyc2M42TgY2VNXWqnoY2MBPwkWStBM8rnsU7ZLQLwE3A6uqagsMwgR4RtvtEOD+oWabW+2Qtj61PqlNVW0Hvgsc2OlLkrST7D7bHZPsC3wEeENVfa/dXhi564hadepzbTM8tvUMLmmxatUqxsfHpxvbjFbtDWcfs32H+nz6XMq2bdu2Yo99FOdjR87JZMtxPmYVFEn2YBASV1bVR1v5wSQHV9WWdlnpoVbfDKwean4o8ECrHzqiPtxmc5LdgacCW1t9bEqb8anjq6qLgYsB1q5dW2NjY1N3mbV3X3ktb79jx2nZdPrc+1zKxsfHmc98LjfOx46ck8mW43zM5qmnAJcA91TVO4Y2XQdMPIV0JnDtUH1de5LpMAY3rW9pl6ceSXJC6/OMKW0m+nop8Ol2H+OTwElJ9m83sU9qNUnSTjKbM4rnAa8E7khye6u9GbgAuCbJWcDXgJcBVNVdSa4B7mbwxNRrq+qx1u41wGXA3sD1bYFBEH0gyUYGZxLrWl9bk7wFuLXt90dVtXVuhypJmosZg6KqPsPoewUAJ07T5nzg/BH124CjR9QfpQXNiG2XApfONE5J0uLwL7MlSV0GhSSpy6CQJHUZFJKkLoNCktRlUEiSugwKSVKXQSFJ6jIoJEldBoUkqcugkCR1GRSSpC6DQpLUZVBIkroMCklSl0EhSeoyKCRJXQaFJKnLoJAkdRkUkqQug0KS1GVQSJK6DApJUpdBIUnqMigkSV0GhSSpy6CQJHUZFJKkLoNCktRlUEiSugwKSVKXQSFJ6jIoJEldBoUkqcugkCR1GRSSpC6DQpLUZVBIkrpmDIoklyZ5KMmdQ7Xzknw9ye1tefHQtjcl2Zjk3iQnD9WPTXJH2/auJGn1PZNc3eo3J1kz1ObMJPe15cwFO2pJ0qzN5oziMuCUEfULq+o5bflfAEmOBNYBR7U2702yW9v/ImA9cERbJvo8C3i4qg4HLgTe2vo6ADgXOB44Djg3yf6P+wglSfMyY1BU1Y3A1ln2dypwVVX9oKq+AmwEjktyMLBfVd1UVQVcAZw21Obytv5h4MR2tnEysKGqtlbVw8AGRgeWJGkR7T6Ptq9LcgZwG3B2+zA/BPjs0D6bW+2HbX1qnfbzfoCq2p7ku8CBw/URbSZJsp7B2QqrVq1ifHx8zge1am84+5jtO9Tn0+dStm3bthV77KM4HztyTiZbjvMx16C4CHgLUO3n24F/DWTEvtWpM8c2k4tVFwMXA6xdu7bGxsY6Q+9795XX8vY7dpyWTafPvc+lbHx8nPnM53LjfOzIOZlsOc7HnJ56qqoHq+qxqvoR8H4G9xBg8Fv/6qFdDwUeaPVDR9QntUmyO/BUBpe6putLkrQTzSko2j2HCb8JTDwRdR2wrj3JdBiDm9a3VNUW4JEkJ7T7D2cA1w61mXii6aXAp9t9jE8CJyXZv93EPqnVJEk70YyXnpJ8CBgDDkqymcGTSGNJnsPgUtAm4N8CVNVdSa4B7ga2A6+tqsdaV69h8ATV3sD1bQG4BPhAko0MziTWtb62JnkLcGvb74+qarY31SVJC2TGoKiql48oX9LZ/3zg/BH124CjR9QfBV42TV+XApfONEZJ0uLxL7MlSV0GhSSpy6CQJHUZFJKkLoNCktRlUEiSugwKSVKXQSFJ6jIoJEldBoUkqcugkCR1GRSSpC6DQpLUZVBIkroMCklSl0EhSeoyKCRJXQaFJKnLoJAkdRkUkqQug0KS1GVQSJK6DApJUpdBIUnqMigkSV0GhSSpy6CQJHUZFJKkLoNCktRlUEiSugwKSVKXQSFJ6jIoJEldBoUkqcugkCR1GRSSpC6DQpLUNWNQJLk0yUNJ7hyqHZBkQ5L72s/9h7a9KcnGJPcmOXmofmySO9q2dyVJq++Z5OpWvznJmqE2Z7b3uC/JmQt21JKkWZvNGcVlwClTaucAN1TVEcAN7TVJjgTWAUe1Nu9NsltrcxGwHjiiLRN9ngU8XFWHAxcCb219HQCcCxwPHAecOxxIkqSdY8agqKobga1TyqcCl7f1y4HThupXVdUPquorwEbguCQHA/tV1U1VVcAVU9pM9PVh4MR2tnEysKGqtlbVw8AGdgwsSdIi232O7VZV1RaAqtqS5Bmtfgjw2aH9NrfaD9v61PpEm/tbX9uTfBc4cLg+os0kSdYzOFth1apVjI+Pz/GwYNXecPYx23eoz6fPpWzbtm0r9thHcT525JxMthznY65BMZ2MqFWnPtc2k4tVFwMXA6xdu7bGxsZmHOh03n3ltbz9jh2nZdPpc+9zKRsfH2c+87ncOB87ck4mW47zMdennh5sl5NoPx9q9c3A6qH9DgUeaPVDR9QntUmyO/BUBpe6putLkrQTzTUorgMmnkI6E7h2qL6uPcl0GIOb1re0y1SPJDmh3X84Y0qbib5eCny63cf4JHBSkv3bTeyTWk2StBPNeOkpyYeAMeCgJJsZPIl0AXBNkrOArwEvA6iqu5JcA9wNbAdeW1WPta5ew+AJqr2B69sCcAnwgSQbGZxJrGt9bU3yFuDWtt8fVdXUm+qSpEU2Y1BU1cun2XTiNPufD5w/on4bcPSI+qO0oBmx7VLg0pnGKElaPP5ltiSpy6CQJHUZFJKkLoNCktRlUEiSugwKSVKXQSFJ6jIoJEldBoUkqcugkCR1GRSSpC6DQpLUZVBIkroMCklSl0EhSeoyKCRJXQaFJKnLoJAkdRkUkqQug0KS1GVQSJK6DApJUpdBIUnqMigkSV0GhSSpy6CQJHUZFJKkLoNCktRlUEiSugwKSVKXQSFJ6jIoJEldBoUkqcugkCR1GRSSpC6DQpLUZVBIkrrmFRRJNiW5I8ntSW5rtQOSbEhyX/u5/9D+b0qyMcm9SU4eqh/b+tmY5F1J0up7Jrm61W9OsmY+45UkPX4LcUbxq1X1nKpa216fA9xQVUcAN7TXJDkSWAccBZwCvDfJbq3NRcB64Ii2nNLqZwEPV9XhwIXAWxdgvJKkx2H3RejzVGCsrV8OjAO/2+pXVdUPgK8k2Qgcl2QTsF9V3QSQ5ArgNOD61ua81teHgfckSVXVIoy7a805nxhZ33TBS3bySCRp55pvUBTwqSQF/FlVXQysqqotAFW1Jckz2r6HAJ8daru51X7Y1qfWJ9rc3/ranuS7wIHAt4YHkWQ9gzMSVq1axfj4+JwPaNXecPYx22e9/3zeaynYtm3bsj/Gx8P52JFzMtlynI/5BsXzquqBFgYbknyps29G1KpT77WZXBgE1MUAa9eurbGxse6ge9595bW8/Y7ZT8um0+f+XkvB+Pg485nP5cb52JFzMtlynI953aOoqgfaz4eAjwHHAQ8mORig/Xyo7b4ZWD3U/FDggVY/dER9UpskuwNPBbbOZ8ySpMdnzkGRZJ8kT5lYB04C7gSuA85su50JXNvWrwPWtSeZDmNw0/qWdpnqkSQntKedzpjSZqKvlwKf3hX3JyRpJZvPpadVwMfak6y7Ax+sqv+d5FbgmiRnAV8DXgZQVXcluQa4G9gOvLaqHmt9vQa4DNibwU3s61v9EuAD7cb3VgZPTUmSdqI5B0VV/R3wiyPq3wZOnKbN+cD5I+q3AUePqD9KCxpJ0q7hX2ZLkroMCklSl0EhSeoyKCRJXQaFJKnLoJAkdRkUkqQug0KS1GVQSJK6DApJUpdBIUnqMigkSV0GhSSpazH+n9kriv8vbUnLnWcUkqQug0KS1GVQSJK6DApJUpdBIUnqMigkSV0GhSSpy6CQJHUZFJKkLoNCktTlV3gsEr/aQ9Jy4RmFJKnLoJAkdRkUkqQu71HsZN67kLTUeEYhSeoyKCRJXQaFJKnLoJAkdXkz+wliupvc0/Hmt6SdxaBYonx6StLO4qUnSVKXQSFJ6loSl56SnAK8E9gN+POqumAXD2nJ6d0DWezLVV4mk5a2J3xQJNkN+FPg14DNwK1Jrququ3ftyJ6YHu9N8V6b6T7I5/IeC8HAkXaNJ3xQAMcBG6vq7wCSXAWcChgUi2zNOZ/g7GO286pFCoaFCpyFDLqZ2sx3PpZDqE2dv4k5WQ7HtlTs7F+aUlWL0vFCSfJS4JSq+jft9SuB46vqdUP7rAfWt5c/B9w7j7c8CPjWPNovN87HZM7HjpyTyZbqfDyrqp4+asNSOKPIiNqkdKuqi4GLF+TNktuqau1C9LUcOB+TOR87ck4mW47zsRSeetoMrB56fSjwwC4aiyStOEshKG4FjkhyWJInA+uA63bxmCRpxXjCX3qqqu1JXgd8ksHjsZdW1V2L+JYLcglrGXE+JnM+duScTLbs5uMJfzNbkrRrLYVLT5KkXcigkCR1GRRNklOS3JtkY5JzdvV4FkuSS5M8lOTOodoBSTYkua/93H9o25vanNyb5OSh+rFJ7mjb3pVk1GPMT3hJVif5qyT3JLkryetbfSXPyV5JbknyhTYnf9jqK3ZOYPAtEUk+n+Tj7fXKmY+qWvELg5vkXwZ+Bngy8AXgyF09rkU61l8BngvcOVR7G3BOWz8HeGtbP7LNxZ7AYW2OdmvbbgF+mcHfuVwPvGhXH9sc5+Ng4Llt/SnA37bjXslzEmDftr4HcDNwwkqek3Ys/xH4IPDx9nrFzIdnFAM//pqQqvpHYOJrQpadqroR2DqlfCpweVu/HDhtqH5VVf2gqr4CbASOS3IwsF9V3VSD//qvGGqzpFTVlqr6m7b+CHAPcAgre06qqra1l3u0pVjBc5LkUOAlwJ8PlVfMfBgUA4cA9w+93txqK8WqqtoCgw9O4BmtPt28HNLWp9aXtCRrgF9i8Bv0ip6TdpnlduAhYENVrfQ5+e/AG4EfDdVWzHwYFAMzfk3ICjXdvCy7+UqyL/AR4A1V9b3eriNqy25OquqxqnoOg29COC7J0Z3dl/WcJPl14KGq+txsm4yoLen5MCgGVvrXhDzYTotpPx9q9enmZXNbn1pfkpLswSAkrqyqj7byip6TCVX1HWAcOIWVOyfPA/5Fkk0MLku/IMlfsILmw6AYWOlfE3IdcGZbPxO4dqi+LsmeSQ4DjgBuaafZjyQ5oT21ccZQmyWljf8S4J6qesfQppU8J09P8rS2vjfwQuBLrNA5qao3VdWhVbWGwWfDp6vqFayk+djVd9OfKAvwYgZPvHwZ+L1dPZ5FPM4PAVuAHzL4Decs4EDgBuC+9vOAof1/r83JvQw9oQGsBe5s295D+yv/pbYAz2dw+v9F4Pa2vHiFz8k/BT7f5uRO4A9afcXOydDxjPGTp55WzHz4FR6SpC4vPUmSugwKSVKXQSFJ6jIoJEldBoUkqcugkCR1GRSSpK7/D+9MbR2J67jzAAAAAElFTkSuQmCC",
      "text/plain": [
       "<Figure size 432x288 with 1 Axes>"
      ]
     },
     "metadata": {
      "needs_background": "light"
     },
     "output_type": "display_data"
    },
    {
     "data": {
      "image/png": "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",
      "text/plain": [
       "<Figure size 432x288 with 1 Axes>"
      ]
     },
     "metadata": {
      "needs_background": "light"
     },
     "output_type": "display_data"
    },
    {
     "data": {
      "image/png": "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",
      "text/plain": [
       "<Figure size 432x288 with 1 Axes>"
      ]
     },
     "metadata": {
      "needs_background": "light"
     },
     "output_type": "display_data"
    },
    {
     "data": {
      "image/png": "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",
      "text/plain": [
       "<Figure size 432x288 with 1 Axes>"
      ]
     },
     "metadata": {
      "needs_background": "light"
     },
     "output_type": "display_data"
    },
    {
     "data": {
      "image/png": "iVBORw0KGgoAAAANSUhEUgAAAYoAAAEICAYAAABBBrPDAAAAOXRFWHRTb2Z0d2FyZQBNYXRwbG90bGliIHZlcnNpb24zLjUuMiwgaHR0cHM6Ly9tYXRwbG90bGliLm9yZy8qNh9FAAAACXBIWXMAAAsTAAALEwEAmpwYAAAgt0lEQVR4nO3df5RcZZ3n8fdniWIEgYRIb0jiJEj0yA+NpjfEn9sYJonKCu4JY7MoYYwTZfGs7mRWie4sDpwoOEZGcAgTTYaAkYQNYLICi1mgh9WFQFA0CZBJI1GaxERIDGkRDo3f/eM+RW461bc7VV3VVcnndU6duvW993nqe4vQ336e51ZfRQRmZmZ9+TdDnYCZmTU2FwozMyvkQmFmZoVcKMzMrJALhZmZFXKhMDOzQi4UZlWQ1CLpfkl7JS2U9GVJ36ugn4sk/aQWORa8Z0W55tpvlXTWYOZkjWnYUCdg1uTmAs8Cx0SvLyVJGg88BbwmInqGILdCEfG10naj52pDyyMKsz4o09//I38GPNa7SJgdSlworGGlqY2/kfRLSXskrZT0urTvryR1StolaY2kE3PtQtJnJW2RtFvSP0pS2neRpJ9Kujb1+YSkabm2HZIWSPop8AJwkqT3SHo4Hf+wpPekY28AZgNflNQt6SxJX5X0/dTd/en592n/uwdwzt9MOT8l6UO5+InpPHel8/6r3L4pktZLel7SDknfSvHx6bOYK2mbpO2S5uXaFeYq6c2S7pX0nKRnJS2XdNxA/tvZocWFwhrdXwAzgQnA24GLJH0Q+HraNxr4NbCiV7uzgX8HvCMdNyO37wzgV8Ao4DLgNkkjc/s/STal9AZgL3AHcA1wPPAt4A5Jx0fERcBy4BsRcXRE/J9eOXwgPR+X9j/Qz7meAWxOeX0DWFIqcMDNQBdwIjAL+FquwH0b+HZEHAO8GbilV79nAhOB6cClfawrlMtVZJ/zicDbgHHAV/s5BzsEuVBYo7smIrZFxC7gfwGTgAuApRHxs4h4CZgPvDvNs5dcGRG/j4jfAPeldiU7gX+IiJcjYiXZD+eP5PbfEBGb0lz9dGBLRNwUET0RcTPwBPAfanCuv46I70bEK8AysiLYImkc8D7gSxHxYkQ8CnyPrKABvAycLGlURHRHxIO9+v27iPhDRGwA/hk4fyDJRERnRKyNiJci4ndkRfLfV32W1nRcKKzR/Ta3/QJwNNlvuL8uBSOiG3gOGNNPu5Jneq0p/Dr1WfJ0bnu/98odP4bB92rOEfFC2iyd766I2NtHDnOAtwBPpKmxs3v1+3SvdicyAJJOkLRC0jOSnge+TzbascOMC4U1o21ki8gASDqKbFromQG2H5Ob0gF4U+qzJF9E9nuv3PEDea/BWuDeBoyU9IZyOUTElog4HzgBuApYlT6TknG92uXPtSjXr6f429O01ifIpqPsMONCYc3oB8BfSpok6Ujga8C6iNg6wPYnAP9F0msknUc2/35nH8feCbxF0n+SNEzSx4FTgB8N4H1+B/wJOGmAeZUVEU8D/w/4uqTXSXo72ShiOYCkT0h6Y0T8Cfh9avZKrou/lfR6SacCfwmsHGCubwC6yRa4xwD/rZrzsOblQmFNJyLuAf4WuBXYTraA234QXawjW9x9FlgAzIqI5/p4r+fIFsbnkU1vfRE4OyKeHUCeL6T+fyrp95KmHkSOvZ0PjCcbDdwOXBYRa9O+mcAmSd1kC9vtEfFiru2/AJ3APcA3I+LHA8z174B3AXvIFvRvqyJ/a2Ly5d92OJF0EfDpiHjfUOdSa/4SnQ0WjyjMzKyQC4VZnUi6Pn2Zrffj+qHOzayIp57MzKyQRxRmZlbokPvrsaNGjYrx48dX3P4Pf/gDRx11VP8HNgDnWhvOtXaaKd/DLddHHnnk2Yh4Y9mdEXFIPSZPnhzVuO+++6pqX0/OtTaca+00U76HW67A+ujj56qnnszMrJALhZmZFXKhMDOzQi4UZmZWyIXCzMwKuVCYmVkhFwozMyvkQmFmZoVcKMzMrNAh9yc8qrXhmT1cdOkdB8S3XvmRIcjGzGzoeURhZmaFXCjMzKyQC4WZmRVyoTAzs0L9FgpJ4yTdJ+lxSZskfT7FR0paK2lLeh6RazNfUqekzZJm5OKTJW1I+66RpBQ/UtLKFF+XbgpfajM7vccWSbMH9ezNzKxfAxlR9ADzIuJtwFTgEkmnAJcC90TEROCe9Jq0rx04FZgJXCfpiNTXImAuMDE9Zqb4HGB3RJwMXA1clfoaCVwGnAFMAS7LFyQzM6u9fgtFRGyPiJ+l7b3A48AY4BxgWTpsGXBu2j4HWBERL0XEU0AnMEXSaOCYiHgg3STjxl5tSn2tAqal0cYMYG1E7IqI3cBa9hUXMzOrg4P6HkWaEnonsA5oiYjtkBUTSSekw8YAD+aadaXYy2m7d7zU5unUV4+kPcDx+XiZNvm85pKNVGhpaaGjo+NgTms/LcNh3uk9B8Sr6bNWuru7GzKvcpxrbTRTrtBc+TrXfQZcKCQdDdwKfCEink/LC2UPLROLgnilbfYFIhYDiwFaW1ujra2tr9z6de3y1SzccODHsvWCyvuslY6ODqo513pyrrXRTLlCc+XrXPcZ0FVPkl5DViSWR8RtKbwjTSeRnnemeBcwLtd8LLAtxceWie/XRtIw4FhgV0FfZmZWJwO56knAEuDxiPhWbtcaoHQV0mxgdS7enq5kmkC2aP1QmqbaK2lq6vPCXm1Kfc0C7k3rGHcD0yWNSIvY01PMzMzqZCBTT+8FPglskPRoin0ZuBK4RdIc4DfAeQARsUnSLcBjZFdMXRIRr6R2FwM3AMOBu9IDskJ0k6ROspFEe+prl6QrgIfTcZdHxK7KTtXMzCrRb6GIiJ9Qfq0AYFofbRYAC8rE1wOnlYm/SCo0ZfYtBZb2l6eZmdWGv5ltZmaFXCjMzKyQC4WZmRVyoTAzs0IuFGZmVsiFwszMCrlQmJlZIRcKMzMr5EJhZmaFXCjMzKyQC4WZmRVyoTAzs0IuFGZmVsiFwszMCrlQmJlZoYHc4W6ppJ2SNuZiKyU9mh5bSzc0kjRe0h9z+67PtZksaYOkTknXpLvcke6EtzLF10kan2szW9KW9JiNmZnV3UDucHcD8B3gxlIgIj5e2pa0ENiTO/7JiJhUpp9FwFzgQeBOYCbZHe7mALsj4mRJ7cBVwMcljQQuA1qBAB6RtCYidg/47MzMrGr9jigi4n6y25MeII0K/gK4uagPSaOBYyLigXQv7BuBc9Puc4BlaXsVMC31OwNYGxG7UnFYS1ZczMysjqpdo3g/sCMituRiEyT9XNK/SHp/io0BunLHdKVYad/TABHRQzY6OT4fL9PGzMzqZCBTT0XOZ//RxHbgTRHxnKTJwA8lnUr5e25Heu5rX1Gb/UiaSzatRUtLCx0dHQPLvoyW4TDv9J4D4tX0WSvd3d0NmVc5zrU2milXaK58nes+FRcKScOA/whMLsUi4iXgpbT9iKQngbeQjQbG5pqPBbal7S5gHNCV+jyWbKqrC2jr1aajXC4RsRhYDNDa2hptbW3lDhuQa5evZuGGAz+WrRdU3metdHR0UM251pNzrY1myhWaK1/nuk81U09nAU9ExKtTSpLeKOmItH0SMBH4VURsB/ZKmprWHy4EVqdma4DSFU2zgHvTOsbdwHRJIySNAKanmJmZ1VG/IwpJN5P9Zj9KUhdwWUQsAdo5cBH7A8DlknqAV4DPRkRpIfxisiuohpNd7XRXii8BbpLUSTaSaAeIiF2SrgAeTsddnuvLzMzqpN9CERHn9xG/qEzsVuDWPo5fD5xWJv4icF4fbZYCS/vL0czMasffzDYzs0IuFGZmVsiFwszMCrlQmJlZIRcKMzMr5EJhZmaFXCjMzKyQC4WZmRVyoTAzs0IuFGZmVsiFwszMCrlQmJlZIRcKMzMr5EJhZmaFXCjMzKyQC4WZmRXqt1BIWippp6SNudhXJT0j6dH0+HBu33xJnZI2S5qRi0+WtCHtuybdEhVJR0pameLrJI3PtZktaUt6lG6XamZmdTSQEcUNwMwy8asjYlJ63Akg6RSyW5memtpcV7qHNrAImEt2H+2JuT7nALsj4mTgauCq1NdI4DLgDGAKcFm6d7aZmdVRv4UiIu4nu5f1QJwDrIiIlyLiKaATmCJpNHBMRDwQEQHcCJyba7Msba8CpqXRxgxgbUTsiojdwFrKFywzM6uhatYoPifpl2lqqvSb/hjg6dwxXSk2Jm33ju/XJiJ6gD3A8QV9mZlZHQ2rsN0i4Aog0vNC4FOAyhwbBXEqbLMfSXPJprVoaWmho6OjIPViLcNh3uk9B8Sr6bNWuru7GzKvcpxrbTRTrtBc+TrXfSoqFBGxo7Qt6bvAj9LLLmBc7tCxwLYUH1smnm/TJWkYcCzZVFcX0NarTUcf+SwGFgO0trZGW1tbucMG5Nrlq1m44cCPZesFlfdZKx0dHVRzrvXkXGujmXKF5srXue5T0dRTWnMo+RhQuiJqDdCermSaQLZo/VBEbAf2Spqa1h8uBFbn2pSuaJoF3JvWMe4Gpksakaa2pqeYmZnVUb8jCkk3k/1mP0pSF9mVSG2SJpFNBW0FPgMQEZsk3QI8BvQAl0TEK6mri8muoBoO3JUeAEuAmyR1ko0k2lNfuyRdATycjrs8Iga6qG5mZoOk30IREeeXCS8pOH4BsKBMfD1wWpn4i8B5ffS1FFjaX45mZlY7/ma2mZkVcqEwM7NCLhRmZlbIhcLMzAq5UJiZWSEXCjMzK+RCYWZmhVwozMyskAuFmZkVcqEwM7NCLhRmZlbIhcLMzAq5UJiZWSEXCjMzK+RCYWZmhVwozMysUL+FQtJSSTslbczF/l7SE5J+Kel2Scel+HhJf5T0aHpcn2szWdIGSZ2Srkm3RCXdNnVliq+TND7XZrakLekxGzMzq7uBjChuAGb2iq0FTouItwP/CszP7XsyIialx2dz8UXAXLL7aE/M9TkH2B0RJwNXA1cBSBpJdtvVM4ApwGXp3tlmZlZH/RaKiLif7F7W+diPI6InvXwQGFvUh6TRwDER8UBEBHAjcG7afQ6wLG2vAqal0cYMYG1E7IqI3WTFqXfBMjOzGuv3ntkD8ClgZe71BEk/B54H/ntE/F9gDNCVO6YrxUjPTwNERI+kPcDx+XiZNvuRNJdstEJLSwsdHR0Vn0zLcJh3es8B8Wr6rJXu7u6GzKsc51obzZQrNFe+znWfqgqFpK8APcDyFNoOvCkinpM0GfihpFMBlWkepW762FfUZv9gxGJgMUBra2u0tbUN+Bx6u3b5ahZuOPBj2XpB5X3WSkdHB9Wcaz0519poplyhufJ1rvtUfNVTWlw+G7ggTScRES9FxHNp+xHgSeAtZKOB/PTUWGBb2u4CxqU+hwHHkk11vRov08bMzOqkokIhaSbwJeCjEfFCLv5GSUek7ZPIFq1/FRHbgb2Spqb1hwuB1anZGqB0RdMs4N5UeO4GpksakRaxp6eYmZnVUb9TT5JuBtqAUZK6yK5Emg8cCaxNV7k+mK5w+gBwuaQe4BXgsxFRWgi/mOwKquHAXekBsAS4SVIn2UiiHSAidkm6Ang4HXd5ri8zM6uTfgtFRJxfJrykj2NvBW7tY9964LQy8ReB8/posxRY2l+OZmZWO/5mtpmZFXKhMDOzQi4UZmZWyIXCzMwKuVCYmVkhFwozMyvkQmFmZoVcKMzMrJALhZmZFXKhMDOzQi4UZmZWyIXCzMwKuVCYmVkhFwozMyvkQmFmZoVcKMzMrFC/hULSUkk7JW3MxUZKWitpS3oekds3X1KnpM2SZuTikyVtSPuuSbdERdKRklam+DpJ43NtZqf32JLu0W1mZnU2kBHFDcDMXrFLgXsiYiJwT3qNpFPIbmV6ampzXeke2sAiYC7ZfbQn5vqcA+yOiJOBq4GrUl8jyW67egYwBbgsX5DMzKw++i0UEXE/2b2s884BlqXtZcC5ufiKiHgpIp4COoEpkkYDx0TEAxERwI292pT6WgVMS6ONGcDaiNgVEbuBtRxYsMzMrMb6vWd2H1oiYjtARGyXdEKKjwEezB3XlWIvp+3e8VKbp1NfPZL2AMfn42Xa7EfSXLLRCi0tLXR0dFR4WtAyHOad3nNAvJo+a6W7u7sh8yrHudZGM+UKzZWvc92n0kLRF5WJRUG80jb7ByMWA4sBWltbo62trd9E+3Lt8tUs3HDgx7L1gsr7rJWOjg6qOdd6cq610Uy5QnPl61z3qfSqpx1pOon0vDPFu4BxuePGAttSfGyZ+H5tJA0DjiWb6uqrLzMzq6NKC8UaoHQV0mxgdS7enq5kmkC2aP1QmqbaK2lqWn+4sFebUl+zgHvTOsbdwHRJI9Ii9vQUMzOzOup36knSzUAbMEpSF9mVSFcCt0iaA/wGOA8gIjZJugV4DOgBLomIV1JXF5NdQTUcuCs9AJYAN0nqJBtJtKe+dkm6Ang4HXd5RPReVDczsxrrt1BExPl97JrWx/ELgAVl4uuB08rEXyQVmjL7lgJL+8vRzMxqx9/MNjOzQi4UZmZWyIXCzMwKuVCYmVkhFwozMyvkQmFmZoVcKMzMrJALhZmZFXKhMDOzQi4UZmZWyIXCzMwKuVCYmVkhFwozMyvkQmFmZoVcKMzMrJALhZmZFaq4UEh6q6RHc4/nJX1B0lclPZOLfzjXZr6kTkmbJc3IxSdL2pD2XZNul0q6perKFF8naXxVZ2tmZget4kIREZsjYlJETAImAy8At6fdV5f2RcSdAJJOIbvN6anATOA6SUek4xcBc8nusT0x7QeYA+yOiJOBq4GrKs3XzMwqM1hTT9OAJyPi1wXHnAOsiIiXIuIpoBOYImk0cExEPBARAdwInJtrsyxtrwKmlUYbZmZWH/3eM3uA2oGbc68/J+lCYD0wLyJ2A2OAB3PHdKXYy2m7d5z0/DRARPRI2gMcDzybf3NJc8lGJLS0tNDR0VHxibQMh3mn9xwQr6bPWunu7m7IvMpxrrXRTLlCc+XrXPepulBIei3wUWB+Ci0CrgAiPS8EPgWUGwlEQZx+9u0LRCwGFgO0trZGW1vbwE+gl2uXr2bhhgM/lq0XVN5nrXR0dFDNudaTc62NZsoVmitf57rPYEw9fQj4WUTsAIiIHRHxSkT8CfguMCUd1wWMy7UbC2xL8bFl4vu1kTQMOBbYNQg5m5nZAA1GoTif3LRTWnMo+RiwMW2vAdrTlUwTyBatH4qI7cBeSVPT+sOFwOpcm9lpexZwb1rHMDOzOqlq6knS64E/Bz6TC39D0iSyKaKtpX0RsUnSLcBjQA9wSUS8ktpcDNwADAfuSg+AJcBNkjrJRhLt1eRrZmYHr6pCEREvkC0u52OfLDh+AbCgTHw9cFqZ+IvAedXkaGZm1fE3s83MrJALhZmZFXKhMDOzQi4UZmZWyIXCzMwKuVCYmVkhFwozMyvkQmFmZoVcKMzMrJALhZmZFXKhMDOzQoN146JD3vhL7ygb33rlR+qciZlZfXlEYWZmhVwozMyskAuFmZkVcqEwM7NCVRUKSVslbZD0qKT1KTZS0lpJW9LziNzx8yV1StosaUYuPjn10ynpmnRLVNJtU1em+DpJ46vJ18zMDt5gjCjOjIhJEdGaXl8K3BMRE4F70msknUJ2K9NTgZnAdZKOSG0WAXPJ7qM9Me0HmAPsjoiTgauBqwYhXzMzOwi1mHo6B1iWtpcB5+biKyLipYh4CugEpkgaDRwTEQ9ERAA39mpT6msVMK002jAzs/pQ9rO5wsbSU8BuIIB/iojFkn4fEcfljtkdESMkfQd4MCK+n+JLgLuArcCVEXFWir8f+FJEnC1pIzAzIrrSvieBMyLi2V55zCUbkdDS0jJ5xYoVFZ/Tzl172PHHgR9/+phjK36vanV3d3P00UcP2fsfDOdaG82UKzRXvodbrmeeeeYjuZmh/VT7hbv3RsQ2SScAayU9UXBsuZFAFMSL2uwfiFgMLAZobW2Ntra2wqSLXLt8NQs3DPxj2XpB5e9VrY6ODqo513pyrrXRTLlCc+XrXPepauopIral553A7cAUYEeaTiI970yHdwHjcs3HAttSfGyZ+H5tJA0DjgV2VZOzmZkdnIoLhaSjJL2htA1MBzYCa4DZ6bDZwOq0vQZoT1cyTSBbtH4oIrYDeyVNTesPF/ZqU+prFnBvVDNXZmZmB62aqacW4Pa0tjwM+EFE/G9JDwO3SJoD/AY4DyAiNkm6BXgM6AEuiYhXUl8XAzcAw8nWLe5K8SXATZI6yUYS7VXka2ZmFai4UETEr4B3lIk/B0zro80CYEGZ+HrgtDLxF0mFxszMhoa/mW1mZoVcKMzMrJALhZmZFXKhMDOzQi4UZmZWyIXCzMwKuVCYmVkhFwozMyvkQmFmZoVcKMzMrJALhZmZFXKhMDOzQi4UZmZWyIXCzMwKuVCYmVmhau+Zfdgbf+kdZeNbr/xInTMxM6uNam6FOk7SfZIel7RJ0udT/KuSnpH0aHp8ONdmvqROSZslzcjFJ0vakPZdk26JSrpt6soUXydpfBXnamZmFahm6qkHmBcRbwOmApdIOiXtuzoiJqXHnQBpXztwKjATuE7SEen4RcBcsvtoT0z7AeYAuyPiZOBq4Koq8jUzswpUXCgiYntE/Cxt7wUeB8YUNDkHWBERL0XEU0AnMEXSaOCYiHggIgK4ETg312ZZ2l4FTCuNNszMrD6U/WyuspNsSuh+svte/zVwEfA8sJ5s1LFb0neAByPi+6nNEuAuYCtwZUScleLvB74UEWdL2gjMjIiutO9J4IyIeLbX+88lG5HQ0tIyecWKFRWfy85de9jxx4qbv+r0McdW30k/uru7Ofroo2v+PoPBudZGM+UKzZXv4ZbrmWee+UhEtJbbV/VitqSjgVuBL0TE85IWAVcAkZ4XAp8Cyo0EoiBOP/v2BSIWA4sBWltbo62t7SDPYp9rl69m4Ybq1/i3XlB5DgPV0dFBNedaT861NpopV2iufJ3rPlVdHivpNWRFYnlE3AYQETsi4pWI+BPwXWBKOrwLGJdrPhbYluJjy8T3ayNpGHAssKuanM3M7OBUc9WTgCXA4xHxrVx8dO6wjwEb0/YaoD1dyTSBbNH6oYjYDuyVNDX1eSGwOtdmdtqeBdwbgzFXZmZmA1bNHMt7gU8CGyQ9mmJfBs6XNIlsimgr8BmAiNgk6RbgMbIrpi6JiFdSu4uBG4DhZOsWd6X4EuAmSZ1kI4n2KvI1M7MKVFwoIuInlF9DuLOgzQJgQZn4erKF8N7xF4HzKs1xKPmLeGZ2qPCf8DAzs0IuFGZmVsiFwszMCrlQmJlZIRcKMzMr5D8zXme+GsrMmo1HFGZmVsiFwszMCrlQmJlZIa9RNAivXZhZo/KIwszMCrlQmJlZIU89Nanxl97BvNN7uKiPKavePIVlZpVyoWhwfa1dmJnVi6eezMyskEcUh4mikYmnpcysSFMUCkkzgW8DRwDfi4grhzilQ4ovzTWzIg1fKCQdAfwj8OdAF/CwpDUR8djQZnboG6z1kVoXHBc6s9pq+EIBTAE6I+JXAJJWAOeQ3XvbmsDBXqHVl8H6wd9fARyKXCstygPN9VAoms30C0Gtc+3df+nfQa0+C0VETToeLJJmATMj4tPp9SeBMyLic7lj5gJz08u3ApureMtRwLNVtK8n51obzrV2minfwy3XP4uIN5bb0QwjCpWJ7VfdImIxsHhQ3kxaHxGtg9FXrTnX2nCutdNM+TrXfZrh8tguYFzu9Vhg2xDlYmZ22GmGQvEwMFHSBEmvBdqBNUOck5nZYaPhp54iokfS54C7yS6PXRoRm2r4loMyhVUnzrU2nGvtNFO+zjVp+MVsMzMbWs0w9WRmZkPIhcLMzAq5UCSSZkraLKlT0qVDlMM4SfdJelzSJkmfT/GRktZK2pKeR+TazE85b5Y0IxefLGlD2neNpHKXGQ9GzkdI+rmkHzVyrpKOk7RK0hPp8313A+f6X9N//42Sbpb0ukbKVdJSSTslbczFBi0/SUdKWpni6ySNH+Rc/z79O/ilpNslHdeoueb2/Y2kkDRqSHKNiMP+QbZI/iRwEvBa4BfAKUOQx2jgXWn7DcC/AqcA3wAuTfFLgavS9ikp1yOBCekcjkj7HgLeTfY9lLuAD9Uo578GfgD8KL1uyFyBZcCn0/ZrgeMaMVdgDPAUMDy9vgW4qJFyBT4AvAvYmIsNWn7AfwauT9vtwMpBznU6MCxtX9XIuab4OLKLeX4NjBqKXAf9B0czPtKHenfu9XxgfgPktZrsb1xtBkan2Ghgc7k80z+md6djnsjFzwf+qQb5jQXuAT7IvkLRcLkCx5D98FWveCPmOgZ4GhhJdlXij9IPtobKFRjP/j98By2/0jFpexjZN441WLn22vcxYHkj5wqsAt4BbGVfoahrrp56ypT+5yzpSrEhk4aF7wTWAS0RsR0gPZ+QDusr7zFpu3d8sP0D8EXgT7lYI+Z6EvA74J/TNNn3JB3ViLlGxDPAN4HfANuBPRHx40bMtZfBzO/VNhHRA+wBjq9R3p8i+627IXOV9FHgmYj4Ra9ddc3VhSLT758JqSdJRwO3Al+IiOeLDi0Ti4L4oJF0NrAzIh4ZaJMysbrkSvbb07uARRHxTuAPZNMjfRnKz3UE2R+9nACcCBwl6RNFTfrIqVH+TVeSX11yl/QVoAdY3s/7Dkmukl4PfAX4H+V29/G+NcnVhSLTMH8mRNJryIrE8oi4LYV3SBqd9o8GdqZ4X3l3pe3e8cH0XuCjkrYCK4APSvp+g+baBXRFxLr0ehVZ4WjEXM8CnoqI30XEy8BtwHsaNNe8wczv1TaShgHHArsGM1lJs4GzgQsizcU0YK5vJvuF4Rfp/7OxwM8k/dt65+pCkWmIPxOSrk5YAjweEd/K7VoDzE7bs8nWLkrx9nQ1wwRgIvBQGvrvlTQ19Xlhrs2giIj5ETE2IsaTfV73RsQnGjTX3wJPS3prCk0j+zP1DZcr2ZTTVEmvT+8xDXi8QXPNG8z88n3NIvu3NWgjCmU3QvsS8NGIeKHXOTRMrhGxISJOiIjx6f+zLrKLXX5b91wrXXQ51B7Ah8muMnoS+MoQ5fA+sqHgL4FH0+PDZPOI9wBb0vPIXJuvpJw3k7uqBWgFNqZ936GKBbYB5N3GvsXshswVmASsT5/tD4ERDZzr3wFPpPe5iezKlobJFbiZbP3kZbIfXnMGMz/gdcD/BDrJruA5aZBz7SSbqy/9P3Z9o+baa/9W0mJ2vXP1n/AwM7NCnnoyM7NCLhRmZlbIhcLMzAq5UJiZWSEXCjMzK+RCYWZmhVwozMys0P8HvdD1st9+fDoAAAAASUVORK5CYII=",
      "text/plain": [
       "<Figure size 432x288 with 1 Axes>"
      ]
     },
     "metadata": {
      "needs_background": "light"
     },
     "output_type": "display_data"
    },
    {
     "data": {
      "image/png": "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",
      "text/plain": [
       "<Figure size 432x288 with 1 Axes>"
      ]
     },
     "metadata": {
      "needs_background": "light"
     },
     "output_type": "display_data"
    },
    {
     "data": {
      "image/png": "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",
      "text/plain": [
       "<Figure size 432x288 with 1 Axes>"
      ]
     },
     "metadata": {
      "needs_background": "light"
     },
     "output_type": "display_data"
    },
    {
     "data": {
      "image/png": "iVBORw0KGgoAAAANSUhEUgAAAY0AAAEICAYAAACj2qi6AAAAOXRFWHRTb2Z0d2FyZQBNYXRwbG90bGliIHZlcnNpb24zLjUuMiwgaHR0cHM6Ly9tYXRwbG90bGliLm9yZy8qNh9FAAAACXBIWXMAAAsTAAALEwEAmpwYAAAeqElEQVR4nO3df5BV5Z3n8fcnYJSJkYCaDgMk6EhS448sCV3IbnaynWJHiEkNZkp3sKxIRqZIHN1NZtmq0SS1ZnTZ0kwx7GgiWbIygsMojMZAbeIaVnPHSY2imJDgjzi0SkILKxNhlE6iY5Pv/nGeG083t7sf7m3uvX39vKpO3XO/5zzPfb73Qn/7OefcPooIzMzMcryl1QMwM7Pxw0XDzMyyuWiYmVk2Fw0zM8vmomFmZtlcNMzMLJuLhlmLSOqR1Hcc+p0lKSRNHOu+zVw0zMwsm4uGWQb/1m5WcNGwNzVJeyRdK+kpSYck/ZWkk6qHjiT9qaT/B/yVpLdIukbSs5JekrRZ0tTUz0mS/jrF/1nSY5K60rapqd996TW+OWQMKyQdkLRf0h+W4pMlbZD0T5J+IumLkt6Str0lPf9JartB0uTmvXP2ZuWiYQaXAQuB3wLeC3wxxd8FTAXeAywH/hNwEfDvgN8EDgFfTfsuBSYDM4FTgc8Av0zb7gB+AzgHeCewuvTa70rtpgPLgK9KmpK23ZK2nZle83KgWlQ+lZaPpO0nA1+p+x0wyxURXry8aRdgD/CZ0vMLgWeBHuBfgJNK254GFpSeTwNeByYCVwD/ALx/SP/TgF8BU2q8dg9FYZlYih0A5gMTgNeAs0vbPg1U0voDwB+Xtr2vNJZZQJT79eJlrBYfpzWDvaX1n1DMIgD+KSJeLW17D3CvpF+VYkeALorZxEzgLknvAP4a+EKKHYyIQ8O89ksRMVB6/guKWcNpwFvTeMpjm57Wf7PGtolpLGbHjQ9PmRU/2KveDexL60P/BPRe4KMR8Y7SclJEvBARr0fEn0XE2cC/AT5OcThpLzA1FZJj8TOKmcN7hozthbS+r8a2AeDFY3wds2PiomEGV0makU5qfx7YNMx+XwNWSnoPgKTTJS1O6x+RdJ6kCcArFD/wj0TEfuA+4FZJUySdIOnDow0oIo4Am9PrvT295n+mmMEA3An8iaQzJJ0M/Hdg05BZi9mYc9Ewg78BvgM8l5b/Nsx+fwlsBb4j6TDwCHB+2vYu4G6KgvE08He88QP+kxRF5McU5yw+lzmu/wj8PI3pe2mc69K2dRSHxB4CngdeTfubHVeK8E2Y7M1L0h7gjyLi/7Z6LGbjgWcaZmaWzUXDzMyy+fCUmZll80zDzMyyddyX+0477bSYNWtW3e1//vOf87a3vW3sBtQinZIHOJd21Cl5QOfk0mgejz/++M8i4vTR9uu4ojFr1ix27NhRd/tKpUJPT8/YDahFOiUPcC7tqFPygM7JpdE8JP1k9L18eMrMzI6Bi4aZmWVz0TAzs2wuGmZmls1Fw8zMsrlomJlZNhcNMzPL5qJhZmbZXDTMzCxbx30jvFG7XniZT13zraPie278WAtGY2bWXjzTMDOzbC4aZmaWzUXDzMyyuWiYmVk2Fw0zM8vmomFmZtlcNMzMLJuLhpmZZXPRMDOzbKMWDUkzJX1X0tOSnpT02RSfKmmbpN3pcUqpzbWSeiU9I2lhKT5X0q607WZJSvETJW1K8e2SZpXaLE2vsVvS0jHN3szMjknOTGMAWBERvw3MB66SdDZwDfBARMwGHkjPSduWAOcAi4BbJU1Ifa0BlgOz07IoxZcBhyLiLGA1cFPqaypwHXA+MA+4rlyczMysuUYtGhGxPyK+n9YPA08D04HFwPq023rgorS+GLgrIl6LiOeBXmCepGnAKRHxcEQEsGFIm2pfdwML0ixkIbAtIg5GxCFgG28UGjMza7Jj+oOF6bDRB4DtQFdE7IeisEh6Z9ptOvBIqVlfir2e1ofGq232pr4GJL0MnFqO12hTHtdyihkMXV1dVCqVY0lrkK5JsOK8gaPijfTZCv39/eNuzMNxLu2nU/KAzsmlWXlkFw1JJwP3AJ+LiFfS6Yiau9aIxQjxetu8EYhYC6wF6O7ujp6enuHGNqpbNm5h1a6j35Y9l9XfZytUKhUaeR/aiXNpP52SB3ROLs3KI+vqKUknUBSMjRHxjRR+MR1yIj0eSPE+YGap+QxgX4rPqBEf1EbSRGAycHCEvszMrAVyrp4ScBvwdET8RWnTVqB6NdNSYEspviRdEXUGxQnvR9OhrMOS5qc+Lx/SptrXxcCD6bzH/cAFkqakE+AXpJiZmbVAzuGpDwGfBHZJ2plinwduBDZLWgb8FLgEICKelLQZeIriyqurIuJIanclcDswCbgvLVAUpTsk9VLMMJakvg5KugF4LO13fUQcrC9VMzNr1KhFIyK+R+1zCwALhmmzElhZI74DOLdG/FVS0amxbR2wbrRxmpnZ8edvhJuZWTYXDTMzy+aiYWZm2Vw0zMwsm4uGmZllc9EwM7NsLhpmZpbNRcPMzLK5aJiZWTYXDTMzy+aiYWZm2Vw0zMwsm4uGmZllc9EwM7NsLhpmZpYt58596yQdkPREKbZJ0s607KnenEnSLEm/LG37WqnNXEm7JPVKujndvY90h79NKb5d0qxSm6WSdqdlKWZm1lI5d+67HfgKsKEaiIg/qK5LWgW8XNr/2YiYU6OfNcBy4BHg28Aiijv3LQMORcRZkpYANwF/IGkqcB3QDQTwuKStEXEoOzszMxtTo840IuIhiluwHiXNFv4DcOdIfUiaBpwSEQ+ne39vAC5KmxcD69P63cCC1O9CYFtEHEyFYhtFoTEzsxZp9JzG7wAvRsTuUuwMST+Q9HeSfifFpgN9pX36Uqy6bS9ARAxQzFpOLcdrtDEzsxbIOTw1kksZPMvYD7w7Il6SNBf4pqRzqH2P8UiPw20bqc0gkpZTHPqiq6uLSqWSN/oauibBivMGjoo30mcr9Pf3j7sxD8e5tJ9OyQM6J5dm5VF30ZA0Efh9YG41FhGvAa+l9cclPQu8l2KWMKPUfAawL633ATOBvtTnZIrDYX1Az5A2lVpjiYi1wFqA7u7u6OnpqbVblls2bmHVrqPflj2X1d9nK1QqFRp5H9qJc2k/nZIHdE4uzcqjkcNT/x74cUT8+rCTpNMlTUjrZwKzgeciYj9wWNL8dL7icmBLarYVqF4ZdTHwYDrvcT9wgaQpkqYAF6SYmZm1yKgzDUl3UvzGf5qkPuC6iLgNWMLRJ8A/DFwvaQA4AnwmIqon0a+kuBJrEsVVU/el+G3AHZJ6KWYYSwAi4qCkG4DH0n7Xl/oyM7MWGLVoRMSlw8Q/VSN2D3DPMPvvAM6tEX8VuGSYNuuAdaON0czMmsPfCDczs2wuGmZmls1Fw8zMsrlomJlZNhcNMzPL5qJhZmbZXDTMzCybi4aZmWVz0TAzs2wuGmZmls1Fw8zMsrlomJlZNhcNMzPL5qJhZmbZXDTMzCybi4aZmWUbtWhIWifpgKQnSrEvSXpB0s60XFjadq2kXknPSFpYis+VtCttuznd9hVJJ0ralOLbJc0qtVkqaXdaqreENTOzFsmZadwOLKoRXx0Rc9LybQBJZ1PcrvWc1ObW6j3DgTXAcor7hs8u9bkMOBQRZwGrgZtSX1OB64DzgXnAdele4WZm1iKjFo2IeIji3t05FgN3RcRrEfE80AvMkzQNOCUiHo6IADYAF5XarE/rdwML0ixkIbAtIg5GxCFgG7WLl5mZNcmo9wgfwdWSLgd2ACvSD/bpwCOlffpS7PW0PjROetwLEBEDkl4GTi3Ha7QZRNJyilkMXV1dVCqVupPqmgQrzhs4Kt5In63Q398/7sY8HOfSfjolD+icXJqVR71FYw1wAxDpcRVwBaAa+8YIcepsMzgYsRZYC9Dd3R09PT0jDH1kt2zcwqpdR78tey6rv89WqFQqNPI+tBPn0n46JQ/onFyalUddV09FxIsRcSQifgV8neKcAxSzgZmlXWcA+1J8Ro34oDaSJgKTKQ6HDdeXmZm1SF1FI52jqPoEUL2yaiuwJF0RdQbFCe9HI2I/cFjS/HS+4nJgS6lN9cqoi4EH03mP+4ELJE1JJ8AvSDEzM2uRUQ9PSboT6AFOk9RHcUVTj6Q5FIeL9gCfBoiIJyVtBp4CBoCrIuJI6upKiiuxJgH3pQXgNuAOSb0UM4wlqa+Dkm4AHkv7XR8RuSfkzczsOBi1aETEpTXCt42w/0pgZY34DuDcGvFXgUuG6WsdsG60MZqZWXP4G+FmZpbNRcPMzLK5aJiZWTYXDTMzy+aiYWZm2Vw0zMwsm4uGmZllc9EwM7NsLhpmZpbNRcPMzLK5aJiZWTYXDTMzy+aiYWZm2Vw0zMwsm4uGmZllG7VoSFon6YCkJ0qxP5f0Y0k/knSvpHek+CxJv5S0My1fK7WZK2mXpF5JN6c7+JHu8rcpxbdLmlVqs1TS7rQsxczMWipnpnE7sGhIbBtwbkS8H/hH4NrStmcjYk5aPlOKrwGWU9wCdnapz2XAoYg4C1gN3AQgaSrFXQLPp7gH+XXptq9mZtYioxaNiHiI4jas5dh3ImIgPX0EmDFSH+me4qdExMPp/t8bgIvS5sXA+rR+N7AgzUIWAtsi4mBEHKIoVEOLl5mZNdGot3vNcAWwqfT8DEk/AF4BvhgRfw9MB/pK+/SlGOlxL0BEDEh6GTi1HK/RZhBJyylmMXR1dVGpVOpOpmsSrDhv4Kh4I322Qn9//7gb83CcS/vplDygc3JpVh4NFQ1JXwAGgI0ptB94d0S8JGku8E1J5wCq0Tyq3QyzbaQ2g4MRa4G1AN3d3dHT05Odw1C3bNzCql1Hvy17Lqu/z1aoVCo08j60E+fSfjolD+icXJqVR91XT6UT0x8HLkuHnIiI1yLipbT+OPAs8F6KWUL5ENYMYF9a7wNmpj4nApMpDof9Ol6jjZmZtUBdRUPSIuBPgd+LiF+U4qdLmpDWz6Q44f1cROwHDkuan85XXA5sSc22AtUroy4GHkxF6H7gAklT0gnwC1LMzMxaZNTDU5LuBHqA0yT1UVzRdC1wIrAtXTn7SLpS6sPA9ZIGgCPAZyKiehL9SoorsSYB96UF4DbgDkm9FDOMJQARcVDSDcBjab/rS32ZmVkLjFo0IuLSGuHbhtn3HuCeYbbtAM6tEX8VuGSYNuuAdaON0czMmsPfCDczs2wuGmZmls1Fw8zMsrlomJlZNhcNMzPL5qJhZmbZXDTMzCybi4aZmWVz0TAzs2wuGmZmls1Fw8zMsrlomJlZNhcNMzPL5qJhZmbZXDTMzCzbqEVD0jpJByQ9UYpNlbRN0u70OKW07VpJvZKekbSwFJ8raVfadnO6gx+STpS0KcW3S5pVarM0vcbudHtZMzNroZyZxu3AoiGxa4AHImI28EB6jqSzKe68d05qc2v19q/AGmA5xS1gZ5f6XAYcioizgNXATamvqRR3CTwfmAdcVy5OZmbWfKMWjYh4iOI2rGWLgfVpfT1wUSl+V0S8FhHPA73APEnTgFMi4uF0/+8NQ9pU+7obWJBmIQuBbRFxMCIOAds4uniZmVkTjXq712F0RcR+gIjYL+mdKT4deKS0X1+KvZ7Wh8arbfamvgYkvQycWo7XaDOIpOUUsxi6urqoVCp1pgVdk2DFeQNHxRvpsxX6+/vH3ZiH41zaT6fkAZ2TS7PyqLdoDEc1YjFCvN42g4MRa4G1AN3d3dHT0zPqQIdzy8YtrNp19Nuy57L6+2yFSqVCI+9DO3Eu7adT8oDOyaVZedR79dSL6ZAT6fFAivcBM0v7zQD2pfiMGvFBbSRNBCZTHA4bri8zM2uReovGVqB6NdNSYEspviRdEXUGxQnvR9OhrMOS5qfzFZcPaVPt62LgwXTe437gAklT0gnwC1LMzMxaZNTDU5LuBHqA0yT1UVzRdCOwWdIy4KfAJQAR8aSkzcBTwABwVUQcSV1dSXEl1iTgvrQA3AbcIamXYoaxJPV1UNINwGNpv+sjYugJeTMza6JRi0ZEXDrMpgXD7L8SWFkjvgM4t0b8VVLRqbFtHbButDGamVlz+BvhZmaWzUXDzMyyuWiYmVk2Fw0zM8vmomFmZtlcNMzMLJuLhpmZZXPRMDOzbC4aZmaWzUXDzMyyuWiYmVk2Fw0zM8vmomFmZtlcNMzMLJuLhpmZZau7aEh6n6SdpeUVSZ+T9CVJL5TiF5baXCupV9IzkhaW4nMl7Urbbk539yPdAXBTim+XNKuhbM3MrCF1F42IeCYi5kTEHGAu8Avg3rR5dXVbRHwbQNLZFHflOwdYBNwqaULafw2wnOL2sLPTdoBlwKGIOAtYDdxU73jNzKxxY3V4agHwbET8ZIR9FgN3RcRrEfE80AvMkzQNOCUiHk73Bt8AXFRqsz6t3w0sqM5CzMys+Ua93WumJcCdpedXS7oc2AGsiIhDwHTgkdI+fSn2elofGic97gWIiAFJLwOnAj8rv7ik5RQzFbq6uqhUKnUn0jUJVpw3cFS8kT5bob+/f9yNeTjOpf10Sh7QObk0K4+Gi4aktwK/B1ybQmuAG4BIj6uAK4BaM4QYIc4o294IRKwF1gJ0d3dHT09PfgJD3LJxC6t2Hf227Lms/j5boVKp0Mj70E6cS/vplDygc3JpVh5jcXjqo8D3I+JFgIh4MSKORMSvgK8D89J+fcDMUrsZwL4Un1EjPqiNpInAZODgGIzZzMzqMBZF41JKh6bSOYqqTwBPpPWtwJJ0RdQZFCe8H42I/cBhSfPT+YrLgS2lNkvT+sXAg+m8h5mZtUBDh6ck/Qbwu8CnS+EvS5pDcRhpT3VbRDwpaTPwFDAAXBURR1KbK4HbgUnAfWkBuA24Q1IvxQxjSSPjNTOzxjRUNCLiFxQnpsuxT46w/0pgZY34DuDcGvFXgUsaGaOZmY0dfyPczMyyuWiYmVk2Fw0zM8vmomFmZtlcNMzMLJuLhpmZZXPRMDOzbC4aZmaWbaz+ym3Hm3XNt2rG99z4sSaPxMysdTzTMDOzbC4aZmaWzUXDzMyyuWiYmVk2Fw0zM8vmomFmZtkaKhqS9kjaJWmnpB0pNlXSNkm70+OU0v7XSuqV9IykhaX43NRPr6Sb0x38SHf525Ti2yXNamS8ZmbWmLGYaXwkIuZERHd6fg3wQETMBh5Iz5F0NsWd984BFgG3SpqQ2qwBllPcAnZ22g6wDDgUEWcBq4GbxmC8ZmZWp+NxeGoxsD6trwcuKsXviojXIuJ5oBeYl+4pfkpEPJzu/71hSJtqX3cDC6qzEDMza75GvxEewHckBfA/I2It0BUR+wEiYr+kd6Z9pwOPlNr2pdjraX1ovNpmb+prQNLLFLeX/Vl5EJKWU8xU6OrqolKp1J1Q1yRYcd5A9v6NvNbx1N/f37ZjO1bOpf10Sh7QObk0K49Gi8aHImJfKgzbJP14hH1rzRBihPhIbQYHimK1FqC7uzt6enpGHPRIbtm4hVW78t+WPZfV/1rHU6VSoZH3oZ04l/bTKXlA5+TSrDwaOjwVEfvS4wHgXmAe8GI65ER6PJB27wNmlprPAPal+Iwa8UFtJE0EJgMHGxmzmZnVr+6iIeltkt5eXQcuAJ4AtgJL025LgS1pfSuwJF0RdQbFCe9H06Gsw5Lmp/MVlw9pU+3rYuDBdN7DzMxaoJHDU13Avem89ETgbyLi/0h6DNgsaRnwU+ASgIh4UtJm4ClgALgqIo6kvq4EbgcmAfelBeA24A5JvRQzjCUNjNfMzBpUd9GIiOeAf1Uj/hKwYJg2K4GVNeI7gHNrxF8lFR0zM2s9fyPczMyyuWiYmVk2Fw0zM8vmomFmZtlcNMzMLJuLhpmZZXPRMDOzbC4aZmaWzUXDzMyyuWiYmVk2Fw0zM8vmomFmZtkavQnTm96sa75VM77nxo81eSRmZsefZxpmZpbNRcPMzLI1cue+mZK+K+lpSU9K+myKf0nSC5J2puXCUptrJfVKekbSwlJ8rqRdadvN6Q5+pLv8bUrx7ZJmNZCrmZk1qJGZxgCwIiJ+G5gPXCXp7LRtdUTMScu3AdK2JcA5wCLgVkkT0v5rgOUUt4CdnbYDLAMORcRZwGrgpgbGa2ZmDaq7aETE/oj4flo/DDwNTB+hyWLgroh4LSKeB3qBeZKmAadExMPp/t8bgItKbdan9buBBdVZiJmZNd+YnNNIh40+AGxPoasl/UjSOklTUmw6sLfUrC/Fpqf1ofFBbSJiAHgZOHUsxmxmZseu4UtuJZ0M3AN8LiJekbQGuAGI9LgKuAKoNUOIEeKMsq08huUUh7fo6uqiUqkcYxZv6JoEK84bqLt9VSNjGAv9/f0tH8NYcS7tp1PygM7JpVl5NFQ0JJ1AUTA2RsQ3ACLixdL2rwP/Oz3tA2aWms8A9qX4jBrxcps+SROBycDBoeOIiLXAWoDu7u7o6empO6dbNm5h1a7Gv76y57L6xzAWKpUKjbwP7cS5tJ9OyQM6J5dm5dHI1VMCbgOejoi/KMWnlXb7BPBEWt8KLElXRJ1BccL70YjYDxyWND/1eTmwpdRmaVq/GHgwnfcwM7MWaORX6g8BnwR2SdqZYp8HLpU0h+Iw0h7g0wAR8aSkzcBTFFdeXRURR1K7K4HbgUnAfWmBoijdIamXYoaxpIHxmplZg+ouGhHxPWqfc/j2CG1WAitrxHcA59aIvwpcUu8YW8l/XsTMOpG/EW5mZtlcNMzMLJuLhpmZZXPRMDOzbL6fRpP5BLmZjWeeaZiZWTYXDTMzy+aiYWZm2Vw0zMwsm4uGmZllc9EwM7NsvuS2TfhSXDMbDzzTMDOzbJ5ptDnPQMysnXimYWZm2TzTGKfGcgbi2YyZ5RoXRUPSIuAvgQnA/4qIG1s8JDsGLkpmnaPti4akCcBXgd8F+oDHJG2NiKdaO7L2VP0BveK8AT5V+mE9ljMQM3vzavuiAcwDeiPiOQBJdwGLKe41bpnasQAc6wyklTOWY33/WjWL8qzuDX4vjg9FRKvHMCJJFwOLIuKP0vNPAudHxNWlfZYDy9PT9wHPNPCSpwE/a6B9u+iUPMC5tKNOyQM6J5dG83hPRJw+2k7jYaahGrFBlS4i1gJrx+TFpB0R0T0WfbVSp+QBzqUddUoe0Dm5NCuP8XDJbR8ws/R8BrCvRWMxM3tTGw9F4zFgtqQzJL0VWAJsbfGYzMzelNr+8FREDEi6Grif4pLbdRHx5HF8yTE5zNUGOiUPcC7tqFPygM7JpSl5tP2JcDMzax/j4fCUmZm1CRcNMzPL5qKRSFok6RlJvZKuafV4qiTtkbRL0k5JO1JsqqRtknanxyml/a9NOTwjaWEpPjf10yvpZklK8RMlbUrx7ZJmjeHY10k6IOmJUqwpY5e0NL3GbklLj1MuX5L0Qvpsdkq6sN1zkTRT0nclPS3pSUmfTfFx9bmMkMd4/ExOkvSopB+mXP4sxdvzM4mIN/1CcYL9WeBM4K3AD4GzWz2uNLY9wGlDYl8Grknr1wA3pfWz09hPBM5IOU1I2x4F/jXF917uAz6a4n8MfC2tLwE2jeHYPwx8EHiimWMHpgLPpccpaX3KccjlS8B/qbFv2+YCTAM+mNbfDvxjGu+4+lxGyGM8fiYCTk7rJwDbgfnt+pl4plH49Z8qiYh/Aap/qqRdLQbWp/X1wEWl+F0R8VpEPA/0AvMkTQNOiYiHo/iXsmFIm2pfdwMLqr+dNCoiHgIOtmDsC4FtEXEwIg4B24BFxyGX4bRtLhGxPyK+n9YPA08D0xlnn8sIeQynLfNI44+I6E9PT0hL0KafiYtGYTqwt/S8j5H/ATZTAN+R9LiKP5cC0BUR+6H4zwO8M8WHy2N6Wh8aH9QmIgaAl4FTj0MeVc0YezM/z6sl/UjF4avq4YNxkUs6RPEBit9sx+3nMiQPGIefiaQJknYCByh+iLftZ+KiURj1T5W00Ici4oPAR4GrJH14hH2Hy2Ok/Nol97Ece7NyWgP8FjAH2A+samBcTc1F0snAPcDnIuKVkXatY1xNy6VGHuPyM4mIIxExh+IvXsyTdO4Iu7c0FxeNQtv+qZKI2JceDwD3UhxKezFNRUmPB9Luw+XRl9aHxge1kTQRmEz+YZh6NGPsTfk8I+LF9J/9V8DXKT6bQeMa8vptkYukEyh+0G6MiG+k8Lj7XGrlMV4/k6qI+GegQnGIqD0/k3pP3nTSQvHN+OcoTipVT4Sf0wbjehvw9tL6P6R/TH/O4BNkX07r5zD4BNlzvHGC7DGKk2vVE2QXpvhVDD5BtnmMc5jF4JPHx33sFCf1nqc4sTclrU89DrlMK63/CcVx5rbOJb3uBuB/DImPq89lhDzG42dyOvCOtD4J+Hvg4+36mbT0h2I7LcCFFFdgPAt8odXjSWM6M/3j+CHwZHVcFMciHwB2p8eppTZfSDk8Q7pyIsW7gSfStq/wxl8DOAn4W4qTaY8CZ47h+O+kOETwOsVvNMuaNXbgihTvBf7wOOVyB7AL+BHF30Ob1u65AP+W4vDDj4CdablwvH0uI+QxHj+T9wM/SGN+Avivzfx/fqy5+M+ImJlZNp/TMDOzbC4aZmaWzUXDzMyyuWiYmVk2Fw0zM8vmomFmZtlcNMzMLNv/B8/74a3IuqeOAAAAAElFTkSuQmCC",
      "text/plain": [
       "<Figure size 432x288 with 1 Axes>"
      ]
     },
     "metadata": {
      "needs_background": "light"
     },
     "output_type": "display_data"
    },
    {
     "data": {
      "image/png": "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",
      "text/plain": [
       "<Figure size 432x288 with 1 Axes>"
      ]
     },
     "metadata": {
      "needs_background": "light"
     },
     "output_type": "display_data"
    },
    {
     "data": {
      "image/png": "iVBORw0KGgoAAAANSUhEUgAAAYoAAAEICAYAAABBBrPDAAAAOXRFWHRTb2Z0d2FyZQBNYXRwbG90bGliIHZlcnNpb24zLjUuMiwgaHR0cHM6Ly9tYXRwbG90bGliLm9yZy8qNh9FAAAACXBIWXMAAAsTAAALEwEAmpwYAAAWVElEQVR4nO3df9TedX3f8eerpCJF0QRqTkywwUq7oW4oGeKPs2VSAX9U3BmssSixxbFZPGs32h6opwero8OeqTu4yaQlExEFiloYyGgGvWd3ZoHYWsPPESVKJAU1SAmbHKPv/XF97nHl5ro/d7iT3D+uPB/nXOe+rvf3+/lcn/ed5H7d3x/3nVQVkiRN5yfmewGSpIXNoJAkdRkUkqQug0KS1GVQSJK6DApJUpdBIUnqMih0QEnyoiQ7kxw0zfb3J/l0Z/zWJL+wJ/vuL8Nr2MfzTiR5976eV4vfkvlegDSXqupbwHPmex3SYuIRhSSpy6DQWGinY34rydeSPJHksiTLk9yU5PEk/z3J0iSrk1SSJW3cUUn+R9tnI3DElHnfmeSbSb6X5H0zrOGEJP8ryfeT/HWStXuw7ncl+UZ7/weSnDG07Z8nuadtuzvJK4eGHtt6fSzJ1UmePWXcliQ7klyf5IVD216T5I427o4kr5lpjZJBoXHyT4E3AD8H/CJwE/A7DL74/wTwr0aM+QzwlbbPB4H1kxuSHANcArwTeCFwOLBq1BsnWQncCPxbYBnwm8Dnkvz0dItNcihwMfDGqnou8Brgq23b6cD7gTOBw4C3At8bGv7PgFOAo4C/B7yrjXs98O/a9hXAN4Gr2rZlbY0Xt14+AtyY5PDp1iiBQaHx8rGqeriqvg38OXBbVf1VVT0JfAF4xfDOSV4E/APgd6vqyar6EvBfh3Y5Dbihqr7U5vhd4MfTvPc7gC9W1Rer6sdVtRHYBLxphjX/GHhZkkOqantV3dXq7wb+oKruqIEtVfXNoXEXV9VDVbWjrfnYVj8D2FBVf9nWfD7w6iSrgTcD91fVFVW1q6o+C9zLIFSlaRkUGicPDz3/vyNeT72I/ULg0ap6Yqj2zSnbH5x80fYb/q5+2M8Ap7fTTt9P8n3gdQy+qx+pzfdLwL8Etie5McnfaZuPBL4+3Vjgb4ae/x+e6u2Fwz1U1c625pVTtzXfbNukaRkUOpBtB5a2U0CTXjRl+5GTL5L8FINTNqM8CFxRVc8fehxaVRf1FlBVN1fVGxgEyr3AHw7N97PPrB0AHmIQWpNrPrSt+dtTtzUvatukaRkUOmC1UzmbgN9L8qwkr2P30zDXAm9J8rokzwI+wPT/Zj4N/GKSk5MclOTZSdYmGXlNA6BdbH9r+2L+JLAT+FHb/EfAbyY5LgMvSTL1i/wonwF+JcmxSQ4Gfp/BKbitwBeBn0vyy0mWJPkl4Bjghj2YVwcwg0IHul8GXgXsAC4APjW5oV0vOIfBF9/twKPAtlGTVNWDwKkMLp5/h8ERwW/R/zf2E8C5DL7T3wH8I+DX2nx/DFzY3vtx4E8YXCTvqqpbGFxL+Vxb888C69q27wFvae/5PeC3gbdU1XdnmlcHtvg/3EmSejyikCR1+Ss8pP0syc5pNr2xqv58ThcjzYKnniRJXWN3RHHEEUfU6tWrZz3+iSee4NBDD515x0Vq3PsDexwX9ji3vvKVr3y3qkb+JoGxC4rVq1ezadOmWY+fmJhg7dq1+25BC8y49wf2OC7scW4lmfrDmP+fF7MlSV0GhSSpy6CQJHUZFJKkLoNCktRlUEiSugwKSVKXQSFJ6jIoJEldY/eT2Xtr87cf413n3fi0+taL3jwPq5Gk+ecRhSSpy6CQJHUZFJKkLoNCktRlUEiSugwKSVKXQSFJ6jIoJEldBoUkqcugkCR1GRSSpC6DQpLUZVBIkroMCklS14xBkeTIJH+W5J4kdyX59VZflmRjkvvbx6VDY85PsiXJfUlOHqofl2Rz23ZxkrT6wUmubvXbkqweGrO+vcf9Sdbv0+4lSTPakyOKXcC5VfV3gROAc5IcA5wH3FJVRwO3tNe0beuAlwKnAB9PclCb6xLgbODo9jil1c8CHq2qlwAfBT7U5loGXAC8CjgeuGA4kCRJ+9+MQVFV26vqL9vzx4F7gJXAqcDlbbfLgbe156cCV1XVk1X1ALAFOD7JCuCwqvpyVRXwqSljJue6FjixHW2cDGysqh1V9SiwkafCRZI0B57R/3DXTgm9ArgNWF5V22EQJkle0HZbCfzF0LBtrfbD9nxqfXLMg22uXUkeAw4fro8YM7yusxkcqbB8+XImJiaeSVu7WX4InPvyXU+r782cC8nOnTvHppfp2ON4sMeFY4+DIslzgM8Bv1FVf9suL4zcdUStOvXZjnmqUHUpcCnAmjVrau3atdOtbUYfu/I6Prz56Z+WrWfMfs6FZGJigr35/CwG9jge7HHh2KO7npL8JIOQuLKqPt/KD7fTSbSPj7T6NuDIoeGrgIdafdWI+m5jkiwBngfs6MwlSZoje3LXU4DLgHuq6iNDm64HJu9CWg9cN1Rf1+5kOorBRevb22mqx5Oc0OY8c8qYyblOA25t1zFuBk5KsrRdxD6p1SRJc2RPTj29FngnsDnJV1vtd4CLgGuSnAV8CzgdoKruSnINcDeDO6bOqaoftXHvAT4JHALc1B4wCKIrkmxhcCSxrs21I8kHgTvafh+oqh2za1WSNBszBkVV/U9GXysAOHGaMRcCF46obwJeNqL+A1rQjNi2Adgw0zolSfuHP5ktSeoyKCRJXQaFJKnLoJAkdRkUkqQug0KS1GVQSJK6DApJUpdBIUnqMigkSV0GhSSpy6CQJHUZFJKkLoNCktRlUEiSugwKSVKXQSFJ6jIoJEldBoUkqcugkCR1GRSSpC6DQpLUZVBIkroMCklSl0EhSeoyKCRJXQaFJKnLoJAkdRkUkqQug0KS1GVQSJK6DApJUpdBIUnqMigkSV0GhSSpy6CQJHUZFJKkLoNCktQ1Y1Ak2ZDkkSR3DtXen+TbSb7aHm8a2nZ+ki1J7kty8lD9uCSb27aLk6TVD05ydavflmT10Jj1Se5vj/X7rGtJ0h7bkyOKTwKnjKh/tKqObY8vAiQ5BlgHvLSN+XiSg9r+lwBnA0e3x+ScZwGPVtVLgI8CH2pzLQMuAF4FHA9ckGTpM+5QkrRXZgyKqvoSsGMP5zsVuKqqnqyqB4AtwPFJVgCHVdWXq6qATwFvGxpzeXt+LXBiO9o4GdhYVTuq6lFgI6MDS5K0H+3NNYr3JvlaOzU1+Z3+SuDBoX22tdrK9nxqfbcxVbULeAw4vDOXJGkOLZnluEuADwLVPn4Y+FUgI/atTp1ZjtlNkrMZnNZi+fLlTExMdJbet/wQOPflu55W35s5F5KdO3eOTS/TscfxYI8Lx6yCoqoennye5A+BG9rLbcCRQ7uuAh5q9VUj6sNjtiVZAjyPwamubcDaKWMmplnPpcClAGvWrKm1a9eO2m2PfOzK6/jw5qd/WraeMfs5F5KJiQn25vOzGNjjeLDHhWNWp57aNYdJ/wSYvCPqemBdu5PpKAYXrW+vqu3A40lOaNcfzgSuGxozeUfTacCt7TrGzcBJSZa2U1sntZokaQ7NeESR5LMMvrM/Isk2BncirU1yLINTQVuBfwFQVXcluQa4G9gFnFNVP2pTvYfBHVSHADe1B8BlwBVJtjA4kljX5tqR5IPAHW2/D1TVnl5UlyTtIzMGRVW9fUT5ss7+FwIXjqhvAl42ov4D4PRp5toAbJhpjZKk/cefzJYkdRkUkqQug0KS1GVQSJK6DApJUpdBIUnqMigkSV0GhSSpy6CQJHUZFJKkLoNCktRlUEiSugwKSVKXQSFJ6jIoJEldBoUkqcugkCR1GRSSpC6DQpLUZVBIkroMCklSl0EhSeoyKCRJXQaFJKnLoJAkdRkUkqQug0KS1GVQSJK6DApJUpdBIUnqMigkSV0GhSSpy6CQJHUZFJKkLoNCktRlUEiSugwKSVKXQSFJ6poxKJJsSPJIkjuHasuSbExyf/u4dGjb+Um2JLkvyclD9eOSbG7bLk6SVj84ydWtfluS1UNj1rf3uD/J+n3WtSRpj+3JEcUngVOm1M4Dbqmqo4Fb2muSHAOsA17axnw8yUFtzCXA2cDR7TE551nAo1X1EuCjwIfaXMuAC4BXAccDFwwHkiRpbswYFFX1JWDHlPKpwOXt+eXA24bqV1XVk1X1ALAFOD7JCuCwqvpyVRXwqSljJue6FjixHW2cDGysqh1V9SiwkacHliRpP5vtNYrlVbUdoH18QauvBB4c2m9bq61sz6fWdxtTVbuAx4DDO3NJkubQkn08X0bUqlOf7Zjd3zQ5m8FpLZYvX87ExMSMC53O8kPg3Jfvelp9b+ZcSHbu3Dk2vUzHHseDPS4csw2Kh5OsqKrt7bTSI62+DThyaL9VwEOtvmpEfXjMtiRLgOcxONW1DVg7ZczEqMVU1aXApQBr1qyptWvXjtptj3zsyuv48Oanf1q2njH7OReSiYkJ9ubzsxjY43iwx4Vjtqeergcm70JaD1w3VF/X7mQ6isFF69vb6anHk5zQrj+cOWXM5FynAbe26xg3AyclWdouYp/UapKkOTTjEUWSzzL4zv6IJNsY3Il0EXBNkrOAbwGnA1TVXUmuAe4GdgHnVNWP2lTvYXAH1SHATe0BcBlwRZItDI4k1rW5diT5IHBH2+8DVTX1orokaT+bMSiq6u3TbDpxmv0vBC4cUd8EvGxE/Qe0oBmxbQOwYaY1SpL2H38yW5LUZVBIkroMCklSl0EhSeoyKCRJXQaFJKnLoJAkdRkUkqQug0KS1GVQSJK6DApJUpdBIUnqMigkSV0GhSSpy6CQJHUZFJKkLoNCktRlUEiSugwKSVKXQSFJ6jIoJEldBoUkqcugkCR1GRSSpC6DQpLUZVBIkroMCklSl0EhSeoyKCRJXQaFJKnLoJAkdS2Z7wUsFqvPu3FkfetFb57jlUjS3PKIQpLUZVBIkroMCklSl0EhSeoyKCRJXQaFJKnLoJAkde1VUCTZmmRzkq8m2dRqy5JsTHJ/+7h0aP/zk2xJcl+Sk4fqx7V5tiS5OEla/eAkV7f6bUlW7816JUnP3L44ovjHVXVsVa1pr88Dbqmqo4Fb2muSHAOsA14KnAJ8PMlBbcwlwNnA0e1xSqufBTxaVS8BPgp8aB+sV5L0DOyPU0+nApe355cDbxuqX1VVT1bVA8AW4PgkK4DDqurLVVXAp6aMmZzrWuDEyaMNSdLc2Ntf4VHAnyYp4BNVdSmwvKq2A1TV9iQvaPuuBP5iaOy2Vvthez61PjnmwTbXriSPAYcD3x1eRJKzGRyRsHz5ciYmJmbd0PJD4NyX79rj/ffmvebDzp07F92anyl7HA/2uHDsbVC8tqoeamGwMcm9nX1HHQlUp94bs3thEFCXAqxZs6bWrl3bXXTPx668jg9v3vNPy9YzZv9e82FiYoK9+fwsBvY4Huxx4dirU09V9VD7+AjwBeB44OF2Oon28ZG2+zbgyKHhq4CHWn3ViPpuY5IsAZ4H7NibNUuSnplZB0WSQ5M8d/I5cBJwJ3A9sL7tth64rj2/HljX7mQ6isFF69vbaarHk5zQrj+cOWXM5FynAbe26xiSpDmyN6eelgNfaNeWlwCfqar/luQO4JokZwHfAk4HqKq7klwD3A3sAs6pqh+1ud4DfBI4BLipPQAuA65IsoXBkcS6vVivJGkWZh0UVfUN4O+PqH8POHGaMRcCF46obwJeNqL+A1rQSJLmhz+ZLUnqMigkSV0GhSSpy6CQJHUZFJKkLoNCktRlUEiSugwKSVKXQSFJ6jIoJEldBoUkqWtv/z+KA97q824cWd960ZvneCWStH94RCFJ6jIoJEldBoUkqcugkCR1GRSSpC6DQpLUZVBIkroMCklSl0EhSeoyKCRJXQaFJKnLoJAkdflLAfcTf1mgpHHhEYUkqcsjijnmkYakxcYjCklSl0EhSeoyKCRJXQaFJKnLoJAkdXnX0wLh3VCSFiqPKCRJXQaFJKnLoJAkdXmNYoHz2oWk+WZQjBmDRdK+tihOPSU5Jcl9SbYkOW++1yNJB5IFf0SR5CDgPwFvALYBdyS5vqrunt+Vza/pjhxm2v/cl+/iXXs4drqjkP191OJRkbSwLPigAI4HtlTVNwCSXAWcChzQQTEXnmkYzdc8zzRAZrOefRWa+2r/T55y6Mj6QmTwL36pqvleQ1eS04BTqurd7fU7gVdV1XuH9jkbOLu9/Hngvr14yyOA7+7F+IVu3PsDexwX9ji3fqaqfnrUhsVwRJERtd3SraouBS7dJ2+WbKqqNftiroVo3PsDexwX9rhwLIaL2duAI4derwIemqe1SNIBZzEExR3A0UmOSvIsYB1w/TyvSZIOGAv+1FNV7UryXuBm4CBgQ1XdtR/fcp+cwlrAxr0/sMdxYY8LxIK/mC1Jml+L4dSTJGkeGRSSpC6DollMvyYkyZFJ/izJPUnuSvLrrb4sycYk97ePS4fGnN96uy/JyUP145JsbtsuTpJWPzjJ1a1+W5LVc97oYB0HJfmrJDe012PVY5LnJ7k2yb3tz/PVY9jjv25/T+9M8tkkz17sPSbZkOSRJHcO1eakpyTr23vcn2T9/u4VgKo64B8MLpJ/HXgx8Czgr4Fj5ntdnfWuAF7Znj8X+N/AMcAfAOe1+nnAh9rzY1pPBwNHtV4PattuB17N4OdVbgLe2Oq/Bvzn9nwdcPU89fpvgM8AN7TXY9UjcDnw7vb8WcDzx6lHYCXwAHBIe30N8K7F3iPwD4FXAncO1fZ7T8Ay4Bvt49L2fOl+73eu/2EsxEf7g7p56PX5wPnzva5nsP7rGPwurPuAFa22ArhvVD8M7iB7ddvn3qH624FPDO/Tni9h8NOjmeO+VgG3AK/nqaAYmx6Bwxh8Ec2U+jj1uBJ4sH1hWwLcAJw0Dj0Cq9k9KPZ7T8P7tG2fAN6+v3v11NPA5F/mSdtabcFrh6SvAG4DllfVdoD28QVtt+n6W9meT63vNqaqdgGPAYfvlyam9x+A3wZ+PFQbpx5fDHwH+C/t9NofJTmUMeqxqr4N/HvgW8B24LGq+lPGqMchc9HTvHytMigGZvw1IQtRkucAnwN+o6r+trfriFp16r0xcyLJW4BHquorezpkRG1B98jgO8VXApdU1SuAJxicspjOouuxnac/lcEplxcChyZ5R2/IiNqC7nEP7Mue5qVXg2Jg0f2akCQ/ySAkrqyqz7fyw0lWtO0rgEdafbr+trXnU+u7jUmyBHgesGPfdzKt1wJvTbIVuAp4fZJPM149bgO2VdVt7fW1DIJjnHr8BeCBqvpOVf0Q+DzwGsarx0lz0dO8fK0yKAYW1a8JaXdGXAbcU1UfGdp0PTB5F8R6BtcuJuvr2p0URwFHA7e3w+PHk5zQ5jxzypjJuU4Dbq12UnQuVNX5VbWqqlYz+PO4tarewXj1+DfAg0l+vpVOZPDr88emRwannE5I8lNtbScC9zBePU6ai55uBk5KsrQdrZ3UavvX/r4IslgewJsY3D30deB9872eGdb6OgaHm18Dvtoeb2JwDvMW4P72cdnQmPe13u6j3VnR6muAO9u2/8hTP63/bOCPgS0M7sx48Tz2u5anLmaPVY/AscCm9mf5JwzuZBm3Hn8PuLet7woGd/8s6h6BzzK45vJDBt/lnzVXPQG/2upbgF+Ziz9Df4WHJKnLU0+SpC6DQpLUZVBIkroMCklSl0EhSeoyKCRJXQaFJKnr/wGqFpp2m6XJKwAAAABJRU5ErkJggg==",
      "text/plain": [
       "<Figure size 432x288 with 1 Axes>"
      ]
     },
     "metadata": {
      "needs_background": "light"
     },
     "output_type": "display_data"
    },
    {
     "data": {
      "image/png": "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",
      "text/plain": [
       "<Figure size 432x288 with 1 Axes>"
      ]
     },
     "metadata": {
      "needs_background": "light"
     },
     "output_type": "display_data"
    }
   ],
   "source": [
    "hist(df)"
   ]
  },
  {
   "cell_type": "code",
   "execution_count": 18,
   "metadata": {},
   "outputs": [
    {
     "name": "stdout",
     "output_type": "stream",
     "text": [
      "['region', 'type', 'cats_allowed', 'dogs_allowed', 'smoking_allowed', 'wheelchair_access', 'electric_vehicle_charge', 'comes_furnished', 'laundry_options', 'parking_options', 'state']\n",
      "\n",
      "['price', 'sqfeet', 'beds', 'baths', 'lat', 'long', 'num_hospitals', 'num_beds', 'hospital_type_general', 'hospital_type_critical', 'hospital_type_psychiatric', 'hospital_type_longterm', 'hospital_type_children', 'government_hospital', 'nonprofit_hospital', 'private_hospital', 'num_schools', 'num_students', 'preschool', 'elementary_school', 'middle_school', 'high_school']\n"
     ]
    }
   ],
   "source": [
    "name_columns = list(df.columns)\n",
    "types_columns = [str(x) for x in list(df.dtypes)]\n",
    "i = 1\n",
    "columns = [(name_columns[i],types_columns[i]) for i in range(len(name_columns))]\n",
    "\n",
    "num_var = []\n",
    "cat_var = []\n",
    "\n",
    "for i,t in columns:\n",
    "    if t == \"object\":\n",
    "      cat_var.append(i)\n",
    "    else:\n",
    "      num_var.append(i)\n",
    "\n",
    "print(cat_var)\n",
    "print()\n",
    "print(num_var)"
   ]
  },
  {
   "attachments": {},
   "cell_type": "markdown",
   "metadata": {},
   "source": [
    "## Log transformations and clean outliers"
   ]
  },
  {
   "cell_type": "code",
   "execution_count": 19,
   "metadata": {},
   "outputs": [
    {
     "name": "stdout",
     "output_type": "stream",
     "text": [
      "price\n",
      "sqfeet\n",
      "num_beds\n",
      "hospital_type_general\n",
      "hospital_type_critical\n",
      "hospital_type_psychiatric\n",
      "hospital_type_longterm\n",
      "hospital_type_children\n",
      "government_hospital\n",
      "nonprofit_hospital\n",
      "private_hospital\n",
      "num_students\n",
      "preschool\n",
      "elementary_school\n",
      "middle_school\n",
      "high_school\n"
     ]
    }
   ],
   "source": [
    "num_cols = set(num_var) - set([\"beds\",\"baths\",\"lat\",\"long\"])\n",
    "log_transformation(df,cols=num_cols)\n"
   ]
  },
  {
   "cell_type": "code",
   "execution_count": 20,
   "metadata": {},
   "outputs": [
    {
     "name": "stdout",
     "output_type": "stream",
     "text": [
      "price\n",
      "sqfeet\n",
      "beds\n",
      "baths\n",
      "num_beds\n",
      "hospital_type_general\n",
      "hospital_type_critical\n",
      "hospital_type_psychiatric\n",
      "hospital_type_longterm\n",
      "hospital_type_children\n",
      "government_hospital\n",
      "nonprofit_hospital\n",
      "private_hospital\n",
      "num_students\n",
      "preschool\n",
      "elementary_school\n",
      "middle_school\n",
      "high_school\n"
     ]
    }
   ],
   "source": [
    "num_cols = set(num_var) - set([\"lat\",\"long\"])\n",
    "clean_outliers(df,cols=num_cols)"
   ]
  },
  {
   "cell_type": "code",
   "execution_count": 21,
   "metadata": {},
   "outputs": [
    {
     "data": {
      "text/html": [
       "<div>\n",
       "<style scoped>\n",
       "    .dataframe tbody tr th:only-of-type {\n",
       "        vertical-align: middle;\n",
       "    }\n",
       "\n",
       "    .dataframe tbody tr th {\n",
       "        vertical-align: top;\n",
       "    }\n",
       "\n",
       "    .dataframe thead th {\n",
       "        text-align: right;\n",
       "    }\n",
       "</style>\n",
       "<table border=\"1\" class=\"dataframe\">\n",
       "  <thead>\n",
       "    <tr style=\"text-align: right;\">\n",
       "      <th></th>\n",
       "      <th>mean</th>\n",
       "      <th>std</th>\n",
       "      <th>min</th>\n",
       "      <th>25%</th>\n",
       "      <th>50%</th>\n",
       "      <th>75%</th>\n",
       "      <th>max</th>\n",
       "      <th>missings</th>\n",
       "      <th>missing ratio (%)</th>\n",
       "    </tr>\n",
       "  </thead>\n",
       "  <tbody>\n",
       "    <tr>\n",
       "      <th>price</th>\n",
       "      <td>6.982588</td>\n",
       "      <td>0.402094</td>\n",
       "      <td>5.669881</td>\n",
       "      <td>6.704414</td>\n",
       "      <td>6.947937</td>\n",
       "      <td>7.241366</td>\n",
       "      <td>8.296796</td>\n",
       "      <td>5653.0</td>\n",
       "      <td>1.48</td>\n",
       "    </tr>\n",
       "    <tr>\n",
       "      <th>sqfeet</th>\n",
       "      <td>6.837999</td>\n",
       "      <td>0.333230</td>\n",
       "      <td>5.620401</td>\n",
       "      <td>6.621406</td>\n",
       "      <td>6.856462</td>\n",
       "      <td>7.044033</td>\n",
       "      <td>7.937732</td>\n",
       "      <td>4520.0</td>\n",
       "      <td>1.18</td>\n",
       "    </tr>\n",
       "    <tr>\n",
       "      <th>beds</th>\n",
       "      <td>1.889453</td>\n",
       "      <td>0.868944</td>\n",
       "      <td>0.000000</td>\n",
       "      <td>1.000000</td>\n",
       "      <td>2.000000</td>\n",
       "      <td>2.000000</td>\n",
       "      <td>5.000000</td>\n",
       "      <td>322.0</td>\n",
       "      <td>0.08</td>\n",
       "    </tr>\n",
       "    <tr>\n",
       "      <th>baths</th>\n",
       "      <td>1.475473</td>\n",
       "      <td>0.578576</td>\n",
       "      <td>0.000000</td>\n",
       "      <td>1.000000</td>\n",
       "      <td>1.000000</td>\n",
       "      <td>2.000000</td>\n",
       "      <td>4.000000</td>\n",
       "      <td>452.0</td>\n",
       "      <td>0.12</td>\n",
       "    </tr>\n",
       "    <tr>\n",
       "      <th>lat</th>\n",
       "      <td>37.233942</td>\n",
       "      <td>5.546181</td>\n",
       "      <td>-43.533300</td>\n",
       "      <td>33.455700</td>\n",
       "      <td>37.647900</td>\n",
       "      <td>41.139100</td>\n",
       "      <td>102.036000</td>\n",
       "      <td>0.0</td>\n",
       "      <td>0.00</td>\n",
       "    </tr>\n",
       "    <tr>\n",
       "      <th>long</th>\n",
       "      <td>-92.700412</td>\n",
       "      <td>16.532394</td>\n",
       "      <td>-163.894000</td>\n",
       "      <td>-100.775000</td>\n",
       "      <td>-87.738200</td>\n",
       "      <td>-81.179600</td>\n",
       "      <td>172.633000</td>\n",
       "      <td>0.0</td>\n",
       "      <td>0.00</td>\n",
       "    </tr>\n",
       "    <tr>\n",
       "      <th>num_hospitals</th>\n",
       "      <td>1603.495345</td>\n",
       "      <td>2760.014135</td>\n",
       "      <td>0.000000</td>\n",
       "      <td>104.000000</td>\n",
       "      <td>610.000000</td>\n",
       "      <td>1820.000000</td>\n",
       "      <td>26332.000000</td>\n",
       "      <td>0.0</td>\n",
       "      <td>0.00</td>\n",
       "    </tr>\n",
       "    <tr>\n",
       "      <th>num_beds</th>\n",
       "      <td>11.048577</td>\n",
       "      <td>2.043049</td>\n",
       "      <td>5.010635</td>\n",
       "      <td>9.684523</td>\n",
       "      <td>11.432225</td>\n",
       "      <td>12.580326</td>\n",
       "      <td>15.060759</td>\n",
       "      <td>4192.0</td>\n",
       "      <td>1.09</td>\n",
       "    </tr>\n",
       "    <tr>\n",
       "      <th>hospital_type_general</th>\n",
       "      <td>5.530275</td>\n",
       "      <td>1.930143</td>\n",
       "      <td>0.693147</td>\n",
       "      <td>4.158883</td>\n",
       "      <td>5.888878</td>\n",
       "      <td>6.979145</td>\n",
       "      <td>9.248503</td>\n",
       "      <td>2804.0</td>\n",
       "      <td>0.73</td>\n",
       "    </tr>\n",
       "    <tr>\n",
       "      <th>hospital_type_critical</th>\n",
       "      <td>1.180142</td>\n",
       "      <td>2.008555</td>\n",
       "      <td>0.000000</td>\n",
       "      <td>0.000000</td>\n",
       "      <td>0.000000</td>\n",
       "      <td>1.791759</td>\n",
       "      <td>7.180070</td>\n",
       "      <td>1684.0</td>\n",
       "      <td>0.44</td>\n",
       "    </tr>\n",
       "    <tr>\n",
       "      <th>hospital_type_psychiatric</th>\n",
       "      <td>3.465264</td>\n",
       "      <td>2.304188</td>\n",
       "      <td>0.000000</td>\n",
       "      <td>1.386294</td>\n",
       "      <td>3.912023</td>\n",
       "      <td>5.303305</td>\n",
       "      <td>7.988543</td>\n",
       "      <td>1572.0</td>\n",
       "      <td>0.41</td>\n",
       "    </tr>\n",
       "    <tr>\n",
       "      <th>hospital_type_longterm</th>\n",
       "      <td>2.808221</td>\n",
       "      <td>2.338877</td>\n",
       "      <td>0.000000</td>\n",
       "      <td>0.000000</td>\n",
       "      <td>2.995732</td>\n",
       "      <td>4.836282</td>\n",
       "      <td>7.872836</td>\n",
       "      <td>970.0</td>\n",
       "      <td>0.25</td>\n",
       "    </tr>\n",
       "    <tr>\n",
       "      <th>hospital_type_children</th>\n",
       "      <td>1.325092</td>\n",
       "      <td>1.930626</td>\n",
       "      <td>0.000000</td>\n",
       "      <td>0.000000</td>\n",
       "      <td>0.000000</td>\n",
       "      <td>2.833213</td>\n",
       "      <td>6.572283</td>\n",
       "      <td>1787.0</td>\n",
       "      <td>0.47</td>\n",
       "    </tr>\n",
       "    <tr>\n",
       "      <th>government_hospital</th>\n",
       "      <td>3.828023</td>\n",
       "      <td>2.206424</td>\n",
       "      <td>0.000000</td>\n",
       "      <td>1.945910</td>\n",
       "      <td>4.276666</td>\n",
       "      <td>5.579730</td>\n",
       "      <td>7.995980</td>\n",
       "      <td>1436.0</td>\n",
       "      <td>0.38</td>\n",
       "    </tr>\n",
       "    <tr>\n",
       "      <th>nonprofit_hospital</th>\n",
       "      <td>5.061487</td>\n",
       "      <td>2.065563</td>\n",
       "      <td>0.000000</td>\n",
       "      <td>3.663562</td>\n",
       "      <td>5.398163</td>\n",
       "      <td>6.597146</td>\n",
       "      <td>9.285912</td>\n",
       "      <td>1694.0</td>\n",
       "      <td>0.44</td>\n",
       "    </tr>\n",
       "    <tr>\n",
       "      <th>private_hospital</th>\n",
       "      <td>4.406492</td>\n",
       "      <td>2.444500</td>\n",
       "      <td>0.000000</td>\n",
       "      <td>2.639057</td>\n",
       "      <td>4.912655</td>\n",
       "      <td>6.304449</td>\n",
       "      <td>8.919587</td>\n",
       "      <td>1707.0</td>\n",
       "      <td>0.45</td>\n",
       "    </tr>\n",
       "    <tr>\n",
       "      <th>num_schools</th>\n",
       "      <td>23361.328389</td>\n",
       "      <td>44552.030154</td>\n",
       "      <td>0.000000</td>\n",
       "      <td>1556.000000</td>\n",
       "      <td>8568.000000</td>\n",
       "      <td>25500.000000</td>\n",
       "      <td>536628.000000</td>\n",
       "      <td>0.0</td>\n",
       "      <td>0.00</td>\n",
       "    </tr>\n",
       "    <tr>\n",
       "      <th>num_students</th>\n",
       "      <td>15.015502</td>\n",
       "      <td>2.011198</td>\n",
       "      <td>9.347054</td>\n",
       "      <td>13.669244</td>\n",
       "      <td>15.397947</td>\n",
       "      <td>16.510419</td>\n",
       "      <td>19.130062</td>\n",
       "      <td>3839.0</td>\n",
       "      <td>1.00</td>\n",
       "    </tr>\n",
       "    <tr>\n",
       "      <th>preschool</th>\n",
       "      <td>8.069102</td>\n",
       "      <td>1.957488</td>\n",
       "      <td>2.833213</td>\n",
       "      <td>6.767343</td>\n",
       "      <td>8.439448</td>\n",
       "      <td>9.525662</td>\n",
       "      <td>12.088139</td>\n",
       "      <td>3508.0</td>\n",
       "      <td>0.92</td>\n",
       "    </tr>\n",
       "    <tr>\n",
       "      <th>elementary_school</th>\n",
       "      <td>6.871574</td>\n",
       "      <td>1.960614</td>\n",
       "      <td>1.609438</td>\n",
       "      <td>5.517453</td>\n",
       "      <td>7.230563</td>\n",
       "      <td>8.339740</td>\n",
       "      <td>10.789917</td>\n",
       "      <td>3341.0</td>\n",
       "      <td>0.87</td>\n",
       "    </tr>\n",
       "    <tr>\n",
       "      <th>middle_school</th>\n",
       "      <td>6.984235</td>\n",
       "      <td>1.922483</td>\n",
       "      <td>2.079442</td>\n",
       "      <td>5.680173</td>\n",
       "      <td>7.344719</td>\n",
       "      <td>8.415160</td>\n",
       "      <td>10.906525</td>\n",
       "      <td>3614.0</td>\n",
       "      <td>0.94</td>\n",
       "    </tr>\n",
       "    <tr>\n",
       "      <th>high_school</th>\n",
       "      <td>5.698279</td>\n",
       "      <td>2.185427</td>\n",
       "      <td>0.000000</td>\n",
       "      <td>4.262680</td>\n",
       "      <td>6.075346</td>\n",
       "      <td>7.325808</td>\n",
       "      <td>9.801510</td>\n",
       "      <td>1784.0</td>\n",
       "      <td>0.47</td>\n",
       "    </tr>\n",
       "  </tbody>\n",
       "</table>\n",
       "</div>"
      ],
      "text/plain": [
       "                                   mean           std         min  \\\n",
       "price                          6.982588      0.402094    5.669881   \n",
       "sqfeet                         6.837999      0.333230    5.620401   \n",
       "beds                           1.889453      0.868944    0.000000   \n",
       "baths                          1.475473      0.578576    0.000000   \n",
       "lat                           37.233942      5.546181  -43.533300   \n",
       "long                         -92.700412     16.532394 -163.894000   \n",
       "num_hospitals               1603.495345   2760.014135    0.000000   \n",
       "num_beds                      11.048577      2.043049    5.010635   \n",
       "hospital_type_general          5.530275      1.930143    0.693147   \n",
       "hospital_type_critical         1.180142      2.008555    0.000000   \n",
       "hospital_type_psychiatric      3.465264      2.304188    0.000000   \n",
       "hospital_type_longterm         2.808221      2.338877    0.000000   \n",
       "hospital_type_children         1.325092      1.930626    0.000000   \n",
       "government_hospital            3.828023      2.206424    0.000000   \n",
       "nonprofit_hospital             5.061487      2.065563    0.000000   \n",
       "private_hospital               4.406492      2.444500    0.000000   \n",
       "num_schools                23361.328389  44552.030154    0.000000   \n",
       "num_students                  15.015502      2.011198    9.347054   \n",
       "preschool                      8.069102      1.957488    2.833213   \n",
       "elementary_school              6.871574      1.960614    1.609438   \n",
       "middle_school                  6.984235      1.922483    2.079442   \n",
       "high_school                    5.698279      2.185427    0.000000   \n",
       "\n",
       "                                   25%          50%           75%  \\\n",
       "price                         6.704414     6.947937      7.241366   \n",
       "sqfeet                        6.621406     6.856462      7.044033   \n",
       "beds                          1.000000     2.000000      2.000000   \n",
       "baths                         1.000000     1.000000      2.000000   \n",
       "lat                          33.455700    37.647900     41.139100   \n",
       "long                       -100.775000   -87.738200    -81.179600   \n",
       "num_hospitals               104.000000   610.000000   1820.000000   \n",
       "num_beds                      9.684523    11.432225     12.580326   \n",
       "hospital_type_general         4.158883     5.888878      6.979145   \n",
       "hospital_type_critical        0.000000     0.000000      1.791759   \n",
       "hospital_type_psychiatric     1.386294     3.912023      5.303305   \n",
       "hospital_type_longterm        0.000000     2.995732      4.836282   \n",
       "hospital_type_children        0.000000     0.000000      2.833213   \n",
       "government_hospital           1.945910     4.276666      5.579730   \n",
       "nonprofit_hospital            3.663562     5.398163      6.597146   \n",
       "private_hospital              2.639057     4.912655      6.304449   \n",
       "num_schools                1556.000000  8568.000000  25500.000000   \n",
       "num_students                 13.669244    15.397947     16.510419   \n",
       "preschool                     6.767343     8.439448      9.525662   \n",
       "elementary_school             5.517453     7.230563      8.339740   \n",
       "middle_school                 5.680173     7.344719      8.415160   \n",
       "high_school                   4.262680     6.075346      7.325808   \n",
       "\n",
       "                                     max  missings  missing ratio (%)  \n",
       "price                           8.296796    5653.0               1.48  \n",
       "sqfeet                          7.937732    4520.0               1.18  \n",
       "beds                            5.000000     322.0               0.08  \n",
       "baths                           4.000000     452.0               0.12  \n",
       "lat                           102.036000       0.0               0.00  \n",
       "long                          172.633000       0.0               0.00  \n",
       "num_hospitals               26332.000000       0.0               0.00  \n",
       "num_beds                       15.060759    4192.0               1.09  \n",
       "hospital_type_general           9.248503    2804.0               0.73  \n",
       "hospital_type_critical          7.180070    1684.0               0.44  \n",
       "hospital_type_psychiatric       7.988543    1572.0               0.41  \n",
       "hospital_type_longterm          7.872836     970.0               0.25  \n",
       "hospital_type_children          6.572283    1787.0               0.47  \n",
       "government_hospital             7.995980    1436.0               0.38  \n",
       "nonprofit_hospital              9.285912    1694.0               0.44  \n",
       "private_hospital                8.919587    1707.0               0.45  \n",
       "num_schools                536628.000000       0.0               0.00  \n",
       "num_students                   19.130062    3839.0               1.00  \n",
       "preschool                      12.088139    3508.0               0.92  \n",
       "elementary_school              10.789917    3341.0               0.87  \n",
       "middle_school                  10.906525    3614.0               0.94  \n",
       "high_school                     9.801510    1784.0               0.47  "
      ]
     },
     "execution_count": 21,
     "metadata": {},
     "output_type": "execute_result"
    }
   ],
   "source": [
    "numeric_description(df)"
   ]
  },
  {
   "cell_type": "code",
   "execution_count": 22,
   "metadata": {},
   "outputs": [
    {
     "data": {
      "image/png": "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",
      "text/plain": [
       "<Figure size 432x288 with 1 Axes>"
      ]
     },
     "metadata": {
      "needs_background": "light"
     },
     "output_type": "display_data"
    },
    {
     "data": {
      "image/png": "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",
      "text/plain": [
       "<Figure size 432x288 with 1 Axes>"
      ]
     },
     "metadata": {
      "needs_background": "light"
     },
     "output_type": "display_data"
    },
    {
     "data": {
      "image/png": "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",
      "text/plain": [
       "<Figure size 432x288 with 1 Axes>"
      ]
     },
     "metadata": {
      "needs_background": "light"
     },
     "output_type": "display_data"
    },
    {
     "data": {
      "image/png": "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",
      "text/plain": [
       "<Figure size 432x288 with 1 Axes>"
      ]
     },
     "metadata": {
      "needs_background": "light"
     },
     "output_type": "display_data"
    },
    {
     "data": {
      "image/png": "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",
      "text/plain": [
       "<Figure size 432x288 with 1 Axes>"
      ]
     },
     "metadata": {
      "needs_background": "light"
     },
     "output_type": "display_data"
    },
    {
     "data": {
      "image/png": "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",
      "text/plain": [
       "<Figure size 432x288 with 1 Axes>"
      ]
     },
     "metadata": {
      "needs_background": "light"
     },
     "output_type": "display_data"
    },
    {
     "data": {
      "image/png": "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",
      "text/plain": [
       "<Figure size 432x288 with 1 Axes>"
      ]
     },
     "metadata": {
      "needs_background": "light"
     },
     "output_type": "display_data"
    },
    {
     "data": {
      "image/png": "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",
      "text/plain": [
       "<Figure size 432x288 with 1 Axes>"
      ]
     },
     "metadata": {
      "needs_background": "light"
     },
     "output_type": "display_data"
    },
    {
     "data": {
      "image/png": "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",
      "text/plain": [
       "<Figure size 432x288 with 1 Axes>"
      ]
     },
     "metadata": {
      "needs_background": "light"
     },
     "output_type": "display_data"
    },
    {
     "data": {
      "image/png": "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",
      "text/plain": [
       "<Figure size 432x288 with 1 Axes>"
      ]
     },
     "metadata": {
      "needs_background": "light"
     },
     "output_type": "display_data"
    },
    {
     "data": {
      "image/png": "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",
      "text/plain": [
       "<Figure size 432x288 with 1 Axes>"
      ]
     },
     "metadata": {
      "needs_background": "light"
     },
     "output_type": "display_data"
    },
    {
     "data": {
      "image/png": "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",
      "text/plain": [
       "<Figure size 432x288 with 1 Axes>"
      ]
     },
     "metadata": {
      "needs_background": "light"
     },
     "output_type": "display_data"
    },
    {
     "data": {
      "image/png": "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",
      "text/plain": [
       "<Figure size 432x288 with 1 Axes>"
      ]
     },
     "metadata": {
      "needs_background": "light"
     },
     "output_type": "display_data"
    },
    {
     "data": {
      "image/png": "iVBORw0KGgoAAAANSUhEUgAAAYQAAAEICAYAAABfz4NwAAAAOXRFWHRTb2Z0d2FyZQBNYXRwbG90bGliIHZlcnNpb24zLjUuMiwgaHR0cHM6Ly9tYXRwbG90bGliLm9yZy8qNh9FAAAACXBIWXMAAAsTAAALEwEAmpwYAAAdFklEQVR4nO3dbZRV1Z3n8e9vIFGU4BOxBimmi0TMhIc8UU1I0kmXwYn0aAdfaAcHI2TortUuOrG7K6OQXr1MvyDBTEjiQ2svRmww0iJD7IFJNB2DueNKBjBo0l0BZVkTKlJARHwglEZi4X9enF16rLr1dKvq3qq6v89aterc/zn73H123Xv/dfbZ92xFBGZmZv+u0hUwM7ORwQnBzMwAJwQzM0ucEMzMDHBCMDOzxAnBzMwAJwSzPkmqkfSopBOS1kr6kqS7StjPMkk/Ho469vKcJdU1V75V0iVDWScbucZXugJmo0AjcAyYFF2+uCOpDjgAvC0iOipQt15FxFc6l0d6Xa3yfIZgVU2Zvt4Hvwfs65oMzMYaJwSrqNQl8UVJ/ybpuKT7JZ2e1v2ZpBZJL0jaLumCXLmQ9OeSnpb0oqS/l6S0bpmkn0i6Le3zKUkLcmULklZL+gnwCvAuSR+V9NO0/U8lfTRtuwFYCtwgqV3SJZK+LOnetLtH0++X0vqP9OOYv57qfEDSH+XiF6TjfCEd95/l1s2TtEfSbyQ9K+kbKV6X2qJR0mFJRyQ15cr1WldJ75b0iKTnJR2TtEnS2f3529nY44RgI8GfAAuB6cD7gGWSPgl8Na2bAvwK2Nyl3OXA7wPvT9tdmlv3YeCXwGTgJuABSefm1n+WrCvoHcAJ4HvArcB5wDeA70k6LyKWAZuAr0XExIj4YZc6fCL9Pjut39nHsX4Y2J/q9TVgfWciA+4D2oALgCuBr+QS2S3ALRExCXg3sKXLfi8GZgCfAlb20O9frK4ia+cLgPcC04Av93EMNkY5IdhIcGtEHI6IF4D/DXwAWALcHRFPRMRJYBXwkdQP3mlNRLwUEc8AP0rlOh0FvhURr0XE/WQfwpfl1m+IiL2pL/1TwNMR8e2I6IiI+4CngD8ehmP9VUT8j4g4BWwkS3Y1kqYBfwDcGBGvRsTPgbvIEhfAa8CFkiZHRHtE7Oqy37+LiJcjohn4R+Dq/lQmIloi4uGIOBkRz5Elwz8c9FHaqOSEYCPBr3PLrwATyf5j/VVnMCLageeBqX2U63SoS5//r9I+Ox3MLb/luXLbT2XovVHniHglLXYe7wsRcaKHOiwHLgKeSl1al3fZ78Eu5S6gHySdL2mzpEOSfgPcS3b2YlXICcFGqsNkF3MBkHQmWXfOoX6Wn5rrigH4D2mfnfLJ4i3Pldu+P881VBeaDwPnSnpHsTpExNMRcTVwPnAzsDW1SadpXcrlj7W3un41xd+XuqOuIetGsirkhGAj1T8Bn5P0AUmnAV8BdkdEaz/Lnw98QdLbJF1F1j/+YA/bPghcJOm/SBov6TPATOC7/Xie54DXgXf1s15FRcRB4P8CX5V0uqT3kZ0VbAKQdI2kd0bE68BLqdip3C7+VtIZkmYBnwPu72dd3wG0k11ongr8t8Ech41uTgg2IkXEDuBvge8AR8gupC4ewC52k11kPQasBq6MiOd7eK7nyS5QN5F1S90AXB4Rx/pRz1fS/n8i6SVJ8wdQx66uBurI/rv/Z+CmiHg4rVsI7JXUTnaBeXFEvJor+3+AFmAH8PWI+EE/6/p3wIeA42QX1h8YRP1tlJOHVttYI2kZ8KcR8QeVrstw85fNbCj5DMHMzAAnBLMhJekf0pe+uv78Q6XrZtYXdxmZmRngMwQzM0tG7d1OJ0+eHHV1dSWVffnllznzzDP73nCMczu4DTq5HTLV0A6PP/74sYh4Z7F1ozYh1NXVsWfPnpLKFgoFGhoahrZCo5DbwW3Qye2QqYZ2kNT1W/lvcJeRmZkBTghmZpY4IZiZGeCEYGZmiROCmZkBTghmZpY4IZiZGeCEYGZmiROCmZkBo/ibymY2eHUrvwdA05wOlqVlgNY1l1WqSlZBTghm1k1dLjnkOVGMbe4yMjMzoB8JQdLdko5K+kWX+Ocl7Ze0V9LXcvFVklrSuktz8bmSmtO6WyUpxU+TdH+K705TApqZWZn15wxhA9kE32+QdDGwCHhfRMwCvp7iM8kmQp+VytwhaVwqdifQSDbx+YzcPpcDL0bEhcA3gZsHcTxmZlaiPhNCRDwKvNAlfB2wJiJOpm2OpvgiYHNEnIyIA0ALME/SFGBSROyMbIq2e4ArcmU2puWtwILOswczMyufUi8qXwR8XNJq4FXgixHxU2AqsCu3XVuKvZaWu8ZJvw8CRESHpOPAecCxrk8qqZHsLIOamhoKhUJJlW9vby+57FjidnAbNM3pAKBmwpvLvRnrbVXtr4dSE8J44BxgPvD7wBZJ7wKK/WcfvcTpY91bgxHrgHUA9fX1UepEFtUwCUZ/uB3cBstyw07XNvf9cdC6pGGYa1RZ1f56KDUhtAEPpO6fxyS9DkxO8Wm57WqBwyleWyROrkybpPHAWXTvojKzEcDDUce2Uoed/i/gkwCSLgLeTtbFsx1YnEYOTSe7ePxYRBwBTkian64PXAtsS/vaDixNy1cCj6REY2ZmZdTnGYKk+4AGYLKkNuAm4G7g7jQU9XfA0vQhvlfSFmAf0AGsiIhTaVfXkY1YmgA8lH4A1gPfltRCdmaweGgOzczMBqLPhBARV/ew6poetl8NrC4S3wPMLhJ/Fbiqr3qYmdnw8jeVzcwMcEIwM7PECcHMzAAnBDMzS5wQzMwMcEIwM7PECcHMzAAnBDMzS5wQzMwMcEIwM7PECcHMzAAnBDMzS5wQzMwMcEIwM7PECcHMzIDSp9A0s1Gkp6kvzfL6PEOQdLeko2l2tK7rvigpJE3OxVZJapG0X9KlufhcSc1p3a1pKk3SdJv3p/huSXVDdGxmZjYA/eky2gAs7BqUNA34T8AzudhMsikwZ6Uyd0gal1bfCTSSzbM8I7fP5cCLEXEh8E3g5lIOxMzMBqfPhBARj5LNddzVN4EbgMjFFgGbI+JkRBwAWoB5kqYAkyJiZ5p7+R7gilyZjWl5K7Cg8+zBzMzKp6RrCJI+DRyKiH/t8tk9FdiVe9yWYq+l5a7xzjIHASKiQ9Jx4DzgWJHnbSQ7y6CmpoZCoVBK9Wlvby+57Fjidhh7bdB86HjReNOc3svVTICmOR0lP+9YacOx9noYqAEnBElnAH8DfKrY6iKx6CXeW5nuwYh1wDqA+vr6aGho6Ku6RRUKBUotO5a4HcZeGywr8eJx05wO1jaXPsakdUlDyWVHkrH2ehioUoadvhuYDvyrpFagFnhC0r8n+89/Wm7bWuBwitcWiZMvI2k8cBbFu6jMzGwYDTghRERzRJwfEXURUUf2gf6hiPg1sB1YnEYOTSe7ePxYRBwBTkian64PXAtsS7vcDixNy1cCj6TrDGZmVkb9GXZ6H7ATeI+kNknLe9o2IvYCW4B9wPeBFRFxKq2+DriL7ELz/wMeSvH1wHmSWoC/BlaWeCxmZjYIfXYaRsTVfayv6/J4NbC6yHZ7gNlF4q8CV/VVDzMzG16+dYWZmQFOCGZmljghmJkZ4IRgZmaJE4KZmQFOCGZmlng+BLNRyPMb2HDwGYKZmQFOCGZmljghmJkZ4IRgZmaJLyqbjQA9XSRuXXNZmWsytHq7+D3aj20s8hmCmZkBPkMwsyHgYbBjg88QzMwMcEIwM7OkPzOm3S3pqKRf5GL/XdJTkv5N0j9LOju3bpWkFkn7JV2ai8+V1JzW3Zqm0iRNt3l/iu+WVDe0h2hmZv3Rn2sIG4DbgXtysYeBVRHRIelmYBVwo6SZwGJgFnAB8ENJF6VpNO8EGoFdwIPAQrJpNJcDL0bEhZIWAzcDnxmKgzMb7dw3b+XUnyk0H+36X3tE/CD3cBdwZVpeBGyOiJPAgTRP8jxJrcCkiNgJIOke4AqyhLAI+HIqvxW4XZIiIko8JjMbBcbqUNvRbChGGf1X4P60PJUsQXRqS7HX0nLXeGeZgwDpjOM4cB5wrOsTSWokO8ugpqaGQqFQUoXb29tLLjuWuB1GThs0zemo6PPXTKh8HTpV8u8xUl4PlTKohCDpb4AOYFNnqMhm0Uu8tzLdgxHrgHUA9fX10dDQMJDqvqFQKFBq2bHE7TBy2mBZhbuGmuZ0sLZ5ZIxCb13SULHnHimvh0opeZSRpKXA5cCSXPdOGzAtt1ktcDjFa4vE31JG0njgLOCFUutlZmalKSkhSFoI3Ah8OiJeya3aDixOI4emAzOAxyLiCHBC0vw0uuhaYFuuzNK0fCXwiK8fmJmVX5/niJLuAxqAyZLagJvIRhWdBjycRo/uiog/j4i9krYA+8i6klakEUYA15GNWJpAdjH5oRRfD3w7XYB+gWyUkpmZlVl/RhldXSS8vpftVwOri8T3ALOLxF8FruqrHmZmNrz8TWUzMwOcEMzMLBkZ48zMzBJ/Ya1yfIZgZmaAE4KZmSVOCGZmBjghmJlZ4oRgZmaARxmZ2Rjl0UoD5zMEMzMDfIZgVrJS/gP1DGg2kvkMwczMACcEMzNL3GVkNsTcLTQ8fJF4+PkMwczMACcEMzNL+jNj2t1kcycfjYjZKXYucD9QB7QCfxIRL6Z1q4DlwCngCxHxLyk+lzdnTHsQuD4iQtJpwD3AXOB54DMR0TpkR2g2SO4CsmrRn2sIG4DbyT60O60EdkTEGkkr0+MbJc0kmwJzFnAB8ENJF6VpNO8EGoFdZAlhIdk0msuBFyPiQkmLgZuBzwzFwfWk+dBxlhV5k7sv0syqWZ9dRhHxKNlcx3mLgI1peSNwRS6+OSJORsQBoAWYJ2kKMCkidkZEkCWXK4rsayuwQGmiZjMzK59SRxnVRMQRgIg4Iun8FJ9KdgbQqS3FXkvLXeOdZQ6mfXVIOg6cBxzr+qSSGsnOMqipqaFQKJRW+QnQNKejW7zU/Y1W7e3tVXfMXfWnDYq9Vsaant4To0FPf7+ejqe3v3e1vyeGethpsf/so5d4b2W6ByPWAesA6uvro6GhoYQqwm2btrG2ufuhty4pbX+jVaFQoNQ2HCv60wbFuhfHmqY5HUXfE6NBT+/bnv5uvb3Pq/09Ueooo2dTNxDp99EUbwOm5barBQ6neG2R+FvKSBoPnEX3LiozMxtmpSaE7cDStLwU2JaLL5Z0mqTpwAzgsdS9dELS/HR94NouZTr3dSXwSLrOYGZmZdSfYaf3AQ3AZEltwE3AGmCLpOXAM8BVABGxV9IWYB/QAaxII4wAruPNYacPpR+A9cC3JbWQnRksHpIjMzOzAekzIUTE1T2sWtDD9quB1UXie4DZReKvkhKKmZlVjr+pbGZmgBOCmZklTghmZgY4IZiZWeKEYGZmgCfIMXuD72pq1c5nCGZmBjghmJlZ4oRgZmaAE4KZmSVOCGZmBjghmJlZ4oRgZmaAE4KZmSVOCGZmBjghmJlZMqiEIOmvJO2V9AtJ90k6XdK5kh6W9HT6fU5u+1WSWiTtl3RpLj5XUnNad2uaZtPMzMqo5IQgaSrwBaA+ImYD48imv1wJ7IiIGcCO9BhJM9P6WcBC4A5J49Lu7gQayeZgnpHWm5lZGQ325nbjgQmSXgPOAA4Dq8jmYAbYCBSAG4FFwOaIOAkcSHMoz5PUCkyKiJ0Aku4BruDNOZfNgJ5vPte65rIy18RsbFJElF5Yup5s/uTfAj+IiCWSXoqIs3PbvBgR50i6HdgVEfem+HqyD/1WYE1EXJLiHwdujIjLizxfI9mZBDU1NXM3b95cUr2PvnCcZ3/bPT5n6lkl7W+0am9vZ+LEiZWuRr81HzpeND6Yv1u+DXrafzWomUDR98Ro0NPfv5TXy2h7T5Ti4osvfjwi6outK/kMIV0bWARMB14C/qeka3orUiQWvcS7ByPWAesA6uvro6GhYQA1ftNtm7axtrn7obcuKW1/o1WhUKDUNqyEZT2dIQzw75Y/02iac4q1P345Pareu8E3zeko+p4YDXr6+5fyehlt74mhNpiLypcAByLiuYh4DXgA+CjwrKQpAOn30bR9GzAtV76WrIupLS13jZuZWRkNJiE8A8yXdEYaFbQAeBLYDixN2ywFtqXl7cBiSadJmk528fixiDgCnJA0P+3n2lwZMzMrk5LPESNit6StwBNAB/Azsu6cicAWScvJksZVafu9krYA+9L2KyLiVNrddcAGYALZdQVfUDYzK7NBdRpGxE3ATV3CJ8nOFoptv5rsInTX+B5g9mDqYmOHp7I0qwx/U9nMzAAnBDMzS0bnODMbkfzFMbPRzQnBxixfi7Bi/I9Lz5wQzGxUc+IfOr6GYGZmgM8QbAzwf4hmQ8MJwYad+2zNRgd3GZmZGeCEYGZmiROCmZkBTghmZpY4IZiZGeCEYGZmiROCmZkBTghmZpYMKiFIOlvSVklPSXpS0kcknSvpYUlPp9/n5LZfJalF0n5Jl+bicyU1p3W3pqk0zcysjAb7TeVbgO9HxJWS3g6cAXwJ2BERayStBFYCN0qaCSwGZgEXAD+UdFGaRvNOoBHYBTwILMTTaJaFv0VsZp1KPkOQNAn4BLAeICJ+FxEvAYuAjWmzjcAVaXkRsDkiTkbEAaAFmCdpCjApInZGRAD35MqYmVmZKPsMLqGg9AFgHbAPeD/wOHA9cCgizs5t92JEnCPpdmBXRNyb4uvJzgJagTURcUmKfxy4MSIuL/KcjWRnEtTU1MzdvHlzSXU/+sJxnv1t9/icqWeVtL/Rqr29nQPHTw2oTG9t1Hzo+JDsa6D7GYyaCRR9LVQbt0P2emxvb2fixImVrsqwuvjiix+PiPpi6wbTZTQe+BDw+YjYLekWsu6hnhS7LhC9xLsHI9aRJSHq6+ujoaFhQBXudNumbaxt7n7orUtK299oVSgUWPvjlwdWqLm37Qf2cuqpvZeV8e6lTXM6ir4Wqo3bIXs9FgoFSv1cGQsGc1G5DWiLiN3p8VayBPFs6gYi/T6a235arnwtcDjFa4vEzcysjEpOCBHxa+CgpPek0AKy7qPtwNIUWwpsS8vbgcWSTpM0HZgBPBYRR4ATkuan0UXX5sqYmVmZDPYc8fPApjTC6JfA58iSzBZJy4FngKsAImKvpC1kSaMDWJFGGAFcB2wAJpBdV/AIIzOzMhtUQoiInwPFLk4s6GH71cDqIvE9wOzB1MXMzAanuq8iVZFi3zdomtOBXwJm1smfBmXmL4KZ2UjlexmZmRnghGBmZom7jKxieuo+M7PK8BmCmZkBTghmZpY4IZiZGeBrCKOWh6+a2VDzGYKZmQFOCGZmljghmJkZ4IRgZmaJE4KZmQFOCGZmlnjYqZkZ2VDupjkd3eb0rqah3IM+Q5A0TtLPJH03PT5X0sOSnk6/z8ltu0pSi6T9ki7NxedKak7rbk1TaZqZWRkNRZfR9cCTuccrgR0RMQPYkR4jaSawGJgFLATukDQulbkTaCSbZ3lGWm9mZmU0qC4jSbXAZWTTYv51Ci8CGtLyRqAA3JjimyPiJHBAUgswT1IrMCkidqZ93gNcgedVBgZ+R1DfQdTMSjXYM4RvATcAr+diNRFxBCD9Pj/FpwIHc9u1pdjUtNw1bmZmZVTyGYKky4GjEfG4pIb+FCkSi17ixZ6zkaxriZqaGgqFQr/q2lXNhM75hN+q1P0NRLHn7e25e9p+KPTUDtXEbZBxO2SKtUM5PhdGisF0GX0M+LSk/wycDkySdC/wrKQpEXFE0hTgaNq+DZiWK18LHE7x2iLxbiJiHbAOoL6+PhoaGkqq+G2btrG2ufuhty4pbX8D0XUEQ1/P3dP2Q6FpTkfRdqgmboOM2yFTrB3K8bkwUpTcZRQRqyKiNiLqyC4WPxIR1wDbgaVps6XAtrS8HVgs6TRJ08kuHj+WupVOSJqfRhddmytjZmZlMhz/EqwBtkhaDjwDXAUQEXslbQH2AR3Aiog4lcpcB2wAJpBdTPYFZTOzMhuShBARBbLRRETE88CCHrZbTTYiqWt8DzB7KOpiZjaUqmnuEd+6wszMACcEMzNLPKxgkKrpdNLMxjafIZiZGeCEYGZmiROCmZkBTghmZpY4IZiZGeCEYGZmiYedmpkNodE8FN1nCGZmBjghmJlZ4oRgZmaAE4KZmSVOCGZmBniUkZlZSXoaTTSU+yn3yKSSzxAkTZP0I0lPStor6foUP1fSw5KeTr/PyZVZJalF0n5Jl+bicyU1p3W3pqk0zcysjAbTZdQBNEXEe4H5wApJM4GVwI6ImAHsSI9J6xYDs4CFwB2SxqV93Qk0ks2zPCOtNzOzMio5IUTEkYh4Ii2fAJ4EpgKLgI1ps43AFWl5EbA5Ik5GxAGgBZgnaQowKSJ2RkQA9+TKmJlZmQzJRWVJdcAHgd1ATUQcgSxpAOenzaYCB3PF2lJsalruGjczszIa9EVlSROB7wB/GRG/6aX7v9iK6CVe7LkaybqWqKmpoVAoDLi+ADUToGlOR7d4Kfsrtp/e9jVU2w+FntqhmrgNMm6HzHC2Qynv8VI/40o1qIQg6W1kyWBTRDyQws9KmhIRR1J30NEUbwOm5YrXAodTvLZIvJuIWAesA6ivr4+GhoaS6n3bpm2sbe5+6K1LBr6/ZT3dt6SHfQ3V9kOhaU5H0XaoJm6DjNshM5ztUMp7vJTPpMEYzCgjAeuBJyPiG7lV24GlaXkpsC0XXyzpNEnTyS4eP5a6lU5Imp/2eW2ujJmZlclgUuHHgM8CzZJ+nmJfAtYAWyQtB54BrgKIiL2StgD7yEYorYiIU6ncdcAGYALwUPoxM7MyKjkhRMSPKd7/D7CghzKrgdVF4nuA2aXWxczMBs+3rjAzM8AJwczMEicEMzMDfHM7M7OyGKqb4Q0nnyGYmRnghGBmZokTgpmZAU4IZmaWOCGYmRnghGBmZokTgpmZAU4IZmaWOCGYmRngbyqbmY1YPX27uXXNZcPyfD5DMDMzwAnBzMwSJwQzMwNGUEKQtFDSfkktklZWuj5mZtVmRCQESeOAvwf+CJgJXC1pZmVrZWZWXUZEQgDmAS0R8cuI+B2wGVhU4TqZmVUVRUSl64CkK4GFEfGn6fFngQ9HxF902a4RaEwP3wPsL/EpJwPHSiw7lrgd3Aad3A6ZamiH34uIdxZbMVK+h6AisW6ZKiLWAesG/WTSnoioH+x+Rju3g9ugk9shU+3tMFK6jNqAabnHtcDhCtXFzKwqjZSE8FNghqTpkt4OLAa2V7hOZmZVZUR0GUVEh6S/AP4FGAfcHRF7h/EpB93tNEa4HdwGndwOmapuhxFxUdnMzCpvpHQZmZlZhTkhmJkZUIUJodpvkSFpmqQfSXpS0l5J11e6TpUkaZykn0n6bqXrUimSzpa0VdJT6XXxkUrXqdwk/VV6P/xC0n2STq90nSqhqhKCb5EBQAfQFBHvBeYDK6qwDfKuB56sdCUq7Bbg+xHxH4H3U2XtIWkq8AWgPiJmkw1sWVzZWlVGVSUEfIsMIuJIRDyRlk+QvfmnVrZWlSGpFrgMuKvSdakUSZOATwDrASLidxHxUkUrVRnjgQmSxgNnUKXfg6q2hDAVOJh73EaVfhgCSKoDPgjsrnBVKuVbwA3A6xWuRyW9C3gO+MfUdXaXpDMrXalyiohDwNeBZ4AjwPGI+EFla1UZ1ZYQ+nWLjGogaSLwHeAvI+I3la5PuUm6HDgaEY9Xui4VNh74EHBnRHwQeBmoqmtrks4h6ymYDlwAnCnpmsrWqjKqLSH4FhmApLeRJYNNEfFApetTIR8DPi2plazr8JOS7q1slSqiDWiLiM6zxK1kCaKaXAIciIjnIuI14AHgoxWuU0VUW0Ko+ltkSBJZf/GTEfGNStenUiJiVUTURkQd2evgkYiouv8KI+LXwEFJ70mhBcC+ClapEp4B5ks6I70/FlBlF9Y7jYhbV5RLBW6RMRJ9DPgs0Czp5yn2pYh4sHJVsgr7PLAp/ZP0S+BzFa5PWUXEbklbgSfIRuH9jCq9hYVvXWFmZkD1dRmZmVkPnBDMzAxwQjAzs8QJwczMACcEMzNLnBDMzAxwQjAzs+T/AylTuaF8/2uZAAAAAElFTkSuQmCC",
      "text/plain": [
       "<Figure size 432x288 with 1 Axes>"
      ]
     },
     "metadata": {
      "needs_background": "light"
     },
     "output_type": "display_data"
    },
    {
     "data": {
      "image/png": "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",
      "text/plain": [
       "<Figure size 432x288 with 1 Axes>"
      ]
     },
     "metadata": {
      "needs_background": "light"
     },
     "output_type": "display_data"
    },
    {
     "data": {
      "image/png": "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",
      "text/plain": [
       "<Figure size 432x288 with 1 Axes>"
      ]
     },
     "metadata": {
      "needs_background": "light"
     },
     "output_type": "display_data"
    },
    {
     "data": {
      "image/png": "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",
      "text/plain": [
       "<Figure size 432x288 with 1 Axes>"
      ]
     },
     "metadata": {
      "needs_background": "light"
     },
     "output_type": "display_data"
    },
    {
     "data": {
      "image/png": "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",
      "text/plain": [
       "<Figure size 432x288 with 1 Axes>"
      ]
     },
     "metadata": {
      "needs_background": "light"
     },
     "output_type": "display_data"
    },
    {
     "data": {
      "image/png": "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",
      "text/plain": [
       "<Figure size 432x288 with 1 Axes>"
      ]
     },
     "metadata": {
      "needs_background": "light"
     },
     "output_type": "display_data"
    },
    {
     "data": {
      "image/png": "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",
      "text/plain": [
       "<Figure size 432x288 with 1 Axes>"
      ]
     },
     "metadata": {
      "needs_background": "light"
     },
     "output_type": "display_data"
    }
   ],
   "source": [
    "hist(df)"
   ]
  },
  {
   "attachments": {},
   "cell_type": "markdown",
   "metadata": {},
   "source": [
    "## imputation"
   ]
  },
  {
   "cell_type": "code",
   "execution_count": 23,
   "metadata": {},
   "outputs": [
    {
     "name": "stdout",
     "output_type": "stream",
     "text": [
      "377256\n"
     ]
    },
    {
     "data": {
      "text/html": [
       "<div>\n",
       "<style scoped>\n",
       "    .dataframe tbody tr th:only-of-type {\n",
       "        vertical-align: middle;\n",
       "    }\n",
       "\n",
       "    .dataframe tbody tr th {\n",
       "        vertical-align: top;\n",
       "    }\n",
       "\n",
       "    .dataframe thead th {\n",
       "        text-align: right;\n",
       "    }\n",
       "</style>\n",
       "<table border=\"1\" class=\"dataframe\">\n",
       "  <thead>\n",
       "    <tr style=\"text-align: right;\">\n",
       "      <th></th>\n",
       "      <th>price</th>\n",
       "      <th>sqfeet</th>\n",
       "      <th>beds</th>\n",
       "      <th>baths</th>\n",
       "      <th>lat</th>\n",
       "      <th>long</th>\n",
       "      <th>num_hospitals</th>\n",
       "      <th>num_beds</th>\n",
       "      <th>hospital_type_general</th>\n",
       "      <th>hospital_type_critical</th>\n",
       "      <th>...</th>\n",
       "      <th>hospital_type_children</th>\n",
       "      <th>government_hospital</th>\n",
       "      <th>nonprofit_hospital</th>\n",
       "      <th>private_hospital</th>\n",
       "      <th>num_schools</th>\n",
       "      <th>num_students</th>\n",
       "      <th>preschool</th>\n",
       "      <th>elementary_school</th>\n",
       "      <th>middle_school</th>\n",
       "      <th>high_school</th>\n",
       "    </tr>\n",
       "  </thead>\n",
       "  <tbody>\n",
       "    <tr>\n",
       "      <th>count</th>\n",
       "      <td>377256.000000</td>\n",
       "      <td>373286.000000</td>\n",
       "      <td>377017.000000</td>\n",
       "      <td>376937.000000</td>\n",
       "      <td>377256.000000</td>\n",
       "      <td>377256.000000</td>\n",
       "      <td>377256.00000</td>\n",
       "      <td>373131.000000</td>\n",
       "      <td>374489.000000</td>\n",
       "      <td>375572.000000</td>\n",
       "      <td>...</td>\n",
       "      <td>375472.000000</td>\n",
       "      <td>375825.000000</td>\n",
       "      <td>375564.000000</td>\n",
       "      <td>375552.000000</td>\n",
       "      <td>377256.000000</td>\n",
       "      <td>373484.000000</td>\n",
       "      <td>373808.000000</td>\n",
       "      <td>373961.000000</td>\n",
       "      <td>373697.000000</td>\n",
       "      <td>375472.000000</td>\n",
       "    </tr>\n",
       "    <tr>\n",
       "      <th>mean</th>\n",
       "      <td>6.982588</td>\n",
       "      <td>6.837565</td>\n",
       "      <td>1.886711</td>\n",
       "      <td>1.473067</td>\n",
       "      <td>37.243055</td>\n",
       "      <td>-92.599925</td>\n",
       "      <td>1614.36673</td>\n",
       "      <td>11.056982</td>\n",
       "      <td>5.537770</td>\n",
       "      <td>1.186035</td>\n",
       "      <td>...</td>\n",
       "      <td>1.324013</td>\n",
       "      <td>3.832411</td>\n",
       "      <td>5.069239</td>\n",
       "      <td>4.414205</td>\n",
       "      <td>23525.073465</td>\n",
       "      <td>15.023136</td>\n",
       "      <td>8.076816</td>\n",
       "      <td>6.880027</td>\n",
       "      <td>6.991608</td>\n",
       "      <td>5.705763</td>\n",
       "    </tr>\n",
       "    <tr>\n",
       "      <th>std</th>\n",
       "      <td>0.402094</td>\n",
       "      <td>0.330027</td>\n",
       "      <td>0.864243</td>\n",
       "      <td>0.574866</td>\n",
       "      <td>5.549730</td>\n",
       "      <td>16.474182</td>\n",
       "      <td>2771.38127</td>\n",
       "      <td>2.043553</td>\n",
       "      <td>1.931180</td>\n",
       "      <td>2.012496</td>\n",
       "      <td>...</td>\n",
       "      <td>1.932394</td>\n",
       "      <td>2.209969</td>\n",
       "      <td>2.067994</td>\n",
       "      <td>2.444933</td>\n",
       "      <td>44770.629883</td>\n",
       "      <td>2.011799</td>\n",
       "      <td>1.958233</td>\n",
       "      <td>1.961523</td>\n",
       "      <td>1.923500</td>\n",
       "      <td>2.187757</td>\n",
       "    </tr>\n",
       "    <tr>\n",
       "      <th>min</th>\n",
       "      <td>5.669881</td>\n",
       "      <td>5.620401</td>\n",
       "      <td>0.000000</td>\n",
       "      <td>0.000000</td>\n",
       "      <td>-43.533300</td>\n",
       "      <td>-163.894000</td>\n",
       "      <td>0.00000</td>\n",
       "      <td>5.010635</td>\n",
       "      <td>0.693147</td>\n",
       "      <td>0.000000</td>\n",
       "      <td>...</td>\n",
       "      <td>0.000000</td>\n",
       "      <td>0.000000</td>\n",
       "      <td>0.000000</td>\n",
       "      <td>0.000000</td>\n",
       "      <td>0.000000</td>\n",
       "      <td>9.347054</td>\n",
       "      <td>2.833213</td>\n",
       "      <td>1.609438</td>\n",
       "      <td>2.079442</td>\n",
       "      <td>0.000000</td>\n",
       "    </tr>\n",
       "    <tr>\n",
       "      <th>25%</th>\n",
       "      <td>6.704414</td>\n",
       "      <td>6.621406</td>\n",
       "      <td>1.000000</td>\n",
       "      <td>1.000000</td>\n",
       "      <td>33.454700</td>\n",
       "      <td>-99.464850</td>\n",
       "      <td>105.00000</td>\n",
       "      <td>9.700575</td>\n",
       "      <td>4.174387</td>\n",
       "      <td>0.000000</td>\n",
       "      <td>...</td>\n",
       "      <td>0.000000</td>\n",
       "      <td>1.945910</td>\n",
       "      <td>3.663562</td>\n",
       "      <td>2.639057</td>\n",
       "      <td>1578.000000</td>\n",
       "      <td>13.681781</td>\n",
       "      <td>6.781058</td>\n",
       "      <td>5.533389</td>\n",
       "      <td>5.686975</td>\n",
       "      <td>4.262680</td>\n",
       "    </tr>\n",
       "    <tr>\n",
       "      <th>50%</th>\n",
       "      <td>6.947937</td>\n",
       "      <td>6.855409</td>\n",
       "      <td>2.000000</td>\n",
       "      <td>1.000000</td>\n",
       "      <td>37.665800</td>\n",
       "      <td>-87.677700</td>\n",
       "      <td>616.00000</td>\n",
       "      <td>11.440366</td>\n",
       "      <td>5.899897</td>\n",
       "      <td>0.000000</td>\n",
       "      <td>...</td>\n",
       "      <td>0.000000</td>\n",
       "      <td>4.290459</td>\n",
       "      <td>5.416100</td>\n",
       "      <td>4.934474</td>\n",
       "      <td>8640.000000</td>\n",
       "      <td>15.406097</td>\n",
       "      <td>8.451267</td>\n",
       "      <td>7.247081</td>\n",
       "      <td>7.353082</td>\n",
       "      <td>6.079933</td>\n",
       "    </tr>\n",
       "    <tr>\n",
       "      <th>75%</th>\n",
       "      <td>7.241366</td>\n",
       "      <td>7.043160</td>\n",
       "      <td>2.000000</td>\n",
       "      <td>2.000000</td>\n",
       "      <td>41.152300</td>\n",
       "      <td>-81.165400</td>\n",
       "      <td>1836.00000</td>\n",
       "      <td>12.594307</td>\n",
       "      <td>6.985642</td>\n",
       "      <td>1.945910</td>\n",
       "      <td>...</td>\n",
       "      <td>2.833213</td>\n",
       "      <td>5.590987</td>\n",
       "      <td>6.603944</td>\n",
       "      <td>6.311735</td>\n",
       "      <td>25805.000000</td>\n",
       "      <td>16.519553</td>\n",
       "      <td>9.534234</td>\n",
       "      <td>8.350902</td>\n",
       "      <td>8.423322</td>\n",
       "      <td>7.339538</td>\n",
       "    </tr>\n",
       "    <tr>\n",
       "      <th>max</th>\n",
       "      <td>8.296796</td>\n",
       "      <td>7.937732</td>\n",
       "      <td>5.000000</td>\n",
       "      <td>4.000000</td>\n",
       "      <td>102.036000</td>\n",
       "      <td>172.633000</td>\n",
       "      <td>26332.00000</td>\n",
       "      <td>15.060759</td>\n",
       "      <td>9.248503</td>\n",
       "      <td>7.180070</td>\n",
       "      <td>...</td>\n",
       "      <td>6.572283</td>\n",
       "      <td>7.995980</td>\n",
       "      <td>9.285912</td>\n",
       "      <td>8.919587</td>\n",
       "      <td>536628.000000</td>\n",
       "      <td>19.130062</td>\n",
       "      <td>12.088139</td>\n",
       "      <td>10.789917</td>\n",
       "      <td>10.906525</td>\n",
       "      <td>9.801510</td>\n",
       "    </tr>\n",
       "  </tbody>\n",
       "</table>\n",
       "<p>8 rows × 22 columns</p>\n",
       "</div>"
      ],
      "text/plain": [
       "               price         sqfeet           beds          baths  \\\n",
       "count  377256.000000  373286.000000  377017.000000  376937.000000   \n",
       "mean        6.982588       6.837565       1.886711       1.473067   \n",
       "std         0.402094       0.330027       0.864243       0.574866   \n",
       "min         5.669881       5.620401       0.000000       0.000000   \n",
       "25%         6.704414       6.621406       1.000000       1.000000   \n",
       "50%         6.947937       6.855409       2.000000       1.000000   \n",
       "75%         7.241366       7.043160       2.000000       2.000000   \n",
       "max         8.296796       7.937732       5.000000       4.000000   \n",
       "\n",
       "                 lat           long  num_hospitals       num_beds  \\\n",
       "count  377256.000000  377256.000000   377256.00000  373131.000000   \n",
       "mean       37.243055     -92.599925     1614.36673      11.056982   \n",
       "std         5.549730      16.474182     2771.38127       2.043553   \n",
       "min       -43.533300    -163.894000        0.00000       5.010635   \n",
       "25%        33.454700     -99.464850      105.00000       9.700575   \n",
       "50%        37.665800     -87.677700      616.00000      11.440366   \n",
       "75%        41.152300     -81.165400     1836.00000      12.594307   \n",
       "max       102.036000     172.633000    26332.00000      15.060759   \n",
       "\n",
       "       hospital_type_general  hospital_type_critical  ...  \\\n",
       "count          374489.000000           375572.000000  ...   \n",
       "mean                5.537770                1.186035  ...   \n",
       "std                 1.931180                2.012496  ...   \n",
       "min                 0.693147                0.000000  ...   \n",
       "25%                 4.174387                0.000000  ...   \n",
       "50%                 5.899897                0.000000  ...   \n",
       "75%                 6.985642                1.945910  ...   \n",
       "max                 9.248503                7.180070  ...   \n",
       "\n",
       "       hospital_type_children  government_hospital  nonprofit_hospital  \\\n",
       "count           375472.000000        375825.000000       375564.000000   \n",
       "mean                 1.324013             3.832411            5.069239   \n",
       "std                  1.932394             2.209969            2.067994   \n",
       "min                  0.000000             0.000000            0.000000   \n",
       "25%                  0.000000             1.945910            3.663562   \n",
       "50%                  0.000000             4.290459            5.416100   \n",
       "75%                  2.833213             5.590987            6.603944   \n",
       "max                  6.572283             7.995980            9.285912   \n",
       "\n",
       "       private_hospital    num_schools   num_students      preschool  \\\n",
       "count     375552.000000  377256.000000  373484.000000  373808.000000   \n",
       "mean           4.414205   23525.073465      15.023136       8.076816   \n",
       "std            2.444933   44770.629883       2.011799       1.958233   \n",
       "min            0.000000       0.000000       9.347054       2.833213   \n",
       "25%            2.639057    1578.000000      13.681781       6.781058   \n",
       "50%            4.934474    8640.000000      15.406097       8.451267   \n",
       "75%            6.311735   25805.000000      16.519553       9.534234   \n",
       "max            8.919587  536628.000000      19.130062      12.088139   \n",
       "\n",
       "       elementary_school  middle_school    high_school  \n",
       "count      373961.000000  373697.000000  375472.000000  \n",
       "mean            6.880027       6.991608       5.705763  \n",
       "std             1.961523       1.923500       2.187757  \n",
       "min             1.609438       2.079442       0.000000  \n",
       "25%             5.533389       5.686975       4.262680  \n",
       "50%             7.247081       7.353082       6.079933  \n",
       "75%             8.350902       8.423322       7.339538  \n",
       "max            10.789917      10.906525       9.801510  \n",
       "\n",
       "[8 rows x 22 columns]"
      ]
     },
     "execution_count": 23,
     "metadata": {},
     "output_type": "execute_result"
    }
   ],
   "source": [
    "df = df.dropna(subset=[\"price\"])\n",
    "print(df.shape[0])\n",
    "df.describe()"
   ]
  },
  {
   "cell_type": "code",
   "execution_count": 24,
   "metadata": {},
   "outputs": [
    {
     "name": "stdout",
     "output_type": "stream",
     "text": [
      "[IterativeImputer] Completing matrix with shape (377256, 22)\n",
      "[IterativeImputer] Ending imputation round 1/10, elapsed time 7.15\n",
      "[IterativeImputer] Change: 21.208330958490393, scaled tolerance: 536.628 \n",
      "[IterativeImputer] Early stopping criterion reached.\n"
     ]
    }
   ],
   "source": [
    "from sklearn.experimental import enable_iterative_imputer\n",
    "from sklearn.impute import IterativeImputer\n",
    "from sklearn.linear_model import LinearRegression\n",
    "\n",
    "df_num = df.select_dtypes(include=np.number)\n",
    "numeric_cols = df_num.columns\n",
    "\n",
    "lr = LinearRegression()\n",
    "imp = IterativeImputer(estimator=lr,missing_values=np.nan, max_iter=10, verbose=2, imputation_order='roman',random_state=0)\n",
    "df_num = imp.fit_transform(df_num)\n",
    "df_num = pd.DataFrame(df_num, columns=numeric_cols)\n"
   ]
  },
  {
   "cell_type": "code",
   "execution_count": 25,
   "metadata": {},
   "outputs": [
    {
     "name": "stdout",
     "output_type": "stream",
     "text": [
      "<class 'pandas.core.frame.DataFrame'>\n",
      "377256\n"
     ]
    },
    {
     "data": {
      "text/html": [
       "<div>\n",
       "<style scoped>\n",
       "    .dataframe tbody tr th:only-of-type {\n",
       "        vertical-align: middle;\n",
       "    }\n",
       "\n",
       "    .dataframe tbody tr th {\n",
       "        vertical-align: top;\n",
       "    }\n",
       "\n",
       "    .dataframe thead th {\n",
       "        text-align: right;\n",
       "    }\n",
       "</style>\n",
       "<table border=\"1\" class=\"dataframe\">\n",
       "  <thead>\n",
       "    <tr style=\"text-align: right;\">\n",
       "      <th></th>\n",
       "      <th>mean</th>\n",
       "      <th>std</th>\n",
       "      <th>min</th>\n",
       "      <th>25%</th>\n",
       "      <th>50%</th>\n",
       "      <th>75%</th>\n",
       "      <th>max</th>\n",
       "      <th>missings</th>\n",
       "      <th>missing ratio (%)</th>\n",
       "    </tr>\n",
       "  </thead>\n",
       "  <tbody>\n",
       "    <tr>\n",
       "      <th>price</th>\n",
       "      <td>6.982527</td>\n",
       "      <td>0.402163</td>\n",
       "      <td>5.669881</td>\n",
       "      <td>6.704414</td>\n",
       "      <td>6.947937</td>\n",
       "      <td>7.241366</td>\n",
       "      <td>8.296796</td>\n",
       "      <td>5576.0</td>\n",
       "      <td>1.48</td>\n",
       "    </tr>\n",
       "    <tr>\n",
       "      <th>sqfeet</th>\n",
       "      <td>6.839224</td>\n",
       "      <td>0.333220</td>\n",
       "      <td>5.620401</td>\n",
       "      <td>6.621406</td>\n",
       "      <td>6.855409</td>\n",
       "      <td>7.044905</td>\n",
       "      <td>8.269423</td>\n",
       "      <td>5576.0</td>\n",
       "      <td>1.48</td>\n",
       "    </tr>\n",
       "    <tr>\n",
       "      <th>beds</th>\n",
       "      <td>1.887526</td>\n",
       "      <td>0.864727</td>\n",
       "      <td>0.000000</td>\n",
       "      <td>1.000000</td>\n",
       "      <td>2.000000</td>\n",
       "      <td>2.000000</td>\n",
       "      <td>5.000000</td>\n",
       "      <td>5576.0</td>\n",
       "      <td>1.48</td>\n",
       "    </tr>\n",
       "    <tr>\n",
       "      <th>baths</th>\n",
       "      <td>1.473888</td>\n",
       "      <td>0.575437</td>\n",
       "      <td>0.000000</td>\n",
       "      <td>1.000000</td>\n",
       "      <td>1.000000</td>\n",
       "      <td>2.000000</td>\n",
       "      <td>4.000000</td>\n",
       "      <td>5576.0</td>\n",
       "      <td>1.48</td>\n",
       "    </tr>\n",
       "    <tr>\n",
       "      <th>lat</th>\n",
       "      <td>37.241380</td>\n",
       "      <td>5.549121</td>\n",
       "      <td>-43.533300</td>\n",
       "      <td>33.454700</td>\n",
       "      <td>37.664500</td>\n",
       "      <td>41.147800</td>\n",
       "      <td>102.036000</td>\n",
       "      <td>5576.0</td>\n",
       "      <td>1.48</td>\n",
       "    </tr>\n",
       "    <tr>\n",
       "      <th>long</th>\n",
       "      <td>-92.600646</td>\n",
       "      <td>16.480517</td>\n",
       "      <td>-163.894000</td>\n",
       "      <td>-99.467200</td>\n",
       "      <td>-87.678100</td>\n",
       "      <td>-81.165400</td>\n",
       "      <td>172.633000</td>\n",
       "      <td>5576.0</td>\n",
       "      <td>1.48</td>\n",
       "    </tr>\n",
       "    <tr>\n",
       "      <th>num_hospitals</th>\n",
       "      <td>1614.451784</td>\n",
       "      <td>2771.552480</td>\n",
       "      <td>0.000000</td>\n",
       "      <td>105.000000</td>\n",
       "      <td>616.000000</td>\n",
       "      <td>1836.000000</td>\n",
       "      <td>26332.000000</td>\n",
       "      <td>5576.0</td>\n",
       "      <td>1.48</td>\n",
       "    </tr>\n",
       "    <tr>\n",
       "      <th>num_beds</th>\n",
       "      <td>11.047846</td>\n",
       "      <td>2.057324</td>\n",
       "      <td>5.010635</td>\n",
       "      <td>9.679750</td>\n",
       "      <td>11.437782</td>\n",
       "      <td>12.590498</td>\n",
       "      <td>15.060759</td>\n",
       "      <td>5576.0</td>\n",
       "      <td>1.48</td>\n",
       "    </tr>\n",
       "    <tr>\n",
       "      <th>hospital_type_general</th>\n",
       "      <td>5.534303</td>\n",
       "      <td>1.936088</td>\n",
       "      <td>0.256193</td>\n",
       "      <td>4.158883</td>\n",
       "      <td>5.899897</td>\n",
       "      <td>6.985642</td>\n",
       "      <td>9.554229</td>\n",
       "      <td>5576.0</td>\n",
       "      <td>1.48</td>\n",
       "    </tr>\n",
       "    <tr>\n",
       "      <th>hospital_type_critical</th>\n",
       "      <td>1.181940</td>\n",
       "      <td>2.016394</td>\n",
       "      <td>-2.668672</td>\n",
       "      <td>0.000000</td>\n",
       "      <td>0.000000</td>\n",
       "      <td>1.945910</td>\n",
       "      <td>7.180070</td>\n",
       "      <td>5576.0</td>\n",
       "      <td>1.48</td>\n",
       "    </tr>\n",
       "    <tr>\n",
       "      <th>hospital_type_psychiatric</th>\n",
       "      <td>3.470590</td>\n",
       "      <td>2.305565</td>\n",
       "      <td>0.000000</td>\n",
       "      <td>1.386294</td>\n",
       "      <td>3.912023</td>\n",
       "      <td>5.313206</td>\n",
       "      <td>8.721859</td>\n",
       "      <td>5576.0</td>\n",
       "      <td>1.48</td>\n",
       "    </tr>\n",
       "    <tr>\n",
       "      <th>hospital_type_longterm</th>\n",
       "      <td>2.832452</td>\n",
       "      <td>2.352508</td>\n",
       "      <td>0.000000</td>\n",
       "      <td>0.000000</td>\n",
       "      <td>3.044522</td>\n",
       "      <td>4.859812</td>\n",
       "      <td>8.986059</td>\n",
       "      <td>5576.0</td>\n",
       "      <td>1.48</td>\n",
       "    </tr>\n",
       "    <tr>\n",
       "      <th>hospital_type_children</th>\n",
       "      <td>1.339252</td>\n",
       "      <td>1.941129</td>\n",
       "      <td>0.000000</td>\n",
       "      <td>0.000000</td>\n",
       "      <td>0.000000</td>\n",
       "      <td>2.890372</td>\n",
       "      <td>6.572283</td>\n",
       "      <td>5576.0</td>\n",
       "      <td>1.48</td>\n",
       "    </tr>\n",
       "    <tr>\n",
       "      <th>government_hospital</th>\n",
       "      <td>3.839408</td>\n",
       "      <td>2.210575</td>\n",
       "      <td>0.000000</td>\n",
       "      <td>1.945910</td>\n",
       "      <td>4.290459</td>\n",
       "      <td>5.594711</td>\n",
       "      <td>7.995980</td>\n",
       "      <td>5576.0</td>\n",
       "      <td>1.48</td>\n",
       "    </tr>\n",
       "    <tr>\n",
       "      <th>nonprofit_hospital</th>\n",
       "      <td>5.079565</td>\n",
       "      <td>2.071417</td>\n",
       "      <td>0.000000</td>\n",
       "      <td>3.688879</td>\n",
       "      <td>5.420535</td>\n",
       "      <td>6.613384</td>\n",
       "      <td>9.285912</td>\n",
       "      <td>5576.0</td>\n",
       "      <td>1.48</td>\n",
       "    </tr>\n",
       "    <tr>\n",
       "      <th>private_hospital</th>\n",
       "      <td>4.436202</td>\n",
       "      <td>2.460317</td>\n",
       "      <td>0.000000</td>\n",
       "      <td>2.639057</td>\n",
       "      <td>4.948760</td>\n",
       "      <td>6.336826</td>\n",
       "      <td>10.209530</td>\n",
       "      <td>5576.0</td>\n",
       "      <td>1.48</td>\n",
       "    </tr>\n",
       "    <tr>\n",
       "      <th>num_schools</th>\n",
       "      <td>23527.684923</td>\n",
       "      <td>44760.429759</td>\n",
       "      <td>0.000000</td>\n",
       "      <td>1576.000000</td>\n",
       "      <td>8640.000000</td>\n",
       "      <td>25805.000000</td>\n",
       "      <td>536628.000000</td>\n",
       "      <td>5576.0</td>\n",
       "      <td>1.48</td>\n",
       "    </tr>\n",
       "    <tr>\n",
       "      <th>num_students</th>\n",
       "      <td>15.016585</td>\n",
       "      <td>2.013396</td>\n",
       "      <td>9.255963</td>\n",
       "      <td>13.675156</td>\n",
       "      <td>15.402355</td>\n",
       "      <td>16.508753</td>\n",
       "      <td>19.130062</td>\n",
       "      <td>5576.0</td>\n",
       "      <td>1.48</td>\n",
       "    </tr>\n",
       "    <tr>\n",
       "      <th>preschool</th>\n",
       "      <td>8.076619</td>\n",
       "      <td>1.959997</td>\n",
       "      <td>2.745536</td>\n",
       "      <td>6.779063</td>\n",
       "      <td>8.449984</td>\n",
       "      <td>9.537556</td>\n",
       "      <td>12.210802</td>\n",
       "      <td>5576.0</td>\n",
       "      <td>1.48</td>\n",
       "    </tr>\n",
       "    <tr>\n",
       "      <th>elementary_school</th>\n",
       "      <td>6.878029</td>\n",
       "      <td>1.963420</td>\n",
       "      <td>1.602064</td>\n",
       "      <td>5.533389</td>\n",
       "      <td>7.247081</td>\n",
       "      <td>8.343078</td>\n",
       "      <td>10.789917</td>\n",
       "      <td>5576.0</td>\n",
       "      <td>1.48</td>\n",
       "    </tr>\n",
       "    <tr>\n",
       "      <th>middle_school</th>\n",
       "      <td>6.990120</td>\n",
       "      <td>1.934892</td>\n",
       "      <td>1.885647</td>\n",
       "      <td>5.686975</td>\n",
       "      <td>7.353082</td>\n",
       "      <td>8.425297</td>\n",
       "      <td>11.024861</td>\n",
       "      <td>5576.0</td>\n",
       "      <td>1.48</td>\n",
       "    </tr>\n",
       "    <tr>\n",
       "      <th>high_school</th>\n",
       "      <td>5.722212</td>\n",
       "      <td>2.197831</td>\n",
       "      <td>0.000000</td>\n",
       "      <td>4.276666</td>\n",
       "      <td>6.089045</td>\n",
       "      <td>7.347300</td>\n",
       "      <td>10.116054</td>\n",
       "      <td>5576.0</td>\n",
       "      <td>1.48</td>\n",
       "    </tr>\n",
       "  </tbody>\n",
       "</table>\n",
       "</div>"
      ],
      "text/plain": [
       "                                   mean           std         min  \\\n",
       "price                          6.982527      0.402163    5.669881   \n",
       "sqfeet                         6.839224      0.333220    5.620401   \n",
       "beds                           1.887526      0.864727    0.000000   \n",
       "baths                          1.473888      0.575437    0.000000   \n",
       "lat                           37.241380      5.549121  -43.533300   \n",
       "long                         -92.600646     16.480517 -163.894000   \n",
       "num_hospitals               1614.451784   2771.552480    0.000000   \n",
       "num_beds                      11.047846      2.057324    5.010635   \n",
       "hospital_type_general          5.534303      1.936088    0.256193   \n",
       "hospital_type_critical         1.181940      2.016394   -2.668672   \n",
       "hospital_type_psychiatric      3.470590      2.305565    0.000000   \n",
       "hospital_type_longterm         2.832452      2.352508    0.000000   \n",
       "hospital_type_children         1.339252      1.941129    0.000000   \n",
       "government_hospital            3.839408      2.210575    0.000000   \n",
       "nonprofit_hospital             5.079565      2.071417    0.000000   \n",
       "private_hospital               4.436202      2.460317    0.000000   \n",
       "num_schools                23527.684923  44760.429759    0.000000   \n",
       "num_students                  15.016585      2.013396    9.255963   \n",
       "preschool                      8.076619      1.959997    2.745536   \n",
       "elementary_school              6.878029      1.963420    1.602064   \n",
       "middle_school                  6.990120      1.934892    1.885647   \n",
       "high_school                    5.722212      2.197831    0.000000   \n",
       "\n",
       "                                   25%          50%           75%  \\\n",
       "price                         6.704414     6.947937      7.241366   \n",
       "sqfeet                        6.621406     6.855409      7.044905   \n",
       "beds                          1.000000     2.000000      2.000000   \n",
       "baths                         1.000000     1.000000      2.000000   \n",
       "lat                          33.454700    37.664500     41.147800   \n",
       "long                        -99.467200   -87.678100    -81.165400   \n",
       "num_hospitals               105.000000   616.000000   1836.000000   \n",
       "num_beds                      9.679750    11.437782     12.590498   \n",
       "hospital_type_general         4.158883     5.899897      6.985642   \n",
       "hospital_type_critical        0.000000     0.000000      1.945910   \n",
       "hospital_type_psychiatric     1.386294     3.912023      5.313206   \n",
       "hospital_type_longterm        0.000000     3.044522      4.859812   \n",
       "hospital_type_children        0.000000     0.000000      2.890372   \n",
       "government_hospital           1.945910     4.290459      5.594711   \n",
       "nonprofit_hospital            3.688879     5.420535      6.613384   \n",
       "private_hospital              2.639057     4.948760      6.336826   \n",
       "num_schools                1576.000000  8640.000000  25805.000000   \n",
       "num_students                 13.675156    15.402355     16.508753   \n",
       "preschool                     6.779063     8.449984      9.537556   \n",
       "elementary_school             5.533389     7.247081      8.343078   \n",
       "middle_school                 5.686975     7.353082      8.425297   \n",
       "high_school                   4.276666     6.089045      7.347300   \n",
       "\n",
       "                                     max  missings  missing ratio (%)  \n",
       "price                           8.296796    5576.0               1.48  \n",
       "sqfeet                          8.269423    5576.0               1.48  \n",
       "beds                            5.000000    5576.0               1.48  \n",
       "baths                           4.000000    5576.0               1.48  \n",
       "lat                           102.036000    5576.0               1.48  \n",
       "long                          172.633000    5576.0               1.48  \n",
       "num_hospitals               26332.000000    5576.0               1.48  \n",
       "num_beds                       15.060759    5576.0               1.48  \n",
       "hospital_type_general           9.554229    5576.0               1.48  \n",
       "hospital_type_critical          7.180070    5576.0               1.48  \n",
       "hospital_type_psychiatric       8.721859    5576.0               1.48  \n",
       "hospital_type_longterm          8.986059    5576.0               1.48  \n",
       "hospital_type_children          6.572283    5576.0               1.48  \n",
       "government_hospital             7.995980    5576.0               1.48  \n",
       "nonprofit_hospital              9.285912    5576.0               1.48  \n",
       "private_hospital               10.209530    5576.0               1.48  \n",
       "num_schools                536628.000000    5576.0               1.48  \n",
       "num_students                   19.130062    5576.0               1.48  \n",
       "preschool                      12.210802    5576.0               1.48  \n",
       "elementary_school              10.789917    5576.0               1.48  \n",
       "middle_school                  11.024861    5576.0               1.48  \n",
       "high_school                    10.116054    5576.0               1.48  "
      ]
     },
     "execution_count": 25,
     "metadata": {},
     "output_type": "execute_result"
    }
   ],
   "source": [
    "print(type(df_num))\n",
    "\n",
    "for i in numeric_cols:\n",
    "    df.loc[:,i] = df_num.loc[:,i]\n",
    "print(df.shape[0])\n",
    "numeric_description(df)"
   ]
  },
  {
   "attachments": {},
   "cell_type": "markdown",
   "metadata": {},
   "source": [
    "## Transformations"
   ]
  },
  {
   "cell_type": "code",
   "execution_count": 26,
   "metadata": {},
   "outputs": [
    {
     "data": {
      "text/plain": [
       "<AxesSubplot:>"
      ]
     },
     "execution_count": 26,
     "metadata": {},
     "output_type": "execute_result"
    },
    {
     "data": {
      "image/png": "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",
      "text/plain": [
       "<Figure size 432x288 with 1 Axes>"
      ]
     },
     "metadata": {
      "needs_background": "light"
     },
     "output_type": "display_data"
    }
   ],
   "source": [
    "df[\"N_baths\"] = df[\"baths\"].apply(np.floor)\n",
    "df[\"N_baths\"].hist()"
   ]
  },
  {
   "cell_type": "code",
   "execution_count": 27,
   "metadata": {},
   "outputs": [],
   "source": [
    "#df[\"half_baths\"] = \"Yes\" if 0 < df[\"baths\"] - df[\"N_baths\"].item() else \"No\"\n",
    "df[\"half_baths\"] =  (df[\"baths\"] - df[\"N_baths\"]).apply(lambda x:\"Yes\" if 0 < x else \"No\") \n"
   ]
  },
  {
   "cell_type": "code",
   "execution_count": 28,
   "metadata": {},
   "outputs": [],
   "source": [
    "# half_baths,hospital_type_critical, hospital_type_longterm, hospital_type_children\n",
    "\n",
    "df[\"b_hospital_type_critical\"] = df[\"hospital_type_critical\"].apply(lambda x:\"Yes\" if 0 < x else \"No\")\n",
    "df[\"b_hospital_type_longterm\"] = df[\"hospital_type_longterm\"].apply(lambda x:\"Yes\" if 0 < x else \"No\")\n",
    "df[\"b_hospital_type_children\"] = df[\"hospital_type_children\"].apply(lambda x:\"Yes\" if 0 < x else \"No\")\n",
    "df[\"b_type\"] = df[\"type\"].apply(lambda x:\"Apartment\" if \"apartment\" == x else \"No-Apartment\")\n",
    "\n"
   ]
  },
  {
   "cell_type": "code",
   "execution_count": 29,
   "metadata": {},
   "outputs": [],
   "source": [
    "def equal_split(vector, k):\n",
    "    n = len(vector)\n",
    "    vec = sorted(list(vector))\n",
    "    cuts = []\n",
    "    for i in range(1,k):\n",
    "        j = round((n+1)*i/k)\n",
    "        cuts.append(vec[j])\n",
    "\n",
    "    return cuts\n"
   ]
  },
  {
   "cell_type": "code",
   "execution_count": 30,
   "metadata": {},
   "outputs": [
    {
     "data": {
      "image/png": "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",
      "text/plain": [
       "<Figure size 432x288 with 1 Axes>"
      ]
     },
     "metadata": {
      "needs_background": "light"
     },
     "output_type": "display_data"
    },
    {
     "data": {
      "image/png": "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",
      "text/plain": [
       "<Figure size 432x288 with 1 Axes>"
      ]
     },
     "metadata": {
      "needs_background": "light"
     },
     "output_type": "display_data"
    },
    {
     "data": {
      "image/png": "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",
      "text/plain": [
       "<Figure size 432x288 with 1 Axes>"
      ]
     },
     "metadata": {
      "needs_background": "light"
     },
     "output_type": "display_data"
    },
    {
     "data": {
      "image/png": "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",
      "text/plain": [
       "<Figure size 432x288 with 1 Axes>"
      ]
     },
     "metadata": {
      "needs_background": "light"
     },
     "output_type": "display_data"
    },
    {
     "data": {
      "image/png": "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",
      "text/plain": [
       "<Figure size 432x288 with 1 Axes>"
      ]
     },
     "metadata": {
      "needs_background": "light"
     },
     "output_type": "display_data"
    },
    {
     "data": {
      "image/png": "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",
      "text/plain": [
       "<Figure size 432x288 with 1 Axes>"
      ]
     },
     "metadata": {
      "needs_background": "light"
     },
     "output_type": "display_data"
    },
    {
     "data": {
      "image/png": "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",
      "text/plain": [
       "<Figure size 432x288 with 1 Axes>"
      ]
     },
     "metadata": {
      "needs_background": "light"
     },
     "output_type": "display_data"
    },
    {
     "data": {
      "image/png": "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",
      "text/plain": [
       "<Figure size 432x288 with 1 Axes>"
      ]
     },
     "metadata": {
      "needs_background": "light"
     },
     "output_type": "display_data"
    },
    {
     "data": {
      "image/png": "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",
      "text/plain": [
       "<Figure size 432x288 with 1 Axes>"
      ]
     },
     "metadata": {
      "needs_background": "light"
     },
     "output_type": "display_data"
    },
    {
     "data": {
      "image/png": "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",
      "text/plain": [
       "<Figure size 432x288 with 1 Axes>"
      ]
     },
     "metadata": {
      "needs_background": "light"
     },
     "output_type": "display_data"
    },
    {
     "data": {
      "image/png": "iVBORw0KGgoAAAANSUhEUgAAAXoAAAELCAYAAADX3k30AAAAOXRFWHRTb2Z0d2FyZQBNYXRwbG90bGliIHZlcnNpb24zLjUuMiwgaHR0cHM6Ly9tYXRwbG90bGliLm9yZy8qNh9FAAAACXBIWXMAAAsTAAALEwEAmpwYAAAXl0lEQVR4nO3df5Bdd33e8fdjGdlgAwK8uLIkWyJVnSrml7LY4kdaYiDR2tRLG1KkxLijwgglUoGWSaImk4ZmJqnJQJuIaqQqiQIKYGEMHragIKeEmDqJQPIv2bKszloxaC2B1zYWBifIgqd/nCO4rFZ7z0p3773++nnN3Nl7vt/vuedztFfPnnt+3CPbREREuc7qdQERETGzEvQREYVL0EdEFC5BHxFRuAR9REThEvQREYVL0EdEFC5BH1GT9H5JH5vG+NdLGpvJmiI6IUEfEVG4BH08I0n6DUkPSXpC0gFJVwO/CbxN0nck3V2PWyVpfz3uoKR31e3nAX8BXFSP/46kiySdJWm9pAckPSrpRkkv7N2aRiTo4xlI0qXAOuBVtp8L/DxwP/D7wCdtn2/75fXwh4E3A88DVgH/Q9JS298FhoDD9fjzbR8G3g28BfiXwEXAt4CN3Vu7iJMl6OOZ6PvAOcASSc+y/aDtByYbaPvzth9w5VbgFuBnpnjtdwG/ZXvM9veA9wNvlXR2h9chorEEfTzj2B4F3ksVwg9L2i7posnGShqStEvSY5IeB64CLpji5S8Bbpb0eD1+P9Uflgs7twYR05Ogj2ck25+w/TqqYDbwgfrnD0k6B/g08EHgQttzgB2ATrzMJC99CBiyPaflca7th2ZoVSLaStDHM46kSyVdWQf5PwL/QLXV/U1goaQT/y9mU+3iGQeOSxoCfq7lpb4JvEjS81vaNgO/J+mSelkDkoZndo0ippagj2eic4DrgUeAbwAvpjrj5lN1/6OS7rD9BNXB1RupDqr+EjBy4kVs3w/cABysd9VcBPxRPeYWSU8Au4ArurJWEaeg3HgkIqJs2aKPiChcgj4ionAJ+oiIwiXoIyIKl6CPiChcX16WfcEFF3jhwoW9LiMi4mnj9ttvf8T2wGR9fRn0CxcuZM+ePb0uIyLiaUPS107Vl103ERGFS9BHRBQuQR8RUbgEfURE4RL0ERGFS9BHRBQuQR8RUbgEfURE4frygql2Fq7//Bm/xoPXX92BSiIi+t/TMuj7Qf7YRMTTRXbdREQULkEfEVG4BH1EROES9BERhWsU9JKWSzogaVTS+kn6JWlD3b9X0tKWvv8oaZ+keyXdIOncTq5ARERMrW3QS5oFbASGgCXASklLJgwbAhbXj9XApnreecC7gUHblwGzgBUdqz4iItpqcnrl5cCo7YMAkrYDw8B9LWOGgW22DeySNEfS3JZlPFvSU8BzgMMdqz5ymmdEtNVk18084FDL9Fjd1naM7YeADwJfB44AR23fMtlCJK2WtEfSnvHx8ab1R0REG02CXpO0uckYSS+g2tpfBFwEnCfp2skWYnuL7UHbgwMDk972MCIiTkOToB8DFrRMz+fk3S+nGvNG4O9tj9t+CvgM8JrTLzciIqarSdDvBhZLWiRpNtXB1JEJY0aA6+qzb5ZR7aI5QrXLZpmk50gS8AZgfwfrj4iINtoejLV9XNI6YCfVWTNbbe+TtKbu3wzsAK4CRoEngVV131ck3QTcARwH7gS2zMSKRETE5Bp9qZntHVRh3tq2ueW5gbWnmPd3gN85gxojIuIM5MrYiIjCJegjIgqXoI+IKFyCPiKicAn6iIjCJegjIgqXoI+IKFyCPiKicAn6iIjCJegjIgqXoI+IKFyCPiKicAn6iIjCJegjIgqXoI+IKFyjoJe0XNIBSaOS1k/SL0kb6v69kpbW7ZdKuqvl8W1J7+3wOkRExBTa3nhE0ixgI/AmqnvD7pY0Yvu+lmFDwOL6cQWwCbjC9gHgFS2v8xBwcydXICIiptZki/5yYNT2QdvHgO3A8IQxw8A2V3YBcyTNnTDmDcADtr92xlVHRERjTYJ+HnCoZXqsbpvumBXADdMtMCIizkyToNckbZ7OGEmzgWuAT51yIdJqSXsk7RkfH29QVkRENNEk6MeABS3T84HD0xwzBNxh+5unWojtLbYHbQ8ODAw0KCsiIppoEvS7gcWSFtVb5iuAkQljRoDr6rNvlgFHbR9p6V9JdttERPRE27NubB+XtA7YCcwCttreJ2lN3b8Z2AFcBYwCTwKrTswv6TlUZ+y8q/PlR0REO22DHsD2Dqowb23b3PLcwNpTzPsk8KIzqDEiIs5AroyNiChcgj4ionAJ+oiIwiXoIyIKl6CPiChcgj4ionAJ+oiIwiXoIyIKl6CPiChcgj4ionAJ+oiIwiXoIyIKl6CPiChcgj4ionAJ+oiIwiXoIyIK1yjoJS2XdEDSqKT1k/RL0oa6f6+kpS19cyTdJOl+SfslvbqTKxAREVNrG/SSZgEbqW7wvQRYKWnJhGFDwOL6sRrY1NL3R8AXbP8k8HJgfwfqjoiIhpps0V8OjNo+aPsYsB0YnjBmGNjmyi5gjqS5kp4H/AvgTwFsH7P9eOfKj4iIdpoE/TzgUMv0WN3WZMxLgHHgzyTdKelPJJ13BvVGRMQ0NQl6TdLmhmPOBpYCm2y/EvgucNI+fgBJqyXtkbRnfHy8QVkREdFEk6AfAxa0TM8HDjccMwaM2f5K3X4TVfCfxPYW24O2BwcGBprUHhERDTQJ+t3AYkmLJM0GVgAjE8aMANfVZ98sA47aPmL7G8AhSZfW494A3Nep4iMior2z2w2wfVzSOmAnMAvYanufpDV1/2ZgB3AVMAo8CaxqeYn/AHy8/iNxcEJfRETMsLZBD2B7B1WYt7ZtbnluYO0p5r0LGDz9EiMi4kzkytiIiMIl6CMiCpegj4goXII+IqJwCfqIiMIl6CMiCpegj4goXII+IqJwCfqIiMIl6CMiCpegj4goXII+IqJwCfqIiMIl6CMiCpegj4goXII+IqJwjYJe0nJJBySNSjrp5t71LQQ31P17JS1t6XtQ0j2S7pK0p5PFR0REe23vMCVpFrAReBPVzb53Sxqx3Xrv1yFgcf24AthU/zzhZ20/0rGqIyKisSZb9JcDo7YP2j4GbAeGJ4wZBra5sguYI2luh2uNiIjT0CTo5wGHWqbH6ramYwzcIul2SatPt9CIiDg9TW4OrknaPI0xr7V9WNKLgb+UdL/tL5+0kOqPwGqAiy++uEFZERHRRJMt+jFgQcv0fOBw0zG2T/x8GLiZalfQSWxvsT1oe3BgYKBZ9RER0VaToN8NLJa0SNJsYAUwMmHMCHBdffbNMuCo7SOSzpP0XABJ5wE/B9zbwfojIqKNtrtubB+XtA7YCcwCttreJ2lN3b8Z2AFcBYwCTwKr6tkvBG6WdGJZn7D9hY6vRUREnFKTffTY3kEV5q1tm1ueG1g7yXwHgZefYY3R5xau//wZv8aD11/dgUoiYjK5MjYionAJ+oiIwiXoIyIKl6CPiChcgj4ionAJ+oiIwiXoIyIKl6CPiChcgj4ionAJ+oiIwiXoIyIKl6CPiChcgj4ionAJ+oiIwiXoIyIKl6CPiChco6CXtFzSAUmjktZP0i9JG+r+vZKWTuifJelOSZ/rVOEREdFM26CXNAvYCAwBS4CVkpZMGDYELK4fq4FNE/rfA+w/42ojImLammzRXw6M2j5o+xiwHRieMGYY2ObKLmCOpLkAkuYDVwN/0sG6IyKioSZBPw841DI9Vrc1HfOHwK8DP5hqIZJWS9ojac/4+HiDsiIiookmQa9J2txkjKQ3Aw/bvr3dQmxvsT1oe3BgYKBBWRER0USToB8DFrRMzwcONxzzWuAaSQ9S7fK5UtLHTrvaiIiYtiZBvxtYLGmRpNnACmBkwpgR4Lr67JtlwFHbR2z/Z9vzbS+s5/sr29d2cgUiImJqZ7cbYPu4pHXATmAWsNX2Pklr6v7NwA7gKmAUeBJYNXMlR0TEdLQNegDbO6jCvLVtc8tzA2vbvMZfA3897QojGlq4/vNn/BoPXn91ByqJ6C+5MjYionAJ+oiIwiXoIyIKl6CPiChco4OxEdFMDghHP8oWfURE4RL0ERGFS9BHRBQuQR8RUbgEfURE4XLWTUSBcvZPtMoWfURE4RL0ERGFS9BHRBQuQR8RUbhGQS9puaQDkkYlrZ+kX5I21P17JS2t28+V9FVJd0vaJ+m/dnoFIiJiam2DXtIsYCMwBCwBVkpaMmHYELC4fqwGNtXt3wOutP1y4BXA8vpWgxER0SVNtugvB0ZtH7R9jOom38MTxgwD21zZBcyRNLee/k495ln1w50qPiIi2msS9POAQy3TY3VbozGSZkm6C3gY+EvbXzntaiMiYtqaXDClSdombpWfcozt7wOvkDQHuFnSZbbvPWkh0mqq3T5cfPHFDcqKiH6Wi7b6R5Mt+jFgQcv0fODwdMfYfpzq5uDLJ1uI7S22B20PDgwMNCgrIiKaaLJFvxtYLGkR8BCwAvilCWNGgHWStgNXAEdtH5E0ADxl+3FJzwbeCHygc+VHREwtnywaBL3t45LWATuBWcBW2/skran7NwM7gKuAUeBJYFU9+1zgo/WZO2cBN9r+XOdXIyKif/X6j02jLzWzvYMqzFvbNrc8N7B2kvn2Aq887eoiIuKM5crYiIjCJegjIgqXoI+IKFyCPiKicAn6iIjCJegjIgqXoI+IKFyCPiKicAn6iIjCJegjIgqXoI+IKFyCPiKicAn6iIjCJegjIgqXoI+IKFyCPiKicI2CXtJySQckjUpaP0m/JG2o+/dKWlq3L5D0JUn7Je2T9J5Or0BEREytbdDXtwHcCAwBS4CVkpZMGDYELK4fq4FNdftx4H22/zmwDFg7ybwRETGDmmzRXw6M2j5o+xiwHRieMGYY2ObKLmCOpLm2j9i+A8D2E8B+YF4H64+IiDaaBP084FDL9Bgnh3XbMZIWUt0/9ivTrjIiIk5bk6DXJG2ezhhJ5wOfBt5r+9uTLkRaLWmPpD3j4+MNyoqIiCaaBP0YsKBlej5wuOkYSc+iCvmP2/7MqRZie4vtQduDAwMDTWqPiIgGmgT9bmCxpEWSZgMrgJEJY0aA6+qzb5YBR20fkSTgT4H9tv97RyuPiIhGzm43wPZxSeuAncAsYKvtfZLW1P2bgR3AVcAo8CSwqp79tcDbgXsk3VW3/abtHR1di4iIOKW2QQ9QB/OOCW2bW54bWDvJfLcx+f77iIjoklwZGxFRuAR9REThEvQREYVL0EdEFC5BHxFRuAR9REThEvQREYVL0EdEFC5BHxFRuAR9REThEvQREYVL0EdEFC5BHxFRuAR9REThEvQREYVL0EdEFK5R0EtaLumApFFJ6yfpl6QNdf9eSUtb+rZKeljSvZ0sPCIimmkb9JJmARuBIWAJsFLSkgnDhoDF9WM1sKml7yPA8k4UGxER09dki/5yYNT2QdvHgO3A8IQxw8A2V3YBcyTNBbD9ZeCxThYdERHNNQn6ecChlumxum26YyIiogeaBP1kN/f2aYyZeiHSakl7JO0ZHx+fzqwRETGFJkE/BixomZ4PHD6NMVOyvcX2oO3BgYGB6cwaERFTaBL0u4HFkhZJmg2sAEYmjBkBrqvPvlkGHLV9pMO1RkTEaWgb9LaPA+uAncB+4Ebb+yStkbSmHrYDOAiMAn8M/OqJ+SXdAPwdcKmkMUnv6PA6RETEFM5uMsj2Dqowb23b3PLcwNpTzLvyTAqMiIgzkytjIyIKl6CPiChcgj4ionAJ+oiIwiXoIyIKl6CPiChcgj4ionAJ+oiIwiXoIyIKl6CPiChcgj4ionAJ+oiIwiXoIyIKl6CPiChcgj4ionAJ+oiIwjUKeknLJR2QNCpp/ST9krSh7t8raWnTeSMiYma1DXpJs4CNwBCwBFgpacmEYUPA4vqxGtg0jXkjImIGNdmivxwYtX3Q9jFgOzA8YcwwsM2VXcAcSXMbzhsRETNI1e1epxggvRVYbvud9fTbgStsr2sZ8zngetu31dNfBH4DWNhu3pbXWE31aQDgUuDAGazXBcAjZzB/p/RDHf1QA/RHHf1QA/RHHf1QA/RHHf1QA5x5HZfYHpiso8nNwTVJ28S/Dqca02TeqtHeAmxpUE9bkvbYHuzEaz3d6+iHGvqljn6ooV/q6Ica+qWOfqhhputoEvRjwIKW6fnA4YZjZjeYNyIiZlCTffS7gcWSFkmaDawARiaMGQGuq8++WQYctX2k4bwRETGD2m7R2z4uaR2wE5gFbLW9T9Kaun8zsAO4ChgFngRWTTXvjKzJj+vILqAO6Ic6+qEG6I86+qEG6I86+qEG6I86+qEGmME62h6MjYiIp7dcGRsRUbgEfURE4RL0ERGFS9AXRtKLJ2m7tBe1RER/KOZgrKQBqqtxlwDnnmi3fWUXlr1hqn7b757pGlpqOQD8tu0b6+n3Ae+w3fXvGJK0CDhi+x/r6WcDF9p+sAvL/nXbfyDpw0xykV6XfyfnAu8Afooff2/++27VUNdxDvALVFes//CMO9u/2+U6XjNJDdu6XMN84MPA64AfALcB77E91s066lpezI+/L77e6WU0uWDq6eLjwCeBq4E1wL8Dxru07H8D/BbwAuBbXVrmqbwe2CLpF4ELgf1U3znUC58CXtMy/f267VVdWPb++uceTnE1dhf9OXA/8PPA7wK/zI/q66bPAkeB24Hv9WD5SPpz4CeAu6jeD1D9froa9MCfAZ8AfrGevrZue1O3CpB0DfAh4CLgYeASqvfFT3V8YbaLeAC31z/3trTd2qVl31f/ku4GXjjx0YN/i7VUVyt/HXhtD38nd03SdneXa3gVcDNwJ3BP/djb5RrurH/urX8+C/irHvw+7u3Ve6Glhv3UexJ6XMddTdpmuIa7gRe1vD9+FtgyE8sqaYv+qfrnEUlXU33VwvwuLXsz8AXgJVRbkCeIamvlJV2qA0m3AN8ALqNa/62SbrX9a92qocW4pGtsj9S1DdP9L4/6GPBrVAH/gy4v+4QT783HJV1G9ftZ2IM6/lbSS23f04Nln3Av8E+AIz2sAeARSdcCN9TTK4FHu1zDU7YflXSWpLNsf0nSB2ZiQSXto38z8H+pvlvnw8DzgPfb/t9drGGT7V/p1vJOUcP/s/3PWqbPBr5ne1YPavkJql1qF9VNY8DbbT/QxRpus/26bi3vFDW8E/g08FLgI8D5VMdR/leXln8P1QbH2VT3jDhItetGgG2/rBt11LV8CXgF8FVadh/ZvqZbNdR1XAz8T+DVVP82fwu82zOwf3yKGv4P8Bbgeqot+4eBV9l+zVTzndayCgr6j1IdTHm8nn4h8EF3+YBXr0m6w/bSCW332H5pD2o5B3grsIjq+MW3qYKlawf/JL2Bamvti/x4sHymizW8jx8dJzjxja6PU+1uvKsLy7+kZfIFwM/Uz78MPG77azNdQ0stX6X6hPXDJuADtq/oVg11HR8F3mv7W/V01/NC0n8BtlJ9urkWeD7wcdsd/2RR0q6bl50IeQDbj0l6ZQ/r6SpJvwL8KvASSXtbup4L/E1vquKzVIF2B7371tJVwE9S7Rc/sevGQNeCHvhpYBA48enyaqov/Fsj6VO2/2AmF34iyCW9B3gn1bqL6iDxH1N9Au6Ws23f2tpQn43VbS87EfLQs7wQ1feAPUZ1U6ZPzkTIQ1lb9HcDr5/wF/rWXmzJ9oKk51Ntrf03oPXevE/YfqxHNd1r+7JeLLulhp58mplQw07gF2x/p54+H7gJ+NdUW/VdOfW13gB4te3v1tPnAX/XjV03rRsiQOuuu+cCf2P72pmuYUI9fZMXkl4GvI3q1Ncx22/s9DJK2qL/ENXBppuottj+LfB7vS2pe2wfpTp1bmWva2nRDwf/dklaYvu+HtZwMXCsZfopqrsB/YOkbp7mKH50SiP188luDjQTPgH8Bf2zIdJPefEw1QH6R4GTLnjshGK26AHqG49fSfXm/WKP/3M/40m6D/inwN/Tu4N/+6nO2+5lDb9NtfX+2brpX1Hdl+FDVKfT/XKX6vhPVNeX3Fw3vQX4iO0/7Mby+02v86L+lPM2YIDqE94nZ6qGooI++suEg4A/1OWDfz2voa7jp6muwhRwm+09bWaZqTqWttTxZdt39qKOAEnXA9u7ckA+QR8RUbZ8qVlEROES9BERhUvQR0QULkEfEVG4BH1EROH+P8GlgX1pOQkTAAAAAElFTkSuQmCC",
      "text/plain": [
       "<Figure size 432x288 with 1 Axes>"
      ]
     },
     "metadata": {
      "needs_background": "light"
     },
     "output_type": "display_data"
    },
    {
     "data": {
      "image/png": "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",
      "text/plain": [
       "<Figure size 432x288 with 1 Axes>"
      ]
     },
     "metadata": {
      "needs_background": "light"
     },
     "output_type": "display_data"
    },
    {
     "data": {
      "image/png": "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",
      "text/plain": [
       "<Figure size 432x288 with 1 Axes>"
      ]
     },
     "metadata": {
      "needs_background": "light"
     },
     "output_type": "display_data"
    },
    {
     "data": {
      "image/png": "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",
      "text/plain": [
       "<Figure size 432x288 with 1 Axes>"
      ]
     },
     "metadata": {
      "needs_background": "light"
     },
     "output_type": "display_data"
    },
    {
     "data": {
      "image/png": "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",
      "text/plain": [
       "<Figure size 432x288 with 1 Axes>"
      ]
     },
     "metadata": {
      "needs_background": "light"
     },
     "output_type": "display_data"
    },
    {
     "data": {
      "image/png": "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",
      "text/plain": [
       "<Figure size 432x288 with 1 Axes>"
      ]
     },
     "metadata": {
      "needs_background": "light"
     },
     "output_type": "display_data"
    }
   ],
   "source": [
    "barplot(df,freq=True)"
   ]
  },
  {
   "attachments": {},
   "cell_type": "markdown",
   "metadata": {},
   "source": [
    "## Test Script"
   ]
  },
  {
   "cell_type": "code",
   "execution_count": 1,
   "metadata": {},
   "outputs": [],
   "source": [
    "from feature_generation import preprocessing\n",
    "preprocessing(data=\"sandbox\", target=\"price\",\n",
    "                    drop_features =[\"id\", \"url\", \"region_url\", \"image_url\", \"description\"],\n",
    "                    skip_log=[\"beds\",\"baths\",\"lat\",\"long\"],\n",
    "                    skip_outliers=[\"lat\",\"long\"])"
   ]
  },
  {
   "cell_type": "code",
   "execution_count": 5,
   "metadata": {},
   "outputs": [
    {
     "data": {
      "text/plain": [
       "[('houses',), ('sandbox',), ('sandbox_preprocessed',)]"
      ]
     },
     "execution_count": 5,
     "metadata": {},
     "output_type": "execute_result"
    }
   ],
   "source": [
    "con = duckdb.connect('data/exploitation.db')\n",
    "con.execute(\"show tables\").fetchall()"
   ]
  },
  {
   "cell_type": "code",
   "execution_count": 6,
   "metadata": {},
   "outputs": [],
   "source": [
    "df = con.execute(\"select * from sandbox_preprocessed\").df()"
   ]
  },
  {
   "cell_type": "code",
   "execution_count": 7,
   "metadata": {},
   "outputs": [
    {
     "data": {
      "text/html": [
       "<div>\n",
       "<style scoped>\n",
       "    .dataframe tbody tr th:only-of-type {\n",
       "        vertical-align: middle;\n",
       "    }\n",
       "\n",
       "    .dataframe tbody tr th {\n",
       "        vertical-align: top;\n",
       "    }\n",
       "\n",
       "    .dataframe thead th {\n",
       "        text-align: right;\n",
       "    }\n",
       "</style>\n",
       "<table border=\"1\" class=\"dataframe\">\n",
       "  <thead>\n",
       "    <tr style=\"text-align: right;\">\n",
       "      <th></th>\n",
       "      <th>0</th>\n",
       "      <th>1</th>\n",
       "      <th>2</th>\n",
       "      <th>3</th>\n",
       "      <th>4</th>\n",
       "    </tr>\n",
       "  </thead>\n",
       "  <tbody>\n",
       "    <tr>\n",
       "      <th>region</th>\n",
       "      <td>decatur</td>\n",
       "      <td>hawaii</td>\n",
       "      <td>hawaii</td>\n",
       "      <td>decatur</td>\n",
       "      <td>hawaii</td>\n",
       "    </tr>\n",
       "    <tr>\n",
       "      <th>price</th>\n",
       "      <td>6.872128</td>\n",
       "      <td>6.672033</td>\n",
       "      <td>6.672033</td>\n",
       "      <td>6.698268</td>\n",
       "      <td>6.672033</td>\n",
       "    </tr>\n",
       "    <tr>\n",
       "      <th>type</th>\n",
       "      <td>apartment</td>\n",
       "      <td>apartment</td>\n",
       "      <td>apartment</td>\n",
       "      <td>apartment</td>\n",
       "      <td>house</td>\n",
       "    </tr>\n",
       "    <tr>\n",
       "      <th>sqfeet</th>\n",
       "      <td>7.121252</td>\n",
       "      <td>6.677083</td>\n",
       "      <td>6.677083</td>\n",
       "      <td>6.920672</td>\n",
       "      <td>6.677083</td>\n",
       "    </tr>\n",
       "    <tr>\n",
       "      <th>beds</th>\n",
       "      <td>3.0</td>\n",
       "      <td>1.0</td>\n",
       "      <td>1.0</td>\n",
       "      <td>2.0</td>\n",
       "      <td>1.0</td>\n",
       "    </tr>\n",
       "    <tr>\n",
       "      <th>baths</th>\n",
       "      <td>2.0</td>\n",
       "      <td>1.0</td>\n",
       "      <td>1.0</td>\n",
       "      <td>2.0</td>\n",
       "      <td>1.0</td>\n",
       "    </tr>\n",
       "    <tr>\n",
       "      <th>cats_allowed</th>\n",
       "      <td>Yes</td>\n",
       "      <td>No</td>\n",
       "      <td>No</td>\n",
       "      <td>Yes</td>\n",
       "      <td>No</td>\n",
       "    </tr>\n",
       "    <tr>\n",
       "      <th>dogs_allowed</th>\n",
       "      <td>Yes</td>\n",
       "      <td>No</td>\n",
       "      <td>No</td>\n",
       "      <td>Yes</td>\n",
       "      <td>No</td>\n",
       "    </tr>\n",
       "    <tr>\n",
       "      <th>smoking_allowed</th>\n",
       "      <td>Yes</td>\n",
       "      <td>No</td>\n",
       "      <td>Yes</td>\n",
       "      <td>Yes</td>\n",
       "      <td>No</td>\n",
       "    </tr>\n",
       "    <tr>\n",
       "      <th>wheelchair_access</th>\n",
       "      <td>No</td>\n",
       "      <td>No</td>\n",
       "      <td>No</td>\n",
       "      <td>No</td>\n",
       "      <td>No</td>\n",
       "    </tr>\n",
       "    <tr>\n",
       "      <th>electric_vehicle_charge</th>\n",
       "      <td>No</td>\n",
       "      <td>No</td>\n",
       "      <td>No</td>\n",
       "      <td>No</td>\n",
       "      <td>No</td>\n",
       "    </tr>\n",
       "    <tr>\n",
       "      <th>comes_furnished</th>\n",
       "      <td>No</td>\n",
       "      <td>No</td>\n",
       "      <td>No</td>\n",
       "      <td>No</td>\n",
       "      <td>No</td>\n",
       "    </tr>\n",
       "    <tr>\n",
       "      <th>laundry_options</th>\n",
       "      <td>laundry in bldg</td>\n",
       "      <td>w/d in unit</td>\n",
       "      <td>no laundry on site</td>\n",
       "      <td>laundry in bldg</td>\n",
       "      <td>laundry on site</td>\n",
       "    </tr>\n",
       "    <tr>\n",
       "      <th>parking_options</th>\n",
       "      <td>off-street parking</td>\n",
       "      <td>unknow</td>\n",
       "      <td>carport</td>\n",
       "      <td>off-street parking</td>\n",
       "      <td>attached garage</td>\n",
       "    </tr>\n",
       "    <tr>\n",
       "      <th>lat</th>\n",
       "      <td>39.011</td>\n",
       "      <td>39.011</td>\n",
       "      <td>39.011</td>\n",
       "      <td>39.011</td>\n",
       "      <td>39.011</td>\n",
       "    </tr>\n",
       "    <tr>\n",
       "      <th>long</th>\n",
       "      <td>-96.8583</td>\n",
       "      <td>-96.8583</td>\n",
       "      <td>-96.8583</td>\n",
       "      <td>-96.8583</td>\n",
       "      <td>-96.8583</td>\n",
       "    </tr>\n",
       "    <tr>\n",
       "      <th>state</th>\n",
       "      <td>il</td>\n",
       "      <td>hi</td>\n",
       "      <td>hi</td>\n",
       "      <td>il</td>\n",
       "      <td>hi</td>\n",
       "    </tr>\n",
       "    <tr>\n",
       "      <th>num_hospitals</th>\n",
       "      <td>1141.0</td>\n",
       "      <td>1141.0</td>\n",
       "      <td>1141.0</td>\n",
       "      <td>1141.0</td>\n",
       "      <td>1141.0</td>\n",
       "    </tr>\n",
       "    <tr>\n",
       "      <th>num_beds</th>\n",
       "      <td>10.98817</td>\n",
       "      <td>10.98817</td>\n",
       "      <td>10.98817</td>\n",
       "      <td>10.98817</td>\n",
       "      <td>10.98817</td>\n",
       "    </tr>\n",
       "    <tr>\n",
       "      <th>hospital_type_general</th>\n",
       "      <td>6.194405</td>\n",
       "      <td>6.194405</td>\n",
       "      <td>6.194405</td>\n",
       "      <td>6.194405</td>\n",
       "      <td>6.194405</td>\n",
       "    </tr>\n",
       "    <tr>\n",
       "      <th>hospital_type_critical</th>\n",
       "      <td>6.194405</td>\n",
       "      <td>6.194405</td>\n",
       "      <td>6.194405</td>\n",
       "      <td>6.194405</td>\n",
       "      <td>6.194405</td>\n",
       "    </tr>\n",
       "    <tr>\n",
       "      <th>hospital_type_psychiatric</th>\n",
       "      <td>0.0</td>\n",
       "      <td>0.0</td>\n",
       "      <td>0.0</td>\n",
       "      <td>0.0</td>\n",
       "      <td>0.0</td>\n",
       "    </tr>\n",
       "    <tr>\n",
       "      <th>hospital_type_longterm</th>\n",
       "      <td>0.0</td>\n",
       "      <td>0.0</td>\n",
       "      <td>0.0</td>\n",
       "      <td>0.0</td>\n",
       "      <td>0.0</td>\n",
       "    </tr>\n",
       "    <tr>\n",
       "      <th>hospital_type_children</th>\n",
       "      <td>0.0</td>\n",
       "      <td>0.0</td>\n",
       "      <td>0.0</td>\n",
       "      <td>0.0</td>\n",
       "      <td>0.0</td>\n",
       "    </tr>\n",
       "    <tr>\n",
       "      <th>government_hospital</th>\n",
       "      <td>6.704414</td>\n",
       "      <td>6.704414</td>\n",
       "      <td>6.704414</td>\n",
       "      <td>6.704414</td>\n",
       "      <td>6.704414</td>\n",
       "    </tr>\n",
       "    <tr>\n",
       "      <th>nonprofit_hospital</th>\n",
       "      <td>5.099866</td>\n",
       "      <td>5.099866</td>\n",
       "      <td>5.099866</td>\n",
       "      <td>5.099866</td>\n",
       "      <td>5.099866</td>\n",
       "    </tr>\n",
       "    <tr>\n",
       "      <th>private_hospital</th>\n",
       "      <td>5.099866</td>\n",
       "      <td>5.099866</td>\n",
       "      <td>5.099866</td>\n",
       "      <td>5.099866</td>\n",
       "      <td>5.099866</td>\n",
       "    </tr>\n",
       "    <tr>\n",
       "      <th>num_schools</th>\n",
       "      <td>8802.0</td>\n",
       "      <td>8802.0</td>\n",
       "      <td>8802.0</td>\n",
       "      <td>8802.0</td>\n",
       "      <td>8802.0</td>\n",
       "    </tr>\n",
       "    <tr>\n",
       "      <th>num_students</th>\n",
       "      <td>15.012176</td>\n",
       "      <td>15.012176</td>\n",
       "      <td>15.012176</td>\n",
       "      <td>15.012176</td>\n",
       "      <td>15.012176</td>\n",
       "    </tr>\n",
       "    <tr>\n",
       "      <th>preschool</th>\n",
       "      <td>8.649274</td>\n",
       "      <td>8.649274</td>\n",
       "      <td>8.649274</td>\n",
       "      <td>8.649274</td>\n",
       "      <td>8.649274</td>\n",
       "    </tr>\n",
       "    <tr>\n",
       "      <th>elementary_school</th>\n",
       "      <td>7.291656</td>\n",
       "      <td>7.291656</td>\n",
       "      <td>7.291656</td>\n",
       "      <td>7.291656</td>\n",
       "      <td>7.291656</td>\n",
       "    </tr>\n",
       "    <tr>\n",
       "      <th>middle_school</th>\n",
       "      <td>7.396949</td>\n",
       "      <td>7.396949</td>\n",
       "      <td>7.396949</td>\n",
       "      <td>7.396949</td>\n",
       "      <td>7.396949</td>\n",
       "    </tr>\n",
       "    <tr>\n",
       "      <th>high_school</th>\n",
       "      <td>0.0</td>\n",
       "      <td>0.0</td>\n",
       "      <td>0.0</td>\n",
       "      <td>0.0</td>\n",
       "      <td>0.0</td>\n",
       "    </tr>\n",
       "    <tr>\n",
       "      <th>N_baths</th>\n",
       "      <td>2.0</td>\n",
       "      <td>1.0</td>\n",
       "      <td>1.0</td>\n",
       "      <td>2.0</td>\n",
       "      <td>1.0</td>\n",
       "    </tr>\n",
       "    <tr>\n",
       "      <th>half_baths</th>\n",
       "      <td>No</td>\n",
       "      <td>No</td>\n",
       "      <td>No</td>\n",
       "      <td>No</td>\n",
       "      <td>No</td>\n",
       "    </tr>\n",
       "    <tr>\n",
       "      <th>b_hospital_type_critical</th>\n",
       "      <td>Yes</td>\n",
       "      <td>Yes</td>\n",
       "      <td>Yes</td>\n",
       "      <td>Yes</td>\n",
       "      <td>Yes</td>\n",
       "    </tr>\n",
       "    <tr>\n",
       "      <th>b_hospital_type_longterm</th>\n",
       "      <td>No</td>\n",
       "      <td>No</td>\n",
       "      <td>No</td>\n",
       "      <td>No</td>\n",
       "      <td>No</td>\n",
       "    </tr>\n",
       "    <tr>\n",
       "      <th>b_hospital_type_children</th>\n",
       "      <td>No</td>\n",
       "      <td>No</td>\n",
       "      <td>No</td>\n",
       "      <td>No</td>\n",
       "      <td>No</td>\n",
       "    </tr>\n",
       "    <tr>\n",
       "      <th>b_type</th>\n",
       "      <td>Apartment</td>\n",
       "      <td>Apartment</td>\n",
       "      <td>Apartment</td>\n",
       "      <td>Apartment</td>\n",
       "      <td>No-Apartment</td>\n",
       "    </tr>\n",
       "  </tbody>\n",
       "</table>\n",
       "</div>"
      ],
      "text/plain": [
       "                                            0            1  \\\n",
       "region                                decatur       hawaii   \n",
       "price                                6.872128     6.672033   \n",
       "type                                apartment    apartment   \n",
       "sqfeet                               7.121252     6.677083   \n",
       "beds                                      3.0          1.0   \n",
       "baths                                     2.0          1.0   \n",
       "cats_allowed                              Yes           No   \n",
       "dogs_allowed                              Yes           No   \n",
       "smoking_allowed                           Yes           No   \n",
       "wheelchair_access                          No           No   \n",
       "electric_vehicle_charge                    No           No   \n",
       "comes_furnished                            No           No   \n",
       "laundry_options               laundry in bldg  w/d in unit   \n",
       "parking_options            off-street parking       unknow   \n",
       "lat                                    39.011       39.011   \n",
       "long                                 -96.8583     -96.8583   \n",
       "state                                      il           hi   \n",
       "num_hospitals                          1141.0       1141.0   \n",
       "num_beds                             10.98817     10.98817   \n",
       "hospital_type_general                6.194405     6.194405   \n",
       "hospital_type_critical               6.194405     6.194405   \n",
       "hospital_type_psychiatric                 0.0          0.0   \n",
       "hospital_type_longterm                    0.0          0.0   \n",
       "hospital_type_children                    0.0          0.0   \n",
       "government_hospital                  6.704414     6.704414   \n",
       "nonprofit_hospital                   5.099866     5.099866   \n",
       "private_hospital                     5.099866     5.099866   \n",
       "num_schools                            8802.0       8802.0   \n",
       "num_students                        15.012176    15.012176   \n",
       "preschool                            8.649274     8.649274   \n",
       "elementary_school                    7.291656     7.291656   \n",
       "middle_school                        7.396949     7.396949   \n",
       "high_school                               0.0          0.0   \n",
       "N_baths                                   2.0          1.0   \n",
       "half_baths                                 No           No   \n",
       "b_hospital_type_critical                  Yes          Yes   \n",
       "b_hospital_type_longterm                   No           No   \n",
       "b_hospital_type_children                   No           No   \n",
       "b_type                              Apartment    Apartment   \n",
       "\n",
       "                                            2                   3  \\\n",
       "region                                 hawaii             decatur   \n",
       "price                                6.672033            6.698268   \n",
       "type                                apartment           apartment   \n",
       "sqfeet                               6.677083            6.920672   \n",
       "beds                                      1.0                 2.0   \n",
       "baths                                     1.0                 2.0   \n",
       "cats_allowed                               No                 Yes   \n",
       "dogs_allowed                               No                 Yes   \n",
       "smoking_allowed                           Yes                 Yes   \n",
       "wheelchair_access                          No                  No   \n",
       "electric_vehicle_charge                    No                  No   \n",
       "comes_furnished                            No                  No   \n",
       "laundry_options            no laundry on site     laundry in bldg   \n",
       "parking_options                       carport  off-street parking   \n",
       "lat                                    39.011              39.011   \n",
       "long                                 -96.8583            -96.8583   \n",
       "state                                      hi                  il   \n",
       "num_hospitals                          1141.0              1141.0   \n",
       "num_beds                             10.98817            10.98817   \n",
       "hospital_type_general                6.194405            6.194405   \n",
       "hospital_type_critical               6.194405            6.194405   \n",
       "hospital_type_psychiatric                 0.0                 0.0   \n",
       "hospital_type_longterm                    0.0                 0.0   \n",
       "hospital_type_children                    0.0                 0.0   \n",
       "government_hospital                  6.704414            6.704414   \n",
       "nonprofit_hospital                   5.099866            5.099866   \n",
       "private_hospital                     5.099866            5.099866   \n",
       "num_schools                            8802.0              8802.0   \n",
       "num_students                        15.012176           15.012176   \n",
       "preschool                            8.649274            8.649274   \n",
       "elementary_school                    7.291656            7.291656   \n",
       "middle_school                        7.396949            7.396949   \n",
       "high_school                               0.0                 0.0   \n",
       "N_baths                                   1.0                 2.0   \n",
       "half_baths                                 No                  No   \n",
       "b_hospital_type_critical                  Yes                 Yes   \n",
       "b_hospital_type_longterm                   No                  No   \n",
       "b_hospital_type_children                   No                  No   \n",
       "b_type                              Apartment           Apartment   \n",
       "\n",
       "                                         4  \n",
       "region                              hawaii  \n",
       "price                             6.672033  \n",
       "type                                 house  \n",
       "sqfeet                            6.677083  \n",
       "beds                                   1.0  \n",
       "baths                                  1.0  \n",
       "cats_allowed                            No  \n",
       "dogs_allowed                            No  \n",
       "smoking_allowed                         No  \n",
       "wheelchair_access                       No  \n",
       "electric_vehicle_charge                 No  \n",
       "comes_furnished                         No  \n",
       "laundry_options            laundry on site  \n",
       "parking_options            attached garage  \n",
       "lat                                 39.011  \n",
       "long                              -96.8583  \n",
       "state                                   hi  \n",
       "num_hospitals                       1141.0  \n",
       "num_beds                          10.98817  \n",
       "hospital_type_general             6.194405  \n",
       "hospital_type_critical            6.194405  \n",
       "hospital_type_psychiatric              0.0  \n",
       "hospital_type_longterm                 0.0  \n",
       "hospital_type_children                 0.0  \n",
       "government_hospital               6.704414  \n",
       "nonprofit_hospital                5.099866  \n",
       "private_hospital                  5.099866  \n",
       "num_schools                         8802.0  \n",
       "num_students                     15.012176  \n",
       "preschool                         8.649274  \n",
       "elementary_school                 7.291656  \n",
       "middle_school                     7.396949  \n",
       "high_school                            0.0  \n",
       "N_baths                                1.0  \n",
       "half_baths                              No  \n",
       "b_hospital_type_critical               Yes  \n",
       "b_hospital_type_longterm                No  \n",
       "b_hospital_type_children                No  \n",
       "b_type                        No-Apartment  "
      ]
     },
     "execution_count": 7,
     "metadata": {},
     "output_type": "execute_result"
    }
   ],
   "source": [
    "df.head().transpose()"
   ]
  }
 ],
 "metadata": {
  "kernelspec": {
   "display_name": "Python 3",
   "language": "python",
   "name": "python3"
  },
  "language_info": {
   "codemirror_mode": {
    "name": "ipython",
    "version": 3
   },
   "file_extension": ".py",
   "mimetype": "text/x-python",
   "name": "python",
   "nbconvert_exporter": "python",
   "pygments_lexer": "ipython3",
   "version": "3.9.13 (tags/v3.9.13:6de2ca5, May 17 2022, 16:36:42) [MSC v.1929 64 bit (AMD64)]"
  },
  "orig_nbformat": 4,
  "vscode": {
   "interpreter": {
    "hash": "ea9b272258afa1abfc4795a9ba2332d37b8bbd34a23cf80cd4efcdd03ce744c2"
   }
  }
 },
 "nbformat": 4,
 "nbformat_minor": 2
}
