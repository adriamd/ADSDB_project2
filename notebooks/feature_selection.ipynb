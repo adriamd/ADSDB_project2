{
 "cells": [
  {
   "cell_type": "code",
   "execution_count": 92,
   "metadata": {},
   "outputs": [],
   "source": [
    "import os\n",
    "if os.getcwd().replace(\"\\\\\", \"/\").split(\"/\")[-1] in [\"notebooks\", \"scripts\"]:\n",
    "    os.chdir(\"..\")"
   ]
  },
  {
   "cell_type": "code",
   "execution_count": 93,
   "metadata": {},
   "outputs": [],
   "source": [
    "import duckdb\n",
    "import pandas as pd\n",
    "import numpy as np\n",
    "from time import time"
   ]
  },
  {
   "cell_type": "code",
   "execution_count": 94,
   "metadata": {},
   "outputs": [],
   "source": [
    "import duckdb\n",
    "import json\n",
    "import os\n",
    "import pandas as pd\n",
    "import matplotlib.pyplot as plt\n",
    "import seaborn as sns\n",
    "import numpy as np\n",
    "import math"
   ]
  },
  {
   "cell_type": "code",
   "execution_count": 95,
   "metadata": {},
   "outputs": [],
   "source": [
    "con = duckdb.connect('data/exploitation.db')\n",
    "df = con.execute(\"select * from sandbox_T_apartment_S_ca_preprocessed\").df()"
   ]
  },
  {
   "cell_type": "code",
   "execution_count": null,
   "metadata": {},
   "outputs": [],
   "source": []
  },
  {
   "cell_type": "code",
   "execution_count": 96,
   "metadata": {},
   "outputs": [],
   "source": [
    "from sklearn.preprocessing import OneHotEncoder, StandardScaler\n",
    "\n",
    "# select columns\n",
    "y_col = 'price'\n",
    "x_cols_binary = ['cats_allowed', 'dogs_allowed', 'smoking_allowed', 'wheelchair_access', 'electric_vehicle_charge', 'comes_furnished']\n",
    "x_cols_numeric = [\n",
    "    'sqfeet', 'beds', 'baths','lat', 'long','num_hospitals', 'num_beds', 'hospital_type_general', 'hospital_type_critical',\n",
    "    'hospital_type_psychiatric', 'hospital_type_longterm', 'hospital_type_children','government_hospital', 'nonprofit_hospital',\n",
    "    'num_schools', 'num_students', 'preschool', 'elementary_school', 'middle_school', 'high_school'\n",
    "]\n",
    "x_cols_onehot = ['type', 'state']"
   ]
  },
  {
   "cell_type": "code",
   "execution_count": 97,
   "metadata": {},
   "outputs": [
    {
     "name": "stdout",
     "output_type": "stream",
     "text": [
      "col:  type\n",
      "name:  type_apartment\n",
      "col:  state\n",
      "name:  state_ca\n"
     ]
    }
   ],
   "source": [
    "# make everything numeric and scaled\n",
    "bin2num = lambda x: 1 if x=='Yes' or x==1 else 0\n",
    "for col in x_cols_binary:\n",
    "    df[col] = df[col].apply(bin2num)\n",
    "\n",
    "# one-hot encoding in categorical variables\n",
    "enc = OneHotEncoder(handle_unknown='ignore')\n",
    "enc.fit(df[x_cols_onehot])\n",
    "\n",
    "cols_encoded = []\n",
    "for i in range(len(x_cols_onehot)):\n",
    "  col = x_cols_onehot[i]\n",
    "  print(\"col: \", col)\n",
    "  for name in enc.categories_[i]:\n",
    "    cols_encoded.append(str(col+'_'+name[0:].strip()).lower().strip())\n",
    "    print(\"name: \", str(col+'_'+name[0:].strip()).lower().strip())\n",
    "\n",
    "df_onehot_encoded = pd.DataFrame(enc.transform(df[x_cols_onehot]).toarray(), columns = cols_encoded)\n",
    "\n",
    "# scaling numerical variables:\n",
    "scaler = StandardScaler()\n",
    "df_scaled = pd.DataFrame(scaler.fit_transform(df[x_cols_numeric]), columns = x_cols_numeric)\n",
    "\n"
   ]
  },
  {
   "cell_type": "code",
   "execution_count": 98,
   "metadata": {},
   "outputs": [
    {
     "name": "stdout",
     "output_type": "stream",
     "text": [
      "['type' 'state']\n",
      "[array(['apartment'], dtype=object), array(['ca'], dtype=object)]\n",
      "['sqfeet' 'beds' 'baths' 'lat' 'long' 'num_hospitals' 'num_beds'\n",
      " 'hospital_type_general' 'hospital_type_critical'\n",
      " 'hospital_type_psychiatric' 'hospital_type_longterm'\n",
      " 'hospital_type_children' 'government_hospital' 'nonprofit_hospital'\n",
      " 'num_schools' 'num_students' 'preschool' 'elementary_school'\n",
      " 'middle_school' 'high_school']\n",
      "[ 6.74350254e+00  1.65000537e+00  1.42874932e+00  3.59047598e+01\n",
      " -1.19466540e+02  1.30666495e+03  1.13283545e+01  5.89269893e+00\n",
      "  0.00000000e+00  3.98172122e+00  1.72859970e+00  1.49842458e+00\n",
      "  4.46653394e+00  5.39052612e+00  2.40204982e+04  1.55558872e+01\n",
      "  8.53442545e+00  7.10470869e+00  7.45915720e+00  6.18672391e+00]\n",
      "[2.87982176e-01 7.41953886e-01 5.09257407e-01 2.12147023e+00\n",
      " 1.81373404e+00 1.81885384e+03 1.64890268e+00 1.61495085e+00\n",
      " 1.00000000e+00 1.77727419e+00 1.98177193e+00 1.79543624e+00\n",
      " 1.61221055e+00 1.63133903e+00 3.29609171e+04 1.64351897e+00\n",
      " 1.60979527e+00 1.58926423e+00 1.62223657e+00 1.66050558e+00]\n"
     ]
    }
   ],
   "source": [
    "# columns in the one-hot encoding\n",
    "print(enc.feature_names_in_)\n",
    "print(enc.categories_)\n",
    "\n",
    "# parameters used in the scaling\n",
    "print(scaler.feature_names_in_)\n",
    "print(scaler.mean_)\n",
    "print(scaler.scale_)"
   ]
  },
  {
   "cell_type": "code",
   "execution_count": 99,
   "metadata": {},
   "outputs": [
    {
     "data": {
      "text/html": [
       "<div>\n",
       "<style scoped>\n",
       "    .dataframe tbody tr th:only-of-type {\n",
       "        vertical-align: middle;\n",
       "    }\n",
       "\n",
       "    .dataframe tbody tr th {\n",
       "        vertical-align: top;\n",
       "    }\n",
       "\n",
       "    .dataframe thead th {\n",
       "        text-align: right;\n",
       "    }\n",
       "</style>\n",
       "<table border=\"1\" class=\"dataframe\">\n",
       "  <thead>\n",
       "    <tr style=\"text-align: right;\">\n",
       "      <th></th>\n",
       "      <th>cats_allowed</th>\n",
       "      <th>dogs_allowed</th>\n",
       "      <th>smoking_allowed</th>\n",
       "      <th>wheelchair_access</th>\n",
       "      <th>electric_vehicle_charge</th>\n",
       "      <th>comes_furnished</th>\n",
       "      <th>type_apartment</th>\n",
       "      <th>state_ca</th>\n",
       "      <th>sqfeet</th>\n",
       "      <th>beds</th>\n",
       "      <th>...</th>\n",
       "      <th>hospital_type_children</th>\n",
       "      <th>government_hospital</th>\n",
       "      <th>nonprofit_hospital</th>\n",
       "      <th>num_schools</th>\n",
       "      <th>num_students</th>\n",
       "      <th>preschool</th>\n",
       "      <th>elementary_school</th>\n",
       "      <th>middle_school</th>\n",
       "      <th>high_school</th>\n",
       "      <th>price</th>\n",
       "    </tr>\n",
       "  </thead>\n",
       "  <tbody>\n",
       "    <tr>\n",
       "      <th>0</th>\n",
       "      <td>0</td>\n",
       "      <td>0</td>\n",
       "      <td>1</td>\n",
       "      <td>0</td>\n",
       "      <td>0</td>\n",
       "      <td>0</td>\n",
       "      <td>1.0</td>\n",
       "      <td>1.0</td>\n",
       "      <td>0.604909</td>\n",
       "      <td>0.47172</td>\n",
       "      <td>...</td>\n",
       "      <td>-0.834574</td>\n",
       "      <td>-1.407576</td>\n",
       "      <td>-1.027962</td>\n",
       "      <td>-0.683613</td>\n",
       "      <td>-0.949014</td>\n",
       "      <td>-1.067024</td>\n",
       "      <td>-0.904999</td>\n",
       "      <td>-1.217061</td>\n",
       "      <td>-1.620119</td>\n",
       "      <td>6.928538</td>\n",
       "    </tr>\n",
       "    <tr>\n",
       "      <th>1</th>\n",
       "      <td>1</td>\n",
       "      <td>1</td>\n",
       "      <td>1</td>\n",
       "      <td>0</td>\n",
       "      <td>0</td>\n",
       "      <td>0</td>\n",
       "      <td>1.0</td>\n",
       "      <td>1.0</td>\n",
       "      <td>0.006021</td>\n",
       "      <td>0.47172</td>\n",
       "      <td>...</td>\n",
       "      <td>-0.834574</td>\n",
       "      <td>0.385224</td>\n",
       "      <td>0.909481</td>\n",
       "      <td>0.297003</td>\n",
       "      <td>0.938886</td>\n",
       "      <td>0.854359</td>\n",
       "      <td>1.032186</td>\n",
       "      <td>0.760267</td>\n",
       "      <td>0.414015</td>\n",
       "      <td>6.883463</td>\n",
       "    </tr>\n",
       "    <tr>\n",
       "      <th>2</th>\n",
       "      <td>1</td>\n",
       "      <td>1</td>\n",
       "      <td>1</td>\n",
       "      <td>0</td>\n",
       "      <td>0</td>\n",
       "      <td>0</td>\n",
       "      <td>1.0</td>\n",
       "      <td>1.0</td>\n",
       "      <td>0.006021</td>\n",
       "      <td>0.47172</td>\n",
       "      <td>...</td>\n",
       "      <td>-0.834574</td>\n",
       "      <td>0.385224</td>\n",
       "      <td>0.909481</td>\n",
       "      <td>0.297003</td>\n",
       "      <td>0.938886</td>\n",
       "      <td>0.854359</td>\n",
       "      <td>1.032186</td>\n",
       "      <td>0.760267</td>\n",
       "      <td>0.414015</td>\n",
       "      <td>6.883463</td>\n",
       "    </tr>\n",
       "    <tr>\n",
       "      <th>3</th>\n",
       "      <td>1</td>\n",
       "      <td>1</td>\n",
       "      <td>1</td>\n",
       "      <td>0</td>\n",
       "      <td>0</td>\n",
       "      <td>0</td>\n",
       "      <td>1.0</td>\n",
       "      <td>1.0</td>\n",
       "      <td>0.006021</td>\n",
       "      <td>0.47172</td>\n",
       "      <td>...</td>\n",
       "      <td>-0.834574</td>\n",
       "      <td>0.385224</td>\n",
       "      <td>0.909481</td>\n",
       "      <td>0.297003</td>\n",
       "      <td>0.938886</td>\n",
       "      <td>0.854359</td>\n",
       "      <td>1.032186</td>\n",
       "      <td>0.760267</td>\n",
       "      <td>0.414015</td>\n",
       "      <td>6.883463</td>\n",
       "    </tr>\n",
       "    <tr>\n",
       "      <th>4</th>\n",
       "      <td>0</td>\n",
       "      <td>0</td>\n",
       "      <td>1</td>\n",
       "      <td>0</td>\n",
       "      <td>0</td>\n",
       "      <td>0</td>\n",
       "      <td>1.0</td>\n",
       "      <td>1.0</td>\n",
       "      <td>-0.114519</td>\n",
       "      <td>0.47172</td>\n",
       "      <td>...</td>\n",
       "      <td>-0.834574</td>\n",
       "      <td>-0.799201</td>\n",
       "      <td>-0.390437</td>\n",
       "      <td>-0.596874</td>\n",
       "      <td>-0.298045</td>\n",
       "      <td>-0.406027</td>\n",
       "      <td>-0.241929</td>\n",
       "      <td>-0.528018</td>\n",
       "      <td>-0.996157</td>\n",
       "      <td>6.923629</td>\n",
       "    </tr>\n",
       "  </tbody>\n",
       "</table>\n",
       "<p>5 rows × 29 columns</p>\n",
       "</div>"
      ],
      "text/plain": [
       "   cats_allowed  dogs_allowed  smoking_allowed  wheelchair_access  \\\n",
       "0             0             0                1                  0   \n",
       "1             1             1                1                  0   \n",
       "2             1             1                1                  0   \n",
       "3             1             1                1                  0   \n",
       "4             0             0                1                  0   \n",
       "\n",
       "   electric_vehicle_charge  comes_furnished  type_apartment  state_ca  \\\n",
       "0                        0                0             1.0       1.0   \n",
       "1                        0                0             1.0       1.0   \n",
       "2                        0                0             1.0       1.0   \n",
       "3                        0                0             1.0       1.0   \n",
       "4                        0                0             1.0       1.0   \n",
       "\n",
       "     sqfeet     beds  ...  hospital_type_children  government_hospital  \\\n",
       "0  0.604909  0.47172  ...               -0.834574            -1.407576   \n",
       "1  0.006021  0.47172  ...               -0.834574             0.385224   \n",
       "2  0.006021  0.47172  ...               -0.834574             0.385224   \n",
       "3  0.006021  0.47172  ...               -0.834574             0.385224   \n",
       "4 -0.114519  0.47172  ...               -0.834574            -0.799201   \n",
       "\n",
       "   nonprofit_hospital  num_schools  num_students  preschool  \\\n",
       "0           -1.027962    -0.683613     -0.949014  -1.067024   \n",
       "1            0.909481     0.297003      0.938886   0.854359   \n",
       "2            0.909481     0.297003      0.938886   0.854359   \n",
       "3            0.909481     0.297003      0.938886   0.854359   \n",
       "4           -0.390437    -0.596874     -0.298045  -0.406027   \n",
       "\n",
       "   elementary_school  middle_school  high_school     price  \n",
       "0          -0.904999      -1.217061    -1.620119  6.928538  \n",
       "1           1.032186       0.760267     0.414015  6.883463  \n",
       "2           1.032186       0.760267     0.414015  6.883463  \n",
       "3           1.032186       0.760267     0.414015  6.883463  \n",
       "4          -0.241929      -0.528018    -0.996157  6.923629  \n",
       "\n",
       "[5 rows x 29 columns]"
      ]
     },
     "execution_count": 99,
     "metadata": {},
     "output_type": "execute_result"
    }
   ],
   "source": [
    "df_processed = pd.concat(objs=[\n",
    "    df[x_cols_binary], df_onehot_encoded, df_scaled, df[[y_col]]\n",
    "], axis = 1\n",
    ")\n",
    "\n",
    "df_processed.fillna(0, inplace=True)\n",
    "\n",
    "df_processed.head()"
   ]
  },
  {
   "cell_type": "code",
   "execution_count": 100,
   "metadata": {},
   "outputs": [],
   "source": [
    "# split training set and test set and validation set\n",
    "df_train, df_val, df_test = np.split(\n",
    "    df_processed.sample(frac=1, random_state=777),\n",
    "    [ int(0.6*len(df_processed)) , int(0.8*len(df_processed)) ]\n",
    "    )\n",
    "\n",
    "X_train = df_train.drop(y_col, axis=1).sample(round(len(df)*0.05), random_state=777).to_numpy()\n",
    "y_train = df_train[y_col].sample(round(len(df)*0.05), random_state=777).to_numpy()\n",
    "X_val = df_val.drop(y_col, axis=1).to_numpy()\n",
    "y_val = df_val[y_col].to_numpy()\n",
    "X_test = df_test.drop(y_col, axis=1).to_numpy()\n",
    "y_test = df_test[y_col].to_numpy()"
   ]
  },
  {
   "attachments": {},
   "cell_type": "markdown",
   "metadata": {},
   "source": [
    "# Feature Selection"
   ]
  },
  {
   "cell_type": "code",
   "execution_count": 101,
   "metadata": {},
   "outputs": [],
   "source": [
    "import scipy.io\n",
    "from skfeature.function.similarity_based import fisher_score\n",
    "#from skfeature.function.wrapper import decision_tree_backward # Not work\n",
    "#from skfeature.function.wrapper import svm_backward # Not work\n",
    "from skfeature.function.information_theoretical_based.CIFE import cife\n"
   ]
  },
  {
   "cell_type": "code",
   "execution_count": 102,
   "metadata": {},
   "outputs": [
    {
     "name": "stdout",
     "output_type": "stream",
     "text": [
      "Done in 2.178s\n",
      "Done in 0.529s\n"
     ]
    }
   ],
   "source": [
    "tic = time()\n",
    "score = fisher_score.fisher_score(X_train, y_train)\n",
    "toc = time()\n",
    "\n",
    "print(f\"Done in {toc - tic:.3f}s\")\n",
    "\n",
    "#score_dc = decision_tree_backward(X_train, y_train,10)\n",
    "#score_svm = svm_backward.svm_backward(X_train, y_train,15)\n",
    "\n",
    "tic = time()\n",
    "(best_cife,_,coef_cife) = cife(X_train, y_train)\n",
    "toc = time()\n",
    "\n",
    "print(f\"Done in {toc - tic:.3f}s\")"
   ]
  },
  {
   "cell_type": "code",
   "execution_count": 103,
   "metadata": {},
   "outputs": [
    {
     "data": {
      "text/plain": [
       "array([23,  8,  6,  7, 16,  1])"
      ]
     },
     "execution_count": 103,
     "metadata": {},
     "output_type": "execute_result"
    }
   ],
   "source": [
    "best_cife"
   ]
  },
  {
   "cell_type": "code",
   "execution_count": 104,
   "metadata": {},
   "outputs": [
    {
     "data": {
      "image/png": "[encoded data removed]",
      "text/plain": [
       "<Figure size 720x360 with 1 Axes>"
      ]
     },
     "metadata": {
      "needs_background": "light"
     },
     "output_type": "display_data"
    }
   ],
   "source": [
    "name_columns = list(df_processed.drop(y_col, axis=1).columns)\n",
    "named_score = [(name_columns[i],score[i]) for i in range(len(score))]\n",
    "\n",
    "named_score.sort(key=lambda a: a[1], reverse=True)\n",
    "key = [a for (a,_) in named_score]\n",
    "value = [b for (_,b) in named_score]\n",
    "\n",
    "fig = plt.figure(figsize = (10, 5))\n",
    " \n",
    "# creating the bar plot\n",
    "plt.bar(key, value, width = 0.4)\n",
    " \n",
    "plt.xlabel(\"Feature Importance\")\n",
    "plt.ylabel(\"Score\")\n",
    "plt.title(\"Fisher Score\")\n",
    "plt.show()"
   ]
  },
  {
   "cell_type": "code",
   "execution_count": 105,
   "metadata": {},
   "outputs": [
    {
     "data": {
      "image/png": "[encoded data removed]",
      "text/plain": [
       "<Figure size 720x360 with 1 Axes>"
      ]
     },
     "metadata": {
      "needs_background": "light"
     },
     "output_type": "display_data"
    }
   ],
   "source": [
    "threshold = np.mean(score)\n",
    "key_important = [a for (a,b) in named_score if b >= threshold]\n",
    "value_important = [b for (_,b) in named_score if b >= threshold]\n",
    "\n",
    "fig = plt.figure(figsize = (10, 5))\n",
    " \n",
    "# creating the bar plot\n",
    "plt.bar(key_important, value_important, width = 0.4)\n",
    " \n",
    "plt.xlabel(\"Feature Importance\")\n",
    "plt.ylabel(\"Score\")\n",
    "plt.title(\"Fisher Score\")\n",
    "plt.show()"
   ]
  },
  {
   "cell_type": "code",
   "execution_count": 106,
   "metadata": {},
   "outputs": [
    {
     "data": {
      "text/plain": [
       "['num_students',\n",
       " 'sqfeet',\n",
       " 'type_apartment',\n",
       " 'state_ca',\n",
       " 'hospital_type_critical',\n",
       " 'dogs_allowed']"
      ]
     },
     "execution_count": 106,
     "metadata": {},
     "output_type": "execute_result"
    }
   ],
   "source": [
    "my_cols = [name_columns[i] for i in best_cife]\n",
    "my_cols"
   ]
  },
  {
   "cell_type": "code",
   "execution_count": 107,
   "metadata": {},
   "outputs": [
    {
     "data": {
      "image/png": "[encoded data removed]",
      "text/plain": [
       "<Figure size 720x360 with 1 Axes>"
      ]
     },
     "metadata": {
      "needs_background": "light"
     },
     "output_type": "display_data"
    }
   ],
   "source": [
    "name_columns = list(df_processed.drop(y_col, axis=1).columns)\n",
    "named_cife = [(name_columns[best_cife[i]],coef_cife[i]) for i in range(len(best_cife))]\n",
    "\n",
    "named_cife.sort(key=lambda a: a[1], reverse=True)\n",
    "feature_cife = [a for (a,_) in named_cife]\n",
    "value = [b for (_,b) in named_cife]\n",
    "\n",
    "fig = plt.figure(figsize = (10, 5))\n",
    " \n",
    "# creating the bar plot\n",
    "plt.bar(feature_cife, value, width = 0.4)\n",
    " \n",
    "plt.xlabel(\"Feature Importance\")\n",
    "plt.ylabel(\"Score\")\n",
    "plt.title(\"CIFE\")\n",
    "plt.show()"
   ]
  },
  {
   "cell_type": "code",
   "execution_count": 108,
   "metadata": {},
   "outputs": [
    {
     "data": {
      "text/plain": [
       "[('num_students', 8.004914758096714),\n",
       " ('sqfeet', 7.189191703198702),\n",
       " ('dogs_allowed', 0.471485811799079),\n",
       " ('type_apartment', 0.0),\n",
       " ('state_ca', 0.0),\n",
       " ('hospital_type_critical', 0.0)]"
      ]
     },
     "execution_count": 108,
     "metadata": {},
     "output_type": "execute_result"
    }
   ],
   "source": [
    "named_cife"
   ]
  },
  {
   "cell_type": "code",
   "execution_count": 109,
   "metadata": {},
   "outputs": [
    {
     "name": "stdout",
     "output_type": "stream",
     "text": [
      "Done in 0.869s\n"
     ]
    }
   ],
   "source": [
    "from sklearn.ensemble import RandomForestRegressor\n",
    "tic = time()\n",
    "rf = RandomForestRegressor(oob_score=True,random_state=40).fit(X_train, y_train)\n",
    "toc = time()\n",
    "print(f\"Done in {toc - tic:.3f}s\")"
   ]
  },
  {
   "cell_type": "code",
   "execution_count": 110,
   "metadata": {},
   "outputs": [
    {
     "data": {
      "image/png": "[encoded data removed]",
      "text/plain": [
       "<Figure size 720x360 with 1 Axes>"
      ]
     },
     "metadata": {
      "needs_background": "light"
     },
     "output_type": "display_data"
    }
   ],
   "source": [
    "named_rf = [(name_columns[i],rf.feature_importances_[i]) for i in range(len(name_columns))]\n",
    "named_rf.sort(key=lambda a: a[1], reverse=True)\n",
    "key_important = [a for (a,b) in named_rf]\n",
    "value_important = [b for (_,b) in named_rf]\n",
    "\n",
    "fig = plt.figure(figsize = (10, 5))\n",
    " \n",
    "# creating the bar plot\n",
    "plt.bar(key_important, value_important, width = 0.4)\n",
    " \n",
    "plt.xlabel(\"Feature Importance\")\n",
    "plt.ylabel(\"Importance\")\n",
    "plt.title(\"Random Forest\")\n",
    "plt.show()"
   ]
  },
  {
   "cell_type": "code",
   "execution_count": 111,
   "metadata": {},
   "outputs": [
    {
     "name": "stdout",
     "output_type": "stream",
     "text": [
      "['sqfeet', 'lat', 'long', 'hospital_type_children']\n"
     ]
    }
   ],
   "source": [
    "from sklearn.feature_selection import SelectFromModel\n",
    "threshold = np.mean(rf.feature_importances_)\n",
    "sfm = SelectFromModel(rf, threshold=threshold).fit(X_train, y_train)\n",
    "feature_rf = list(df_processed.drop(y_col, axis=1).columns[sfm.get_support()])\n",
    "print(feature_rf)"
   ]
  },
  {
   "cell_type": "code",
   "execution_count": 112,
   "metadata": {},
   "outputs": [
    {
     "data": {
      "image/png": "[encoded data removed]",
      "text/plain": [
       "<Figure size 720x360 with 1 Axes>"
      ]
     },
     "metadata": {
      "needs_background": "light"
     },
     "output_type": "display_data"
    }
   ],
   "source": [
    "named_rf = [(name_columns[i],rf.feature_importances_[i]) for i in range(len(name_columns))]\n",
    "named_rf.sort(key=lambda a: a[1], reverse=True)\n",
    "feature_rf = [a for (a,b) in named_rf if b > threshold]\n",
    "value_important = [b for (_,b) in named_rf if b > threshold]\n",
    "\n",
    "fig = plt.figure(figsize = (10, 5))\n",
    " \n",
    "# creating the bar plot\n",
    "plt.bar(feature_rf, value_important, width = 0.4)\n",
    " \n",
    "plt.xlabel(\"Feature Importance\")\n",
    "plt.ylabel(\"Importance\")\n",
    "plt.title(\"Random Forest\")\n",
    "plt.show()"
   ]
  },
  {
   "cell_type": "code",
   "execution_count": 113,
   "metadata": {},
   "outputs": [],
   "source": [
    "from sklearn.linear_model import LinearRegression, RidgeCV, LassoCV\n",
    "from sklearn.ensemble import RandomForestRegressor\n",
    "from sklearn import metrics"
   ]
  },
  {
   "cell_type": "code",
   "execution_count": 114,
   "metadata": {},
   "outputs": [],
   "source": [
    "def printMetrics(y_true, y_pred):\n",
    "    print(\"RMSE: \", np.sqrt(metrics.mean_squared_error(y_true, y_pred)))\n",
    "    print(\"MAE: \", metrics.mean_absolute_error(y_true, y_pred))\n",
    "    print(\"MAPE: \", metrics.mean_absolute_percentage_error(y_true, y_pred))\n",
    "    print(\"R2: \", metrics.r2_score(y_true, y_pred))\n",
    "    print()"
   ]
  },
  {
   "cell_type": "code",
   "execution_count": 115,
   "metadata": {},
   "outputs": [
    {
     "name": "stdout",
     "output_type": "stream",
     "text": [
      "(16072, 28)\n",
      "(16072, 25)\n",
      "(16072, 6)\n",
      "(16072, 4)\n"
     ]
    }
   ],
   "source": [
    "id_fisher = [i for i in range(len(score)) if score[i] > 1]\n",
    "id_cife = list(best_cife)\n",
    "id_rf = [i for i in range(len(rf.feature_importances_)) if rf.feature_importances_[i] > threshold]\n",
    "\n",
    "\n",
    "X_train = df_train.drop(y_col, axis=1).to_numpy()\n",
    "y_train = df_train[y_col].to_numpy()\n",
    "\n",
    "X_train_fs, X_val_fs = X_train[:,id_fisher], X_val[:,id_fisher]\n",
    "X_train_cife, X_val_cife = X_train[:,id_cife], X_val[:,id_cife]\n",
    "X_train_rf, X_val_rf = X_train[:,id_rf], X_val[:,id_rf]\n",
    "\n",
    "print(np.shape(X_train))\n",
    "print(np.shape(X_train_fs))\n",
    "print(np.shape(X_train_cife))\n",
    "print(np.shape(X_train_rf))"
   ]
  },
  {
   "cell_type": "code",
   "execution_count": 116,
   "metadata": {},
   "outputs": [
    {
     "name": "stdout",
     "output_type": "stream",
     "text": [
      "(5357, 28)\n",
      "(5357, 25)\n",
      "(5357, 6)\n",
      "(5357, 4)\n"
     ]
    }
   ],
   "source": [
    "print(np.shape(X_val))\n",
    "print(np.shape(X_val_fs))\n",
    "print(np.shape(X_val_cife))\n",
    "print(np.shape(X_val_rf))"
   ]
  },
  {
   "attachments": {},
   "cell_type": "markdown",
   "metadata": {},
   "source": [
    "# Test Models"
   ]
  },
  {
   "cell_type": "code",
   "execution_count": 117,
   "metadata": {},
   "outputs": [
    {
     "name": "stdout",
     "output_type": "stream",
     "text": [
      "0.6596438920219878\n",
      "0.5502286487726277\n",
      "Done in 0.011s\n"
     ]
    }
   ],
   "source": [
    "tic = time()\n",
    "reg = LinearRegression().fit(X_train, y_train)\n",
    "toc = time()\n",
    "\n",
    "print(reg.score(X_train, y_train))\n",
    "print(reg.score(X_test, y_test))\n",
    "print(f\"Done in {toc - tic:.3f}s\")\n"
   ]
  },
  {
   "cell_type": "code",
   "execution_count": 118,
   "metadata": {},
   "outputs": [
    {
     "name": "stdout",
     "output_type": "stream",
     "text": [
      "0.6596438920219878\n",
      "0.6793477112936634\n",
      "Done in 0.008s\n"
     ]
    }
   ],
   "source": [
    "tic = time()\n",
    "reg = LinearRegression().fit(X_train_fs, y_train)\n",
    "toc = time()\n",
    "\n",
    "print(reg.score(X_train_fs, y_train))\n",
    "print(reg.score(X_val_fs, y_val))\n",
    "print(f\"Done in {toc - tic:.3f}s\")"
   ]
  },
  {
   "cell_type": "code",
   "execution_count": 119,
   "metadata": {},
   "outputs": [
    {
     "name": "stdout",
     "output_type": "stream",
     "text": [
      "0.1413330650984791\n",
      "0.1364604237676842\n",
      "Done in 0.004s\n"
     ]
    }
   ],
   "source": [
    "tic = time()\n",
    "reg = LinearRegression().fit(X_train_cife, y_train)\n",
    "toc = time()\n",
    "\n",
    "print(reg.score(X_train_cife, y_train))\n",
    "print(reg.score(X_val_cife, y_val))\n",
    "print(f\"Done in {toc - tic:.3f}s\")"
   ]
  },
  {
   "cell_type": "code",
   "execution_count": 120,
   "metadata": {},
   "outputs": [
    {
     "name": "stdout",
     "output_type": "stream",
     "text": [
      "0.42084679984567963\n",
      "0.4486501387565671\n",
      "Done in 0.004s\n"
     ]
    }
   ],
   "source": [
    "tic = time()\n",
    "reg = LinearRegression().fit(X_train_rf, y_train)\n",
    "toc = time()\n",
    "\n",
    "print(reg.score(X_train_rf, y_train))\n",
    "print(reg.score(X_val_rf, y_val))\n",
    "print(f\"Done in {toc - tic:.3f}s\")"
   ]
  },
  {
   "attachments": {},
   "cell_type": "markdown",
   "metadata": {},
   "source": [
    "# Random Forest"
   ]
  },
  {
   "cell_type": "code",
   "execution_count": 121,
   "metadata": {},
   "outputs": [
    {
     "name": "stdout",
     "output_type": "stream",
     "text": [
      "RMSE:  0.04347660880101799\n",
      "MAE:  0.02279380208921643\n",
      "MAPE:  0.0030605574844259284\n",
      "R2:  0.9862126594596796\n",
      "\n",
      "RMSE:  0.09726272927634279\n",
      "MAE:  0.04637826360278696\n",
      "MAPE:  0.0062416335128430405\n",
      "R2:  0.930120453205665\n",
      "\n",
      "Done in 9.109s\n"
     ]
    }
   ],
   "source": [
    "tic = time()\n",
    "rf = RandomForestRegressor(oob_score=True).fit(X_train, y_train)\n",
    "toc = time()\n",
    "\n",
    "yhat_train = rf.predict(X_train)\n",
    "yhat_val = rf.predict(X_val)\n",
    "\n",
    "printMetrics(y_train, yhat_train)\n",
    "printMetrics(y_val, yhat_val)\n",
    "print(f\"Done in {toc - tic:.3f}s\")"
   ]
  },
  {
   "cell_type": "code",
   "execution_count": 122,
   "metadata": {},
   "outputs": [
    {
     "name": "stdout",
     "output_type": "stream",
     "text": [
      "RMSE:  0.043248426122449696\n",
      "MAE:  0.02274072843045703\n",
      "MAPE:  0.0030544106649560295\n",
      "R2:  0.986357002662233\n",
      "\n",
      "RMSE:  0.09691163696136734\n",
      "MAE:  0.046512846031768355\n",
      "MAPE:  0.006259349129638468\n",
      "R2:  0.9306240354339665\n",
      "\n",
      "Done in 8.925s\n"
     ]
    }
   ],
   "source": [
    "tic = time()\n",
    "rf = RandomForestRegressor(oob_score=True).fit(X_train_fs, y_train)\n",
    "toc = time()\n",
    "\n",
    "yhat_train_fs = rf.predict(X_train_fs)\n",
    "yhat_val_fs = rf.predict(X_val_fs)\n",
    "\n",
    "printMetrics(y_train, yhat_train_fs)\n",
    "printMetrics(y_val, yhat_val_fs)\n",
    "print(f\"Done in {toc - tic:.3f}s\")"
   ]
  },
  {
   "cell_type": "code",
   "execution_count": 123,
   "metadata": {},
   "outputs": [
    {
     "name": "stdout",
     "output_type": "stream",
     "text": [
      "RMSE:  0.0795028422392422\n",
      "MAE:  0.04432008778528638\n",
      "MAPE:  0.005920198017763095\n",
      "R2:  0.9538964370518332\n",
      "\n",
      "RMSE:  0.20486538731243029\n",
      "MAE:  0.10453718228673747\n",
      "MAPE:  0.013980886241015443\n",
      "R2:  0.6899766864410161\n",
      "\n",
      "Done in 2.090s\n"
     ]
    }
   ],
   "source": [
    "tic = time()\n",
    "rf = RandomForestRegressor(oob_score=True).fit(X_train_cife, y_train)\n",
    "toc = time()\n",
    "\n",
    "yhat_train_cife = rf.predict(X_train_cife)\n",
    "yhat_val_cife = rf.predict(X_val_cife)\n",
    "\n",
    "printMetrics(y_train, yhat_train_cife)\n",
    "printMetrics(y_val, yhat_val_cife)\n",
    "print(f\"Done in {toc - tic:.3f}s\")"
   ]
  },
  {
   "cell_type": "code",
   "execution_count": 124,
   "metadata": {},
   "outputs": [
    {
     "name": "stdout",
     "output_type": "stream",
     "text": [
      "RMSE:  0.045483603545996946\n",
      "MAE:  0.023993423661139542\n",
      "MAPE:  0.0032235343192811975\n",
      "R2:  0.9849103589043199\n",
      "\n",
      "RMSE:  0.1004161526371952\n",
      "MAE:  0.04773024670446017\n",
      "MAPE:  0.006425762435412803\n",
      "R2:  0.925515770262138\n",
      "\n",
      "Done in 2.357s\n"
     ]
    }
   ],
   "source": [
    "tic = time()\n",
    "rf = RandomForestRegressor(oob_score=True).fit(X_train_rf, y_train)\n",
    "toc = time()\n",
    "\n",
    "yhat_train_rf = rf.predict(X_train_rf)\n",
    "yhat_val_rf = rf.predict(X_val_rf)\n",
    "\n",
    "printMetrics(y_train, yhat_train_rf)\n",
    "printMetrics(y_val, yhat_val_rf)\n",
    "print(f\"Done in {toc - tic:.3f}s\")"
   ]
  },
  {
   "cell_type": "code",
   "execution_count": 125,
   "metadata": {},
   "outputs": [
    {
     "data": {
      "text/plain": [
       "[('houses',),\n",
       " ('sandbox',),\n",
       " ('sandbox_T_apartment_S_ca',),\n",
       " ('sandbox_T_apartment_S_ca_preprocessed',),\n",
       " ('sandbox_T_apartment_S_ca_preprocessed_reduced',),\n",
       " ('sandbox_T_apartment_S_ca_reduced',),\n",
       " ('sandbox_preprocessed',)]"
      ]
     },
     "execution_count": 125,
     "metadata": {},
     "output_type": "execute_result"
    }
   ],
   "source": [
    "con = duckdb.connect('data/exploitation.db')\n",
    "con.execute(\"show tables\").fetchall()"
   ]
  },
  {
   "cell_type": "code",
   "execution_count": 126,
   "metadata": {},
   "outputs": [
    {
     "data": {
      "text/html": [
       "<div>\n",
       "<style scoped>\n",
       "    .dataframe tbody tr th:only-of-type {\n",
       "        vertical-align: middle;\n",
       "    }\n",
       "\n",
       "    .dataframe tbody tr th {\n",
       "        vertical-align: top;\n",
       "    }\n",
       "\n",
       "    .dataframe thead th {\n",
       "        text-align: right;\n",
       "    }\n",
       "</style>\n",
       "<table border=\"1\" class=\"dataframe\">\n",
       "  <thead>\n",
       "    <tr style=\"text-align: right;\">\n",
       "      <th></th>\n",
       "      <th>0</th>\n",
       "      <th>1</th>\n",
       "      <th>2</th>\n",
       "      <th>3</th>\n",
       "      <th>4</th>\n",
       "    </tr>\n",
       "  </thead>\n",
       "  <tbody>\n",
       "    <tr>\n",
       "      <th>region</th>\n",
       "      <td>bakersfield</td>\n",
       "      <td>bakersfield</td>\n",
       "      <td>bakersfield</td>\n",
       "      <td>bakersfield</td>\n",
       "      <td>bakersfield</td>\n",
       "    </tr>\n",
       "    <tr>\n",
       "      <th>price</th>\n",
       "      <td>6.928538</td>\n",
       "      <td>6.883463</td>\n",
       "      <td>6.883463</td>\n",
       "      <td>6.883463</td>\n",
       "      <td>6.923629</td>\n",
       "    </tr>\n",
       "    <tr>\n",
       "      <th>type</th>\n",
       "      <td>apartment</td>\n",
       "      <td>apartment</td>\n",
       "      <td>apartment</td>\n",
       "      <td>apartment</td>\n",
       "      <td>apartment</td>\n",
       "    </tr>\n",
       "    <tr>\n",
       "      <th>sqfeet</th>\n",
       "      <td>6.917706</td>\n",
       "      <td>6.745236</td>\n",
       "      <td>6.745236</td>\n",
       "      <td>6.745236</td>\n",
       "      <td>6.710523</td>\n",
       "    </tr>\n",
       "    <tr>\n",
       "      <th>beds</th>\n",
       "      <td>2.0</td>\n",
       "      <td>2.0</td>\n",
       "      <td>2.0</td>\n",
       "      <td>2.0</td>\n",
       "      <td>2.0</td>\n",
       "    </tr>\n",
       "    <tr>\n",
       "      <th>baths</th>\n",
       "      <td>1.0</td>\n",
       "      <td>1.0</td>\n",
       "      <td>1.0</td>\n",
       "      <td>1.0</td>\n",
       "      <td>1.0</td>\n",
       "    </tr>\n",
       "    <tr>\n",
       "      <th>cats_allowed</th>\n",
       "      <td>No</td>\n",
       "      <td>Yes</td>\n",
       "      <td>Yes</td>\n",
       "      <td>Yes</td>\n",
       "      <td>No</td>\n",
       "    </tr>\n",
       "    <tr>\n",
       "      <th>dogs_allowed</th>\n",
       "      <td>No</td>\n",
       "      <td>Yes</td>\n",
       "      <td>Yes</td>\n",
       "      <td>Yes</td>\n",
       "      <td>No</td>\n",
       "    </tr>\n",
       "    <tr>\n",
       "      <th>smoking_allowed</th>\n",
       "      <td>Yes</td>\n",
       "      <td>Yes</td>\n",
       "      <td>Yes</td>\n",
       "      <td>Yes</td>\n",
       "      <td>Yes</td>\n",
       "    </tr>\n",
       "    <tr>\n",
       "      <th>wheelchair_access</th>\n",
       "      <td>No</td>\n",
       "      <td>No</td>\n",
       "      <td>No</td>\n",
       "      <td>No</td>\n",
       "      <td>No</td>\n",
       "    </tr>\n",
       "    <tr>\n",
       "      <th>electric_vehicle_charge</th>\n",
       "      <td>No</td>\n",
       "      <td>No</td>\n",
       "      <td>No</td>\n",
       "      <td>No</td>\n",
       "      <td>No</td>\n",
       "    </tr>\n",
       "    <tr>\n",
       "      <th>comes_furnished</th>\n",
       "      <td>No</td>\n",
       "      <td>No</td>\n",
       "      <td>No</td>\n",
       "      <td>No</td>\n",
       "      <td>No</td>\n",
       "    </tr>\n",
       "    <tr>\n",
       "      <th>laundry_options</th>\n",
       "      <td>laundry on site</td>\n",
       "      <td>laundry in bldg</td>\n",
       "      <td>laundry in bldg</td>\n",
       "      <td>laundry in bldg</td>\n",
       "      <td>laundry on site</td>\n",
       "    </tr>\n",
       "    <tr>\n",
       "      <th>parking_options</th>\n",
       "      <td>carport</td>\n",
       "      <td>carport</td>\n",
       "      <td>carport</td>\n",
       "      <td>carport</td>\n",
       "      <td>carport</td>\n",
       "    </tr>\n",
       "    <tr>\n",
       "      <th>lat</th>\n",
       "      <td>35.3263</td>\n",
       "      <td>35.4418</td>\n",
       "      <td>35.4418</td>\n",
       "      <td>35.4418</td>\n",
       "      <td>35.3361</td>\n",
       "    </tr>\n",
       "    <tr>\n",
       "      <th>long</th>\n",
       "      <td>-119.074</td>\n",
       "      <td>-119.03</td>\n",
       "      <td>-119.03</td>\n",
       "      <td>-119.03</td>\n",
       "      <td>-119.081</td>\n",
       "    </tr>\n",
       "    <tr>\n",
       "      <th>state</th>\n",
       "      <td>ca</td>\n",
       "      <td>ca</td>\n",
       "      <td>ca</td>\n",
       "      <td>ca</td>\n",
       "      <td>ca</td>\n",
       "    </tr>\n",
       "    <tr>\n",
       "      <th>num_hospitals</th>\n",
       "      <td>88.0</td>\n",
       "      <td>1932.0</td>\n",
       "      <td>1932.0</td>\n",
       "      <td>1932.0</td>\n",
       "      <td>253.0</td>\n",
       "    </tr>\n",
       "    <tr>\n",
       "      <th>num_beds</th>\n",
       "      <td>9.348449</td>\n",
       "      <td>12.417694</td>\n",
       "      <td>12.417694</td>\n",
       "      <td>12.417694</td>\n",
       "      <td>10.404445</td>\n",
       "    </tr>\n",
       "    <tr>\n",
       "      <th>hospital_type_general</th>\n",
       "      <td>4.290459</td>\n",
       "      <td>7.38461</td>\n",
       "      <td>7.38461</td>\n",
       "      <td>7.38461</td>\n",
       "      <td>5.337538</td>\n",
       "    </tr>\n",
       "    <tr>\n",
       "      <th>hospital_type_critical</th>\n",
       "      <td>0.0</td>\n",
       "      <td>0.0</td>\n",
       "      <td>0.0</td>\n",
       "      <td>0.0</td>\n",
       "      <td>0.0</td>\n",
       "    </tr>\n",
       "    <tr>\n",
       "      <th>hospital_type_psychiatric</th>\n",
       "      <td>2.833213</td>\n",
       "      <td>5.777652</td>\n",
       "      <td>5.777652</td>\n",
       "      <td>5.777652</td>\n",
       "      <td>3.850148</td>\n",
       "    </tr>\n",
       "    <tr>\n",
       "      <th>hospital_type_longterm</th>\n",
       "      <td>0.0</td>\n",
       "      <td>0.0</td>\n",
       "      <td>0.0</td>\n",
       "      <td>0.0</td>\n",
       "      <td>0.0</td>\n",
       "    </tr>\n",
       "    <tr>\n",
       "      <th>hospital_type_children</th>\n",
       "      <td>0.0</td>\n",
       "      <td>0.0</td>\n",
       "      <td>0.0</td>\n",
       "      <td>0.0</td>\n",
       "      <td>0.0</td>\n",
       "    </tr>\n",
       "    <tr>\n",
       "      <th>government_hospital</th>\n",
       "      <td>2.197225</td>\n",
       "      <td>5.087596</td>\n",
       "      <td>5.087596</td>\n",
       "      <td>5.087596</td>\n",
       "      <td>3.178054</td>\n",
       "    </tr>\n",
       "    <tr>\n",
       "      <th>nonprofit_hospital</th>\n",
       "      <td>3.713572</td>\n",
       "      <td>6.874198</td>\n",
       "      <td>6.874198</td>\n",
       "      <td>6.874198</td>\n",
       "      <td>4.75359</td>\n",
       "    </tr>\n",
       "    <tr>\n",
       "      <th>private_hospital</th>\n",
       "      <td>3.713572</td>\n",
       "      <td>6.692084</td>\n",
       "      <td>6.692084</td>\n",
       "      <td>6.692084</td>\n",
       "      <td>4.75359</td>\n",
       "    </tr>\n",
       "    <tr>\n",
       "      <th>num_schools</th>\n",
       "      <td>1488.0</td>\n",
       "      <td>33810.0</td>\n",
       "      <td>33810.0</td>\n",
       "      <td>33810.0</td>\n",
       "      <td>4347.0</td>\n",
       "    </tr>\n",
       "    <tr>\n",
       "      <th>num_students</th>\n",
       "      <td>13.996165</td>\n",
       "      <td>17.098964</td>\n",
       "      <td>17.098964</td>\n",
       "      <td>17.098964</td>\n",
       "      <td>15.066044</td>\n",
       "    </tr>\n",
       "    <tr>\n",
       "      <th>preschool</th>\n",
       "      <td>6.816736</td>\n",
       "      <td>9.909768</td>\n",
       "      <td>9.909768</td>\n",
       "      <td>9.909768</td>\n",
       "      <td>7.880804</td>\n",
       "    </tr>\n",
       "    <tr>\n",
       "      <th>elementary_school</th>\n",
       "      <td>5.666427</td>\n",
       "      <td>8.745125</td>\n",
       "      <td>8.745125</td>\n",
       "      <td>8.745125</td>\n",
       "      <td>6.72022</td>\n",
       "    </tr>\n",
       "    <tr>\n",
       "      <th>middle_school</th>\n",
       "      <td>5.484797</td>\n",
       "      <td>8.69249</td>\n",
       "      <td>8.69249</td>\n",
       "      <td>8.69249</td>\n",
       "      <td>6.602588</td>\n",
       "    </tr>\n",
       "    <tr>\n",
       "      <th>high_school</th>\n",
       "      <td>3.496508</td>\n",
       "      <td>6.874198</td>\n",
       "      <td>6.874198</td>\n",
       "      <td>6.874198</td>\n",
       "      <td>4.532599</td>\n",
       "    </tr>\n",
       "    <tr>\n",
       "      <th>N_baths</th>\n",
       "      <td>1.0</td>\n",
       "      <td>1.0</td>\n",
       "      <td>1.0</td>\n",
       "      <td>1.0</td>\n",
       "      <td>1.0</td>\n",
       "    </tr>\n",
       "    <tr>\n",
       "      <th>half_baths</th>\n",
       "      <td>No</td>\n",
       "      <td>No</td>\n",
       "      <td>No</td>\n",
       "      <td>No</td>\n",
       "      <td>No</td>\n",
       "    </tr>\n",
       "    <tr>\n",
       "      <th>b_hospital_type_critical</th>\n",
       "      <td>No</td>\n",
       "      <td>No</td>\n",
       "      <td>No</td>\n",
       "      <td>No</td>\n",
       "      <td>No</td>\n",
       "    </tr>\n",
       "    <tr>\n",
       "      <th>b_hospital_type_longterm</th>\n",
       "      <td>No</td>\n",
       "      <td>No</td>\n",
       "      <td>No</td>\n",
       "      <td>No</td>\n",
       "      <td>No</td>\n",
       "    </tr>\n",
       "    <tr>\n",
       "      <th>b_hospital_type_children</th>\n",
       "      <td>No</td>\n",
       "      <td>No</td>\n",
       "      <td>No</td>\n",
       "      <td>No</td>\n",
       "      <td>No</td>\n",
       "    </tr>\n",
       "    <tr>\n",
       "      <th>b_type</th>\n",
       "      <td>Apartment</td>\n",
       "      <td>Apartment</td>\n",
       "      <td>Apartment</td>\n",
       "      <td>Apartment</td>\n",
       "      <td>Apartment</td>\n",
       "    </tr>\n",
       "  </tbody>\n",
       "</table>\n",
       "</div>"
      ],
      "text/plain": [
       "                                         0                1                2  \\\n",
       "region                         bakersfield      bakersfield      bakersfield   \n",
       "price                             6.928538         6.883463         6.883463   \n",
       "type                             apartment        apartment        apartment   \n",
       "sqfeet                            6.917706         6.745236         6.745236   \n",
       "beds                                   2.0              2.0              2.0   \n",
       "baths                                  1.0              1.0              1.0   \n",
       "cats_allowed                            No              Yes              Yes   \n",
       "dogs_allowed                            No              Yes              Yes   \n",
       "smoking_allowed                        Yes              Yes              Yes   \n",
       "wheelchair_access                       No               No               No   \n",
       "electric_vehicle_charge                 No               No               No   \n",
       "comes_furnished                         No               No               No   \n",
       "laundry_options            laundry on site  laundry in bldg  laundry in bldg   \n",
       "parking_options                    carport          carport          carport   \n",
       "lat                                35.3263          35.4418          35.4418   \n",
       "long                              -119.074          -119.03          -119.03   \n",
       "state                                   ca               ca               ca   \n",
       "num_hospitals                         88.0           1932.0           1932.0   \n",
       "num_beds                          9.348449        12.417694        12.417694   \n",
       "hospital_type_general             4.290459          7.38461          7.38461   \n",
       "hospital_type_critical                 0.0              0.0              0.0   \n",
       "hospital_type_psychiatric         2.833213         5.777652         5.777652   \n",
       "hospital_type_longterm                 0.0              0.0              0.0   \n",
       "hospital_type_children                 0.0              0.0              0.0   \n",
       "government_hospital               2.197225         5.087596         5.087596   \n",
       "nonprofit_hospital                3.713572         6.874198         6.874198   \n",
       "private_hospital                  3.713572         6.692084         6.692084   \n",
       "num_schools                         1488.0          33810.0          33810.0   \n",
       "num_students                     13.996165        17.098964        17.098964   \n",
       "preschool                         6.816736         9.909768         9.909768   \n",
       "elementary_school                 5.666427         8.745125         8.745125   \n",
       "middle_school                     5.484797          8.69249          8.69249   \n",
       "high_school                       3.496508         6.874198         6.874198   \n",
       "N_baths                                1.0              1.0              1.0   \n",
       "half_baths                              No               No               No   \n",
       "b_hospital_type_critical                No               No               No   \n",
       "b_hospital_type_longterm                No               No               No   \n",
       "b_hospital_type_children                No               No               No   \n",
       "b_type                           Apartment        Apartment        Apartment   \n",
       "\n",
       "                                         3                4  \n",
       "region                         bakersfield      bakersfield  \n",
       "price                             6.883463         6.923629  \n",
       "type                             apartment        apartment  \n",
       "sqfeet                            6.745236         6.710523  \n",
       "beds                                   2.0              2.0  \n",
       "baths                                  1.0              1.0  \n",
       "cats_allowed                           Yes               No  \n",
       "dogs_allowed                           Yes               No  \n",
       "smoking_allowed                        Yes              Yes  \n",
       "wheelchair_access                       No               No  \n",
       "electric_vehicle_charge                 No               No  \n",
       "comes_furnished                         No               No  \n",
       "laundry_options            laundry in bldg  laundry on site  \n",
       "parking_options                    carport          carport  \n",
       "lat                                35.4418          35.3361  \n",
       "long                               -119.03         -119.081  \n",
       "state                                   ca               ca  \n",
       "num_hospitals                       1932.0            253.0  \n",
       "num_beds                         12.417694        10.404445  \n",
       "hospital_type_general              7.38461         5.337538  \n",
       "hospital_type_critical                 0.0              0.0  \n",
       "hospital_type_psychiatric         5.777652         3.850148  \n",
       "hospital_type_longterm                 0.0              0.0  \n",
       "hospital_type_children                 0.0              0.0  \n",
       "government_hospital               5.087596         3.178054  \n",
       "nonprofit_hospital                6.874198          4.75359  \n",
       "private_hospital                  6.692084          4.75359  \n",
       "num_schools                        33810.0           4347.0  \n",
       "num_students                     17.098964        15.066044  \n",
       "preschool                         9.909768         7.880804  \n",
       "elementary_school                 8.745125          6.72022  \n",
       "middle_school                      8.69249         6.602588  \n",
       "high_school                       6.874198         4.532599  \n",
       "N_baths                                1.0              1.0  \n",
       "half_baths                              No               No  \n",
       "b_hospital_type_critical                No               No  \n",
       "b_hospital_type_longterm                No               No  \n",
       "b_hospital_type_children                No               No  \n",
       "b_type                           Apartment        Apartment  "
      ]
     },
     "execution_count": 126,
     "metadata": {},
     "output_type": "execute_result"
    }
   ],
   "source": [
    "df = con.execute(\"select * from sandbox_T_apartment_S_ca_preprocessed\").df()\n",
    "df.head().transpose()"
   ]
  },
  {
   "cell_type": "code",
   "execution_count": 127,
   "metadata": {},
   "outputs": [
    {
     "data": {
      "text/html": [
       "<div>\n",
       "<style scoped>\n",
       "    .dataframe tbody tr th:only-of-type {\n",
       "        vertical-align: middle;\n",
       "    }\n",
       "\n",
       "    .dataframe tbody tr th {\n",
       "        vertical-align: top;\n",
       "    }\n",
       "\n",
       "    .dataframe thead th {\n",
       "        text-align: right;\n",
       "    }\n",
       "</style>\n",
       "<table border=\"1\" class=\"dataframe\">\n",
       "  <thead>\n",
       "    <tr style=\"text-align: right;\">\n",
       "      <th></th>\n",
       "      <th>0</th>\n",
       "      <th>1</th>\n",
       "      <th>2</th>\n",
       "      <th>3</th>\n",
       "      <th>4</th>\n",
       "    </tr>\n",
       "  </thead>\n",
       "  <tbody>\n",
       "    <tr>\n",
       "      <th>b_hospital_type_children</th>\n",
       "      <td>0.000000</td>\n",
       "      <td>0.000000</td>\n",
       "      <td>0.000000</td>\n",
       "      <td>0.000000</td>\n",
       "      <td>0.000000</td>\n",
       "    </tr>\n",
       "    <tr>\n",
       "      <th>laundry_options w/d in unit</th>\n",
       "      <td>0.000000</td>\n",
       "      <td>0.000000</td>\n",
       "      <td>0.000000</td>\n",
       "      <td>0.000000</td>\n",
       "      <td>0.000000</td>\n",
       "    </tr>\n",
       "    <tr>\n",
       "      <th>sqfeet</th>\n",
       "      <td>6.917706</td>\n",
       "      <td>6.745236</td>\n",
       "      <td>6.745236</td>\n",
       "      <td>6.745236</td>\n",
       "      <td>6.710523</td>\n",
       "    </tr>\n",
       "    <tr>\n",
       "      <th>lat</th>\n",
       "      <td>35.326300</td>\n",
       "      <td>35.441800</td>\n",
       "      <td>35.441800</td>\n",
       "      <td>35.441800</td>\n",
       "      <td>35.336100</td>\n",
       "    </tr>\n",
       "    <tr>\n",
       "      <th>long</th>\n",
       "      <td>-119.074000</td>\n",
       "      <td>-119.030000</td>\n",
       "      <td>-119.030000</td>\n",
       "      <td>-119.030000</td>\n",
       "      <td>-119.081000</td>\n",
       "    </tr>\n",
       "    <tr>\n",
       "      <th>hospital_type_children</th>\n",
       "      <td>0.000000</td>\n",
       "      <td>0.000000</td>\n",
       "      <td>0.000000</td>\n",
       "      <td>0.000000</td>\n",
       "      <td>0.000000</td>\n",
       "    </tr>\n",
       "    <tr>\n",
       "      <th>price</th>\n",
       "      <td>6.928538</td>\n",
       "      <td>6.883463</td>\n",
       "      <td>6.883463</td>\n",
       "      <td>6.883463</td>\n",
       "      <td>6.923629</td>\n",
       "    </tr>\n",
       "  </tbody>\n",
       "</table>\n",
       "</div>"
      ],
      "text/plain": [
       "                                      0           1           2           3  \\\n",
       "b_hospital_type_children       0.000000    0.000000    0.000000    0.000000   \n",
       "laundry_options w/d in unit    0.000000    0.000000    0.000000    0.000000   \n",
       "sqfeet                         6.917706    6.745236    6.745236    6.745236   \n",
       "lat                           35.326300   35.441800   35.441800   35.441800   \n",
       "long                        -119.074000 -119.030000 -119.030000 -119.030000   \n",
       "hospital_type_children         0.000000    0.000000    0.000000    0.000000   \n",
       "price                          6.928538    6.883463    6.883463    6.883463   \n",
       "\n",
       "                                      4  \n",
       "b_hospital_type_children       0.000000  \n",
       "laundry_options w/d in unit    0.000000  \n",
       "sqfeet                         6.710523  \n",
       "lat                           35.336100  \n",
       "long                        -119.081000  \n",
       "hospital_type_children         0.000000  \n",
       "price                          6.923629  "
      ]
     },
     "execution_count": 127,
     "metadata": {},
     "output_type": "execute_result"
    }
   ],
   "source": [
    "df = con.execute(\"select * from sandbox_T_apartment_S_ca_reduced\").df()\n",
    "df.head().transpose()"
   ]
  },
  {
   "cell_type": "code",
   "execution_count": 128,
   "metadata": {},
   "outputs": [],
   "source": [
    "con.close()"
   ]
  },
  {
   "cell_type": "code",
   "execution_count": null,
   "metadata": {},
   "outputs": [],
   "source": []
  }
 ],
 "metadata": {
  "kernelspec": {
   "display_name": "ADSDB",
   "language": "python",
   "name": "python3"
  },
  "language_info": {
   "codemirror_mode": {
    "name": "ipython",
    "version": 3
   },
   "file_extension": ".py",
   "mimetype": "text/x-python",
   "name": "python",
   "nbconvert_exporter": "python",
   "pygments_lexer": "ipython3",
   "version": "3.10.4 (main, Mar 31 2022, 08:41:55) [GCC 7.5.0]"
  },
  "orig_nbformat": 4,
  "vscode": {
   "interpreter": {
    "hash": "13fd38f2f33eca4e23b7322ee785598c5f7008e6f62f63fc1fbd3512333f5b15"
   }
  }
 },
 "nbformat": 4,
 "nbformat_minor": 2
}
