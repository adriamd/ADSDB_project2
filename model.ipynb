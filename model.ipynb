{
 "cells": [
  {
   "attachments": {},
   "cell_type": "markdown",
   "metadata": {},
   "source": [
    "# the model"
   ]
  },
  {
   "cell_type": "code",
   "execution_count": 206,
   "metadata": {},
   "outputs": [],
   "source": [
    "import duckdb\n",
    "import pandas as pd\n",
    "import numpy as np\n",
    "from time import time\n",
    "import matplotlib.pyplot as plt"
   ]
  },
  {
   "attachments": {},
   "cell_type": "markdown",
   "metadata": {},
   "source": [
    "## get the data & preprocess (this should be part of the feature generation)\n",
    "\n",
    "temporary: take the output from the sandbox as input for the model, with some preprocessing\n",
    "\n",
    "in the future we will need to take the output of the feature generation"
   ]
  },
  {
   "cell_type": "code",
   "execution_count": 29,
   "metadata": {},
   "outputs": [],
   "source": [
    "table = \"sandbox_T_apartment_condo_S_ga_fl_nc_sc\""
   ]
  },
  {
   "cell_type": "code",
   "execution_count": 30,
   "metadata": {},
   "outputs": [
    {
     "data": {
      "text/html": [
       "<div>\n",
       "<style scoped>\n",
       "    .dataframe tbody tr th:only-of-type {\n",
       "        vertical-align: middle;\n",
       "    }\n",
       "\n",
       "    .dataframe tbody tr th {\n",
       "        vertical-align: top;\n",
       "    }\n",
       "\n",
       "    .dataframe thead th {\n",
       "        text-align: right;\n",
       "    }\n",
       "</style>\n",
       "<table border=\"1\" class=\"dataframe\">\n",
       "  <thead>\n",
       "    <tr style=\"text-align: right;\">\n",
       "      <th></th>\n",
       "      <th>id</th>\n",
       "      <th>url</th>\n",
       "      <th>region</th>\n",
       "      <th>region_url</th>\n",
       "      <th>price</th>\n",
       "      <th>type</th>\n",
       "      <th>sqfeet</th>\n",
       "      <th>beds</th>\n",
       "      <th>baths</th>\n",
       "      <th>cats_allowed</th>\n",
       "      <th>...</th>\n",
       "      <th>hospital_type_children</th>\n",
       "      <th>government_hospital</th>\n",
       "      <th>nonprofit_hospital</th>\n",
       "      <th>private_hospital</th>\n",
       "      <th>num_schools</th>\n",
       "      <th>num_students</th>\n",
       "      <th>preschool</th>\n",
       "      <th>elementary_school</th>\n",
       "      <th>middle_school</th>\n",
       "      <th>high_school</th>\n",
       "    </tr>\n",
       "  </thead>\n",
       "  <tbody>\n",
       "    <tr>\n",
       "      <th>0</th>\n",
       "      <td>7048425478</td>\n",
       "      <td>https://jacksonville.craigslist.org/apa/d/jack...</td>\n",
       "      <td>jacksonville</td>\n",
       "      <td>https://jacksonville.craigslist.org</td>\n",
       "      <td>779.0</td>\n",
       "      <td>apartment</td>\n",
       "      <td>628.0</td>\n",
       "      <td>1</td>\n",
       "      <td>1.0</td>\n",
       "      <td>Yes</td>\n",
       "      <td>...</td>\n",
       "      <td>68.0</td>\n",
       "      <td>68.0</td>\n",
       "      <td>680.0</td>\n",
       "      <td>272.0</td>\n",
       "      <td>19516</td>\n",
       "      <td>13155756.0</td>\n",
       "      <td>11016.0</td>\n",
       "      <td>2856.0</td>\n",
       "      <td>2788.0</td>\n",
       "      <td>2516.0</td>\n",
       "    </tr>\n",
       "    <tr>\n",
       "      <th>1</th>\n",
       "      <td>7048366147</td>\n",
       "      <td>https://jacksonville.craigslist.org/apa/d/jack...</td>\n",
       "      <td>jacksonville</td>\n",
       "      <td>https://jacksonville.craigslist.org</td>\n",
       "      <td>1712.0</td>\n",
       "      <td>apartment</td>\n",
       "      <td>1376.0</td>\n",
       "      <td>3</td>\n",
       "      <td>2.0</td>\n",
       "      <td>Yes</td>\n",
       "      <td>...</td>\n",
       "      <td>67.0</td>\n",
       "      <td>67.0</td>\n",
       "      <td>804.0</td>\n",
       "      <td>335.0</td>\n",
       "      <td>21708</td>\n",
       "      <td>14057873.0</td>\n",
       "      <td>12127.0</td>\n",
       "      <td>3149.0</td>\n",
       "      <td>3283.0</td>\n",
       "      <td>2747.0</td>\n",
       "    </tr>\n",
       "    <tr>\n",
       "      <th>2</th>\n",
       "      <td>7048295057</td>\n",
       "      <td>https://jacksonville.craigslist.org/apa/d/jack...</td>\n",
       "      <td>jacksonville</td>\n",
       "      <td>https://jacksonville.craigslist.org</td>\n",
       "      <td>1195.0</td>\n",
       "      <td>apartment</td>\n",
       "      <td>875.0</td>\n",
       "      <td>1</td>\n",
       "      <td>1.0</td>\n",
       "      <td>Yes</td>\n",
       "      <td>...</td>\n",
       "      <td>67.0</td>\n",
       "      <td>67.0</td>\n",
       "      <td>804.0</td>\n",
       "      <td>335.0</td>\n",
       "      <td>21708</td>\n",
       "      <td>14057873.0</td>\n",
       "      <td>12127.0</td>\n",
       "      <td>3149.0</td>\n",
       "      <td>3283.0</td>\n",
       "      <td>2747.0</td>\n",
       "    </tr>\n",
       "    <tr>\n",
       "      <th>3</th>\n",
       "      <td>7040827068</td>\n",
       "      <td>https://jacksonville.craigslist.org/apa/d/jack...</td>\n",
       "      <td>jacksonville</td>\n",
       "      <td>https://jacksonville.craigslist.org</td>\n",
       "      <td>730.0</td>\n",
       "      <td>apartment</td>\n",
       "      <td>800.0</td>\n",
       "      <td>3</td>\n",
       "      <td>1.0</td>\n",
       "      <td>Yes</td>\n",
       "      <td>...</td>\n",
       "      <td>21.0</td>\n",
       "      <td>21.0</td>\n",
       "      <td>231.0</td>\n",
       "      <td>84.0</td>\n",
       "      <td>6111</td>\n",
       "      <td>4213356.0</td>\n",
       "      <td>3528.0</td>\n",
       "      <td>903.0</td>\n",
       "      <td>903.0</td>\n",
       "      <td>672.0</td>\n",
       "    </tr>\n",
       "    <tr>\n",
       "      <th>4</th>\n",
       "      <td>7048272648</td>\n",
       "      <td>https://jacksonville.craigslist.org/apa/d/jack...</td>\n",
       "      <td>jacksonville</td>\n",
       "      <td>https://jacksonville.craigslist.org</td>\n",
       "      <td>835.0</td>\n",
       "      <td>apartment</td>\n",
       "      <td>865.0</td>\n",
       "      <td>2</td>\n",
       "      <td>1.0</td>\n",
       "      <td>Yes</td>\n",
       "      <td>...</td>\n",
       "      <td>25.0</td>\n",
       "      <td>25.0</td>\n",
       "      <td>225.0</td>\n",
       "      <td>100.0</td>\n",
       "      <td>7350</td>\n",
       "      <td>4927325.0</td>\n",
       "      <td>4150.0</td>\n",
       "      <td>1100.0</td>\n",
       "      <td>1150.0</td>\n",
       "      <td>825.0</td>\n",
       "    </tr>\n",
       "  </tbody>\n",
       "</table>\n",
       "<p>5 rows × 38 columns</p>\n",
       "</div>"
      ],
      "text/plain": [
       "           id                                                url  \\\n",
       "0  7048425478  https://jacksonville.craigslist.org/apa/d/jack...   \n",
       "1  7048366147  https://jacksonville.craigslist.org/apa/d/jack...   \n",
       "2  7048295057  https://jacksonville.craigslist.org/apa/d/jack...   \n",
       "3  7040827068  https://jacksonville.craigslist.org/apa/d/jack...   \n",
       "4  7048272648  https://jacksonville.craigslist.org/apa/d/jack...   \n",
       "\n",
       "         region                           region_url   price       type  \\\n",
       "0  jacksonville  https://jacksonville.craigslist.org   779.0  apartment   \n",
       "1  jacksonville  https://jacksonville.craigslist.org  1712.0  apartment   \n",
       "2  jacksonville  https://jacksonville.craigslist.org  1195.0  apartment   \n",
       "3  jacksonville  https://jacksonville.craigslist.org   730.0  apartment   \n",
       "4  jacksonville  https://jacksonville.craigslist.org   835.0  apartment   \n",
       "\n",
       "   sqfeet  beds  baths cats_allowed  ... hospital_type_children  \\\n",
       "0   628.0     1    1.0          Yes  ...                   68.0   \n",
       "1  1376.0     3    2.0          Yes  ...                   67.0   \n",
       "2   875.0     1    1.0          Yes  ...                   67.0   \n",
       "3   800.0     3    1.0          Yes  ...                   21.0   \n",
       "4   865.0     2    1.0          Yes  ...                   25.0   \n",
       "\n",
       "  government_hospital nonprofit_hospital private_hospital num_schools  \\\n",
       "0                68.0              680.0            272.0       19516   \n",
       "1                67.0              804.0            335.0       21708   \n",
       "2                67.0              804.0            335.0       21708   \n",
       "3                21.0              231.0             84.0        6111   \n",
       "4                25.0              225.0            100.0        7350   \n",
       "\n",
       "  num_students preschool elementary_school middle_school  high_school  \n",
       "0   13155756.0   11016.0            2856.0        2788.0       2516.0  \n",
       "1   14057873.0   12127.0            3149.0        3283.0       2747.0  \n",
       "2   14057873.0   12127.0            3149.0        3283.0       2747.0  \n",
       "3    4213356.0    3528.0             903.0         903.0        672.0  \n",
       "4    4927325.0    4150.0            1100.0        1150.0        825.0  \n",
       "\n",
       "[5 rows x 38 columns]"
      ]
     },
     "execution_count": 30,
     "metadata": {},
     "output_type": "execute_result"
    }
   ],
   "source": [
    "con = duckdb.connect('data/exploitation.db', read_only=True)\n",
    "df = con.execute(f\"select * from {table}\").df()\n",
    "df.head()"
   ]
  },
  {
   "cell_type": "code",
   "execution_count": 31,
   "metadata": {},
   "outputs": [
    {
     "data": {
      "text/html": [
       "<div>\n",
       "<style scoped>\n",
       "    .dataframe tbody tr th:only-of-type {\n",
       "        vertical-align: middle;\n",
       "    }\n",
       "\n",
       "    .dataframe tbody tr th {\n",
       "        vertical-align: top;\n",
       "    }\n",
       "\n",
       "    .dataframe thead th {\n",
       "        text-align: right;\n",
       "    }\n",
       "</style>\n",
       "<table border=\"1\" class=\"dataframe\">\n",
       "  <thead>\n",
       "    <tr style=\"text-align: right;\">\n",
       "      <th></th>\n",
       "      <th>long</th>\n",
       "      <th>state</th>\n",
       "      <th>num_hospitals</th>\n",
       "      <th>num_beds</th>\n",
       "      <th>hospital_type_general</th>\n",
       "      <th>hospital_type_critical</th>\n",
       "      <th>hospital_type_psychiatric</th>\n",
       "      <th>hospital_type_longterm</th>\n",
       "      <th>hospital_type_children</th>\n",
       "      <th>government_hospital</th>\n",
       "      <th>nonprofit_hospital</th>\n",
       "      <th>private_hospital</th>\n",
       "      <th>num_schools</th>\n",
       "      <th>num_students</th>\n",
       "      <th>preschool</th>\n",
       "      <th>elementary_school</th>\n",
       "      <th>middle_school</th>\n",
       "      <th>high_school</th>\n",
       "    </tr>\n",
       "  </thead>\n",
       "  <tbody>\n",
       "    <tr>\n",
       "      <th>1</th>\n",
       "      <td>-81.5571</td>\n",
       "      <td>fl</td>\n",
       "      <td>1340</td>\n",
       "      <td>324749.0</td>\n",
       "      <td>938.0</td>\n",
       "      <td>0.0</td>\n",
       "      <td>134.0</td>\n",
       "      <td>67.0</td>\n",
       "      <td>67.0</td>\n",
       "      <td>67.0</td>\n",
       "      <td>804.0</td>\n",
       "      <td>335.0</td>\n",
       "      <td>21708</td>\n",
       "      <td>14057873.0</td>\n",
       "      <td>12127.0</td>\n",
       "      <td>3149.0</td>\n",
       "      <td>3283.0</td>\n",
       "      <td>2747.0</td>\n",
       "    </tr>\n",
       "    <tr>\n",
       "      <th>2</th>\n",
       "      <td>-81.5571</td>\n",
       "      <td>fl</td>\n",
       "      <td>1340</td>\n",
       "      <td>324749.0</td>\n",
       "      <td>938.0</td>\n",
       "      <td>0.0</td>\n",
       "      <td>134.0</td>\n",
       "      <td>67.0</td>\n",
       "      <td>67.0</td>\n",
       "      <td>67.0</td>\n",
       "      <td>804.0</td>\n",
       "      <td>335.0</td>\n",
       "      <td>21708</td>\n",
       "      <td>14057873.0</td>\n",
       "      <td>12127.0</td>\n",
       "      <td>3149.0</td>\n",
       "      <td>3283.0</td>\n",
       "      <td>2747.0</td>\n",
       "    </tr>\n",
       "    <tr>\n",
       "      <th>3</th>\n",
       "      <td>-81.7219</td>\n",
       "      <td>fl</td>\n",
       "      <td>378</td>\n",
       "      <td>93072.0</td>\n",
       "      <td>273.0</td>\n",
       "      <td>0.0</td>\n",
       "      <td>42.0</td>\n",
       "      <td>0.0</td>\n",
       "      <td>21.0</td>\n",
       "      <td>21.0</td>\n",
       "      <td>231.0</td>\n",
       "      <td>84.0</td>\n",
       "      <td>6111</td>\n",
       "      <td>4213356.0</td>\n",
       "      <td>3528.0</td>\n",
       "      <td>903.0</td>\n",
       "      <td>903.0</td>\n",
       "      <td>672.0</td>\n",
       "    </tr>\n",
       "    <tr>\n",
       "      <th>4</th>\n",
       "      <td>-81.5882</td>\n",
       "      <td>fl</td>\n",
       "      <td>400</td>\n",
       "      <td>107525.0</td>\n",
       "      <td>275.0</td>\n",
       "      <td>0.0</td>\n",
       "      <td>50.0</td>\n",
       "      <td>0.0</td>\n",
       "      <td>25.0</td>\n",
       "      <td>25.0</td>\n",
       "      <td>225.0</td>\n",
       "      <td>100.0</td>\n",
       "      <td>7350</td>\n",
       "      <td>4927325.0</td>\n",
       "      <td>4150.0</td>\n",
       "      <td>1100.0</td>\n",
       "      <td>1150.0</td>\n",
       "      <td>825.0</td>\n",
       "    </tr>\n",
       "    <tr>\n",
       "      <th>5</th>\n",
       "      <td>-81.5831</td>\n",
       "      <td>fl</td>\n",
       "      <td>399</td>\n",
       "      <td>101262.0</td>\n",
       "      <td>273.0</td>\n",
       "      <td>0.0</td>\n",
       "      <td>42.0</td>\n",
       "      <td>21.0</td>\n",
       "      <td>21.0</td>\n",
       "      <td>21.0</td>\n",
       "      <td>231.0</td>\n",
       "      <td>105.0</td>\n",
       "      <td>6783</td>\n",
       "      <td>4450488.0</td>\n",
       "      <td>3738.0</td>\n",
       "      <td>1008.0</td>\n",
       "      <td>1029.0</td>\n",
       "      <td>882.0</td>\n",
       "    </tr>\n",
       "  </tbody>\n",
       "</table>\n",
       "</div>"
      ],
      "text/plain": [
       "      long state  num_hospitals  num_beds  hospital_type_general  \\\n",
       "1 -81.5571    fl           1340  324749.0                  938.0   \n",
       "2 -81.5571    fl           1340  324749.0                  938.0   \n",
       "3 -81.7219    fl            378   93072.0                  273.0   \n",
       "4 -81.5882    fl            400  107525.0                  275.0   \n",
       "5 -81.5831    fl            399  101262.0                  273.0   \n",
       "\n",
       "   hospital_type_critical  hospital_type_psychiatric  hospital_type_longterm  \\\n",
       "1                     0.0                      134.0                    67.0   \n",
       "2                     0.0                      134.0                    67.0   \n",
       "3                     0.0                       42.0                     0.0   \n",
       "4                     0.0                       50.0                     0.0   \n",
       "5                     0.0                       42.0                    21.0   \n",
       "\n",
       "   hospital_type_children  government_hospital  nonprofit_hospital  \\\n",
       "1                    67.0                 67.0               804.0   \n",
       "2                    67.0                 67.0               804.0   \n",
       "3                    21.0                 21.0               231.0   \n",
       "4                    25.0                 25.0               225.0   \n",
       "5                    21.0                 21.0               231.0   \n",
       "\n",
       "   private_hospital  num_schools  num_students  preschool  elementary_school  \\\n",
       "1             335.0        21708    14057873.0    12127.0             3149.0   \n",
       "2             335.0        21708    14057873.0    12127.0             3149.0   \n",
       "3              84.0         6111     4213356.0     3528.0              903.0   \n",
       "4             100.0         7350     4927325.0     4150.0             1100.0   \n",
       "5             105.0         6783     4450488.0     3738.0             1008.0   \n",
       "\n",
       "   middle_school  high_school  \n",
       "1         3283.0       2747.0  \n",
       "2         3283.0       2747.0  \n",
       "3          903.0        672.0  \n",
       "4         1150.0        825.0  \n",
       "5         1029.0        882.0  "
      ]
     },
     "execution_count": 31,
     "metadata": {},
     "output_type": "execute_result"
    }
   ],
   "source": [
    "df.loc[1:5, df.columns[20:50]]"
   ]
  },
  {
   "cell_type": "code",
   "execution_count": 33,
   "metadata": {},
   "outputs": [],
   "source": [
    "from sklearn.preprocessing import OneHotEncoder, StandardScaler"
   ]
  },
  {
   "cell_type": "code",
   "execution_count": 34,
   "metadata": {},
   "outputs": [],
   "source": [
    "# select columns\n",
    "y_col = 'price'\n",
    "x_cols_binary = ['cats_allowed', 'dogs_allowed', 'smoking_allowed', 'wheelchair_access', 'electric_vehicle_charge', 'comes_furnished']\n",
    "x_cols_numeric = [\n",
    "    'sqfeet', 'beds', 'baths','lat', 'long','num_hospitals', 'num_beds', 'hospital_type_general', 'hospital_type_critical',\n",
    "    'hospital_type_psychiatric', 'hospital_type_longterm', 'hospital_type_children','government_hospital', 'nonprofit_hospital',\n",
    "    'num_schools', 'num_students', 'preschool', 'elementary_school', 'middle_school', 'high_school'\n",
    "]\n",
    "x_cols_onehot = ['type', 'state']"
   ]
  },
  {
   "cell_type": "code",
   "execution_count": 55,
   "metadata": {},
   "outputs": [
    {
     "name": "stdout",
     "output_type": "stream",
     "text": [
      "col:  type\n",
      "name:  type_apartment\n",
      "name:  type_condo\n",
      "col:  state\n",
      "name:  state_fl\n",
      "name:  state_ga\n",
      "name:  state_nc\n",
      "name:  state_sc\n"
     ]
    }
   ],
   "source": [
    "# make everything numeric and scaled\n",
    "bin2num = lambda x: 1 if x=='Yes' or x==1 else 0\n",
    "for col in x_cols_binary:\n",
    "    df[col] = df[col].apply(bin2num)\n",
    "\n",
    "# one-hot encoding in categorical variables\n",
    "enc = OneHotEncoder(handle_unknown='ignore')\n",
    "enc.fit(df[x_cols_onehot])\n",
    "\n",
    "cols_encoded = []\n",
    "for i in range(len(x_cols_onehot)):\n",
    "  col = x_cols_onehot[i]\n",
    "  print(\"col: \", col)\n",
    "  for name in enc.categories_[i]:\n",
    "    cols_encoded.append(str(col+'_'+name[0:].strip()).lower().strip())\n",
    "    print(\"name: \", str(col+'_'+name[0:].strip()).lower().strip())\n",
    "\n",
    "df_onehot_encoded = pd.DataFrame(enc.transform(df[x_cols_onehot]).toarray(), columns = cols_encoded)\n",
    "\n",
    "# scaling numerical variables:\n",
    "scaler = StandardScaler()\n",
    "df_scaled = pd.DataFrame(scaler.fit_transform(df[x_cols_numeric]), columns = x_cols_numeric)\n",
    "\n"
   ]
  },
  {
   "cell_type": "code",
   "execution_count": 60,
   "metadata": {},
   "outputs": [
    {
     "name": "stdout",
     "output_type": "stream",
     "text": [
      "['type' 'state']\n",
      "[array(['apartment', 'condo'], dtype=object), array(['fl', 'ga', 'nc', 'sc'], dtype=object)]\n",
      "['sqfeet' 'beds' 'baths' 'lat' 'long' 'num_hospitals' 'num_beds'\n",
      " 'hospital_type_general' 'hospital_type_critical'\n",
      " 'hospital_type_psychiatric' 'hospital_type_longterm'\n",
      " 'hospital_type_children' 'government_hospital' 'nonprofit_hospital'\n",
      " 'num_schools' 'num_students' 'preschool' 'elementary_school'\n",
      " 'middle_school' 'high_school']\n",
      "[ 9.84223378e+02  1.79741132e+00  1.54273948e+00  3.18642369e+01\n",
      " -8.15811439e+01  1.70425292e+03  3.06747154e+05  1.09551241e+03\n",
      "  3.50580439e+01  2.56119804e+02  1.07602997e+02  1.62459862e+01\n",
      "  3.01848380e+02  6.58471024e+02  2.17720920e+04  1.44034788e+07\n",
      "  1.16194061e+04  3.73690539e+03  3.68354704e+03  2.11276928e+03]\n",
      "[3.07145912e+03 7.68282029e-01 5.76197363e-01 3.07553778e+00\n",
      " 2.20238276e+00 2.18703301e+03 3.95103187e+05 1.47594939e+03\n",
      " 1.68850586e+02 4.15007224e+02 1.87917386e+02 4.71248516e+01\n",
      " 4.90045193e+02 1.11855270e+03 2.86298554e+04 1.82114654e+07\n",
      " 1.54922323e+04 5.00372801e+03 5.27893503e+03 3.28709543e+03]\n"
     ]
    }
   ],
   "source": [
    "# columns in the one-hot encoding\n",
    "print(enc.feature_names_in_)\n",
    "print(enc.categories_)\n",
    "\n",
    "# parameters used in the scaling\n",
    "print(scaler.feature_names_in_)\n",
    "print(scaler.mean_)\n",
    "print(scaler.scale_)"
   ]
  },
  {
   "cell_type": "code",
   "execution_count": 92,
   "metadata": {},
   "outputs": [
    {
     "data": {
      "text/html": [
       "<div>\n",
       "<style scoped>\n",
       "    .dataframe tbody tr th:only-of-type {\n",
       "        vertical-align: middle;\n",
       "    }\n",
       "\n",
       "    .dataframe tbody tr th {\n",
       "        vertical-align: top;\n",
       "    }\n",
       "\n",
       "    .dataframe thead th {\n",
       "        text-align: right;\n",
       "    }\n",
       "</style>\n",
       "<table border=\"1\" class=\"dataframe\">\n",
       "  <thead>\n",
       "    <tr style=\"text-align: right;\">\n",
       "      <th></th>\n",
       "      <th>cats_allowed</th>\n",
       "      <th>dogs_allowed</th>\n",
       "      <th>smoking_allowed</th>\n",
       "      <th>wheelchair_access</th>\n",
       "      <th>electric_vehicle_charge</th>\n",
       "      <th>comes_furnished</th>\n",
       "      <th>type_apartment</th>\n",
       "      <th>type_condo</th>\n",
       "      <th>state_fl</th>\n",
       "      <th>state_ga</th>\n",
       "      <th>...</th>\n",
       "      <th>hospital_type_children</th>\n",
       "      <th>government_hospital</th>\n",
       "      <th>nonprofit_hospital</th>\n",
       "      <th>num_schools</th>\n",
       "      <th>num_students</th>\n",
       "      <th>preschool</th>\n",
       "      <th>elementary_school</th>\n",
       "      <th>middle_school</th>\n",
       "      <th>high_school</th>\n",
       "      <th>price</th>\n",
       "    </tr>\n",
       "  </thead>\n",
       "  <tbody>\n",
       "    <tr>\n",
       "      <th>0</th>\n",
       "      <td>1</td>\n",
       "      <td>1</td>\n",
       "      <td>0</td>\n",
       "      <td>0</td>\n",
       "      <td>0</td>\n",
       "      <td>0</td>\n",
       "      <td>1.0</td>\n",
       "      <td>0.0</td>\n",
       "      <td>1.0</td>\n",
       "      <td>0.0</td>\n",
       "      <td>...</td>\n",
       "      <td>1.098232</td>\n",
       "      <td>-0.477198</td>\n",
       "      <td>0.019247</td>\n",
       "      <td>-0.078802</td>\n",
       "      <td>-0.068513</td>\n",
       "      <td>-0.038949</td>\n",
       "      <td>-0.176050</td>\n",
       "      <td>-0.169645</td>\n",
       "      <td>0.122671</td>\n",
       "      <td>779.0</td>\n",
       "    </tr>\n",
       "    <tr>\n",
       "      <th>1</th>\n",
       "      <td>1</td>\n",
       "      <td>1</td>\n",
       "      <td>1</td>\n",
       "      <td>1</td>\n",
       "      <td>0</td>\n",
       "      <td>0</td>\n",
       "      <td>1.0</td>\n",
       "      <td>0.0</td>\n",
       "      <td>1.0</td>\n",
       "      <td>0.0</td>\n",
       "      <td>...</td>\n",
       "      <td>1.077012</td>\n",
       "      <td>-0.479238</td>\n",
       "      <td>0.130105</td>\n",
       "      <td>-0.002239</td>\n",
       "      <td>-0.018977</td>\n",
       "      <td>0.032764</td>\n",
       "      <td>-0.117493</td>\n",
       "      <td>-0.075876</td>\n",
       "      <td>0.192946</td>\n",
       "      <td>1712.0</td>\n",
       "    </tr>\n",
       "    <tr>\n",
       "      <th>2</th>\n",
       "      <td>1</td>\n",
       "      <td>1</td>\n",
       "      <td>1</td>\n",
       "      <td>0</td>\n",
       "      <td>0</td>\n",
       "      <td>0</td>\n",
       "      <td>1.0</td>\n",
       "      <td>0.0</td>\n",
       "      <td>1.0</td>\n",
       "      <td>0.0</td>\n",
       "      <td>...</td>\n",
       "      <td>1.077012</td>\n",
       "      <td>-0.479238</td>\n",
       "      <td>0.130105</td>\n",
       "      <td>-0.002239</td>\n",
       "      <td>-0.018977</td>\n",
       "      <td>0.032764</td>\n",
       "      <td>-0.117493</td>\n",
       "      <td>-0.075876</td>\n",
       "      <td>0.192946</td>\n",
       "      <td>1195.0</td>\n",
       "    </tr>\n",
       "    <tr>\n",
       "      <th>3</th>\n",
       "      <td>1</td>\n",
       "      <td>1</td>\n",
       "      <td>0</td>\n",
       "      <td>0</td>\n",
       "      <td>0</td>\n",
       "      <td>0</td>\n",
       "      <td>1.0</td>\n",
       "      <td>0.0</td>\n",
       "      <td>1.0</td>\n",
       "      <td>0.0</td>\n",
       "      <td>...</td>\n",
       "      <td>0.100881</td>\n",
       "      <td>-0.573107</td>\n",
       "      <td>-0.382164</td>\n",
       "      <td>-0.547020</td>\n",
       "      <td>-0.559544</td>\n",
       "      <td>-0.522288</td>\n",
       "      <td>-0.566359</td>\n",
       "      <td>-0.526725</td>\n",
       "      <td>-0.438311</td>\n",
       "      <td>730.0</td>\n",
       "    </tr>\n",
       "    <tr>\n",
       "      <th>4</th>\n",
       "      <td>1</td>\n",
       "      <td>1</td>\n",
       "      <td>0</td>\n",
       "      <td>0</td>\n",
       "      <td>0</td>\n",
       "      <td>0</td>\n",
       "      <td>1.0</td>\n",
       "      <td>0.0</td>\n",
       "      <td>1.0</td>\n",
       "      <td>0.0</td>\n",
       "      <td>...</td>\n",
       "      <td>0.185762</td>\n",
       "      <td>-0.564945</td>\n",
       "      <td>-0.387528</td>\n",
       "      <td>-0.503743</td>\n",
       "      <td>-0.520340</td>\n",
       "      <td>-0.482139</td>\n",
       "      <td>-0.526988</td>\n",
       "      <td>-0.479935</td>\n",
       "      <td>-0.391765</td>\n",
       "      <td>835.0</td>\n",
       "    </tr>\n",
       "  </tbody>\n",
       "</table>\n",
       "<p>5 rows × 33 columns</p>\n",
       "</div>"
      ],
      "text/plain": [
       "   cats_allowed  dogs_allowed  smoking_allowed  wheelchair_access  \\\n",
       "0             1             1                0                  0   \n",
       "1             1             1                1                  1   \n",
       "2             1             1                1                  0   \n",
       "3             1             1                0                  0   \n",
       "4             1             1                0                  0   \n",
       "\n",
       "   electric_vehicle_charge  comes_furnished  type_apartment  type_condo  \\\n",
       "0                        0                0             1.0         0.0   \n",
       "1                        0                0             1.0         0.0   \n",
       "2                        0                0             1.0         0.0   \n",
       "3                        0                0             1.0         0.0   \n",
       "4                        0                0             1.0         0.0   \n",
       "\n",
       "   state_fl  state_ga  ...  hospital_type_children  government_hospital  \\\n",
       "0       1.0       0.0  ...                1.098232            -0.477198   \n",
       "1       1.0       0.0  ...                1.077012            -0.479238   \n",
       "2       1.0       0.0  ...                1.077012            -0.479238   \n",
       "3       1.0       0.0  ...                0.100881            -0.573107   \n",
       "4       1.0       0.0  ...                0.185762            -0.564945   \n",
       "\n",
       "   nonprofit_hospital  num_schools  num_students  preschool  \\\n",
       "0            0.019247    -0.078802     -0.068513  -0.038949   \n",
       "1            0.130105    -0.002239     -0.018977   0.032764   \n",
       "2            0.130105    -0.002239     -0.018977   0.032764   \n",
       "3           -0.382164    -0.547020     -0.559544  -0.522288   \n",
       "4           -0.387528    -0.503743     -0.520340  -0.482139   \n",
       "\n",
       "   elementary_school  middle_school  high_school   price  \n",
       "0          -0.176050      -0.169645     0.122671   779.0  \n",
       "1          -0.117493      -0.075876     0.192946  1712.0  \n",
       "2          -0.117493      -0.075876     0.192946  1195.0  \n",
       "3          -0.566359      -0.526725    -0.438311   730.0  \n",
       "4          -0.526988      -0.479935    -0.391765   835.0  \n",
       "\n",
       "[5 rows x 33 columns]"
      ]
     },
     "execution_count": 92,
     "metadata": {},
     "output_type": "execute_result"
    }
   ],
   "source": [
    "df_processed = pd.concat(objs=[\n",
    "    df[x_cols_binary], df_onehot_encoded, df_scaled, df[[y_col]]\n",
    "], axis = 1\n",
    ")\n",
    "\n",
    "df_processed.fillna(0, inplace=True)\n",
    "\n",
    "df_processed.head()"
   ]
  },
  {
   "cell_type": "code",
   "execution_count": 97,
   "metadata": {},
   "outputs": [],
   "source": [
    "# split training set and test set and validation set\n",
    "df_train, df_val, df_test = np.split(\n",
    "    df_processed.sample(frac=1, random_state=777),\n",
    "    [ int(0.6*len(df_processed)) , int(0.8*len(df_processed)) ]\n",
    "    )\n",
    "\n",
    "X_train = df_train.drop(y_col, axis=1)\n",
    "y_train = df_train[y_col]\n",
    "X_val = df_val.drop(y_col, axis=1)\n",
    "y_val = df_val[y_col]\n",
    "X_test = df_test.drop(y_col, axis=1)\n",
    "y_test = df_test[y_col]"
   ]
  },
  {
   "attachments": {},
   "cell_type": "markdown",
   "metadata": {},
   "source": [
    "## model training"
   ]
  },
  {
   "cell_type": "code",
   "execution_count": 130,
   "metadata": {},
   "outputs": [],
   "source": [
    "from sklearn.linear_model import LinearRegression, RidgeCV, LassoCV\n",
    "from sklearn.ensemble import RandomForestRegressor\n",
    "from sklearn import metrics"
   ]
  },
  {
   "cell_type": "code",
   "execution_count": 136,
   "metadata": {},
   "outputs": [],
   "source": [
    "def printMetrics(y_true, y_pred):\n",
    "    print(\"RMSE: \", np.sqrt(metrics.mean_squared_error(y_true, y_pred)))\n",
    "    print(\"MAE: \", metrics.mean_absolute_error(y_true, y_pred))\n",
    "    print(\"MAPE: \", metrics.mean_absolute_percentage_error(y_true, y_pred))\n",
    "    print(\"R2: \", metrics.r2_score(y_true, y_pred))"
   ]
  },
  {
   "attachments": {},
   "cell_type": "markdown",
   "metadata": {},
   "source": [
    "### option 1-1 - linear regression (without regularization)"
   ]
  },
  {
   "cell_type": "code",
   "execution_count": 98,
   "metadata": {},
   "outputs": [],
   "source": [
    "reg = LinearRegression().fit(X_train, y_train)\n",
    "yhat_train = reg.predict(X_train)\n",
    "yhat_val = reg.predict(X_val)"
   ]
  },
  {
   "cell_type": "code",
   "execution_count": 101,
   "metadata": {},
   "outputs": [
    {
     "data": {
      "text/plain": [
       "{'copy_X': True,\n",
       " 'fit_intercept': True,\n",
       " 'n_jobs': None,\n",
       " 'normalize': 'deprecated',\n",
       " 'positive': False}"
      ]
     },
     "execution_count": 101,
     "metadata": {},
     "output_type": "execute_result"
    }
   ],
   "source": [
    "reg.get_params()"
   ]
  },
  {
   "cell_type": "code",
   "execution_count": 100,
   "metadata": {},
   "outputs": [
    {
     "data": {
      "text/plain": [
       "0.0020204036713160622"
      ]
     },
     "execution_count": 100,
     "metadata": {},
     "output_type": "execute_result"
    }
   ],
   "source": [
    "reg.score(X_train, y_train)"
   ]
  },
  {
   "cell_type": "code",
   "execution_count": 102,
   "metadata": {},
   "outputs": [
    {
     "data": {
      "text/plain": [
       "-155.3391542691589"
      ]
     },
     "execution_count": 102,
     "metadata": {},
     "output_type": "execute_result"
    }
   ],
   "source": [
    "reg.score(X_val, y_val)"
   ]
  },
  {
   "attachments": {},
   "cell_type": "markdown",
   "metadata": {},
   "source": [
    "### option 1-2 - ridge regression\n",
    "validation dataset to choose the regularization parameters NOOOOOO; it actually uses leave-one-out cross-validation"
   ]
  },
  {
   "cell_type": "code",
   "execution_count": 116,
   "metadata": {},
   "outputs": [],
   "source": [
    "reg2 = RidgeCV(alphas = np.logspace(-3,3,7)).fit(X_train, y_train)"
   ]
  },
  {
   "cell_type": "code",
   "execution_count": 117,
   "metadata": {},
   "outputs": [
    {
     "data": {
      "text/plain": [
       "0.0012965727874787447"
      ]
     },
     "execution_count": 117,
     "metadata": {},
     "output_type": "execute_result"
    }
   ],
   "source": [
    "reg2.score(X_train, y_train)"
   ]
  },
  {
   "cell_type": "code",
   "execution_count": 118,
   "metadata": {},
   "outputs": [],
   "source": [
    "yhat_train = reg2.predict(X_train)\n",
    "yhat_val = reg2.predict(X_val)"
   ]
  },
  {
   "cell_type": "code",
   "execution_count": 119,
   "metadata": {},
   "outputs": [
    {
     "data": {
      "text/plain": [
       "{'alpha_per_target': False,\n",
       " 'alphas': array([1.e-03, 1.e-02, 1.e-01, 1.e+00, 1.e+01, 1.e+02, 1.e+03]),\n",
       " 'cv': None,\n",
       " 'fit_intercept': True,\n",
       " 'gcv_mode': None,\n",
       " 'normalize': 'deprecated',\n",
       " 'scoring': None,\n",
       " 'store_cv_values': False}"
      ]
     },
     "execution_count": 119,
     "metadata": {},
     "output_type": "execute_result"
    }
   ],
   "source": [
    "reg2.get_params()"
   ]
  },
  {
   "cell_type": "code",
   "execution_count": 120,
   "metadata": {},
   "outputs": [
    {
     "data": {
      "text/plain": [
       "1000.0"
      ]
     },
     "execution_count": 120,
     "metadata": {},
     "output_type": "execute_result"
    }
   ],
   "source": [
    "reg2.alpha_"
   ]
  },
  {
   "cell_type": "code",
   "execution_count": 121,
   "metadata": {},
   "outputs": [
    {
     "data": {
      "text/plain": [
       "-197974349809034.5"
      ]
     },
     "execution_count": 121,
     "metadata": {},
     "output_type": "execute_result"
    }
   ],
   "source": [
    "reg2.best_score_"
   ]
  },
  {
   "attachments": {},
   "cell_type": "markdown",
   "metadata": {},
   "source": [
    "### option 1-3 - lasso regression"
   ]
  },
  {
   "cell_type": "code",
   "execution_count": null,
   "metadata": {},
   "outputs": [],
   "source": [
    "reg3 = LassoCV(alphas = np.logspace(-3,3,7)).fit(X_train, y_train)"
   ]
  },
  {
   "cell_type": "code",
   "execution_count": 125,
   "metadata": {},
   "outputs": [
    {
     "data": {
      "text/plain": [
       "0.0018141597699468104"
      ]
     },
     "execution_count": 125,
     "metadata": {},
     "output_type": "execute_result"
    }
   ],
   "source": [
    "reg3.score(X_train, y_train)"
   ]
  },
  {
   "cell_type": "code",
   "execution_count": 126,
   "metadata": {},
   "outputs": [],
   "source": [
    "yhat_train = reg3.predict(X_train)\n",
    "yhat_val = reg3.predict(X_val)"
   ]
  },
  {
   "cell_type": "code",
   "execution_count": 127,
   "metadata": {},
   "outputs": [
    {
     "data": {
      "text/plain": [
       "{'alphas': array([1.e-03, 1.e-02, 1.e-01, 1.e+00, 1.e+01, 1.e+02, 1.e+03]),\n",
       " 'copy_X': True,\n",
       " 'cv': None,\n",
       " 'eps': 0.001,\n",
       " 'fit_intercept': True,\n",
       " 'max_iter': 1000,\n",
       " 'n_alphas': 100,\n",
       " 'n_jobs': None,\n",
       " 'normalize': 'deprecated',\n",
       " 'positive': False,\n",
       " 'precompute': 'auto',\n",
       " 'random_state': None,\n",
       " 'selection': 'cyclic',\n",
       " 'tol': 0.0001,\n",
       " 'verbose': False}"
      ]
     },
     "execution_count": 127,
     "metadata": {},
     "output_type": "execute_result"
    }
   ],
   "source": [
    "reg3.get_params()"
   ]
  },
  {
   "cell_type": "code",
   "execution_count": 128,
   "metadata": {},
   "outputs": [
    {
     "data": {
      "text/plain": [
       "1000.0"
      ]
     },
     "execution_count": 128,
     "metadata": {},
     "output_type": "execute_result"
    }
   ],
   "source": [
    "reg3.alpha_"
   ]
  },
  {
   "attachments": {},
   "cell_type": "markdown",
   "metadata": {},
   "source": [
    "### option 2 - random forest"
   ]
  },
  {
   "cell_type": "code",
   "execution_count": 131,
   "metadata": {},
   "outputs": [],
   "source": [
    "rf = RandomForestRegressor(oob_score=True).fit(X_train, y_train)"
   ]
  },
  {
   "cell_type": "code",
   "execution_count": null,
   "metadata": {},
   "outputs": [],
   "source": [
    "yhat_train = rf.predict(X_train)\n",
    "yhat_val = rf.predict(X_val)"
   ]
  },
  {
   "cell_type": "code",
   "execution_count": 137,
   "metadata": {},
   "outputs": [
    {
     "name": "stdout",
     "output_type": "stream",
     "text": [
      "RMSE:  14049711.558335667\n",
      "MAE:  337286.90687854425\n",
      "MAPE:  2.9033665397045105e+18\n",
      "R2:  0.0018141597699468104\n"
     ]
    }
   ],
   "source": [
    "printMetrics(y_train, yhat_train)"
   ]
  },
  {
   "cell_type": "code",
   "execution_count": 138,
   "metadata": {},
   "outputs": [
    {
     "name": "stdout",
     "output_type": "stream",
     "text": [
      "RMSE:  1412736.5554482955\n",
      "MAE:  276141.73772523867\n",
      "MAPE:  4.0819155273067965e+18\n",
      "R2:  -90.51960177470649\n"
     ]
    }
   ],
   "source": [
    "printMetrics(y_val, yhat_val)"
   ]
  },
  {
   "cell_type": "code",
   "execution_count": 135,
   "metadata": {},
   "outputs": [
    {
     "data": {
      "text/plain": [
       "2768307249.0"
      ]
     },
     "execution_count": 135,
     "metadata": {},
     "output_type": "execute_result"
    }
   ],
   "source": [
    "max(y_train) # OUTLIERS!!!"
   ]
  },
  {
   "attachments": {},
   "cell_type": "markdown",
   "metadata": {},
   "source": [
    "### option 3 - xgboost"
   ]
  },
  {
   "attachments": {},
   "cell_type": "markdown",
   "metadata": {},
   "source": [
    "#### without hyperparameter tunning"
   ]
  },
  {
   "cell_type": "code",
   "execution_count": 140,
   "metadata": {},
   "outputs": [],
   "source": [
    "!pip install -U xgboost --quiet"
   ]
  },
  {
   "cell_type": "code",
   "execution_count": 141,
   "metadata": {},
   "outputs": [],
   "source": [
    "import xgboost as xgb"
   ]
  },
  {
   "cell_type": "code",
   "execution_count": 181,
   "metadata": {},
   "outputs": [],
   "source": [
    "param = {\n",
    "    'objective':'reg:squarederror',\n",
    "    'verbosity':1,\n",
    "    'learning_rate':0.3,\n",
    "    'max_depth':5,\n",
    "    'subsample':0.8, # to avoid overfitting\n",
    "    'reg_lambda':1, # L2 reg\n",
    "    'alpha':0, #L1 reg\n",
    "    'max_leaves':10\n",
    "}\n",
    "n_estim = 5"
   ]
  },
  {
   "cell_type": "code",
   "execution_count": 182,
   "metadata": {},
   "outputs": [
    {
     "data": {
      "text/html": [
       "<div>\n",
       "<style scoped>\n",
       "    .dataframe tbody tr th:only-of-type {\n",
       "        vertical-align: middle;\n",
       "    }\n",
       "\n",
       "    .dataframe tbody tr th {\n",
       "        vertical-align: top;\n",
       "    }\n",
       "\n",
       "    .dataframe thead th {\n",
       "        text-align: right;\n",
       "    }\n",
       "</style>\n",
       "<table border=\"1\" class=\"dataframe\">\n",
       "  <thead>\n",
       "    <tr style=\"text-align: right;\">\n",
       "      <th></th>\n",
       "      <th>cats_allowed</th>\n",
       "      <th>dogs_allowed</th>\n",
       "      <th>smoking_allowed</th>\n",
       "      <th>wheelchair_access</th>\n",
       "      <th>electric_vehicle_charge</th>\n",
       "      <th>comes_furnished</th>\n",
       "      <th>type_apartment</th>\n",
       "      <th>type_condo</th>\n",
       "      <th>state_fl</th>\n",
       "      <th>state_ga</th>\n",
       "      <th>...</th>\n",
       "      <th>hospital_type_children</th>\n",
       "      <th>government_hospital</th>\n",
       "      <th>nonprofit_hospital</th>\n",
       "      <th>num_schools</th>\n",
       "      <th>num_students</th>\n",
       "      <th>preschool</th>\n",
       "      <th>elementary_school</th>\n",
       "      <th>middle_school</th>\n",
       "      <th>high_school</th>\n",
       "      <th>price</th>\n",
       "    </tr>\n",
       "  </thead>\n",
       "  <tbody>\n",
       "    <tr>\n",
       "      <th>18536</th>\n",
       "      <td>1</td>\n",
       "      <td>1</td>\n",
       "      <td>1</td>\n",
       "      <td>0</td>\n",
       "      <td>0</td>\n",
       "      <td>0</td>\n",
       "      <td>1.0</td>\n",
       "      <td>0.0</td>\n",
       "      <td>1.0</td>\n",
       "      <td>0.0</td>\n",
       "      <td>...</td>\n",
       "      <td>-0.344743</td>\n",
       "      <td>-0.036422</td>\n",
       "      <td>-0.334782</td>\n",
       "      <td>-0.505035</td>\n",
       "      <td>-0.503950</td>\n",
       "      <td>-0.497953</td>\n",
       "      <td>-0.533983</td>\n",
       "      <td>-0.496037</td>\n",
       "      <td>-0.318752</td>\n",
       "      <td>1071.0</td>\n",
       "    </tr>\n",
       "    <tr>\n",
       "      <th>61516</th>\n",
       "      <td>1</td>\n",
       "      <td>1</td>\n",
       "      <td>1</td>\n",
       "      <td>0</td>\n",
       "      <td>0</td>\n",
       "      <td>0</td>\n",
       "      <td>1.0</td>\n",
       "      <td>0.0</td>\n",
       "      <td>1.0</td>\n",
       "      <td>0.0</td>\n",
       "      <td>...</td>\n",
       "      <td>-0.344743</td>\n",
       "      <td>0.257429</td>\n",
       "      <td>-0.397363</td>\n",
       "      <td>0.076700</td>\n",
       "      <td>-0.171562</td>\n",
       "      <td>-0.073160</td>\n",
       "      <td>-0.105303</td>\n",
       "      <td>-0.292397</td>\n",
       "      <td>1.440552</td>\n",
       "      <td>1229.0</td>\n",
       "    </tr>\n",
       "    <tr>\n",
       "      <th>6181</th>\n",
       "      <td>1</td>\n",
       "      <td>1</td>\n",
       "      <td>1</td>\n",
       "      <td>0</td>\n",
       "      <td>0</td>\n",
       "      <td>0</td>\n",
       "      <td>1.0</td>\n",
       "      <td>0.0</td>\n",
       "      <td>1.0</td>\n",
       "      <td>0.0</td>\n",
       "      <td>...</td>\n",
       "      <td>-0.302303</td>\n",
       "      <td>-0.599635</td>\n",
       "      <td>-0.560073</td>\n",
       "      <td>-0.725330</td>\n",
       "      <td>-0.747859</td>\n",
       "      <td>-0.716192</td>\n",
       "      <td>-0.719645</td>\n",
       "      <td>-0.667473</td>\n",
       "      <td>-0.599547</td>\n",
       "      <td>1234.0</td>\n",
       "    </tr>\n",
       "    <tr>\n",
       "      <th>48616</th>\n",
       "      <td>1</td>\n",
       "      <td>1</td>\n",
       "      <td>0</td>\n",
       "      <td>0</td>\n",
       "      <td>0</td>\n",
       "      <td>0</td>\n",
       "      <td>1.0</td>\n",
       "      <td>0.0</td>\n",
       "      <td>1.0</td>\n",
       "      <td>0.0</td>\n",
       "      <td>...</td>\n",
       "      <td>-0.344743</td>\n",
       "      <td>-0.615960</td>\n",
       "      <td>1.106366</td>\n",
       "      <td>0.862034</td>\n",
       "      <td>1.009633</td>\n",
       "      <td>0.922565</td>\n",
       "      <td>0.200469</td>\n",
       "      <td>0.619150</td>\n",
       "      <td>1.568324</td>\n",
       "      <td>1110.0</td>\n",
       "    </tr>\n",
       "    <tr>\n",
       "      <th>10990</th>\n",
       "      <td>1</td>\n",
       "      <td>1</td>\n",
       "      <td>1</td>\n",
       "      <td>0</td>\n",
       "      <td>0</td>\n",
       "      <td>0</td>\n",
       "      <td>1.0</td>\n",
       "      <td>0.0</td>\n",
       "      <td>1.0</td>\n",
       "      <td>0.0</td>\n",
       "      <td>...</td>\n",
       "      <td>-0.005220</td>\n",
       "      <td>-0.550660</td>\n",
       "      <td>-0.417031</td>\n",
       "      <td>-0.575486</td>\n",
       "      <td>-0.601136</td>\n",
       "      <td>-0.561017</td>\n",
       "      <td>-0.586943</td>\n",
       "      <td>-0.546237</td>\n",
       "      <td>-0.438311</td>\n",
       "      <td>1275.0</td>\n",
       "    </tr>\n",
       "    <tr>\n",
       "      <th>...</th>\n",
       "      <td>...</td>\n",
       "      <td>...</td>\n",
       "      <td>...</td>\n",
       "      <td>...</td>\n",
       "      <td>...</td>\n",
       "      <td>...</td>\n",
       "      <td>...</td>\n",
       "      <td>...</td>\n",
       "      <td>...</td>\n",
       "      <td>...</td>\n",
       "      <td>...</td>\n",
       "      <td>...</td>\n",
       "      <td>...</td>\n",
       "      <td>...</td>\n",
       "      <td>...</td>\n",
       "      <td>...</td>\n",
       "      <td>...</td>\n",
       "      <td>...</td>\n",
       "      <td>...</td>\n",
       "      <td>...</td>\n",
       "      <td>...</td>\n",
       "    </tr>\n",
       "    <tr>\n",
       "      <th>35771</th>\n",
       "      <td>1</td>\n",
       "      <td>1</td>\n",
       "      <td>1</td>\n",
       "      <td>0</td>\n",
       "      <td>0</td>\n",
       "      <td>0</td>\n",
       "      <td>1.0</td>\n",
       "      <td>0.0</td>\n",
       "      <td>1.0</td>\n",
       "      <td>0.0</td>\n",
       "      <td>...</td>\n",
       "      <td>4.854212</td>\n",
       "      <td>0.383947</td>\n",
       "      <td>0.068418</td>\n",
       "      <td>1.147854</td>\n",
       "      <td>1.056486</td>\n",
       "      <td>1.084453</td>\n",
       "      <td>0.820008</td>\n",
       "      <td>0.648133</td>\n",
       "      <td>1.965939</td>\n",
       "      <td>1470.0</td>\n",
       "    </tr>\n",
       "    <tr>\n",
       "      <th>27172</th>\n",
       "      <td>1</td>\n",
       "      <td>1</td>\n",
       "      <td>1</td>\n",
       "      <td>0</td>\n",
       "      <td>0</td>\n",
       "      <td>0</td>\n",
       "      <td>1.0</td>\n",
       "      <td>0.0</td>\n",
       "      <td>1.0</td>\n",
       "      <td>0.0</td>\n",
       "      <td>...</td>\n",
       "      <td>-0.344743</td>\n",
       "      <td>-0.418019</td>\n",
       "      <td>-0.501962</td>\n",
       "      <td>-0.404721</td>\n",
       "      <td>-0.528655</td>\n",
       "      <td>-0.462000</td>\n",
       "      <td>-0.475427</td>\n",
       "      <td>-0.514033</td>\n",
       "      <td>0.242533</td>\n",
       "      <td>602.0</td>\n",
       "    </tr>\n",
       "    <tr>\n",
       "      <th>6668</th>\n",
       "      <td>1</td>\n",
       "      <td>1</td>\n",
       "      <td>1</td>\n",
       "      <td>0</td>\n",
       "      <td>0</td>\n",
       "      <td>0</td>\n",
       "      <td>1.0</td>\n",
       "      <td>0.0</td>\n",
       "      <td>1.0</td>\n",
       "      <td>0.0</td>\n",
       "      <td>...</td>\n",
       "      <td>-0.344743</td>\n",
       "      <td>1.947069</td>\n",
       "      <td>-0.027241</td>\n",
       "      <td>1.564657</td>\n",
       "      <td>1.321471</td>\n",
       "      <td>1.033589</td>\n",
       "      <td>1.512291</td>\n",
       "      <td>1.086669</td>\n",
       "      <td>4.133507</td>\n",
       "      <td>1219.0</td>\n",
       "    </tr>\n",
       "    <tr>\n",
       "      <th>20005</th>\n",
       "      <td>1</td>\n",
       "      <td>1</td>\n",
       "      <td>1</td>\n",
       "      <td>1</td>\n",
       "      <td>0</td>\n",
       "      <td>0</td>\n",
       "      <td>1.0</td>\n",
       "      <td>0.0</td>\n",
       "      <td>1.0</td>\n",
       "      <td>0.0</td>\n",
       "      <td>...</td>\n",
       "      <td>-0.344743</td>\n",
       "      <td>0.298241</td>\n",
       "      <td>-0.188164</td>\n",
       "      <td>0.334892</td>\n",
       "      <td>-0.021331</td>\n",
       "      <td>0.247646</td>\n",
       "      <td>-0.075325</td>\n",
       "      <td>0.023575</td>\n",
       "      <td>1.606047</td>\n",
       "      <td>1179.0</td>\n",
       "    </tr>\n",
       "    <tr>\n",
       "      <th>2110</th>\n",
       "      <td>0</td>\n",
       "      <td>0</td>\n",
       "      <td>1</td>\n",
       "      <td>0</td>\n",
       "      <td>0</td>\n",
       "      <td>0</td>\n",
       "      <td>1.0</td>\n",
       "      <td>0.0</td>\n",
       "      <td>0.0</td>\n",
       "      <td>0.0</td>\n",
       "      <td>...</td>\n",
       "      <td>-0.344743</td>\n",
       "      <td>-0.615960</td>\n",
       "      <td>0.296391</td>\n",
       "      <td>-0.006640</td>\n",
       "      <td>-0.049014</td>\n",
       "      <td>0.025341</td>\n",
       "      <td>0.005015</td>\n",
       "      <td>0.114882</td>\n",
       "      <td>-0.201019</td>\n",
       "      <td>1030.0</td>\n",
       "    </tr>\n",
       "  </tbody>\n",
       "</table>\n",
       "<p>38753 rows × 33 columns</p>\n",
       "</div>"
      ],
      "text/plain": [
       "       cats_allowed  dogs_allowed  smoking_allowed  wheelchair_access  \\\n",
       "18536             1             1                1                  0   \n",
       "61516             1             1                1                  0   \n",
       "6181              1             1                1                  0   \n",
       "48616             1             1                0                  0   \n",
       "10990             1             1                1                  0   \n",
       "...             ...           ...              ...                ...   \n",
       "35771             1             1                1                  0   \n",
       "27172             1             1                1                  0   \n",
       "6668              1             1                1                  0   \n",
       "20005             1             1                1                  1   \n",
       "2110              0             0                1                  0   \n",
       "\n",
       "       electric_vehicle_charge  comes_furnished  type_apartment  type_condo  \\\n",
       "18536                        0                0             1.0         0.0   \n",
       "61516                        0                0             1.0         0.0   \n",
       "6181                         0                0             1.0         0.0   \n",
       "48616                        0                0             1.0         0.0   \n",
       "10990                        0                0             1.0         0.0   \n",
       "...                        ...              ...             ...         ...   \n",
       "35771                        0                0             1.0         0.0   \n",
       "27172                        0                0             1.0         0.0   \n",
       "6668                         0                0             1.0         0.0   \n",
       "20005                        0                0             1.0         0.0   \n",
       "2110                         0                0             1.0         0.0   \n",
       "\n",
       "       state_fl  state_ga  ...  hospital_type_children  government_hospital  \\\n",
       "18536       1.0       0.0  ...               -0.344743            -0.036422   \n",
       "61516       1.0       0.0  ...               -0.344743             0.257429   \n",
       "6181        1.0       0.0  ...               -0.302303            -0.599635   \n",
       "48616       1.0       0.0  ...               -0.344743            -0.615960   \n",
       "10990       1.0       0.0  ...               -0.005220            -0.550660   \n",
       "...         ...       ...  ...                     ...                  ...   \n",
       "35771       1.0       0.0  ...                4.854212             0.383947   \n",
       "27172       1.0       0.0  ...               -0.344743            -0.418019   \n",
       "6668        1.0       0.0  ...               -0.344743             1.947069   \n",
       "20005       1.0       0.0  ...               -0.344743             0.298241   \n",
       "2110        0.0       0.0  ...               -0.344743            -0.615960   \n",
       "\n",
       "       nonprofit_hospital  num_schools  num_students  preschool  \\\n",
       "18536           -0.334782    -0.505035     -0.503950  -0.497953   \n",
       "61516           -0.397363     0.076700     -0.171562  -0.073160   \n",
       "6181            -0.560073    -0.725330     -0.747859  -0.716192   \n",
       "48616            1.106366     0.862034      1.009633   0.922565   \n",
       "10990           -0.417031    -0.575486     -0.601136  -0.561017   \n",
       "...                   ...          ...           ...        ...   \n",
       "35771            0.068418     1.147854      1.056486   1.084453   \n",
       "27172           -0.501962    -0.404721     -0.528655  -0.462000   \n",
       "6668            -0.027241     1.564657      1.321471   1.033589   \n",
       "20005           -0.188164     0.334892     -0.021331   0.247646   \n",
       "2110             0.296391    -0.006640     -0.049014   0.025341   \n",
       "\n",
       "       elementary_school  middle_school  high_school   price  \n",
       "18536          -0.533983      -0.496037    -0.318752  1071.0  \n",
       "61516          -0.105303      -0.292397     1.440552  1229.0  \n",
       "6181           -0.719645      -0.667473    -0.599547  1234.0  \n",
       "48616           0.200469       0.619150     1.568324  1110.0  \n",
       "10990          -0.586943      -0.546237    -0.438311  1275.0  \n",
       "...                  ...            ...          ...     ...  \n",
       "35771           0.820008       0.648133     1.965939  1470.0  \n",
       "27172          -0.475427      -0.514033     0.242533   602.0  \n",
       "6668            1.512291       1.086669     4.133507  1219.0  \n",
       "20005          -0.075325       0.023575     1.606047  1179.0  \n",
       "2110            0.005015       0.114882    -0.201019  1030.0  \n",
       "\n",
       "[38753 rows x 33 columns]"
      ]
     },
     "execution_count": 182,
     "metadata": {},
     "output_type": "execute_result"
    }
   ],
   "source": [
    "df_train"
   ]
  },
  {
   "cell_type": "code",
   "execution_count": 183,
   "metadata": {},
   "outputs": [],
   "source": [
    "data_train = xgb.DMatrix(X_train, label=y_train)\n",
    "data_val = xgb.DMatrix(X_val, label=y_val)"
   ]
  },
  {
   "cell_type": "code",
   "execution_count": 184,
   "metadata": {},
   "outputs": [
    {
     "name": "stdout",
     "output_type": "stream",
     "text": [
      "0.2563045024871826\n"
     ]
    }
   ],
   "source": [
    "time0 = time()\n",
    "xgb_1 = xgb.train(param, data_train, n_estim)\n",
    "print(time()-time0)"
   ]
  },
  {
   "cell_type": "code",
   "execution_count": 185,
   "metadata": {},
   "outputs": [],
   "source": [
    "yhat_train = xgb_1.predict(data_train)\n",
    "yhat_val = xgb_1.predict(data_val)"
   ]
  },
  {
   "cell_type": "code",
   "execution_count": 186,
   "metadata": {},
   "outputs": [
    {
     "name": "stdout",
     "output_type": "stream",
     "text": [
      "RMSE:  6239888.978598796\n",
      "MAE:  33132.629729354434\n",
      "MAPE:  1.7188204950688638e+16\n",
      "R2:  0.8031069829694033\n"
     ]
    }
   ],
   "source": [
    "printMetrics(y_train, yhat_train)"
   ]
  },
  {
   "cell_type": "code",
   "execution_count": 187,
   "metadata": {},
   "outputs": [
    {
     "name": "stdout",
     "output_type": "stream",
     "text": [
      "RMSE:  155101.2718094486\n",
      "MAE:  3333.7563209515974\n",
      "MAPE:  2.535911175510825e+16\n",
      "R2:  -0.10311927660701059\n"
     ]
    }
   ],
   "source": [
    "printMetrics(y_val, yhat_val)"
   ]
  },
  {
   "cell_type": "code",
   "execution_count": 188,
   "metadata": {},
   "outputs": [],
   "source": [
    "from xgboost import plot_importance, plot_tree"
   ]
  },
  {
   "cell_type": "code",
   "execution_count": 189,
   "metadata": {},
   "outputs": [
    {
     "data": {
      "text/plain": [
       "<AxesSubplot:title={'center':'Feature importance'}, xlabel='F score', ylabel='Features'>"
      ]
     },
     "execution_count": 189,
     "metadata": {},
     "output_type": "execute_result"
    },
    {
     "data": {
      "image/png": "[encoded data removed]",
      "text/plain": [
       "<Figure size 432x288 with 1 Axes>"
      ]
     },
     "metadata": {
      "needs_background": "light"
     },
     "output_type": "display_data"
    }
   ],
   "source": [
    "plot_importance(xgb_1, max_num_features = 30, height = 1)"
   ]
  },
  {
   "cell_type": "code",
   "execution_count": 190,
   "metadata": {},
   "outputs": [
    {
     "ename": "ExecutableNotFound",
     "evalue": "failed to execute WindowsPath('dot'), make sure the Graphviz executables are on your systems' PATH",
     "output_type": "error",
     "traceback": [
      "\u001b[1;31m---------------------------------------------------------------------------\u001b[0m",
      "\u001b[1;31mFileNotFoundError\u001b[0m                         Traceback (most recent call last)",
      "File \u001b[1;32mc:\\Users\\adria\\AppData\\Local\\Programs\\Python\\Python39\\lib\\site-packages\\graphviz\\backend\\execute.py:79\u001b[0m, in \u001b[0;36mrun_check\u001b[1;34m(cmd, input_lines, encoding, quiet, **kwargs)\u001b[0m\n\u001b[0;32m     78\u001b[0m         kwargs[\u001b[39m'\u001b[39m\u001b[39mstdout\u001b[39m\u001b[39m'\u001b[39m] \u001b[39m=\u001b[39m kwargs[\u001b[39m'\u001b[39m\u001b[39mstderr\u001b[39m\u001b[39m'\u001b[39m] \u001b[39m=\u001b[39m subprocess\u001b[39m.\u001b[39mPIPE\n\u001b[1;32m---> 79\u001b[0m     proc \u001b[39m=\u001b[39m _run_input_lines(cmd, input_lines, kwargs\u001b[39m=\u001b[39;49mkwargs)\n\u001b[0;32m     80\u001b[0m \u001b[39melse\u001b[39;00m:\n",
      "File \u001b[1;32mc:\\Users\\adria\\AppData\\Local\\Programs\\Python\\Python39\\lib\\site-packages\\graphviz\\backend\\execute.py:99\u001b[0m, in \u001b[0;36m_run_input_lines\u001b[1;34m(cmd, input_lines, kwargs)\u001b[0m\n\u001b[0;32m     98\u001b[0m \u001b[39mdef\u001b[39;00m \u001b[39m_run_input_lines\u001b[39m(cmd, input_lines, \u001b[39m*\u001b[39m, kwargs):\n\u001b[1;32m---> 99\u001b[0m     popen \u001b[39m=\u001b[39m subprocess\u001b[39m.\u001b[39mPopen(cmd, stdin\u001b[39m=\u001b[39msubprocess\u001b[39m.\u001b[39mPIPE, \u001b[39m*\u001b[39m\u001b[39m*\u001b[39mkwargs)\n\u001b[0;32m    101\u001b[0m     stdin_write \u001b[39m=\u001b[39m popen\u001b[39m.\u001b[39mstdin\u001b[39m.\u001b[39mwrite\n",
      "File \u001b[1;32mc:\\Users\\adria\\AppData\\Local\\Programs\\Python\\Python39\\lib\\subprocess.py:951\u001b[0m, in \u001b[0;36mPopen.__init__\u001b[1;34m(self, args, bufsize, executable, stdin, stdout, stderr, preexec_fn, close_fds, shell, cwd, env, universal_newlines, startupinfo, creationflags, restore_signals, start_new_session, pass_fds, user, group, extra_groups, encoding, errors, text, umask)\u001b[0m\n\u001b[0;32m    948\u001b[0m             \u001b[39mself\u001b[39m\u001b[39m.\u001b[39mstderr \u001b[39m=\u001b[39m io\u001b[39m.\u001b[39mTextIOWrapper(\u001b[39mself\u001b[39m\u001b[39m.\u001b[39mstderr,\n\u001b[0;32m    949\u001b[0m                     encoding\u001b[39m=\u001b[39mencoding, errors\u001b[39m=\u001b[39merrors)\n\u001b[1;32m--> 951\u001b[0m     \u001b[39mself\u001b[39;49m\u001b[39m.\u001b[39;49m_execute_child(args, executable, preexec_fn, close_fds,\n\u001b[0;32m    952\u001b[0m                         pass_fds, cwd, env,\n\u001b[0;32m    953\u001b[0m                         startupinfo, creationflags, shell,\n\u001b[0;32m    954\u001b[0m                         p2cread, p2cwrite,\n\u001b[0;32m    955\u001b[0m                         c2pread, c2pwrite,\n\u001b[0;32m    956\u001b[0m                         errread, errwrite,\n\u001b[0;32m    957\u001b[0m                         restore_signals,\n\u001b[0;32m    958\u001b[0m                         gid, gids, uid, umask,\n\u001b[0;32m    959\u001b[0m                         start_new_session)\n\u001b[0;32m    960\u001b[0m \u001b[39mexcept\u001b[39;00m:\n\u001b[0;32m    961\u001b[0m     \u001b[39m# Cleanup if the child failed starting.\u001b[39;00m\n",
      "File \u001b[1;32mc:\\Users\\adria\\AppData\\Local\\Programs\\Python\\Python39\\lib\\subprocess.py:1420\u001b[0m, in \u001b[0;36mPopen._execute_child\u001b[1;34m(self, args, executable, preexec_fn, close_fds, pass_fds, cwd, env, startupinfo, creationflags, shell, p2cread, p2cwrite, c2pread, c2pwrite, errread, errwrite, unused_restore_signals, unused_gid, unused_gids, unused_uid, unused_umask, unused_start_new_session)\u001b[0m\n\u001b[0;32m   1419\u001b[0m \u001b[39mtry\u001b[39;00m:\n\u001b[1;32m-> 1420\u001b[0m     hp, ht, pid, tid \u001b[39m=\u001b[39m _winapi\u001b[39m.\u001b[39;49mCreateProcess(executable, args,\n\u001b[0;32m   1421\u001b[0m                              \u001b[39m# no special security\u001b[39;49;00m\n\u001b[0;32m   1422\u001b[0m                              \u001b[39mNone\u001b[39;49;00m, \u001b[39mNone\u001b[39;49;00m,\n\u001b[0;32m   1423\u001b[0m                              \u001b[39mint\u001b[39;49m(\u001b[39mnot\u001b[39;49;00m close_fds),\n\u001b[0;32m   1424\u001b[0m                              creationflags,\n\u001b[0;32m   1425\u001b[0m                              env,\n\u001b[0;32m   1426\u001b[0m                              cwd,\n\u001b[0;32m   1427\u001b[0m                              startupinfo)\n\u001b[0;32m   1428\u001b[0m \u001b[39mfinally\u001b[39;00m:\n\u001b[0;32m   1429\u001b[0m     \u001b[39m# Child is launched. Close the parent's copy of those pipe\u001b[39;00m\n\u001b[0;32m   1430\u001b[0m     \u001b[39m# handles that only the child should have open.  You need\u001b[39;00m\n\u001b[1;32m   (...)\u001b[0m\n\u001b[0;32m   1433\u001b[0m     \u001b[39m# pipe will not close when the child process exits and the\u001b[39;00m\n\u001b[0;32m   1434\u001b[0m     \u001b[39m# ReadFile will hang.\u001b[39;00m\n",
      "\u001b[1;31mFileNotFoundError\u001b[0m: [WinError 2] El sistema no puede encontrar el archivo especificado",
      "\nThe above exception was the direct cause of the following exception:\n",
      "\u001b[1;31mExecutableNotFound\u001b[0m                        Traceback (most recent call last)",
      "\u001b[1;32md:\\00 - Cole\\00Master\\Q3-ADSDB\\ADSDB_project2\\model.ipynb Cell 53\u001b[0m in \u001b[0;36m<cell line: 1>\u001b[1;34m()\u001b[0m\n\u001b[1;32m----> <a href='vscode-notebook-cell:/d%3A/00%20-%20Cole/00Master/Q3-ADSDB/ADSDB_project2/model.ipynb#Y133sZmlsZQ%3D%3D?line=0'>1</a>\u001b[0m xgb\u001b[39m.\u001b[39;49mplot_tree(xgb_1, num_trees \u001b[39m=\u001b[39;49m \u001b[39m1\u001b[39;49m, rankdir\u001b[39m=\u001b[39;49m\u001b[39m\"\u001b[39;49m\u001b[39mLR\u001b[39;49m\u001b[39m\"\u001b[39;49m)\n",
      "File \u001b[1;32mc:\\Users\\adria\\AppData\\Local\\Programs\\Python\\Python39\\lib\\site-packages\\xgboost\\plotting.py:284\u001b[0m, in \u001b[0;36mplot_tree\u001b[1;34m(booster, fmap, num_trees, rankdir, ax, **kwargs)\u001b[0m\n\u001b[0;32m    280\u001b[0m g \u001b[39m=\u001b[39m to_graphviz(booster, fmap\u001b[39m=\u001b[39mfmap, num_trees\u001b[39m=\u001b[39mnum_trees, rankdir\u001b[39m=\u001b[39mrankdir,\n\u001b[0;32m    281\u001b[0m                 \u001b[39m*\u001b[39m\u001b[39m*\u001b[39mkwargs)\n\u001b[0;32m    283\u001b[0m s \u001b[39m=\u001b[39m BytesIO()\n\u001b[1;32m--> 284\u001b[0m s\u001b[39m.\u001b[39mwrite(g\u001b[39m.\u001b[39;49mpipe(\u001b[39mformat\u001b[39;49m\u001b[39m=\u001b[39;49m\u001b[39m'\u001b[39;49m\u001b[39mpng\u001b[39;49m\u001b[39m'\u001b[39;49m))\n\u001b[0;32m    285\u001b[0m s\u001b[39m.\u001b[39mseek(\u001b[39m0\u001b[39m)\n\u001b[0;32m    286\u001b[0m img \u001b[39m=\u001b[39m image\u001b[39m.\u001b[39mimread(s)\n",
      "File \u001b[1;32mc:\\Users\\adria\\AppData\\Local\\Programs\\Python\\Python39\\lib\\site-packages\\graphviz\\piping.py:104\u001b[0m, in \u001b[0;36mPipe.pipe\u001b[1;34m(self, format, renderer, formatter, neato_no_op, quiet, engine, encoding)\u001b[0m\n\u001b[0;32m     55\u001b[0m \u001b[39mdef\u001b[39;00m \u001b[39mpipe\u001b[39m(\u001b[39mself\u001b[39m,\n\u001b[0;32m     56\u001b[0m          \u001b[39mformat\u001b[39m: typing\u001b[39m.\u001b[39mOptional[\u001b[39mstr\u001b[39m] \u001b[39m=\u001b[39m \u001b[39mNone\u001b[39;00m,\n\u001b[0;32m     57\u001b[0m          renderer: typing\u001b[39m.\u001b[39mOptional[\u001b[39mstr\u001b[39m] \u001b[39m=\u001b[39m \u001b[39mNone\u001b[39;00m,\n\u001b[1;32m   (...)\u001b[0m\n\u001b[0;32m     61\u001b[0m          engine: typing\u001b[39m.\u001b[39mOptional[\u001b[39mstr\u001b[39m] \u001b[39m=\u001b[39m \u001b[39mNone\u001b[39;00m,\n\u001b[0;32m     62\u001b[0m          encoding: typing\u001b[39m.\u001b[39mOptional[\u001b[39mstr\u001b[39m] \u001b[39m=\u001b[39m \u001b[39mNone\u001b[39;00m) \u001b[39m-\u001b[39m\u001b[39m>\u001b[39m typing\u001b[39m.\u001b[39mUnion[\u001b[39mbytes\u001b[39m, \u001b[39mstr\u001b[39m]:\n\u001b[0;32m     63\u001b[0m     \u001b[39m\"\"\"Return the source piped through the Graphviz layout command.\u001b[39;00m\n\u001b[0;32m     64\u001b[0m \n\u001b[0;32m     65\u001b[0m \u001b[39m    Args:\u001b[39;00m\n\u001b[1;32m   (...)\u001b[0m\n\u001b[0;32m    102\u001b[0m \u001b[39m        '<?xml version='\u001b[39;00m\n\u001b[0;32m    103\u001b[0m \u001b[39m    \"\"\"\u001b[39;00m\n\u001b[1;32m--> 104\u001b[0m     \u001b[39mreturn\u001b[39;00m \u001b[39mself\u001b[39;49m\u001b[39m.\u001b[39;49m_pipe_legacy(\u001b[39mformat\u001b[39;49m,\n\u001b[0;32m    105\u001b[0m                              renderer\u001b[39m=\u001b[39;49mrenderer,\n\u001b[0;32m    106\u001b[0m                              formatter\u001b[39m=\u001b[39;49mformatter,\n\u001b[0;32m    107\u001b[0m                              neato_no_op\u001b[39m=\u001b[39;49mneato_no_op,\n\u001b[0;32m    108\u001b[0m                              quiet\u001b[39m=\u001b[39;49mquiet,\n\u001b[0;32m    109\u001b[0m                              engine\u001b[39m=\u001b[39;49mengine,\n\u001b[0;32m    110\u001b[0m                              encoding\u001b[39m=\u001b[39;49mencoding)\n",
      "File \u001b[1;32mc:\\Users\\adria\\AppData\\Local\\Programs\\Python\\Python39\\lib\\site-packages\\graphviz\\_tools.py:171\u001b[0m, in \u001b[0;36mdeprecate_positional_args.<locals>.decorator.<locals>.wrapper\u001b[1;34m(*args, **kwargs)\u001b[0m\n\u001b[0;32m    162\u001b[0m     wanted \u001b[39m=\u001b[39m \u001b[39m'\u001b[39m\u001b[39m, \u001b[39m\u001b[39m'\u001b[39m\u001b[39m.\u001b[39mjoin(\u001b[39mf\u001b[39m\u001b[39m'\u001b[39m\u001b[39m{\u001b[39;00mname\u001b[39m}\u001b[39;00m\u001b[39m=\u001b[39m\u001b[39m{\u001b[39;00mvalue\u001b[39m!r}\u001b[39;00m\u001b[39m'\u001b[39m\n\u001b[0;32m    163\u001b[0m                        \u001b[39mfor\u001b[39;00m name, value \u001b[39min\u001b[39;00m deprecated\u001b[39m.\u001b[39mitems())\n\u001b[0;32m    164\u001b[0m     warnings\u001b[39m.\u001b[39mwarn(\u001b[39mf\u001b[39m\u001b[39m'\u001b[39m\u001b[39mThe signature of \u001b[39m\u001b[39m{\u001b[39;00mfunc\u001b[39m.\u001b[39m\u001b[39m__name__\u001b[39m\u001b[39m}\u001b[39;00m\u001b[39m will be reduced\u001b[39m\u001b[39m'\u001b[39m\n\u001b[0;32m    165\u001b[0m                   \u001b[39mf\u001b[39m\u001b[39m'\u001b[39m\u001b[39m to \u001b[39m\u001b[39m{\u001b[39;00msupported_number\u001b[39m}\u001b[39;00m\u001b[39m positional args\u001b[39m\u001b[39m'\u001b[39m\n\u001b[0;32m    166\u001b[0m                   \u001b[39mf\u001b[39m\u001b[39m'\u001b[39m\u001b[39m \u001b[39m\u001b[39m{\u001b[39;00m\u001b[39mlist\u001b[39m(supported)\u001b[39m}\u001b[39;00m\u001b[39m: pass \u001b[39m\u001b[39m{\u001b[39;00mwanted\u001b[39m}\u001b[39;00m\u001b[39m'\u001b[39m\n\u001b[0;32m    167\u001b[0m                   \u001b[39m'\u001b[39m\u001b[39m as keyword arg(s)\u001b[39m\u001b[39m'\u001b[39m,\n\u001b[0;32m    168\u001b[0m                   stacklevel\u001b[39m=\u001b[39mstacklevel,\n\u001b[0;32m    169\u001b[0m                   category\u001b[39m=\u001b[39mcategory)\n\u001b[1;32m--> 171\u001b[0m \u001b[39mreturn\u001b[39;00m func(\u001b[39m*\u001b[39margs, \u001b[39m*\u001b[39m\u001b[39m*\u001b[39mkwargs)\n",
      "File \u001b[1;32mc:\\Users\\adria\\AppData\\Local\\Programs\\Python\\Python39\\lib\\site-packages\\graphviz\\piping.py:121\u001b[0m, in \u001b[0;36mPipe._pipe_legacy\u001b[1;34m(self, format, renderer, formatter, neato_no_op, quiet, engine, encoding)\u001b[0m\n\u001b[0;32m    112\u001b[0m \u001b[39m@_tools\u001b[39m\u001b[39m.\u001b[39mdeprecate_positional_args(supported_number\u001b[39m=\u001b[39m\u001b[39m2\u001b[39m)\n\u001b[0;32m    113\u001b[0m \u001b[39mdef\u001b[39;00m \u001b[39m_pipe_legacy\u001b[39m(\u001b[39mself\u001b[39m,\n\u001b[0;32m    114\u001b[0m                  \u001b[39mformat\u001b[39m: typing\u001b[39m.\u001b[39mOptional[\u001b[39mstr\u001b[39m] \u001b[39m=\u001b[39m \u001b[39mNone\u001b[39;00m,\n\u001b[1;32m   (...)\u001b[0m\n\u001b[0;32m    119\u001b[0m                  engine: typing\u001b[39m.\u001b[39mOptional[\u001b[39mstr\u001b[39m] \u001b[39m=\u001b[39m \u001b[39mNone\u001b[39;00m,\n\u001b[0;32m    120\u001b[0m                  encoding: typing\u001b[39m.\u001b[39mOptional[\u001b[39mstr\u001b[39m] \u001b[39m=\u001b[39m \u001b[39mNone\u001b[39;00m) \u001b[39m-\u001b[39m\u001b[39m>\u001b[39m typing\u001b[39m.\u001b[39mUnion[\u001b[39mbytes\u001b[39m, \u001b[39mstr\u001b[39m]:\n\u001b[1;32m--> 121\u001b[0m     \u001b[39mreturn\u001b[39;00m \u001b[39mself\u001b[39;49m\u001b[39m.\u001b[39;49m_pipe_future(\u001b[39mformat\u001b[39;49m,\n\u001b[0;32m    122\u001b[0m                              renderer\u001b[39m=\u001b[39;49mrenderer,\n\u001b[0;32m    123\u001b[0m                              formatter\u001b[39m=\u001b[39;49mformatter,\n\u001b[0;32m    124\u001b[0m                              neato_no_op\u001b[39m=\u001b[39;49mneato_no_op,\n\u001b[0;32m    125\u001b[0m                              quiet\u001b[39m=\u001b[39;49mquiet,\n\u001b[0;32m    126\u001b[0m                              engine\u001b[39m=\u001b[39;49mengine,\n\u001b[0;32m    127\u001b[0m                              encoding\u001b[39m=\u001b[39;49mencoding)\n",
      "File \u001b[1;32mc:\\Users\\adria\\AppData\\Local\\Programs\\Python\\Python39\\lib\\site-packages\\graphviz\\piping.py:161\u001b[0m, in \u001b[0;36mPipe._pipe_future\u001b[1;34m(self, format, renderer, formatter, neato_no_op, quiet, engine, encoding)\u001b[0m\n\u001b[0;32m    159\u001b[0m     \u001b[39melse\u001b[39;00m:\n\u001b[0;32m    160\u001b[0m         \u001b[39mreturn\u001b[39;00m raw\u001b[39m.\u001b[39mdecode(encoding)\n\u001b[1;32m--> 161\u001b[0m \u001b[39mreturn\u001b[39;00m \u001b[39mself\u001b[39m\u001b[39m.\u001b[39m_pipe_lines(\u001b[39m*\u001b[39margs, input_encoding\u001b[39m=\u001b[39m\u001b[39mself\u001b[39m\u001b[39m.\u001b[39mencoding, \u001b[39m*\u001b[39m\u001b[39m*\u001b[39mkwargs)\n",
      "File \u001b[1;32mc:\\Users\\adria\\AppData\\Local\\Programs\\Python\\Python39\\lib\\site-packages\\graphviz\\backend\\piping.py:161\u001b[0m, in \u001b[0;36mpipe_lines\u001b[1;34m(engine, format, input_lines, input_encoding, renderer, formatter, neato_no_op, quiet)\u001b[0m\n\u001b[0;32m    155\u001b[0m cmd \u001b[39m=\u001b[39m dot_command\u001b[39m.\u001b[39mcommand(engine, \u001b[39mformat\u001b[39m,\n\u001b[0;32m    156\u001b[0m                           renderer\u001b[39m=\u001b[39mrenderer,\n\u001b[0;32m    157\u001b[0m                           formatter\u001b[39m=\u001b[39mformatter,\n\u001b[0;32m    158\u001b[0m                           neato_no_op\u001b[39m=\u001b[39mneato_no_op)\n\u001b[0;32m    159\u001b[0m kwargs \u001b[39m=\u001b[39m {\u001b[39m'\u001b[39m\u001b[39minput_lines\u001b[39m\u001b[39m'\u001b[39m: (line\u001b[39m.\u001b[39mencode(input_encoding) \u001b[39mfor\u001b[39;00m line \u001b[39min\u001b[39;00m input_lines)}\n\u001b[1;32m--> 161\u001b[0m proc \u001b[39m=\u001b[39m execute\u001b[39m.\u001b[39mrun_check(cmd, capture_output\u001b[39m=\u001b[39m\u001b[39mTrue\u001b[39;00m, quiet\u001b[39m=\u001b[39mquiet, \u001b[39m*\u001b[39m\u001b[39m*\u001b[39mkwargs)\n\u001b[0;32m    162\u001b[0m \u001b[39mreturn\u001b[39;00m proc\u001b[39m.\u001b[39mstdout\n",
      "File \u001b[1;32mc:\\Users\\adria\\AppData\\Local\\Programs\\Python\\Python39\\lib\\site-packages\\graphviz\\backend\\execute.py:84\u001b[0m, in \u001b[0;36mrun_check\u001b[1;34m(cmd, input_lines, encoding, quiet, **kwargs)\u001b[0m\n\u001b[0;32m     82\u001b[0m \u001b[39mexcept\u001b[39;00m \u001b[39mOSError\u001b[39;00m \u001b[39mas\u001b[39;00m e:\n\u001b[0;32m     83\u001b[0m     \u001b[39mif\u001b[39;00m e\u001b[39m.\u001b[39merrno \u001b[39m==\u001b[39m errno\u001b[39m.\u001b[39mENOENT:\n\u001b[1;32m---> 84\u001b[0m         \u001b[39mraise\u001b[39;00m ExecutableNotFound(cmd) \u001b[39mfrom\u001b[39;00m \u001b[39me\u001b[39;00m\n\u001b[0;32m     85\u001b[0m     \u001b[39mraise\u001b[39;00m\n\u001b[0;32m     87\u001b[0m \u001b[39mif\u001b[39;00m \u001b[39mnot\u001b[39;00m quiet \u001b[39mand\u001b[39;00m proc\u001b[39m.\u001b[39mstderr:\n",
      "\u001b[1;31mExecutableNotFound\u001b[0m: failed to execute WindowsPath('dot'), make sure the Graphviz executables are on your systems' PATH"
     ]
    },
    {
     "data": {
      "image/png": "[encoded data removed]",
      "text/plain": [
       "<Figure size 432x288 with 1 Axes>"
      ]
     },
     "metadata": {
      "needs_background": "light"
     },
     "output_type": "display_data"
    }
   ],
   "source": [
    "xgb.plot_tree(xgb_1, num_trees = 1, rankdir=\"LR\") # FIX THIS!"
   ]
  },
  {
   "attachments": {},
   "cell_type": "markdown",
   "metadata": {},
   "source": [
    "#### with hyperparameter tunning"
   ]
  },
  {
   "cell_type": "code",
   "execution_count": 191,
   "metadata": {},
   "outputs": [],
   "source": [
    "from sklearn.model_selection import GridSearchCV"
   ]
  },
  {
   "cell_type": "code",
   "execution_count": 192,
   "metadata": {},
   "outputs": [],
   "source": [
    "params = {\n",
    "    #'objective':'reg:squarederror',\n",
    "    #'verbosity':1,\n",
    "    'learning_rate':[0.1, 0.3, 1],\n",
    "    'max_depth':[5, 7, 10],\n",
    "    'subsample':[0.8], # to avoid overfitting\n",
    "    'reg_lambda':[0, 0.1, 1], # L2 reg\n",
    "    'alpha':[0, 0.1, 1], #L1 reg\n",
    "    'max_leaves':[10],\n",
    "    'n_estimators':[5, 10, 20]\n",
    "}\n"
   ]
  },
  {
   "cell_type": "code",
   "execution_count": 205,
   "metadata": {},
   "outputs": [
    {
     "name": "stdout",
     "output_type": "stream",
     "text": [
      "[19:20:47] WARNING: C:/buildkite-agent/builds/buildkite-windows-cpu-autoscaling-group-i-030221e36e1a46bfb-1/xgboost/xgboost-ci-windows/src/learner.cc:767: \n",
      "Parameters: { \"n_estimators\" } are not used.\n",
      "\n",
      "404.2847113609314\n"
     ]
    }
   ],
   "source": [
    "xgbr = xgb.XGBRegressor(seed = 20, objective = 'reg:squarederror', verbosity = 1)\n",
    "\n",
    "time0 = time()\n",
    "xgb_grid = GridSearchCV(estimator=xgbr, param_grid = params, cv = 3)\n",
    "xgb_grid.fit(X_train, y_train)\n",
    "# retrain with the best parameters:\n",
    "xgb_cv = xgb.train(xgb_grid.best_params_, data_train, xgb_grid.best_params_['n_estimators'])\n",
    "\n",
    "print(time()-time0) # time ~ 443s"
   ]
  },
  {
   "cell_type": "code",
   "execution_count": 196,
   "metadata": {},
   "outputs": [
    {
     "data": {
      "text/plain": [
       "{'alpha': 1,\n",
       " 'learning_rate': 1,\n",
       " 'max_depth': 5,\n",
       " 'max_leaves': 10,\n",
       " 'n_estimators': 10,\n",
       " 'reg_lambda': 0.1,\n",
       " 'subsample': 0.8}"
      ]
     },
     "execution_count": 196,
     "metadata": {},
     "output_type": "execute_result"
    }
   ],
   "source": [
    "\"\"\"{'alpha': 1,\n",
    " 'learning_rate': 1,\n",
    " 'max_depth': 5,\n",
    " 'max_leaves': 10,\n",
    " 'n_estimators': 10,\n",
    " 'reg_lambda': 0.1,\n",
    " 'subsample': 0.8}\"\"\"\n",
    "xgb_grid.best_params_"
   ]
  },
  {
   "cell_type": "code",
   "execution_count": 198,
   "metadata": {},
   "outputs": [],
   "source": [
    "yhat_train_xgbcv = xgb_grid.predict(X_train)\n",
    "yhat_val_xgbcv = xgb_grid.predict(X_val)"
   ]
  },
  {
   "cell_type": "code",
   "execution_count": 202,
   "metadata": {},
   "outputs": [
    {
     "name": "stdout",
     "output_type": "stream",
     "text": [
      "RMSE:  55404.85833176817\n",
      "MAE:  1333.4703565544428\n",
      "MAPE:  1.7213169419225608e+16\n",
      "R2:  0.9999844771205103\n",
      "\n",
      "RMSE:  168028.39710675756\n",
      "MAE:  3585.139705023948\n",
      "MAPE:  2.1871162566076084e+16\n",
      "R2:  -0.2946641574648634\n"
     ]
    }
   ],
   "source": [
    "printMetrics(y_train, yhat_train_xgbcv)\n",
    "print(\"\")\n",
    "printMetrics(y_val, yhat_val_xgbcv)"
   ]
  },
  {
   "cell_type": "code",
   "execution_count": 207,
   "metadata": {},
   "outputs": [
    {
     "data": {
      "text/plain": [
       "<AxesSubplot:title={'center':'Feature importance'}, xlabel='F score', ylabel='Features'>"
      ]
     },
     "execution_count": 207,
     "metadata": {},
     "output_type": "execute_result"
    },
    {
     "data": {
      "image/png": "[encoded data removed]",
      "text/plain": [
       "<Figure size 432x288 with 1 Axes>"
      ]
     },
     "metadata": {
      "needs_background": "light"
     },
     "output_type": "display_data"
    }
   ],
   "source": [
    "plot_importance(xgb_cv, max_num_features=20)"
   ]
  },
  {
   "cell_type": "code",
   "execution_count": 172,
   "metadata": {},
   "outputs": [],
   "source": []
  },
  {
   "attachments": {},
   "cell_type": "markdown",
   "metadata": {},
   "source": [
    "# plots"
   ]
  },
  {
   "cell_type": "code",
   "execution_count": 214,
   "metadata": {},
   "outputs": [
    {
     "data": {
      "text/plain": [
       "<matplotlib.colorbar.Colorbar at 0x1ee2ea4b790>"
      ]
     },
     "execution_count": 214,
     "metadata": {},
     "output_type": "execute_result"
    },
    {
     "data": {
      "image/png": "[encoded data removed]",
      "text/plain": [
       "<Figure size 432x288 with 2 Axes>"
      ]
     },
     "metadata": {
      "needs_background": "light"
     },
     "output_type": "display_data"
    }
   ],
   "source": [
    "plt.scatter(X_train.long, X_train.lat, c=y_train-yhat_train_xgbcv, s=10)\n",
    "plt.colorbar()"
   ]
  },
  {
   "cell_type": "code",
   "execution_count": 215,
   "metadata": {},
   "outputs": [
    {
     "data": {
      "text/plain": [
       "<matplotlib.colorbar.Colorbar at 0x1ee2eaf9a60>"
      ]
     },
     "execution_count": 215,
     "metadata": {},
     "output_type": "execute_result"
    },
    {
     "data": {
      "image/png": "[encoded data removed]",
      "text/plain": [
       "<Figure size 432x288 with 2 Axes>"
      ]
     },
     "metadata": {
      "needs_background": "light"
     },
     "output_type": "display_data"
    }
   ],
   "source": [
    "plt.scatter(X_train.long, X_train.lat, c=y_train, s=10)\n",
    "plt.colorbar()"
   ]
  },
  {
   "cell_type": "code",
   "execution_count": null,
   "metadata": {},
   "outputs": [],
   "source": []
  }
 ],
 "metadata": {
  "kernelspec": {
   "display_name": "Python 3",
   "language": "python",
   "name": "python3"
  },
  "language_info": {
   "codemirror_mode": {
    "name": "ipython",
    "version": 3
   },
   "file_extension": ".py",
   "mimetype": "text/x-python",
   "name": "python",
   "nbconvert_exporter": "python",
   "pygments_lexer": "ipython3",
   "version": "3.9.13"
  },
  "orig_nbformat": 4,
  "vscode": {
   "interpreter": {
    "hash": "ea9b272258afa1abfc4795a9ba2332d37b8bbd34a23cf80cd4efcdd03ce744c2"
   }
  }
 },
 "nbformat": 4,
 "nbformat_minor": 2
}
