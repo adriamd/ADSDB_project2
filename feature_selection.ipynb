{
 "cells": [
  {
   "cell_type": "code",
   "execution_count": 369,
   "metadata": {},
   "outputs": [],
   "source": [
    "import duckdb\n",
    "import pandas as pd\n",
    "import numpy as np\n",
    "from sandbox_generator import createSandbox\n",
    "from time import time"
   ]
  },
  {
   "cell_type": "code",
   "execution_count": 370,
   "metadata": {},
   "outputs": [],
   "source": [
    "import duckdb\n",
    "import json\n",
    "import os\n",
    "import pandas as pd\n",
    "import matplotlib.pyplot as plt\n",
    "import seaborn as sns\n",
    "import numpy as np\n",
    "import math"
   ]
  },
  {
   "cell_type": "code",
   "execution_count": 371,
   "metadata": {},
   "outputs": [],
   "source": [
    "con = duckdb.connect('data/exploitation.db')\n",
    "df = con.execute(\"select * sandbox_T_apartment_S_ga_fl_preprocessed\").df()"
   ]
  },
  {
   "cell_type": "code",
   "execution_count": 372,
   "metadata": {},
   "outputs": [],
   "source": [
    "df = df.sample(round(len(df)*0.1), random_state=777) "
   ]
  },
  {
   "cell_type": "code",
   "execution_count": 373,
   "metadata": {},
   "outputs": [],
   "source": [
    "from sklearn.preprocessing import OneHotEncoder, StandardScaler\n",
    "\n",
    "# select columns\n",
    "y_col = 'price'\n",
    "x_cols_binary = ['cats_allowed', 'dogs_allowed', 'smoking_allowed', 'wheelchair_access', 'electric_vehicle_charge', 'comes_furnished']\n",
    "x_cols_numeric = [\n",
    "    'sqfeet', 'beds', 'baths','lat', 'long','num_hospitals', 'num_beds', 'hospital_type_general', 'hospital_type_critical',\n",
    "    'hospital_type_psychiatric', 'hospital_type_longterm', 'hospital_type_children','government_hospital', 'nonprofit_hospital',\n",
    "    'num_schools', 'num_students', 'preschool', 'elementary_school', 'middle_school', 'high_school'\n",
    "]\n",
    "x_cols_onehot = ['type', 'state']"
   ]
  },
  {
   "cell_type": "code",
   "execution_count": 374,
   "metadata": {},
   "outputs": [
    {
     "name": "stdout",
     "output_type": "stream",
     "text": [
      "col:  type\n",
      "name:  type_apartment\n",
      "name:  type_condo\n",
      "name:  type_duplex\n",
      "name:  type_flat\n",
      "name:  type_house\n",
      "name:  type_loft\n",
      "name:  type_manufactured\n",
      "name:  type_townhouse\n",
      "col:  state\n",
      "name:  state_ak\n",
      "name:  state_al\n",
      "name:  state_ar\n",
      "name:  state_az\n",
      "name:  state_ca\n",
      "name:  state_co\n",
      "name:  state_ct\n",
      "name:  state_dc\n",
      "name:  state_de\n",
      "name:  state_fl\n",
      "name:  state_ga\n",
      "name:  state_hi\n",
      "name:  state_ia\n",
      "name:  state_id\n",
      "name:  state_il\n",
      "name:  state_in\n",
      "name:  state_ks\n",
      "name:  state_ky\n",
      "name:  state_la\n",
      "name:  state_ma\n",
      "name:  state_md\n",
      "name:  state_me\n",
      "name:  state_mi\n",
      "name:  state_mn\n",
      "name:  state_mo\n",
      "name:  state_ms\n",
      "name:  state_mt\n",
      "name:  state_nc\n",
      "name:  state_nd\n",
      "name:  state_ne\n",
      "name:  state_nh\n",
      "name:  state_nj\n",
      "name:  state_nm\n",
      "name:  state_nv\n",
      "name:  state_ny\n",
      "name:  state_oh\n",
      "name:  state_ok\n",
      "name:  state_or\n",
      "name:  state_pa\n",
      "name:  state_ri\n",
      "name:  state_sc\n",
      "name:  state_sd\n",
      "name:  state_tn\n",
      "name:  state_tx\n",
      "name:  state_ut\n",
      "name:  state_va\n",
      "name:  state_wa\n",
      "name:  state_wi\n",
      "name:  state_wv\n",
      "name:  state_wy\n"
     ]
    }
   ],
   "source": [
    "# make everything numeric and scaled\n",
    "bin2num = lambda x: 1 if x=='Yes' or x==1 else 0\n",
    "for col in x_cols_binary:\n",
    "    df[col] = df[col].apply(bin2num)\n",
    "\n",
    "# one-hot encoding in categorical variables\n",
    "enc = OneHotEncoder(handle_unknown='ignore')\n",
    "enc.fit(df[x_cols_onehot])\n",
    "\n",
    "cols_encoded = []\n",
    "for i in range(len(x_cols_onehot)):\n",
    "  col = x_cols_onehot[i]\n",
    "  print(\"col: \", col)\n",
    "  for name in enc.categories_[i]:\n",
    "    cols_encoded.append(str(col+'_'+name[0:].strip()).lower().strip())\n",
    "    print(\"name: \", str(col+'_'+name[0:].strip()).lower().strip())\n",
    "\n",
    "df_onehot_encoded = pd.DataFrame(enc.transform(df[x_cols_onehot]).toarray(), columns = cols_encoded)\n",
    "\n",
    "# scaling numerical variables:\n",
    "scaler = StandardScaler()\n",
    "df_scaled = pd.DataFrame(scaler.fit_transform(df[x_cols_numeric]), columns = x_cols_numeric)\n",
    "\n"
   ]
  },
  {
   "cell_type": "code",
   "execution_count": 375,
   "metadata": {},
   "outputs": [
    {
     "name": "stdout",
     "output_type": "stream",
     "text": [
      "['type' 'state']\n",
      "[array(['apartment', 'condo', 'duplex', 'flat', 'house', 'loft',\n",
      "       'manufactured', 'townhouse'], dtype=object), array(['ak', 'al', 'ar', 'az', 'ca', 'co', 'ct', 'dc', 'de', 'fl', 'ga',\n",
      "       'hi', 'ia', 'id', 'il', 'in', 'ks', 'ky', 'la', 'ma', 'md', 'me',\n",
      "       'mi', 'mn', 'mo', 'ms', 'mt', 'nc', 'nd', 'ne', 'nh', 'nj', 'nm',\n",
      "       'nv', 'ny', 'oh', 'ok', 'or', 'pa', 'ri', 'sc', 'sd', 'tn', 'tx',\n",
      "       'ut', 'va', 'wa', 'wi', 'wv', 'wy'], dtype=object)]\n",
      "['sqfeet' 'beds' 'baths' 'lat' 'long' 'num_hospitals' 'num_beds'\n",
      " 'hospital_type_general' 'hospital_type_critical'\n",
      " 'hospital_type_psychiatric' 'hospital_type_longterm'\n",
      " 'hospital_type_children' 'government_hospital' 'nonprofit_hospital'\n",
      " 'num_schools' 'num_students' 'preschool' 'elementary_school'\n",
      " 'middle_school' 'high_school']\n",
      "[ 9.70523571e+02  1.82800000e+00  1.45100000e+00  3.71637273e+01\n",
      " -9.30299552e+01  1.62601100e+03  2.69647041e+05  9.47694000e+02\n",
      "  5.38900000e+01  2.15093000e+02  1.45281000e+02  4.17490000e+01\n",
      "  2.61050000e+02  7.03934000e+02  2.27391360e+04  1.35468557e+07\n",
      "  1.24651180e+04  3.76334300e+03  4.08334400e+03  1.50946100e+03]\n",
      "[3.71300883e+02 8.48773232e-01 5.53713825e-01 5.60146686e+00\n",
      " 1.53835266e+01 2.81453455e+03 5.08520917e+05 1.63465353e+03\n",
      " 1.88570756e+02 4.31587961e+02 3.43915682e+02 1.25799157e+02\n",
      " 4.81577860e+02 1.44523773e+03 4.19383154e+04 2.55859551e+07\n",
      " 2.37950991e+04 6.94016543e+03 7.43133323e+03 2.94617585e+03]\n"
     ]
    }
   ],
   "source": [
    "# columns in the one-hot encoding\n",
    "print(enc.feature_names_in_)\n",
    "print(enc.categories_)\n",
    "\n",
    "# parameters used in the scaling\n",
    "print(scaler.feature_names_in_)\n",
    "print(scaler.mean_)\n",
    "print(scaler.scale_)"
   ]
  },
  {
   "cell_type": "code",
   "execution_count": 376,
   "metadata": {},
   "outputs": [
    {
     "data": {
      "text/html": [
       "<div>\n",
       "<style scoped>\n",
       "    .dataframe tbody tr th:only-of-type {\n",
       "        vertical-align: middle;\n",
       "    }\n",
       "\n",
       "    .dataframe tbody tr th {\n",
       "        vertical-align: top;\n",
       "    }\n",
       "\n",
       "    .dataframe thead th {\n",
       "        text-align: right;\n",
       "    }\n",
       "</style>\n",
       "<table border=\"1\" class=\"dataframe\">\n",
       "  <thead>\n",
       "    <tr style=\"text-align: right;\">\n",
       "      <th></th>\n",
       "      <th>cats_allowed</th>\n",
       "      <th>dogs_allowed</th>\n",
       "      <th>smoking_allowed</th>\n",
       "      <th>wheelchair_access</th>\n",
       "      <th>electric_vehicle_charge</th>\n",
       "      <th>comes_furnished</th>\n",
       "      <th>type_apartment</th>\n",
       "      <th>type_condo</th>\n",
       "      <th>type_duplex</th>\n",
       "      <th>type_flat</th>\n",
       "      <th>...</th>\n",
       "      <th>hospital_type_children</th>\n",
       "      <th>government_hospital</th>\n",
       "      <th>nonprofit_hospital</th>\n",
       "      <th>num_schools</th>\n",
       "      <th>num_students</th>\n",
       "      <th>preschool</th>\n",
       "      <th>elementary_school</th>\n",
       "      <th>middle_school</th>\n",
       "      <th>high_school</th>\n",
       "      <th>price</th>\n",
       "    </tr>\n",
       "  </thead>\n",
       "  <tbody>\n",
       "    <tr>\n",
       "      <th>183181</th>\n",
       "      <td>1.0</td>\n",
       "      <td>1.0</td>\n",
       "      <td>1.0</td>\n",
       "      <td>0.0</td>\n",
       "      <td>0.0</td>\n",
       "      <td>0.0</td>\n",
       "      <td>0.0</td>\n",
       "      <td>0.0</td>\n",
       "      <td>0.0</td>\n",
       "      <td>0.0</td>\n",
       "      <td>...</td>\n",
       "      <td>0.0</td>\n",
       "      <td>0.0</td>\n",
       "      <td>0.0</td>\n",
       "      <td>0.0</td>\n",
       "      <td>0.0</td>\n",
       "      <td>0.0</td>\n",
       "      <td>0.0</td>\n",
       "      <td>0.0</td>\n",
       "      <td>0.0</td>\n",
       "      <td>550.0</td>\n",
       "    </tr>\n",
       "    <tr>\n",
       "      <th>109968</th>\n",
       "      <td>1.0</td>\n",
       "      <td>1.0</td>\n",
       "      <td>1.0</td>\n",
       "      <td>0.0</td>\n",
       "      <td>0.0</td>\n",
       "      <td>0.0</td>\n",
       "      <td>0.0</td>\n",
       "      <td>0.0</td>\n",
       "      <td>0.0</td>\n",
       "      <td>0.0</td>\n",
       "      <td>...</td>\n",
       "      <td>0.0</td>\n",
       "      <td>0.0</td>\n",
       "      <td>0.0</td>\n",
       "      <td>0.0</td>\n",
       "      <td>0.0</td>\n",
       "      <td>0.0</td>\n",
       "      <td>0.0</td>\n",
       "      <td>0.0</td>\n",
       "      <td>0.0</td>\n",
       "      <td>680.0</td>\n",
       "    </tr>\n",
       "    <tr>\n",
       "      <th>12923</th>\n",
       "      <td>1.0</td>\n",
       "      <td>1.0</td>\n",
       "      <td>1.0</td>\n",
       "      <td>0.0</td>\n",
       "      <td>0.0</td>\n",
       "      <td>0.0</td>\n",
       "      <td>0.0</td>\n",
       "      <td>0.0</td>\n",
       "      <td>0.0</td>\n",
       "      <td>0.0</td>\n",
       "      <td>...</td>\n",
       "      <td>0.0</td>\n",
       "      <td>0.0</td>\n",
       "      <td>0.0</td>\n",
       "      <td>0.0</td>\n",
       "      <td>0.0</td>\n",
       "      <td>0.0</td>\n",
       "      <td>0.0</td>\n",
       "      <td>0.0</td>\n",
       "      <td>0.0</td>\n",
       "      <td>990.0</td>\n",
       "    </tr>\n",
       "    <tr>\n",
       "      <th>302802</th>\n",
       "      <td>0.0</td>\n",
       "      <td>0.0</td>\n",
       "      <td>1.0</td>\n",
       "      <td>0.0</td>\n",
       "      <td>0.0</td>\n",
       "      <td>0.0</td>\n",
       "      <td>0.0</td>\n",
       "      <td>0.0</td>\n",
       "      <td>0.0</td>\n",
       "      <td>0.0</td>\n",
       "      <td>...</td>\n",
       "      <td>0.0</td>\n",
       "      <td>0.0</td>\n",
       "      <td>0.0</td>\n",
       "      <td>0.0</td>\n",
       "      <td>0.0</td>\n",
       "      <td>0.0</td>\n",
       "      <td>0.0</td>\n",
       "      <td>0.0</td>\n",
       "      <td>0.0</td>\n",
       "      <td>374.0</td>\n",
       "    </tr>\n",
       "    <tr>\n",
       "      <th>46863</th>\n",
       "      <td>1.0</td>\n",
       "      <td>1.0</td>\n",
       "      <td>0.0</td>\n",
       "      <td>0.0</td>\n",
       "      <td>0.0</td>\n",
       "      <td>0.0</td>\n",
       "      <td>0.0</td>\n",
       "      <td>0.0</td>\n",
       "      <td>0.0</td>\n",
       "      <td>0.0</td>\n",
       "      <td>...</td>\n",
       "      <td>0.0</td>\n",
       "      <td>0.0</td>\n",
       "      <td>0.0</td>\n",
       "      <td>0.0</td>\n",
       "      <td>0.0</td>\n",
       "      <td>0.0</td>\n",
       "      <td>0.0</td>\n",
       "      <td>0.0</td>\n",
       "      <td>0.0</td>\n",
       "      <td>965.0</td>\n",
       "    </tr>\n",
       "  </tbody>\n",
       "</table>\n",
       "<p>5 rows × 85 columns</p>\n",
       "</div>"
      ],
      "text/plain": [
       "        cats_allowed  dogs_allowed  smoking_allowed  wheelchair_access  \\\n",
       "183181           1.0           1.0              1.0                0.0   \n",
       "109968           1.0           1.0              1.0                0.0   \n",
       "12923            1.0           1.0              1.0                0.0   \n",
       "302802           0.0           0.0              1.0                0.0   \n",
       "46863            1.0           1.0              0.0                0.0   \n",
       "\n",
       "        electric_vehicle_charge  comes_furnished  type_apartment  type_condo  \\\n",
       "183181                      0.0              0.0             0.0         0.0   \n",
       "109968                      0.0              0.0             0.0         0.0   \n",
       "12923                       0.0              0.0             0.0         0.0   \n",
       "302802                      0.0              0.0             0.0         0.0   \n",
       "46863                       0.0              0.0             0.0         0.0   \n",
       "\n",
       "        type_duplex  type_flat  ...  hospital_type_children  \\\n",
       "183181          0.0        0.0  ...                     0.0   \n",
       "109968          0.0        0.0  ...                     0.0   \n",
       "12923           0.0        0.0  ...                     0.0   \n",
       "302802          0.0        0.0  ...                     0.0   \n",
       "46863           0.0        0.0  ...                     0.0   \n",
       "\n",
       "        government_hospital  nonprofit_hospital  num_schools  num_students  \\\n",
       "183181                  0.0                 0.0          0.0           0.0   \n",
       "109968                  0.0                 0.0          0.0           0.0   \n",
       "12923                   0.0                 0.0          0.0           0.0   \n",
       "302802                  0.0                 0.0          0.0           0.0   \n",
       "46863                   0.0                 0.0          0.0           0.0   \n",
       "\n",
       "        preschool  elementary_school  middle_school  high_school  price  \n",
       "183181        0.0                0.0            0.0          0.0  550.0  \n",
       "109968        0.0                0.0            0.0          0.0  680.0  \n",
       "12923         0.0                0.0            0.0          0.0  990.0  \n",
       "302802        0.0                0.0            0.0          0.0  374.0  \n",
       "46863         0.0                0.0            0.0          0.0  965.0  \n",
       "\n",
       "[5 rows x 85 columns]"
      ]
     },
     "execution_count": 376,
     "metadata": {},
     "output_type": "execute_result"
    }
   ],
   "source": [
    "df_processed = pd.concat(objs=[\n",
    "    df[x_cols_binary], df_onehot_encoded, df_scaled, df[[y_col]]\n",
    "], axis = 1\n",
    ")\n",
    "\n",
    "df_processed.fillna(0, inplace=True)\n",
    "\n",
    "df_processed.head()"
   ]
  },
  {
   "cell_type": "code",
   "execution_count": 377,
   "metadata": {},
   "outputs": [],
   "source": [
    "# split training set and test set and validation set\n",
    "df_train, df_val, df_test = np.split(\n",
    "    df_processed.sample(frac=1, random_state=777),\n",
    "    [ int(0.6*len(df_processed)) , int(0.8*len(df_processed)) ]\n",
    "    )\n",
    "\n",
    "X_train = df_train.drop(y_col, axis=1).to_numpy()\n",
    "y_train = df_train[y_col].to_numpy()\n",
    "X_val = df_val.drop(y_col, axis=1).to_numpy()\n",
    "y_val = df_val[y_col].to_numpy()\n",
    "X_test = df_test.drop(y_col, axis=1).to_numpy()\n",
    "y_test = df_test[y_col].to_numpy()"
   ]
  },
  {
   "attachments": {},
   "cell_type": "markdown",
   "metadata": {},
   "source": [
    "# Feature Selection"
   ]
  },
  {
   "cell_type": "code",
   "execution_count": 378,
   "metadata": {},
   "outputs": [],
   "source": [
    "import scipy.io\n",
    "from skfeature.function.similarity_based import fisher_score\n",
    "#from skfeature.function.wrapper import decision_tree_backward # Not work\n",
    "#from skfeature.function.wrapper import svm_backward # Not work\n",
    "from skfeature.function.information_theoretical_based.CIFE import cife\n"
   ]
  },
  {
   "cell_type": "code",
   "execution_count": 379,
   "metadata": {},
   "outputs": [
    {
     "name": "stdout",
     "output_type": "stream",
     "text": [
      "Done in 1.140s\n",
      "Done in 1.399s\n"
     ]
    }
   ],
   "source": [
    "tic = time()\n",
    "score = fisher_score.fisher_score(X_train, y_train)\n",
    "toc = time()\n",
    "\n",
    "print(f\"Done in {toc - tic:.3f}s\")\n",
    "\n",
    "#score_dc = decision_tree_backward(X_train, y_train,10)\n",
    "#score_svm = svm_backward.svm_backward(X_train, y_train,15)\n",
    "\n",
    "tic = time()\n",
    "(best_cife,_,coef_cife) = cife(X_train, y_train)\n",
    "toc = time()\n",
    "\n",
    "print(f\"Done in {toc - tic:.3f}s\")"
   ]
  },
  {
   "cell_type": "code",
   "execution_count": 380,
   "metadata": {},
   "outputs": [
    {
     "data": {
      "image/png": "[encoded data removed]",
      "text/plain": [
       "<Figure size 720x360 with 1 Axes>"
      ]
     },
     "metadata": {
      "needs_background": "light"
     },
     "output_type": "display_data"
    }
   ],
   "source": [
    "name_columns = list(df_processed.drop(y_col, axis=1).columns)\n",
    "named_score = [(name_columns[i],score[i]) for i in range(len(score))]\n",
    "\n",
    "named_score.sort(key=lambda a: a[1], reverse=True)\n",
    "key = [a for (a,_) in named_score]\n",
    "value = [b for (_,b) in named_score]\n",
    "\n",
    "fig = plt.figure(figsize = (10, 5))\n",
    " \n",
    "# creating the bar plot\n",
    "plt.bar(key, value, width = 0.4)\n",
    " \n",
    "plt.xlabel(\"Feature Importance\")\n",
    "plt.ylabel(\"Score\")\n",
    "plt.title(\"Fisher Score\")\n",
    "plt.show()"
   ]
  },
  {
   "cell_type": "code",
   "execution_count": 381,
   "metadata": {},
   "outputs": [
    {
     "data": {
      "image/png": "[encoded data removed]",
      "text/plain": [
       "<Figure size 720x360 with 1 Axes>"
      ]
     },
     "metadata": {
      "needs_background": "light"
     },
     "output_type": "display_data"
    }
   ],
   "source": [
    "key_important = [a for (a,b) in named_score if b >= 1]\n",
    "value_important = [b for (_,b) in named_score if b >= 1]\n",
    "\n",
    "fig = plt.figure(figsize = (10, 5))\n",
    " \n",
    "# creating the bar plot\n",
    "plt.bar(key_important, value_important, width = 0.4)\n",
    " \n",
    "plt.xlabel(\"Feature Importance\")\n",
    "plt.ylabel(\"Score\")\n",
    "plt.title(\"Fisher Score\")\n",
    "plt.show()"
   ]
  },
  {
   "cell_type": "code",
   "execution_count": 382,
   "metadata": {},
   "outputs": [
    {
     "data": {
      "image/png": "[encoded data removed]",
      "text/plain": [
       "<Figure size 720x360 with 1 Axes>"
      ]
     },
     "metadata": {
      "needs_background": "light"
     },
     "output_type": "display_data"
    }
   ],
   "source": [
    "name_columns = list(df_processed.drop(y_col, axis=1).columns)\n",
    "named_cife = [(name_columns[best_cife[i]],coef_cife[i]) for i in range(len(best_cife))]\n",
    "\n",
    "named_cife.sort(key=lambda a: a[1], reverse=True)\n",
    "feature_cife = [a for (a,_) in named_cife]\n",
    "value = [b for (_,b) in named_cife]\n",
    "\n",
    "fig = plt.figure(figsize = (10, 5))\n",
    " \n",
    "# creating the bar plot\n",
    "plt.bar(feature_cife, value, width = 0.4)\n",
    " \n",
    "plt.xlabel(\"Feature Importance\")\n",
    "plt.ylabel(\"Score\")\n",
    "plt.title(\"CIFE\")\n",
    "plt.show()"
   ]
  },
  {
   "cell_type": "code",
   "execution_count": 383,
   "metadata": {},
   "outputs": [
    {
     "data": {
      "text/plain": [
       "[('long', 1.0186917967417752),\n",
       " ('smoking_allowed', 0.7621791579597046),\n",
       " ('dogs_allowed', 0.7480825234817905),\n",
       " ('wheelchair_access', 0.19250283526064838),\n",
       " ('comes_furnished', 0.10115747013066123),\n",
       " ('electric_vehicle_charge', 0.03675071589312129),\n",
       " ('state_ne', 0.0)]"
      ]
     },
     "execution_count": 383,
     "metadata": {},
     "output_type": "execute_result"
    }
   ],
   "source": [
    "named_cife"
   ]
  },
  {
   "cell_type": "code",
   "execution_count": 384,
   "metadata": {},
   "outputs": [
    {
     "name": "stdout",
     "output_type": "stream",
     "text": [
      "Done in 0.245s\n"
     ]
    }
   ],
   "source": [
    "from sklearn.ensemble import RandomForestRegressor\n",
    "tic = time()\n",
    "rf = RandomForestRegressor(oob_score=True,random_state=40).fit(X_train, y_train)\n",
    "toc = time()\n",
    "print(f\"Done in {toc - tic:.3f}s\")"
   ]
  },
  {
   "cell_type": "code",
   "execution_count": 385,
   "metadata": {},
   "outputs": [
    {
     "data": {
      "image/png": "[encoded data removed]",
      "text/plain": [
       "<Figure size 720x360 with 1 Axes>"
      ]
     },
     "metadata": {
      "needs_background": "light"
     },
     "output_type": "display_data"
    }
   ],
   "source": [
    "named_rf = [(name_columns[i],rf.feature_importances_[i]) for i in range(len(name_columns))]\n",
    "named_rf.sort(key=lambda a: a[1], reverse=True)\n",
    "key_important = [a for (a,b) in named_rf]\n",
    "value_important = [b for (_,b) in named_rf]\n",
    "\n",
    "fig = plt.figure(figsize = (10, 5))\n",
    " \n",
    "# creating the bar plot\n",
    "plt.bar(key_important, value_important, width = 0.4)\n",
    " \n",
    "plt.xlabel(\"Feature Importance\")\n",
    "plt.ylabel(\"Importance\")\n",
    "plt.title(\"Random Forest\")\n",
    "plt.show()"
   ]
  },
  {
   "cell_type": "code",
   "execution_count": 386,
   "metadata": {},
   "outputs": [
    {
     "name": "stdout",
     "output_type": "stream",
     "text": [
      "['smoking_allowed', 'type_apartment', 'beds', 'hospital_type_critical']\n"
     ]
    }
   ],
   "source": [
    "from sklearn.feature_selection import SelectFromModel\n",
    "threshold = np.mean(rf.feature_importances_)\n",
    "sfm = SelectFromModel(rf, threshold=threshold).fit(X_train, y_train)\n",
    "feature_rf = list(df_processed.drop(y_col, axis=1).columns[sfm.get_support()])\n",
    "print(feature_rf)"
   ]
  },
  {
   "cell_type": "code",
   "execution_count": 387,
   "metadata": {},
   "outputs": [
    {
     "data": {
      "image/png": "[encoded data removed]",
      "text/plain": [
       "<Figure size 720x360 with 1 Axes>"
      ]
     },
     "metadata": {
      "needs_background": "light"
     },
     "output_type": "display_data"
    }
   ],
   "source": [
    "named_rf = [(name_columns[i],rf.feature_importances_[i]) for i in range(len(name_columns))]\n",
    "named_rf.sort(key=lambda a: a[1], reverse=True)\n",
    "feature_rf = [a for (a,b) in named_rf if b > threshold]\n",
    "value_important = [b for (_,b) in named_rf if b > threshold]\n",
    "\n",
    "fig = plt.figure(figsize = (10, 5))\n",
    " \n",
    "# creating the bar plot\n",
    "plt.bar(feature_rf, value_important, width = 0.4)\n",
    " \n",
    "plt.xlabel(\"Feature Importance\")\n",
    "plt.ylabel(\"Importance\")\n",
    "plt.title(\"Random Forest\")\n",
    "plt.show()"
   ]
  },
  {
   "cell_type": "code",
   "execution_count": 388,
   "metadata": {},
   "outputs": [],
   "source": [
    "from sklearn.linear_model import LinearRegression, RidgeCV, LassoCV\n",
    "from sklearn.ensemble import RandomForestRegressor\n",
    "from sklearn import metrics"
   ]
  },
  {
   "cell_type": "code",
   "execution_count": 389,
   "metadata": {},
   "outputs": [],
   "source": [
    "def printMetrics(y_true, y_pred):\n",
    "    print(\"RMSE: \", np.sqrt(metrics.mean_squared_error(y_true, y_pred)))\n",
    "    print(\"MAE: \", metrics.mean_absolute_error(y_true, y_pred))\n",
    "    print(\"MAPE: \", metrics.mean_absolute_percentage_error(y_true, y_pred))\n",
    "    print(\"R2: \", metrics.r2_score(y_true, y_pred))\n",
    "    print()"
   ]
  },
  {
   "cell_type": "code",
   "execution_count": 390,
   "metadata": {},
   "outputs": [
    {
     "name": "stdout",
     "output_type": "stream",
     "text": [
      "(1196, 84)\n",
      "(1595, 84)\n",
      "(1595, 7)\n",
      "(1595, 4)\n"
     ]
    }
   ],
   "source": [
    "X_fs = df_processed.loc[:, key_important].to_numpy()\n",
    "X_cife = df_processed.loc[:, feature_cife].to_numpy()\n",
    "X_rf = df_processed.loc[:, feature_rf].to_numpy()\n",
    "\n",
    "X_train_fs, X_test_fs, _, _ = train_test_split(X_fs, y, test_size=0.2, random_state=40)\n",
    "X_train_cife, X_test_cife, _, _ = train_test_split(X_cife, y, test_size=0.2, random_state=40)\n",
    "X_train_rf, X_test_rf, _, _ = train_test_split(X_rf, y, test_size=0.2, random_state=40)\n",
    "\n",
    "print(np.shape(X_train))\n",
    "print(np.shape(X_train_fs))\n",
    "print(np.shape(X_train_cife))\n",
    "print(np.shape(X_train_rf))"
   ]
  },
  {
   "cell_type": "code",
   "execution_count": 391,
   "metadata": {},
   "outputs": [
    {
     "name": "stdout",
     "output_type": "stream",
     "text": [
      "(1196, 84)\n",
      "(1196, 7)\n",
      "(1196, 7)\n",
      "(1196, 4)\n"
     ]
    }
   ],
   "source": [
    "id_fisher = [i for i in range(len(score)) if score[i] > 1]\n",
    "id_cife = list(best_cife)\n",
    "id_rf = [i for i in range(len(rf.feature_importances_)) if rf.feature_importances_[i] > threshold]\n",
    "\n",
    "X_train_fs, X_val_fs = X_train[:,id_fisher], X_val[:,id_fisher]\n",
    "X_train_cife, X_val_cife = X_train[:,id_cife], X_val[:,id_cife]\n",
    "X_train_rf, X_val_rf = X_train[:,id_rf], X_val[:,id_rf]\n",
    "\n",
    "print(np.shape(X_train))\n",
    "print(np.shape(X_train_fs))\n",
    "print(np.shape(X_train_cife))\n",
    "print(np.shape(X_train_rf))"
   ]
  },
  {
   "cell_type": "code",
   "execution_count": 392,
   "metadata": {},
   "outputs": [
    {
     "name": "stdout",
     "output_type": "stream",
     "text": [
      "(399, 84)\n",
      "(399, 7)\n",
      "(399, 7)\n",
      "(399, 4)\n"
     ]
    }
   ],
   "source": [
    "print(np.shape(X_val))\n",
    "print(np.shape(X_val_fs))\n",
    "print(np.shape(X_val_cife))\n",
    "print(np.shape(X_val_rf))"
   ]
  },
  {
   "attachments": {},
   "cell_type": "markdown",
   "metadata": {},
   "source": [
    "# Test Models"
   ]
  },
  {
   "cell_type": "code",
   "execution_count": 393,
   "metadata": {},
   "outputs": [
    {
     "name": "stdout",
     "output_type": "stream",
     "text": [
      "0.5854551094674469\n",
      "-7.8779306152612e+20\n",
      "Done in 0.006s\n"
     ]
    }
   ],
   "source": [
    "tic = time()\n",
    "reg = LinearRegression().fit(X_train, y_train)\n",
    "toc = time()\n",
    "\n",
    "print(reg.score(X_train, y_train))\n",
    "print(reg.score(X_test, y_test))\n",
    "print(f\"Done in {toc - tic:.3f}s\")\n"
   ]
  },
  {
   "cell_type": "code",
   "execution_count": 394,
   "metadata": {},
   "outputs": [
    {
     "name": "stdout",
     "output_type": "stream",
     "text": [
      "0.4432734800561484\n",
      "0.6061477538665934\n",
      "Done in 0.004s\n"
     ]
    }
   ],
   "source": [
    "tic = time()\n",
    "reg = LinearRegression().fit(X_train_fs, y_train)\n",
    "toc = time()\n",
    "\n",
    "print(reg.score(X_train_fs, y_train))\n",
    "print(reg.score(X_val_fs, y_val))\n",
    "print(f\"Done in {toc - tic:.3f}s\")"
   ]
  },
  {
   "cell_type": "code",
   "execution_count": 395,
   "metadata": {},
   "outputs": [
    {
     "name": "stdout",
     "output_type": "stream",
     "text": [
      "0.3306350418961621\n",
      "0.5320959591887794\n",
      "Done in 0.005s\n"
     ]
    }
   ],
   "source": [
    "tic = time()\n",
    "reg = LinearRegression().fit(X_train_cife, y_train)\n",
    "toc = time()\n",
    "\n",
    "print(reg.score(X_train_cife, y_train))\n",
    "print(reg.score(X_val_cife, y_val))\n",
    "print(f\"Done in {toc - tic:.3f}s\")"
   ]
  },
  {
   "cell_type": "code",
   "execution_count": 396,
   "metadata": {},
   "outputs": [
    {
     "name": "stdout",
     "output_type": "stream",
     "text": [
      "0.43202220931811974\n",
      "0.5783320656699827\n",
      "Done in 0.003s\n"
     ]
    }
   ],
   "source": [
    "tic = time()\n",
    "reg = LinearRegression().fit(X_train_rf, y_train)\n",
    "toc = time()\n",
    "\n",
    "print(reg.score(X_train_rf, y_train))\n",
    "print(reg.score(X_val_rf, y_val))\n",
    "print(f\"Done in {toc - tic:.3f}s\")"
   ]
  },
  {
   "attachments": {},
   "cell_type": "markdown",
   "metadata": {},
   "source": [
    "# Random Forest"
   ]
  },
  {
   "cell_type": "code",
   "execution_count": 397,
   "metadata": {},
   "outputs": [
    {
     "name": "stdout",
     "output_type": "stream",
     "text": [
      "RMSE:  485.47366847730075\n",
      "MAE:  198.40363089877698\n",
      "MAPE:  1.0224955325976294e+16\n",
      "R2:  0.6035611274038863\n",
      "\n",
      "RMSE:  356.4535561472881\n",
      "MAE:  172.8673182638008\n",
      "MAPE:  3.090701987867661e+16\n",
      "R2:  0.7226679581529822\n",
      "\n",
      "Done in 0.255s\n"
     ]
    }
   ],
   "source": [
    "tic = time()\n",
    "rf = RandomForestRegressor(oob_score=True).fit(X_train, y_train)\n",
    "toc = time()\n",
    "\n",
    "yhat_train = rf.predict(X_train)\n",
    "yhat_val = rf.predict(X_val)\n",
    "\n",
    "printMetrics(y_train, yhat_train)\n",
    "printMetrics(y_val, yhat_val)\n",
    "print(f\"Done in {toc - tic:.3f}s\")"
   ]
  },
  {
   "cell_type": "code",
   "execution_count": 398,
   "metadata": {},
   "outputs": [
    {
     "name": "stdout",
     "output_type": "stream",
     "text": [
      "RMSE:  540.1803630650475\n",
      "MAE:  248.5194137052466\n",
      "MAPE:  1.6904842083220752e+17\n",
      "R2:  0.5091797653404844\n",
      "\n",
      "RMSE:  400.9840417480212\n",
      "MAE:  223.5603643467185\n",
      "MAPE:  1.8917225022610358e+17\n",
      "R2:  0.6490475135972191\n",
      "\n",
      "Done in 0.101s\n"
     ]
    }
   ],
   "source": [
    "tic = time()\n",
    "rf = RandomForestRegressor(oob_score=True).fit(X_train_fs, y_train)\n",
    "toc = time()\n",
    "\n",
    "yhat_train_fs = rf.predict(X_train_fs)\n",
    "yhat_val_fs = rf.predict(X_val_fs)\n",
    "\n",
    "printMetrics(y_train, yhat_train_fs)\n",
    "printMetrics(y_val, yhat_val_fs)\n",
    "print(f\"Done in {toc - tic:.3f}s\")"
   ]
  },
  {
   "cell_type": "code",
   "execution_count": 399,
   "metadata": {},
   "outputs": [
    {
     "name": "stdout",
     "output_type": "stream",
     "text": [
      "RMSE:  489.2390180472893\n",
      "MAE:  203.6956365944464\n",
      "MAPE:  9049887586031812.0\n",
      "R2:  0.5973876936190112\n",
      "\n",
      "RMSE:  351.29032946264357\n",
      "MAE:  171.01732091959818\n",
      "MAPE:  2.33893921114972e+16\n",
      "R2:  0.730644074203185\n",
      "\n",
      "Done in 0.108s\n"
     ]
    }
   ],
   "source": [
    "tic = time()\n",
    "rf = RandomForestRegressor(oob_score=True).fit(X_train_cife, y_train)\n",
    "toc = time()\n",
    "\n",
    "yhat_train_cife = rf.predict(X_train_cife)\n",
    "yhat_val_cife = rf.predict(X_val_cife)\n",
    "\n",
    "printMetrics(y_train, yhat_train_cife)\n",
    "printMetrics(y_val, yhat_val_cife)\n",
    "print(f\"Done in {toc - tic:.3f}s\")"
   ]
  },
  {
   "cell_type": "code",
   "execution_count": 400,
   "metadata": {},
   "outputs": [
    {
     "name": "stdout",
     "output_type": "stream",
     "text": [
      "RMSE:  495.7057199550351\n",
      "MAE:  208.97087544659462\n",
      "MAPE:  1.5010518504558178e+16\n",
      "R2:  0.5866739911791715\n",
      "\n",
      "RMSE:  342.25217680294355\n",
      "MAE:  167.46686944401162\n",
      "MAPE:  2.2048268051184052e+16\n",
      "R2:  0.7443259896324755\n",
      "\n",
      "Done in 0.101s\n"
     ]
    }
   ],
   "source": [
    "tic = time()\n",
    "rf = RandomForestRegressor(oob_score=True).fit(X_train_rf, y_train)\n",
    "toc = time()\n",
    "\n",
    "yhat_train_rf = rf.predict(X_train_rf)\n",
    "yhat_val_rf = rf.predict(X_val_rf)\n",
    "\n",
    "printMetrics(y_train, yhat_train_rf)\n",
    "printMetrics(y_val, yhat_val_rf)\n",
    "print(f\"Done in {toc - tic:.3f}s\")"
   ]
  }
 ],
 "metadata": {
  "kernelspec": {
   "display_name": "ADSDB",
   "language": "python",
   "name": "python3"
  },
  "language_info": {
   "codemirror_mode": {
    "name": "ipython",
    "version": 3
   },
   "file_extension": ".py",
   "mimetype": "text/x-python",
   "name": "python",
   "nbconvert_exporter": "python",
   "pygments_lexer": "ipython3",
   "version": "3.10.4"
  },
  "orig_nbformat": 4,
  "vscode": {
   "interpreter": {
    "hash": "13fd38f2f33eca4e23b7322ee785598c5f7008e6f62f63fc1fbd3512333f5b15"
   }
  }
 },
 "nbformat": 4,
 "nbformat_minor": 2
}
